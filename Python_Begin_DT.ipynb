{
  "nbformat": 4,
  "nbformat_minor": 0,
  "metadata": {
    "colab": {
      "provenance": [],
      "collapsed_sections": [],
      "authorship_tag": "ABX9TyO03aDk+mLWSuuMfJ2L7DWl",
      "include_colab_link": true
    },
    "kernelspec": {
      "name": "python3",
      "display_name": "Python 3"
    },
    "language_info": {
      "name": "python"
    }
  },
  "cells": [
    {
      "cell_type": "markdown",
      "metadata": {
        "id": "view-in-github",
        "colab_type": "text"
      },
      "source": [
        "<a href=\"https://colab.research.google.com/github/a-nagar/vistra-beginner/blob/main/Python_Begin_DT.ipynb\" target=\"_parent\"><img src=\"https://colab.research.google.com/assets/colab-badge.svg\" alt=\"Open In Colab\"/></a>"
      ]
    },
    {
      "cell_type": "markdown",
      "source": [
        "## Decision Tree Classification Model"
      ],
      "metadata": {
        "id": "0CIKyA1Y54PT"
      }
    },
    {
      "cell_type": "markdown",
      "source": [
        "We will use the US-pumpkins dataset which includes 1757 lines of data about the market for pumpkins, sorted into groupings by city. This is raw data extracted from the Specialty Crops Terminal Markets Standard Reports distributed by the United States Department of Agriculture."
      ],
      "metadata": {
        "id": "qJDS973r7g4m"
      }
    },
    {
      "cell_type": "code",
      "source": [
        "import pandas as pd\n",
        "pumpkins = pd.read_csv('https://an-utd-python.s3.us-west-1.amazonaws.com/US-pumpkins.csv')\n",
        "pumpkins.head()"
      ],
      "metadata": {
        "colab": {
          "base_uri": "https://localhost:8080/",
          "height": 421
        },
        "id": "nPDgSheYzfZa",
        "outputId": "32a50c69-6245-44cf-9697-871dd9759e40"
      },
      "execution_count": null,
      "outputs": [
        {
          "output_type": "execute_result",
          "data": {
            "text/plain": [
              "   City Name Type       Package      Variety Sub Variety  Grade     Date  \\\n",
              "0  BALTIMORE  NaN  24 inch bins          NaN         NaN    NaN  4/29/17   \n",
              "1  BALTIMORE  NaN  24 inch bins          NaN         NaN    NaN   5/6/17   \n",
              "2  BALTIMORE  NaN  24 inch bins  HOWDEN TYPE         NaN    NaN  9/24/16   \n",
              "3  BALTIMORE  NaN  24 inch bins  HOWDEN TYPE         NaN    NaN  9/24/16   \n",
              "4  BALTIMORE  NaN  24 inch bins  HOWDEN TYPE         NaN    NaN  11/5/16   \n",
              "\n",
              "   Low Price  High Price  Mostly Low  ...   Color Environment Unit of Sale  \\\n",
              "0      270.0       280.0       270.0  ...     NaN         NaN          NaN   \n",
              "1      270.0       280.0       270.0  ...     NaN         NaN          NaN   \n",
              "2      160.0       160.0       160.0  ...  ORANGE         NaN          NaN   \n",
              "3      160.0       160.0       160.0  ...  ORANGE         NaN          NaN   \n",
              "4       90.0       100.0        90.0  ...  ORANGE         NaN          NaN   \n",
              "\n",
              "  Quality Condition  Appearance Storage  Crop  Repack  Trans Mode  \n",
              "0     NaN       NaN         NaN     NaN   NaN       E         NaN  \n",
              "1     NaN       NaN         NaN     NaN   NaN       E         NaN  \n",
              "2     NaN       NaN         NaN     NaN   NaN       N         NaN  \n",
              "3     NaN       NaN         NaN     NaN   NaN       N         NaN  \n",
              "4     NaN       NaN         NaN     NaN   NaN       N         NaN  \n",
              "\n",
              "[5 rows x 24 columns]"
            ],
            "text/html": [
              "\n",
              "  <div id=\"df-d3faafca-a23d-48ac-9f70-93613c9471a0\">\n",
              "    <div class=\"colab-df-container\">\n",
              "      <div>\n",
              "<style scoped>\n",
              "    .dataframe tbody tr th:only-of-type {\n",
              "        vertical-align: middle;\n",
              "    }\n",
              "\n",
              "    .dataframe tbody tr th {\n",
              "        vertical-align: top;\n",
              "    }\n",
              "\n",
              "    .dataframe thead th {\n",
              "        text-align: right;\n",
              "    }\n",
              "</style>\n",
              "<table border=\"1\" class=\"dataframe\">\n",
              "  <thead>\n",
              "    <tr style=\"text-align: right;\">\n",
              "      <th></th>\n",
              "      <th>City Name</th>\n",
              "      <th>Type</th>\n",
              "      <th>Package</th>\n",
              "      <th>Variety</th>\n",
              "      <th>Sub Variety</th>\n",
              "      <th>Grade</th>\n",
              "      <th>Date</th>\n",
              "      <th>Low Price</th>\n",
              "      <th>High Price</th>\n",
              "      <th>Mostly Low</th>\n",
              "      <th>...</th>\n",
              "      <th>Color</th>\n",
              "      <th>Environment</th>\n",
              "      <th>Unit of Sale</th>\n",
              "      <th>Quality</th>\n",
              "      <th>Condition</th>\n",
              "      <th>Appearance</th>\n",
              "      <th>Storage</th>\n",
              "      <th>Crop</th>\n",
              "      <th>Repack</th>\n",
              "      <th>Trans Mode</th>\n",
              "    </tr>\n",
              "  </thead>\n",
              "  <tbody>\n",
              "    <tr>\n",
              "      <th>0</th>\n",
              "      <td>BALTIMORE</td>\n",
              "      <td>NaN</td>\n",
              "      <td>24 inch bins</td>\n",
              "      <td>NaN</td>\n",
              "      <td>NaN</td>\n",
              "      <td>NaN</td>\n",
              "      <td>4/29/17</td>\n",
              "      <td>270.0</td>\n",
              "      <td>280.0</td>\n",
              "      <td>270.0</td>\n",
              "      <td>...</td>\n",
              "      <td>NaN</td>\n",
              "      <td>NaN</td>\n",
              "      <td>NaN</td>\n",
              "      <td>NaN</td>\n",
              "      <td>NaN</td>\n",
              "      <td>NaN</td>\n",
              "      <td>NaN</td>\n",
              "      <td>NaN</td>\n",
              "      <td>E</td>\n",
              "      <td>NaN</td>\n",
              "    </tr>\n",
              "    <tr>\n",
              "      <th>1</th>\n",
              "      <td>BALTIMORE</td>\n",
              "      <td>NaN</td>\n",
              "      <td>24 inch bins</td>\n",
              "      <td>NaN</td>\n",
              "      <td>NaN</td>\n",
              "      <td>NaN</td>\n",
              "      <td>5/6/17</td>\n",
              "      <td>270.0</td>\n",
              "      <td>280.0</td>\n",
              "      <td>270.0</td>\n",
              "      <td>...</td>\n",
              "      <td>NaN</td>\n",
              "      <td>NaN</td>\n",
              "      <td>NaN</td>\n",
              "      <td>NaN</td>\n",
              "      <td>NaN</td>\n",
              "      <td>NaN</td>\n",
              "      <td>NaN</td>\n",
              "      <td>NaN</td>\n",
              "      <td>E</td>\n",
              "      <td>NaN</td>\n",
              "    </tr>\n",
              "    <tr>\n",
              "      <th>2</th>\n",
              "      <td>BALTIMORE</td>\n",
              "      <td>NaN</td>\n",
              "      <td>24 inch bins</td>\n",
              "      <td>HOWDEN TYPE</td>\n",
              "      <td>NaN</td>\n",
              "      <td>NaN</td>\n",
              "      <td>9/24/16</td>\n",
              "      <td>160.0</td>\n",
              "      <td>160.0</td>\n",
              "      <td>160.0</td>\n",
              "      <td>...</td>\n",
              "      <td>ORANGE</td>\n",
              "      <td>NaN</td>\n",
              "      <td>NaN</td>\n",
              "      <td>NaN</td>\n",
              "      <td>NaN</td>\n",
              "      <td>NaN</td>\n",
              "      <td>NaN</td>\n",
              "      <td>NaN</td>\n",
              "      <td>N</td>\n",
              "      <td>NaN</td>\n",
              "    </tr>\n",
              "    <tr>\n",
              "      <th>3</th>\n",
              "      <td>BALTIMORE</td>\n",
              "      <td>NaN</td>\n",
              "      <td>24 inch bins</td>\n",
              "      <td>HOWDEN TYPE</td>\n",
              "      <td>NaN</td>\n",
              "      <td>NaN</td>\n",
              "      <td>9/24/16</td>\n",
              "      <td>160.0</td>\n",
              "      <td>160.0</td>\n",
              "      <td>160.0</td>\n",
              "      <td>...</td>\n",
              "      <td>ORANGE</td>\n",
              "      <td>NaN</td>\n",
              "      <td>NaN</td>\n",
              "      <td>NaN</td>\n",
              "      <td>NaN</td>\n",
              "      <td>NaN</td>\n",
              "      <td>NaN</td>\n",
              "      <td>NaN</td>\n",
              "      <td>N</td>\n",
              "      <td>NaN</td>\n",
              "    </tr>\n",
              "    <tr>\n",
              "      <th>4</th>\n",
              "      <td>BALTIMORE</td>\n",
              "      <td>NaN</td>\n",
              "      <td>24 inch bins</td>\n",
              "      <td>HOWDEN TYPE</td>\n",
              "      <td>NaN</td>\n",
              "      <td>NaN</td>\n",
              "      <td>11/5/16</td>\n",
              "      <td>90.0</td>\n",
              "      <td>100.0</td>\n",
              "      <td>90.0</td>\n",
              "      <td>...</td>\n",
              "      <td>ORANGE</td>\n",
              "      <td>NaN</td>\n",
              "      <td>NaN</td>\n",
              "      <td>NaN</td>\n",
              "      <td>NaN</td>\n",
              "      <td>NaN</td>\n",
              "      <td>NaN</td>\n",
              "      <td>NaN</td>\n",
              "      <td>N</td>\n",
              "      <td>NaN</td>\n",
              "    </tr>\n",
              "  </tbody>\n",
              "</table>\n",
              "<p>5 rows × 24 columns</p>\n",
              "</div>\n",
              "      <button class=\"colab-df-convert\" onclick=\"convertToInteractive('df-d3faafca-a23d-48ac-9f70-93613c9471a0')\"\n",
              "              title=\"Convert this dataframe to an interactive table.\"\n",
              "              style=\"display:none;\">\n",
              "        \n",
              "  <svg xmlns=\"http://www.w3.org/2000/svg\" height=\"24px\"viewBox=\"0 0 24 24\"\n",
              "       width=\"24px\">\n",
              "    <path d=\"M0 0h24v24H0V0z\" fill=\"none\"/>\n",
              "    <path d=\"M18.56 5.44l.94 2.06.94-2.06 2.06-.94-2.06-.94-.94-2.06-.94 2.06-2.06.94zm-11 1L8.5 8.5l.94-2.06 2.06-.94-2.06-.94L8.5 2.5l-.94 2.06-2.06.94zm10 10l.94 2.06.94-2.06 2.06-.94-2.06-.94-.94-2.06-.94 2.06-2.06.94z\"/><path d=\"M17.41 7.96l-1.37-1.37c-.4-.4-.92-.59-1.43-.59-.52 0-1.04.2-1.43.59L10.3 9.45l-7.72 7.72c-.78.78-.78 2.05 0 2.83L4 21.41c.39.39.9.59 1.41.59.51 0 1.02-.2 1.41-.59l7.78-7.78 2.81-2.81c.8-.78.8-2.07 0-2.86zM5.41 20L4 18.59l7.72-7.72 1.47 1.35L5.41 20z\"/>\n",
              "  </svg>\n",
              "      </button>\n",
              "      \n",
              "  <style>\n",
              "    .colab-df-container {\n",
              "      display:flex;\n",
              "      flex-wrap:wrap;\n",
              "      gap: 12px;\n",
              "    }\n",
              "\n",
              "    .colab-df-convert {\n",
              "      background-color: #E8F0FE;\n",
              "      border: none;\n",
              "      border-radius: 50%;\n",
              "      cursor: pointer;\n",
              "      display: none;\n",
              "      fill: #1967D2;\n",
              "      height: 32px;\n",
              "      padding: 0 0 0 0;\n",
              "      width: 32px;\n",
              "    }\n",
              "\n",
              "    .colab-df-convert:hover {\n",
              "      background-color: #E2EBFA;\n",
              "      box-shadow: 0px 1px 2px rgba(60, 64, 67, 0.3), 0px 1px 3px 1px rgba(60, 64, 67, 0.15);\n",
              "      fill: #174EA6;\n",
              "    }\n",
              "\n",
              "    [theme=dark] .colab-df-convert {\n",
              "      background-color: #3B4455;\n",
              "      fill: #D2E3FC;\n",
              "    }\n",
              "\n",
              "    [theme=dark] .colab-df-convert:hover {\n",
              "      background-color: #434B5C;\n",
              "      box-shadow: 0px 1px 3px 1px rgba(0, 0, 0, 0.15);\n",
              "      filter: drop-shadow(0px 1px 2px rgba(0, 0, 0, 0.3));\n",
              "      fill: #FFFFFF;\n",
              "    }\n",
              "  </style>\n",
              "\n",
              "      <script>\n",
              "        const buttonEl =\n",
              "          document.querySelector('#df-d3faafca-a23d-48ac-9f70-93613c9471a0 button.colab-df-convert');\n",
              "        buttonEl.style.display =\n",
              "          google.colab.kernel.accessAllowed ? 'block' : 'none';\n",
              "\n",
              "        async function convertToInteractive(key) {\n",
              "          const element = document.querySelector('#df-d3faafca-a23d-48ac-9f70-93613c9471a0');\n",
              "          const dataTable =\n",
              "            await google.colab.kernel.invokeFunction('convertToInteractive',\n",
              "                                                     [key], {});\n",
              "          if (!dataTable) return;\n",
              "\n",
              "          const docLinkHtml = 'Like what you see? Visit the ' +\n",
              "            '<a target=\"_blank\" href=https://colab.research.google.com/notebooks/data_table.ipynb>data table notebook</a>'\n",
              "            + ' to learn more about interactive tables.';\n",
              "          element.innerHTML = '';\n",
              "          dataTable['output_type'] = 'display_data';\n",
              "          await google.colab.output.renderOutput(dataTable, element);\n",
              "          const docLink = document.createElement('div');\n",
              "          docLink.innerHTML = docLinkHtml;\n",
              "          element.appendChild(docLink);\n",
              "        }\n",
              "      </script>\n",
              "    </div>\n",
              "  </div>\n",
              "  "
            ]
          },
          "metadata": {},
          "execution_count": 26
        }
      ]
    },
    {
      "cell_type": "code",
      "source": [
        "pumpkins.info()"
      ],
      "metadata": {
        "colab": {
          "base_uri": "https://localhost:8080/"
        },
        "id": "3NWBtzMn6Dh4",
        "outputId": "83bd3b60-1945-4925-fb1d-649ccc17692e"
      },
      "execution_count": null,
      "outputs": [
        {
          "output_type": "stream",
          "name": "stdout",
          "text": [
            "<class 'pandas.core.frame.DataFrame'>\n",
            "RangeIndex: 1757 entries, 0 to 1756\n",
            "Data columns (total 24 columns):\n",
            " #   Column           Non-Null Count  Dtype  \n",
            "---  ------           --------------  -----  \n",
            " 0   City Name        1757 non-null   object \n",
            " 1   Type             45 non-null     object \n",
            " 2   Package          1757 non-null   object \n",
            " 3   Variety          1752 non-null   object \n",
            " 4   Sub Variety      296 non-null    object \n",
            " 5   Grade            0 non-null      float64\n",
            " 6   Date             1757 non-null   object \n",
            " 7   Low Price        1757 non-null   float64\n",
            " 8   High Price       1757 non-null   float64\n",
            " 9   Mostly Low       1654 non-null   float64\n",
            " 10  Mostly High      1654 non-null   float64\n",
            " 11  Origin           1754 non-null   object \n",
            " 12  Origin District  131 non-null    object \n",
            " 13  Item Size        1478 non-null   object \n",
            " 14  Color            1141 non-null   object \n",
            " 15  Environment      0 non-null      float64\n",
            " 16  Unit of Sale     162 non-null    object \n",
            " 17  Quality          0 non-null      float64\n",
            " 18  Condition        0 non-null      float64\n",
            " 19  Appearance       0 non-null      float64\n",
            " 20  Storage          0 non-null      float64\n",
            " 21  Crop             0 non-null      float64\n",
            " 22  Repack           1757 non-null   object \n",
            " 23  Trans Mode       0 non-null      float64\n",
            "dtypes: float64(12), object(12)\n",
            "memory usage: 329.6+ KB\n"
          ]
        }
      ]
    },
    {
      "cell_type": "markdown",
      "source": [
        "We are going to try to predict the color class using Logistic Regression method."
      ],
      "metadata": {
        "id": "6QMwpx1Q6541"
      }
    },
    {
      "cell_type": "code",
      "source": [
        "pumpkins['Color'].value_counts()"
      ],
      "metadata": {
        "colab": {
          "base_uri": "https://localhost:8080/"
        },
        "id": "kDDs19Sb6zAS",
        "outputId": "b6f4e2ce-45fd-4b0e-acb8-880227a82745"
      },
      "execution_count": null,
      "outputs": [
        {
          "output_type": "execute_result",
          "data": {
            "text/plain": [
              "ORANGE     916\n",
              "WHITE      213\n",
              "STRIPED     12\n",
              "Name: Color, dtype: int64"
            ]
          },
          "metadata": {},
          "execution_count": 28
        }
      ]
    },
    {
      "cell_type": "markdown",
      "source": [
        "Let's convert the categorical data into labels. Luckily, sklearn has a method for this called LabelEncoder."
      ],
      "metadata": {
        "id": "KlR7pSbY8fHO"
      }
    },
    {
      "cell_type": "code",
      "source": [
        "from sklearn.preprocessing import LabelEncoder\n",
        "\n",
        "new_columns = ['Color','Origin','Item Size','Variety','City Name','Package']\n",
        "\n",
        "new_pumpkins = pumpkins.drop([c for c in pumpkins.columns if c not in new_columns], axis=1)\n",
        "\n",
        "new_pumpkins.dropna(inplace=True)\n",
        "\n",
        "\n",
        "new_pumpkins = new_pumpkins.apply(LabelEncoder().fit_transform)"
      ],
      "metadata": {
        "id": "F6hEnhLd8QMC"
      },
      "execution_count": null,
      "outputs": []
    },
    {
      "cell_type": "code",
      "source": [
        "new_pumpkins.head()"
      ],
      "metadata": {
        "colab": {
          "base_uri": "https://localhost:8080/",
          "height": 206
        },
        "id": "eabVpVQB8bFW",
        "outputId": "729ee82a-8f75-48cd-a5cd-2dfea2e008a9"
      },
      "execution_count": null,
      "outputs": [
        {
          "output_type": "execute_result",
          "data": {
            "text/plain": [
              "   City Name  Package  Variety  Origin  Item Size  Color\n",
              "2          1        3        4       3          3      0\n",
              "3          1        3        4      17          3      0\n",
              "4          1        3        4       5          2      0\n",
              "5          1        3        4       5          2      0\n",
              "6          1        4        4       5          3      0"
            ],
            "text/html": [
              "\n",
              "  <div id=\"df-f4ce2222-2f82-4065-846c-61c5db353885\">\n",
              "    <div class=\"colab-df-container\">\n",
              "      <div>\n",
              "<style scoped>\n",
              "    .dataframe tbody tr th:only-of-type {\n",
              "        vertical-align: middle;\n",
              "    }\n",
              "\n",
              "    .dataframe tbody tr th {\n",
              "        vertical-align: top;\n",
              "    }\n",
              "\n",
              "    .dataframe thead th {\n",
              "        text-align: right;\n",
              "    }\n",
              "</style>\n",
              "<table border=\"1\" class=\"dataframe\">\n",
              "  <thead>\n",
              "    <tr style=\"text-align: right;\">\n",
              "      <th></th>\n",
              "      <th>City Name</th>\n",
              "      <th>Package</th>\n",
              "      <th>Variety</th>\n",
              "      <th>Origin</th>\n",
              "      <th>Item Size</th>\n",
              "      <th>Color</th>\n",
              "    </tr>\n",
              "  </thead>\n",
              "  <tbody>\n",
              "    <tr>\n",
              "      <th>2</th>\n",
              "      <td>1</td>\n",
              "      <td>3</td>\n",
              "      <td>4</td>\n",
              "      <td>3</td>\n",
              "      <td>3</td>\n",
              "      <td>0</td>\n",
              "    </tr>\n",
              "    <tr>\n",
              "      <th>3</th>\n",
              "      <td>1</td>\n",
              "      <td>3</td>\n",
              "      <td>4</td>\n",
              "      <td>17</td>\n",
              "      <td>3</td>\n",
              "      <td>0</td>\n",
              "    </tr>\n",
              "    <tr>\n",
              "      <th>4</th>\n",
              "      <td>1</td>\n",
              "      <td>3</td>\n",
              "      <td>4</td>\n",
              "      <td>5</td>\n",
              "      <td>2</td>\n",
              "      <td>0</td>\n",
              "    </tr>\n",
              "    <tr>\n",
              "      <th>5</th>\n",
              "      <td>1</td>\n",
              "      <td>3</td>\n",
              "      <td>4</td>\n",
              "      <td>5</td>\n",
              "      <td>2</td>\n",
              "      <td>0</td>\n",
              "    </tr>\n",
              "    <tr>\n",
              "      <th>6</th>\n",
              "      <td>1</td>\n",
              "      <td>4</td>\n",
              "      <td>4</td>\n",
              "      <td>5</td>\n",
              "      <td>3</td>\n",
              "      <td>0</td>\n",
              "    </tr>\n",
              "  </tbody>\n",
              "</table>\n",
              "</div>\n",
              "      <button class=\"colab-df-convert\" onclick=\"convertToInteractive('df-f4ce2222-2f82-4065-846c-61c5db353885')\"\n",
              "              title=\"Convert this dataframe to an interactive table.\"\n",
              "              style=\"display:none;\">\n",
              "        \n",
              "  <svg xmlns=\"http://www.w3.org/2000/svg\" height=\"24px\"viewBox=\"0 0 24 24\"\n",
              "       width=\"24px\">\n",
              "    <path d=\"M0 0h24v24H0V0z\" fill=\"none\"/>\n",
              "    <path d=\"M18.56 5.44l.94 2.06.94-2.06 2.06-.94-2.06-.94-.94-2.06-.94 2.06-2.06.94zm-11 1L8.5 8.5l.94-2.06 2.06-.94-2.06-.94L8.5 2.5l-.94 2.06-2.06.94zm10 10l.94 2.06.94-2.06 2.06-.94-2.06-.94-.94-2.06-.94 2.06-2.06.94z\"/><path d=\"M17.41 7.96l-1.37-1.37c-.4-.4-.92-.59-1.43-.59-.52 0-1.04.2-1.43.59L10.3 9.45l-7.72 7.72c-.78.78-.78 2.05 0 2.83L4 21.41c.39.39.9.59 1.41.59.51 0 1.02-.2 1.41-.59l7.78-7.78 2.81-2.81c.8-.78.8-2.07 0-2.86zM5.41 20L4 18.59l7.72-7.72 1.47 1.35L5.41 20z\"/>\n",
              "  </svg>\n",
              "      </button>\n",
              "      \n",
              "  <style>\n",
              "    .colab-df-container {\n",
              "      display:flex;\n",
              "      flex-wrap:wrap;\n",
              "      gap: 12px;\n",
              "    }\n",
              "\n",
              "    .colab-df-convert {\n",
              "      background-color: #E8F0FE;\n",
              "      border: none;\n",
              "      border-radius: 50%;\n",
              "      cursor: pointer;\n",
              "      display: none;\n",
              "      fill: #1967D2;\n",
              "      height: 32px;\n",
              "      padding: 0 0 0 0;\n",
              "      width: 32px;\n",
              "    }\n",
              "\n",
              "    .colab-df-convert:hover {\n",
              "      background-color: #E2EBFA;\n",
              "      box-shadow: 0px 1px 2px rgba(60, 64, 67, 0.3), 0px 1px 3px 1px rgba(60, 64, 67, 0.15);\n",
              "      fill: #174EA6;\n",
              "    }\n",
              "\n",
              "    [theme=dark] .colab-df-convert {\n",
              "      background-color: #3B4455;\n",
              "      fill: #D2E3FC;\n",
              "    }\n",
              "\n",
              "    [theme=dark] .colab-df-convert:hover {\n",
              "      background-color: #434B5C;\n",
              "      box-shadow: 0px 1px 3px 1px rgba(0, 0, 0, 0.15);\n",
              "      filter: drop-shadow(0px 1px 2px rgba(0, 0, 0, 0.3));\n",
              "      fill: #FFFFFF;\n",
              "    }\n",
              "  </style>\n",
              "\n",
              "      <script>\n",
              "        const buttonEl =\n",
              "          document.querySelector('#df-f4ce2222-2f82-4065-846c-61c5db353885 button.colab-df-convert');\n",
              "        buttonEl.style.display =\n",
              "          google.colab.kernel.accessAllowed ? 'block' : 'none';\n",
              "\n",
              "        async function convertToInteractive(key) {\n",
              "          const element = document.querySelector('#df-f4ce2222-2f82-4065-846c-61c5db353885');\n",
              "          const dataTable =\n",
              "            await google.colab.kernel.invokeFunction('convertToInteractive',\n",
              "                                                     [key], {});\n",
              "          if (!dataTable) return;\n",
              "\n",
              "          const docLinkHtml = 'Like what you see? Visit the ' +\n",
              "            '<a target=\"_blank\" href=https://colab.research.google.com/notebooks/data_table.ipynb>data table notebook</a>'\n",
              "            + ' to learn more about interactive tables.';\n",
              "          element.innerHTML = '';\n",
              "          dataTable['output_type'] = 'display_data';\n",
              "          await google.colab.output.renderOutput(dataTable, element);\n",
              "          const docLink = document.createElement('div');\n",
              "          docLink.innerHTML = docLinkHtml;\n",
              "          element.appendChild(docLink);\n",
              "        }\n",
              "      </script>\n",
              "    </div>\n",
              "  </div>\n",
              "  "
            ]
          },
          "metadata": {},
          "execution_count": 30
        }
      ]
    },
    {
      "cell_type": "code",
      "source": [
        "new_pumpkins['Color'].value_counts()"
      ],
      "metadata": {
        "colab": {
          "base_uri": "https://localhost:8080/"
        },
        "id": "Ix3FzeFc8dqT",
        "outputId": "cd86c6b2-c463-4b3d-bf9c-6d9152340cec"
      },
      "execution_count": null,
      "outputs": [
        {
          "output_type": "execute_result",
          "data": {
            "text/plain": [
              "0    835\n",
              "1    156\n",
              "Name: Color, dtype: int64"
            ]
          },
          "metadata": {},
          "execution_count": 31
        }
      ]
    },
    {
      "cell_type": "code",
      "source": [
        "import seaborn as sns\n",
        "\n",
        "g = sns.PairGrid(new_pumpkins)\n",
        "g.map(sns.scatterplot)\n",
        "\n"
      ],
      "metadata": {
        "colab": {
          "base_uri": "https://localhost:8080/",
          "height": 1000
        },
        "id": "iNcgh9qy8v7Y",
        "outputId": "71c90b64-c306-4c49-d839-5d584ee7350b"
      },
      "execution_count": null,
      "outputs": [
        {
          "output_type": "execute_result",
          "data": {
            "text/plain": [
              "<seaborn.axisgrid.PairGrid at 0x7f1645cb5110>"
            ]
          },
          "metadata": {},
          "execution_count": 32
        },
        {
          "output_type": "display_data",
          "data": {
            "text/plain": [
              "<Figure size 1080x1080 with 36 Axes>"
            ],
            "image/png": "[encoded data removed]"
          },
          "metadata": {
            "needs_background": "light"
          }
        }
      ]
    },
    {
      "cell_type": "code",
      "source": [
        "sns.swarmplot(x=\"Color\", y=\"Item Size\", data=new_pumpkins)"
      ],
      "metadata": {
        "colab": {
          "base_uri": "https://localhost:8080/",
          "height": 388
        },
        "id": "QTo8cpgW8z3B",
        "outputId": "437b8559-242a-47bb-b9d8-7d05e5844e5f"
      },
      "execution_count": null,
      "outputs": [
        {
          "output_type": "stream",
          "name": "stderr",
          "text": [
            "/usr/local/lib/python3.7/dist-packages/seaborn/categorical.py:1296: UserWarning: 80.6% of the points cannot be placed; you may want to decrease the size of the markers or use stripplot.\n",
            "  warnings.warn(msg, UserWarning)\n",
            "/usr/local/lib/python3.7/dist-packages/seaborn/categorical.py:1296: UserWarning: 37.2% of the points cannot be placed; you may want to decrease the size of the markers or use stripplot.\n",
            "  warnings.warn(msg, UserWarning)\n"
          ]
        },
        {
          "output_type": "execute_result",
          "data": {
            "text/plain": [
              "<matplotlib.axes._subplots.AxesSubplot at 0x7f16448d9a50>"
            ]
          },
          "metadata": {},
          "execution_count": 33
        },
        {
          "output_type": "display_data",
          "data": {
            "text/plain": [
              "<Figure size 432x288 with 1 Axes>"
            ],
            "image/png": "[encoded data removed]"
          },
          "metadata": {
            "needs_background": "light"
          }
        }
      ]
    },
    {
      "cell_type": "code",
      "source": [
        "sns.catplot(x=\"Color\", y=\"Item Size\",\n",
        "            kind=\"violin\", data=new_pumpkins)"
      ],
      "metadata": {
        "colab": {
          "base_uri": "https://localhost:8080/",
          "height": 387
        },
        "id": "PZUws90b9CpE",
        "outputId": "0edf4693-eb7b-4486-a2e5-4babda19669c"
      },
      "execution_count": null,
      "outputs": [
        {
          "output_type": "execute_result",
          "data": {
            "text/plain": [
              "<seaborn.axisgrid.FacetGrid at 0x7f164492ad90>"
            ]
          },
          "metadata": {},
          "execution_count": 34
        },
        {
          "output_type": "display_data",
          "data": {
            "text/plain": [
              "<Figure size 360x360 with 1 Axes>"
            ],
            "image/png": "[encoded data removed]"
          },
          "metadata": {
            "needs_background": "light"
          }
        }
      ]
    },
    {
      "cell_type": "code",
      "source": [
        "new_pumpkins[new_pumpkins['Variety'] == 4]"
      ],
      "metadata": {
        "colab": {
          "base_uri": "https://localhost:8080/",
          "height": 424
        },
        "id": "vHTqIS26FC71",
        "outputId": "6904570d-0b8e-4d4a-f00c-b72fc267f4b8"
      },
      "execution_count": null,
      "outputs": [
        {
          "output_type": "execute_result",
          "data": {
            "text/plain": [
              "      City Name  Package  Variety  Origin  Item Size  Color\n",
              "2             1        3        4       3          3      0\n",
              "3             1        3        4      17          3      0\n",
              "4             1        3        4       5          2      0\n",
              "5             1        3        4       5          2      0\n",
              "6             1        4        4       5          3      0\n",
              "...         ...      ...      ...     ...        ...    ...\n",
              "1689         12        4        4       4          2      0\n",
              "1690         12        4        4       4          3      0\n",
              "1691         12        4        4       8          6      0\n",
              "1692         12        4        4       8          2      0\n",
              "1693         12        4        4       8          3      0\n",
              "\n",
              "[531 rows x 6 columns]"
            ],
            "text/html": [
              "\n",
              "  <div id=\"df-ec7292e8-0c57-4ce8-85d3-43098a893fef\">\n",
              "    <div class=\"colab-df-container\">\n",
              "      <div>\n",
              "<style scoped>\n",
              "    .dataframe tbody tr th:only-of-type {\n",
              "        vertical-align: middle;\n",
              "    }\n",
              "\n",
              "    .dataframe tbody tr th {\n",
              "        vertical-align: top;\n",
              "    }\n",
              "\n",
              "    .dataframe thead th {\n",
              "        text-align: right;\n",
              "    }\n",
              "</style>\n",
              "<table border=\"1\" class=\"dataframe\">\n",
              "  <thead>\n",
              "    <tr style=\"text-align: right;\">\n",
              "      <th></th>\n",
              "      <th>City Name</th>\n",
              "      <th>Package</th>\n",
              "      <th>Variety</th>\n",
              "      <th>Origin</th>\n",
              "      <th>Item Size</th>\n",
              "      <th>Color</th>\n",
              "    </tr>\n",
              "  </thead>\n",
              "  <tbody>\n",
              "    <tr>\n",
              "      <th>2</th>\n",
              "      <td>1</td>\n",
              "      <td>3</td>\n",
              "      <td>4</td>\n",
              "      <td>3</td>\n",
              "      <td>3</td>\n",
              "      <td>0</td>\n",
              "    </tr>\n",
              "    <tr>\n",
              "      <th>3</th>\n",
              "      <td>1</td>\n",
              "      <td>3</td>\n",
              "      <td>4</td>\n",
              "      <td>17</td>\n",
              "      <td>3</td>\n",
              "      <td>0</td>\n",
              "    </tr>\n",
              "    <tr>\n",
              "      <th>4</th>\n",
              "      <td>1</td>\n",
              "      <td>3</td>\n",
              "      <td>4</td>\n",
              "      <td>5</td>\n",
              "      <td>2</td>\n",
              "      <td>0</td>\n",
              "    </tr>\n",
              "    <tr>\n",
              "      <th>5</th>\n",
              "      <td>1</td>\n",
              "      <td>3</td>\n",
              "      <td>4</td>\n",
              "      <td>5</td>\n",
              "      <td>2</td>\n",
              "      <td>0</td>\n",
              "    </tr>\n",
              "    <tr>\n",
              "      <th>6</th>\n",
              "      <td>1</td>\n",
              "      <td>4</td>\n",
              "      <td>4</td>\n",
              "      <td>5</td>\n",
              "      <td>3</td>\n",
              "      <td>0</td>\n",
              "    </tr>\n",
              "    <tr>\n",
              "      <th>...</th>\n",
              "      <td>...</td>\n",
              "      <td>...</td>\n",
              "      <td>...</td>\n",
              "      <td>...</td>\n",
              "      <td>...</td>\n",
              "      <td>...</td>\n",
              "    </tr>\n",
              "    <tr>\n",
              "      <th>1689</th>\n",
              "      <td>12</td>\n",
              "      <td>4</td>\n",
              "      <td>4</td>\n",
              "      <td>4</td>\n",
              "      <td>2</td>\n",
              "      <td>0</td>\n",
              "    </tr>\n",
              "    <tr>\n",
              "      <th>1690</th>\n",
              "      <td>12</td>\n",
              "      <td>4</td>\n",
              "      <td>4</td>\n",
              "      <td>4</td>\n",
              "      <td>3</td>\n",
              "      <td>0</td>\n",
              "    </tr>\n",
              "    <tr>\n",
              "      <th>1691</th>\n",
              "      <td>12</td>\n",
              "      <td>4</td>\n",
              "      <td>4</td>\n",
              "      <td>8</td>\n",
              "      <td>6</td>\n",
              "      <td>0</td>\n",
              "    </tr>\n",
              "    <tr>\n",
              "      <th>1692</th>\n",
              "      <td>12</td>\n",
              "      <td>4</td>\n",
              "      <td>4</td>\n",
              "      <td>8</td>\n",
              "      <td>2</td>\n",
              "      <td>0</td>\n",
              "    </tr>\n",
              "    <tr>\n",
              "      <th>1693</th>\n",
              "      <td>12</td>\n",
              "      <td>4</td>\n",
              "      <td>4</td>\n",
              "      <td>8</td>\n",
              "      <td>3</td>\n",
              "      <td>0</td>\n",
              "    </tr>\n",
              "  </tbody>\n",
              "</table>\n",
              "<p>531 rows × 6 columns</p>\n",
              "</div>\n",
              "      <button class=\"colab-df-convert\" onclick=\"convertToInteractive('df-ec7292e8-0c57-4ce8-85d3-43098a893fef')\"\n",
              "              title=\"Convert this dataframe to an interactive table.\"\n",
              "              style=\"display:none;\">\n",
              "        \n",
              "  <svg xmlns=\"http://www.w3.org/2000/svg\" height=\"24px\"viewBox=\"0 0 24 24\"\n",
              "       width=\"24px\">\n",
              "    <path d=\"M0 0h24v24H0V0z\" fill=\"none\"/>\n",
              "    <path d=\"M18.56 5.44l.94 2.06.94-2.06 2.06-.94-2.06-.94-.94-2.06-.94 2.06-2.06.94zm-11 1L8.5 8.5l.94-2.06 2.06-.94-2.06-.94L8.5 2.5l-.94 2.06-2.06.94zm10 10l.94 2.06.94-2.06 2.06-.94-2.06-.94-.94-2.06-.94 2.06-2.06.94z\"/><path d=\"M17.41 7.96l-1.37-1.37c-.4-.4-.92-.59-1.43-.59-.52 0-1.04.2-1.43.59L10.3 9.45l-7.72 7.72c-.78.78-.78 2.05 0 2.83L4 21.41c.39.39.9.59 1.41.59.51 0 1.02-.2 1.41-.59l7.78-7.78 2.81-2.81c.8-.78.8-2.07 0-2.86zM5.41 20L4 18.59l7.72-7.72 1.47 1.35L5.41 20z\"/>\n",
              "  </svg>\n",
              "      </button>\n",
              "      \n",
              "  <style>\n",
              "    .colab-df-container {\n",
              "      display:flex;\n",
              "      flex-wrap:wrap;\n",
              "      gap: 12px;\n",
              "    }\n",
              "\n",
              "    .colab-df-convert {\n",
              "      background-color: #E8F0FE;\n",
              "      border: none;\n",
              "      border-radius: 50%;\n",
              "      cursor: pointer;\n",
              "      display: none;\n",
              "      fill: #1967D2;\n",
              "      height: 32px;\n",
              "      padding: 0 0 0 0;\n",
              "      width: 32px;\n",
              "    }\n",
              "\n",
              "    .colab-df-convert:hover {\n",
              "      background-color: #E2EBFA;\n",
              "      box-shadow: 0px 1px 2px rgba(60, 64, 67, 0.3), 0px 1px 3px 1px rgba(60, 64, 67, 0.15);\n",
              "      fill: #174EA6;\n",
              "    }\n",
              "\n",
              "    [theme=dark] .colab-df-convert {\n",
              "      background-color: #3B4455;\n",
              "      fill: #D2E3FC;\n",
              "    }\n",
              "\n",
              "    [theme=dark] .colab-df-convert:hover {\n",
              "      background-color: #434B5C;\n",
              "      box-shadow: 0px 1px 3px 1px rgba(0, 0, 0, 0.15);\n",
              "      filter: drop-shadow(0px 1px 2px rgba(0, 0, 0, 0.3));\n",
              "      fill: #FFFFFF;\n",
              "    }\n",
              "  </style>\n",
              "\n",
              "      <script>\n",
              "        const buttonEl =\n",
              "          document.querySelector('#df-ec7292e8-0c57-4ce8-85d3-43098a893fef button.colab-df-convert');\n",
              "        buttonEl.style.display =\n",
              "          google.colab.kernel.accessAllowed ? 'block' : 'none';\n",
              "\n",
              "        async function convertToInteractive(key) {\n",
              "          const element = document.querySelector('#df-ec7292e8-0c57-4ce8-85d3-43098a893fef');\n",
              "          const dataTable =\n",
              "            await google.colab.kernel.invokeFunction('convertToInteractive',\n",
              "                                                     [key], {});\n",
              "          if (!dataTable) return;\n",
              "\n",
              "          const docLinkHtml = 'Like what you see? Visit the ' +\n",
              "            '<a target=\"_blank\" href=https://colab.research.google.com/notebooks/data_table.ipynb>data table notebook</a>'\n",
              "            + ' to learn more about interactive tables.';\n",
              "          element.innerHTML = '';\n",
              "          dataTable['output_type'] = 'display_data';\n",
              "          await google.colab.output.renderOutput(dataTable, element);\n",
              "          const docLink = document.createElement('div');\n",
              "          docLink.innerHTML = docLinkHtml;\n",
              "          element.appendChild(docLink);\n",
              "        }\n",
              "      </script>\n",
              "    </div>\n",
              "  </div>\n",
              "  "
            ]
          },
          "metadata": {},
          "execution_count": 35
        }
      ]
    },
    {
      "cell_type": "code",
      "source": [
        "from sklearn.model_selection import train_test_split\n",
        "\n",
        "Selected_features = ['Origin','Item Size','Variety','City Name','Package']\n",
        "\n",
        "X = new_pumpkins[Selected_features]  # predictors, independent variables, attributes, features\n",
        "y = new_pumpkins['Color'] # predicted variable, outcome variable, target variable\n",
        "\n",
        "\n",
        "X_train, X_test, y_train, y_test = train_test_split(X, y, test_size=0.1, random_state=0)\n",
        "# no guarantee that train and test parts will keep same ratio of orange and white pumpkins\n",
        "# if you want to ensure balanced class data in each part, stratified sampling"
      ],
      "metadata": {
        "id": "eqLEW5NT9FIV"
      },
      "execution_count": null,
      "outputs": []
    },
    {
      "cell_type": "code",
      "source": [
        "X.shape"
      ],
      "metadata": {
        "colab": {
          "base_uri": "https://localhost:8080/"
        },
        "id": "4DZQCM7by9FH",
        "outputId": "1ad08d9c-58de-4ab0-fbfd-936cedbe6148"
      },
      "execution_count": null,
      "outputs": [
        {
          "output_type": "execute_result",
          "data": {
            "text/plain": [
              "(991, 5)"
            ]
          },
          "metadata": {},
          "execution_count": 37
        }
      ]
    },
    {
      "cell_type": "code",
      "source": [
        "X_train.shape"
      ],
      "metadata": {
        "colab": {
          "base_uri": "https://localhost:8080/"
        },
        "id": "Wb16GCRqzAok",
        "outputId": "1e7a0e23-9722-41b9-f5b7-4b5a2edea8f6"
      },
      "execution_count": null,
      "outputs": [
        {
          "output_type": "execute_result",
          "data": {
            "text/plain": [
              "(891, 5)"
            ]
          },
          "metadata": {},
          "execution_count": 38
        }
      ]
    },
    {
      "cell_type": "code",
      "source": [
        "X_test.shape"
      ],
      "metadata": {
        "colab": {
          "base_uri": "https://localhost:8080/"
        },
        "id": "dxqMmvxTzDOj",
        "outputId": "605911f0-a1d2-4ac3-cece-46714b665625"
      },
      "execution_count": null,
      "outputs": [
        {
          "output_type": "execute_result",
          "data": {
            "text/plain": [
              "(100, 5)"
            ]
          },
          "metadata": {},
          "execution_count": 39
        }
      ]
    },
    {
      "cell_type": "code",
      "source": [
        "from sklearn import tree\n",
        "clf = tree.DecisionTreeClassifier(max_depth = 5)\n",
        "clf = clf.fit(X_train, y_train)\n",
        "tree.plot_tree(clf)\n"
      ],
      "metadata": {
        "id": "AWHUyHEW9edn",
        "colab": {
          "base_uri": "https://localhost:8080/",
          "height": 695
        },
        "outputId": "7b3a9470-cb9c-4cc3-e855-258d2eea87b2"
      },
      "execution_count": null,
      "outputs": [
        {
          "output_type": "execute_result",
          "data": {
            "text/plain": [
              "[Text(0.39285714285714285, 0.9166666666666666, 'X[2] <= 4.5\\ngini = 0.266\\nsamples = 891\\nvalue = [750, 141]'),\n",
              " Text(0.21428571428571427, 0.75, 'X[2] <= 3.5\\ngini = 0.079\\nsamples = 560\\nvalue = [537, 23]'),\n",
              " Text(0.14285714285714285, 0.5833333333333334, 'X[3] <= 1.5\\ngini = 0.441\\nsamples = 70\\nvalue = [47, 23]'),\n",
              " Text(0.07142857142857142, 0.4166666666666667, 'gini = 0.0\\nsamples = 13\\nvalue = [0, 13]'),\n",
              " Text(0.21428571428571427, 0.4166666666666667, 'X[2] <= 1.5\\ngini = 0.289\\nsamples = 57\\nvalue = [47, 10]'),\n",
              " Text(0.14285714285714285, 0.25, 'gini = 0.0\\nsamples = 33\\nvalue = [33, 0]'),\n",
              " Text(0.2857142857142857, 0.25, 'X[4] <= 2.5\\ngini = 0.486\\nsamples = 24\\nvalue = [14, 10]'),\n",
              " Text(0.21428571428571427, 0.08333333333333333, 'gini = 0.0\\nsamples = 4\\nvalue = [4, 0]'),\n",
              " Text(0.35714285714285715, 0.08333333333333333, 'gini = 0.5\\nsamples = 20\\nvalue = [10, 10]'),\n",
              " Text(0.2857142857142857, 0.5833333333333334, 'gini = 0.0\\nsamples = 490\\nvalue = [490, 0]'),\n",
              " Text(0.5714285714285714, 0.75, 'X[2] <= 7.5\\ngini = 0.459\\nsamples = 331\\nvalue = [213, 118]'),\n",
              " Text(0.42857142857142855, 0.5833333333333334, 'X[2] <= 5.5\\ngini = 0.435\\nsamples = 166\\nvalue = [53, 113]'),\n",
              " Text(0.35714285714285715, 0.4166666666666667, 'gini = 0.0\\nsamples = 42\\nvalue = [0, 42]'),\n",
              " Text(0.5, 0.4166666666666667, 'X[3] <= 1.5\\ngini = 0.489\\nsamples = 124\\nvalue = [53, 71]'),\n",
              " Text(0.42857142857142855, 0.25, 'gini = 0.0\\nsamples = 20\\nvalue = [0, 20]'),\n",
              " Text(0.5714285714285714, 0.25, 'X[3] <= 6.5\\ngini = 0.5\\nsamples = 104\\nvalue = [53, 51]'),\n",
              " Text(0.5, 0.08333333333333333, 'gini = 0.495\\nsamples = 96\\nvalue = [53, 43]'),\n",
              " Text(0.6428571428571429, 0.08333333333333333, 'gini = 0.0\\nsamples = 8\\nvalue = [0, 8]'),\n",
              " Text(0.7142857142857143, 0.5833333333333334, 'X[3] <= 3.0\\ngini = 0.059\\nsamples = 165\\nvalue = [160, 5]'),\n",
              " Text(0.6428571428571429, 0.4166666666666667, 'gini = 0.0\\nsamples = 113\\nvalue = [113, 0]'),\n",
              " Text(0.7857142857142857, 0.4166666666666667, 'X[1] <= 3.5\\ngini = 0.174\\nsamples = 52\\nvalue = [47, 5]'),\n",
              " Text(0.7142857142857143, 0.25, 'gini = 0.0\\nsamples = 29\\nvalue = [29, 0]'),\n",
              " Text(0.8571428571428571, 0.25, 'X[1] <= 4.5\\ngini = 0.34\\nsamples = 23\\nvalue = [18, 5]'),\n",
              " Text(0.7857142857142857, 0.08333333333333333, 'gini = 0.459\\nsamples = 14\\nvalue = [9, 5]'),\n",
              " Text(0.9285714285714286, 0.08333333333333333, 'gini = 0.0\\nsamples = 9\\nvalue = [9, 0]')]"
            ]
          },
          "metadata": {},
          "execution_count": 40
        },
        {
          "output_type": "display_data",
          "data": {
            "text/plain": [
              "<Figure size 432x288 with 1 Axes>"
            ],
            "image/png": "[encoded data removed]"
          },
          "metadata": {
            "needs_background": "light"
          }
        }
      ]
    },
    {
      "cell_type": "code",
      "source": [
        "from sklearn.metrics import classification_report, accuracy_score\n",
        "predictions = clf.predict(X_test)\n",
        "\n",
        "print(classification_report(y_test, predictions)) # predictions contain predicted values (derived from probability with 0.5 threshold)\n",
        "\n",
        "print('Predicted labels: ', predictions)\n",
        "print('Accuracy: ', accuracy_score(y_test, predictions))\n"
      ],
      "metadata": {
        "colab": {
          "base_uri": "https://localhost:8080/"
        },
        "id": "KBuDwuPZCBNO",
        "outputId": "a1886420-8c1f-420c-acd2-b0189c86fb64"
      },
      "execution_count": null,
      "outputs": [
        {
          "output_type": "stream",
          "name": "stdout",
          "text": [
            "              precision    recall  f1-score   support\n",
            "\n",
            "           0       0.94      1.00      0.97        85\n",
            "           1       1.00      0.67      0.80        15\n",
            "\n",
            "    accuracy                           0.95       100\n",
            "   macro avg       0.97      0.83      0.89       100\n",
            "weighted avg       0.95      0.95      0.95       100\n",
            "\n",
            "Predicted labels:  [0 0 0 0 0 0 0 0 0 0 0 0 0 0 0 0 0 0 0 0 0 0 0 1 0 0 0 0 0 0 0 0 1 0 0 0 0\n",
            " 0 0 0 0 0 0 0 1 0 0 1 0 0 0 0 0 0 0 1 0 1 0 1 0 0 0 0 0 0 0 0 0 0 0 0 0 0\n",
            " 0 0 0 0 0 0 0 0 1 0 0 0 0 0 0 0 1 0 0 0 0 0 0 0 0 1]\n",
            "Accuracy:  0.95\n"
          ]
        }
      ]
    },
    {
      "cell_type": "code",
      "source": [
        "!pip install graphviz"
      ],
      "metadata": {
        "colab": {
          "base_uri": "https://localhost:8080/"
        },
        "id": "IWku9XDkCCNa",
        "outputId": "79785833-73cb-43de-b6a7-68c14b660367"
      },
      "execution_count": null,
      "outputs": [
        {
          "output_type": "stream",
          "name": "stdout",
          "text": [
            "Looking in indexes: https://pypi.org/simple, https://us-python.pkg.dev/colab-wheels/public/simple/\n",
            "Requirement already satisfied: graphviz in /usr/local/lib/python3.7/dist-packages (0.10.1)\n"
          ]
        }
      ]
    },
    {
      "cell_type": "code",
      "source": [
        "X.columns"
      ],
      "metadata": {
        "colab": {
          "base_uri": "https://localhost:8080/"
        },
        "id": "ofNHbzxnCR3v",
        "outputId": "56132cf9-bdd1-4754-ca5d-539b3d5465f1"
      },
      "execution_count": null,
      "outputs": [
        {
          "output_type": "execute_result",
          "data": {
            "text/plain": [
              "Index(['Origin', 'Item Size', 'Variety', 'City Name', 'Package'], dtype='object')"
            ]
          },
          "metadata": {},
          "execution_count": 43
        }
      ]
    },
    {
      "cell_type": "code",
      "source": [
        "y.unique()"
      ],
      "metadata": {
        "colab": {
          "base_uri": "https://localhost:8080/"
        },
        "id": "vKQ7ucJhCUR6",
        "outputId": "79ecb948-bbe6-4689-fbe6-8930febc6135"
      },
      "execution_count": null,
      "outputs": [
        {
          "output_type": "execute_result",
          "data": {
            "text/plain": [
              "array([0, 1])"
            ]
          },
          "metadata": {},
          "execution_count": 44
        }
      ]
    },
    {
      "cell_type": "code",
      "source": [
        "colors =  [\"ORANGE\", \"WHITE\"]"
      ],
      "metadata": {
        "id": "wqDe_xIuDZTL"
      },
      "execution_count": null,
      "outputs": []
    },
    {
      "cell_type": "code",
      "source": [
        "import graphviz \n",
        "dot_data = tree.export_graphviz(clf, out_file=None, \n",
        "                     feature_names=X.columns,  \n",
        "                     class_names=colors,  \n",
        "                     filled=True, rounded=True,\n",
        "                     special_characters=True)  \n",
        "graph = graphviz.Source(dot_data)  \n",
        "graph "
      ],
      "metadata": {
        "colab": {
          "base_uri": "https://localhost:8080/",
          "height": 936
        },
        "id": "QufTChnRCfQI",
        "outputId": "3023bee7-ae92-47a9-9a98-a800a2854be5"
      },
      "execution_count": null,
      "outputs": [
        {
          "output_type": "execute_result",
          "data": {
            "text/plain": [
              "<graphviz.files.Source at 0x7f1644845ed0>"
            ],
            "image/svg+xml": "<?xml version=\"1.0\" encoding=\"UTF-8\" standalone=\"no\"?>\n<!DOCTYPE svg PUBLIC \"-//W3C//DTD SVG 1.1//EN\"\n \"http://www.w3.org/Graphics/SVG/1.1/DTD/svg11.dtd\">\n<!-- Generated by graphviz version 2.40.1 (20161225.0304)\n -->\n<!-- Title: Tree Pages: 1 -->\n<svg width=\"1017pt\" height=\"671pt\"\n viewBox=\"0.00 0.00 1017.00 671.00\" xmlns=\"http://www.w3.org/2000/svg\" xmlns:xlink=\"http://www.w3.org/1999/xlink\">\n<g id=\"graph0\" class=\"graph\" transform=\"scale(1 1) rotate(0) translate(4 667)\">\n<title>Tree</title>\n<polygon fill=\"#ffffff\" stroke=\"transparent\" points=\"-4,4 -4,-667 1013,-667 1013,4 -4,4\"/>\n<!-- 0 -->\n<g id=\"node1\" class=\"node\">\n<title>0</title>\n<path fill=\"#ea995e\" stroke=\"#000000\" d=\"M458.5,-663C458.5,-663 350.5,-663 350.5,-663 344.5,-663 338.5,-657 338.5,-651 338.5,-651 338.5,-592 338.5,-592 338.5,-586 344.5,-580 350.5,-580 350.5,-580 458.5,-580 458.5,-580 464.5,-580 470.5,-586 470.5,-592 470.5,-592 470.5,-651 470.5,-651 470.5,-657 464.5,-663 458.5,-663\"/>\n<text text-anchor=\"start\" x=\"364.5\" y=\"-647.8\" font-family=\"Helvetica,sans-Serif\" font-size=\"14.00\" fill=\"#000000\">Variety ≤ 4.5</text>\n<text text-anchor=\"start\" x=\"366.5\" y=\"-632.8\" font-family=\"Helvetica,sans-Serif\" font-size=\"14.00\" fill=\"#000000\">gini = 0.266</text>\n<text text-anchor=\"start\" x=\"356.5\" y=\"-617.8\" font-family=\"Helvetica,sans-Serif\" font-size=\"14.00\" fill=\"#000000\">samples = 891</text>\n<text text-anchor=\"start\" x=\"346.5\" y=\"-602.8\" font-family=\"Helvetica,sans-Serif\" font-size=\"14.00\" fill=\"#000000\">value = [750, 141]</text>\n<text text-anchor=\"start\" x=\"348\" y=\"-587.8\" font-family=\"Helvetica,sans-Serif\" font-size=\"14.00\" fill=\"#000000\">class = ORANGE</text>\n</g>\n<!-- 1 -->\n<g id=\"node2\" class=\"node\">\n<title>1</title>\n<path fill=\"#e68641\" stroke=\"#000000\" d=\"M383,-544C383,-544 278,-544 278,-544 272,-544 266,-538 266,-532 266,-532 266,-473 266,-473 266,-467 272,-461 278,-461 278,-461 383,-461 383,-461 389,-461 395,-467 395,-473 395,-473 395,-532 395,-532 395,-538 389,-544 383,-544\"/>\n<text text-anchor=\"start\" x=\"290.5\" y=\"-528.8\" font-family=\"Helvetica,sans-Serif\" font-size=\"14.00\" fill=\"#000000\">Variety ≤ 3.5</text>\n<text text-anchor=\"start\" x=\"292.5\" y=\"-513.8\" font-family=\"Helvetica,sans-Serif\" font-size=\"14.00\" fill=\"#000000\">gini = 0.079</text>\n<text text-anchor=\"start\" x=\"282.5\" y=\"-498.8\" font-family=\"Helvetica,sans-Serif\" font-size=\"14.00\" fill=\"#000000\">samples = 560</text>\n<text text-anchor=\"start\" x=\"276.5\" y=\"-483.8\" font-family=\"Helvetica,sans-Serif\" font-size=\"14.00\" fill=\"#000000\">value = [537, 23]</text>\n<text text-anchor=\"start\" x=\"274\" y=\"-468.8\" font-family=\"Helvetica,sans-Serif\" font-size=\"14.00\" fill=\"#000000\">class = ORANGE</text>\n</g>\n<!-- 0&#45;&gt;1 -->\n<g id=\"edge1\" class=\"edge\">\n<title>0&#45;&gt;1</title>\n<path fill=\"none\" stroke=\"#000000\" d=\"M378.6184,-579.8796C373.1858,-571.1434 367.4008,-561.8404 361.7947,-552.8253\"/>\n<polygon fill=\"#000000\" stroke=\"#000000\" points=\"364.7451,-550.9418 356.4921,-544.2981 358.8007,-554.6383 364.7451,-550.9418\"/>\n<text text-anchor=\"middle\" x=\"350.8153\" y=\"-564.945\" font-family=\"Helvetica,sans-Serif\" font-size=\"14.00\" fill=\"#000000\">True</text>\n</g>\n<!-- 10 -->\n<g id=\"node11\" class=\"node\">\n<title>10</title>\n<path fill=\"#f3c7a7\" stroke=\"#000000\" d=\"M533.5,-544C533.5,-544 425.5,-544 425.5,-544 419.5,-544 413.5,-538 413.5,-532 413.5,-532 413.5,-473 413.5,-473 413.5,-467 419.5,-461 425.5,-461 425.5,-461 533.5,-461 533.5,-461 539.5,-461 545.5,-467 545.5,-473 545.5,-473 545.5,-532 545.5,-532 545.5,-538 539.5,-544 533.5,-544\"/>\n<text text-anchor=\"start\" x=\"439.5\" y=\"-528.8\" font-family=\"Helvetica,sans-Serif\" font-size=\"14.00\" fill=\"#000000\">Variety ≤ 7.5</text>\n<text text-anchor=\"start\" x=\"441.5\" y=\"-513.8\" font-family=\"Helvetica,sans-Serif\" font-size=\"14.00\" fill=\"#000000\">gini = 0.459</text>\n<text text-anchor=\"start\" x=\"431.5\" y=\"-498.8\" font-family=\"Helvetica,sans-Serif\" font-size=\"14.00\" fill=\"#000000\">samples = 331</text>\n<text text-anchor=\"start\" x=\"421.5\" y=\"-483.8\" font-family=\"Helvetica,sans-Serif\" font-size=\"14.00\" fill=\"#000000\">value = [213, 118]</text>\n<text text-anchor=\"start\" x=\"423\" y=\"-468.8\" font-family=\"Helvetica,sans-Serif\" font-size=\"14.00\" fill=\"#000000\">class = ORANGE</text>\n</g>\n<!-- 0&#45;&gt;10 -->\n<g id=\"edge10\" class=\"edge\">\n<title>0&#45;&gt;10</title>\n<path fill=\"none\" stroke=\"#000000\" d=\"M430.7314,-579.8796C436.2373,-571.1434 442.1006,-561.8404 447.7824,-552.8253\"/>\n<polygon fill=\"#000000\" stroke=\"#000000\" points=\"450.7857,-554.6242 453.1567,-544.2981 444.8637,-550.8919 450.7857,-554.6242\"/>\n<text text-anchor=\"middle\" x=\"458.6863\" y=\"-564.9789\" font-family=\"Helvetica,sans-Serif\" font-size=\"14.00\" fill=\"#000000\">False</text>\n</g>\n<!-- 2 -->\n<g id=\"node3\" class=\"node\">\n<title>2</title>\n<path fill=\"#f2bf9a\" stroke=\"#000000\" d=\"M237,-425C237,-425 132,-425 132,-425 126,-425 120,-419 120,-413 120,-413 120,-354 120,-354 120,-348 126,-342 132,-342 132,-342 237,-342 237,-342 243,-342 249,-348 249,-354 249,-354 249,-413 249,-413 249,-419 243,-425 237,-425\"/>\n<text text-anchor=\"start\" x=\"133\" y=\"-409.8\" font-family=\"Helvetica,sans-Serif\" font-size=\"14.00\" fill=\"#000000\">City Name ≤ 1.5</text>\n<text text-anchor=\"start\" x=\"146.5\" y=\"-394.8\" font-family=\"Helvetica,sans-Serif\" font-size=\"14.00\" fill=\"#000000\">gini = 0.441</text>\n<text text-anchor=\"start\" x=\"140.5\" y=\"-379.8\" font-family=\"Helvetica,sans-Serif\" font-size=\"14.00\" fill=\"#000000\">samples = 70</text>\n<text text-anchor=\"start\" x=\"134.5\" y=\"-364.8\" font-family=\"Helvetica,sans-Serif\" font-size=\"14.00\" fill=\"#000000\">value = [47, 23]</text>\n<text text-anchor=\"start\" x=\"128\" y=\"-349.8\" font-family=\"Helvetica,sans-Serif\" font-size=\"14.00\" fill=\"#000000\">class = ORANGE</text>\n</g>\n<!-- 1&#45;&gt;2 -->\n<g id=\"edge2\" class=\"edge\">\n<title>1&#45;&gt;2</title>\n<path fill=\"none\" stroke=\"#000000\" d=\"M279.4363,-460.8796C267.9445,-451.513 255.6532,-441.4948 243.855,-431.8784\"/>\n<polygon fill=\"#000000\" stroke=\"#000000\" points=\"245.7444,-428.903 235.7817,-425.2981 241.3218,-434.329 245.7444,-428.903\"/>\n</g>\n<!-- 9 -->\n<g id=\"node10\" class=\"node\">\n<title>9</title>\n<path fill=\"#e58139\" stroke=\"#000000\" d=\"M384,-417.5C384,-417.5 279,-417.5 279,-417.5 273,-417.5 267,-411.5 267,-405.5 267,-405.5 267,-361.5 267,-361.5 267,-355.5 273,-349.5 279,-349.5 279,-349.5 384,-349.5 384,-349.5 390,-349.5 396,-355.5 396,-361.5 396,-361.5 396,-405.5 396,-405.5 396,-411.5 390,-417.5 384,-417.5\"/>\n<text text-anchor=\"start\" x=\"302\" y=\"-402.3\" font-family=\"Helvetica,sans-Serif\" font-size=\"14.00\" fill=\"#000000\">gini = 0.0</text>\n<text text-anchor=\"start\" x=\"283.5\" y=\"-387.3\" font-family=\"Helvetica,sans-Serif\" font-size=\"14.00\" fill=\"#000000\">samples = 490</text>\n<text text-anchor=\"start\" x=\"281.5\" y=\"-372.3\" font-family=\"Helvetica,sans-Serif\" font-size=\"14.00\" fill=\"#000000\">value = [490, 0]</text>\n<text text-anchor=\"start\" x=\"275\" y=\"-357.3\" font-family=\"Helvetica,sans-Serif\" font-size=\"14.00\" fill=\"#000000\">class = ORANGE</text>\n</g>\n<!-- 1&#45;&gt;9 -->\n<g id=\"edge9\" class=\"edge\">\n<title>1&#45;&gt;9</title>\n<path fill=\"none\" stroke=\"#000000\" d=\"M330.8498,-460.8796C330.9394,-450.2134 331.0361,-438.7021 331.1269,-427.9015\"/>\n<polygon fill=\"#000000\" stroke=\"#000000\" points=\"334.6274,-427.844 331.2116,-417.8149 327.6276,-427.7851 334.6274,-427.844\"/>\n</g>\n<!-- 3 -->\n<g id=\"node4\" class=\"node\">\n<title>3</title>\n<path fill=\"#399de5\" stroke=\"#000000\" d=\"M101,-298.5C101,-298.5 12,-298.5 12,-298.5 6,-298.5 0,-292.5 0,-286.5 0,-286.5 0,-242.5 0,-242.5 0,-236.5 6,-230.5 12,-230.5 12,-230.5 101,-230.5 101,-230.5 107,-230.5 113,-236.5 113,-242.5 113,-242.5 113,-286.5 113,-286.5 113,-292.5 107,-298.5 101,-298.5\"/>\n<text text-anchor=\"start\" x=\"27\" y=\"-283.3\" font-family=\"Helvetica,sans-Serif\" font-size=\"14.00\" fill=\"#000000\">gini = 0.0</text>\n<text text-anchor=\"start\" x=\"12.5\" y=\"-268.3\" font-family=\"Helvetica,sans-Serif\" font-size=\"14.00\" fill=\"#000000\">samples = 13</text>\n<text text-anchor=\"start\" x=\"11\" y=\"-253.3\" font-family=\"Helvetica,sans-Serif\" font-size=\"14.00\" fill=\"#000000\">value = [0, 13]</text>\n<text text-anchor=\"start\" x=\"8\" y=\"-238.3\" font-family=\"Helvetica,sans-Serif\" font-size=\"14.00\" fill=\"#000000\">class = WHITE</text>\n</g>\n<!-- 2&#45;&gt;3 -->\n<g id=\"edge3\" class=\"edge\">\n<title>2&#45;&gt;3</title>\n<path fill=\"none\" stroke=\"#000000\" d=\"M139.7318,-341.8796C127.1944,-330.2237 113.5716,-317.5587 101.047,-305.9148\"/>\n<polygon fill=\"#000000\" stroke=\"#000000\" points=\"103.1172,-303.0605 93.4102,-298.8149 98.3509,-308.1872 103.1172,-303.0605\"/>\n</g>\n<!-- 4 -->\n<g id=\"node5\" class=\"node\">\n<title>4</title>\n<path fill=\"#eb9c63\" stroke=\"#000000\" d=\"M248,-306C248,-306 143,-306 143,-306 137,-306 131,-300 131,-294 131,-294 131,-235 131,-235 131,-229 137,-223 143,-223 143,-223 248,-223 248,-223 254,-223 260,-229 260,-235 260,-235 260,-294 260,-294 260,-300 254,-306 248,-306\"/>\n<text text-anchor=\"start\" x=\"155.5\" y=\"-290.8\" font-family=\"Helvetica,sans-Serif\" font-size=\"14.00\" fill=\"#000000\">Variety ≤ 1.5</text>\n<text text-anchor=\"start\" x=\"157.5\" y=\"-275.8\" font-family=\"Helvetica,sans-Serif\" font-size=\"14.00\" fill=\"#000000\">gini = 0.289</text>\n<text text-anchor=\"start\" x=\"151.5\" y=\"-260.8\" font-family=\"Helvetica,sans-Serif\" font-size=\"14.00\" fill=\"#000000\">samples = 57</text>\n<text text-anchor=\"start\" x=\"145.5\" y=\"-245.8\" font-family=\"Helvetica,sans-Serif\" font-size=\"14.00\" fill=\"#000000\">value = [47, 10]</text>\n<text text-anchor=\"start\" x=\"139\" y=\"-230.8\" font-family=\"Helvetica,sans-Serif\" font-size=\"14.00\" fill=\"#000000\">class = ORANGE</text>\n</g>\n<!-- 2&#45;&gt;4 -->\n<g id=\"edge4\" class=\"edge\">\n<title>2&#45;&gt;4</title>\n<path fill=\"none\" stroke=\"#000000\" d=\"M188.3473,-341.8796C189.1049,-333.6838 189.9086,-324.9891 190.6932,-316.5013\"/>\n<polygon fill=\"#000000\" stroke=\"#000000\" points=\"194.2009,-316.5778 191.6363,-306.2981 187.2306,-315.9334 194.2009,-316.5778\"/>\n</g>\n<!-- 5 -->\n<g id=\"node6\" class=\"node\">\n<title>5</title>\n<path fill=\"#e58139\" stroke=\"#000000\" d=\"M160,-179.5C160,-179.5 55,-179.5 55,-179.5 49,-179.5 43,-173.5 43,-167.5 43,-167.5 43,-123.5 43,-123.5 43,-117.5 49,-111.5 55,-111.5 55,-111.5 160,-111.5 160,-111.5 166,-111.5 172,-117.5 172,-123.5 172,-123.5 172,-167.5 172,-167.5 172,-173.5 166,-179.5 160,-179.5\"/>\n<text text-anchor=\"start\" x=\"78\" y=\"-164.3\" font-family=\"Helvetica,sans-Serif\" font-size=\"14.00\" fill=\"#000000\">gini = 0.0</text>\n<text text-anchor=\"start\" x=\"63.5\" y=\"-149.3\" font-family=\"Helvetica,sans-Serif\" font-size=\"14.00\" fill=\"#000000\">samples = 33</text>\n<text text-anchor=\"start\" x=\"62\" y=\"-134.3\" font-family=\"Helvetica,sans-Serif\" font-size=\"14.00\" fill=\"#000000\">value = [33, 0]</text>\n<text text-anchor=\"start\" x=\"51\" y=\"-119.3\" font-family=\"Helvetica,sans-Serif\" font-size=\"14.00\" fill=\"#000000\">class = ORANGE</text>\n</g>\n<!-- 4&#45;&gt;5 -->\n<g id=\"edge5\" class=\"edge\">\n<title>4&#45;&gt;5</title>\n<path fill=\"none\" stroke=\"#000000\" d=\"M164.7219,-222.8796C156.3464,-211.5536 147.2662,-199.2748 138.8589,-187.9058\"/>\n<polygon fill=\"#000000\" stroke=\"#000000\" points=\"141.6357,-185.7743 132.8758,-179.8149 136.0075,-189.9364 141.6357,-185.7743\"/>\n</g>\n<!-- 6 -->\n<g id=\"node7\" class=\"node\">\n<title>6</title>\n<path fill=\"#f8dbc6\" stroke=\"#000000\" d=\"M307,-187C307,-187 202,-187 202,-187 196,-187 190,-181 190,-175 190,-175 190,-116 190,-116 190,-110 196,-104 202,-104 202,-104 307,-104 307,-104 313,-104 319,-110 319,-116 319,-116 319,-175 319,-175 319,-181 313,-187 307,-187\"/>\n<text text-anchor=\"start\" x=\"207.5\" y=\"-171.8\" font-family=\"Helvetica,sans-Serif\" font-size=\"14.00\" fill=\"#000000\">Package ≤ 2.5</text>\n<text text-anchor=\"start\" x=\"216.5\" y=\"-156.8\" font-family=\"Helvetica,sans-Serif\" font-size=\"14.00\" fill=\"#000000\">gini = 0.486</text>\n<text text-anchor=\"start\" x=\"210.5\" y=\"-141.8\" font-family=\"Helvetica,sans-Serif\" font-size=\"14.00\" fill=\"#000000\">samples = 24</text>\n<text text-anchor=\"start\" x=\"204.5\" y=\"-126.8\" font-family=\"Helvetica,sans-Serif\" font-size=\"14.00\" fill=\"#000000\">value = [14, 10]</text>\n<text text-anchor=\"start\" x=\"198\" y=\"-111.8\" font-family=\"Helvetica,sans-Serif\" font-size=\"14.00\" fill=\"#000000\">class = ORANGE</text>\n</g>\n<!-- 4&#45;&gt;6 -->\n<g id=\"edge6\" class=\"edge\">\n<title>4&#45;&gt;6</title>\n<path fill=\"none\" stroke=\"#000000\" d=\"M216.1353,-222.8796C220.3774,-214.3236 224.889,-205.2238 229.2721,-196.3833\"/>\n<polygon fill=\"#000000\" stroke=\"#000000\" points=\"232.4703,-197.8121 233.7766,-187.2981 226.1988,-194.7026 232.4703,-197.8121\"/>\n</g>\n<!-- 7 -->\n<g id=\"node8\" class=\"node\">\n<title>7</title>\n<path fill=\"#e58139\" stroke=\"#000000\" d=\"M276,-68C276,-68 171,-68 171,-68 165,-68 159,-62 159,-56 159,-56 159,-12 159,-12 159,-6 165,0 171,0 171,0 276,0 276,0 282,0 288,-6 288,-12 288,-12 288,-56 288,-56 288,-62 282,-68 276,-68\"/>\n<text text-anchor=\"start\" x=\"194\" y=\"-52.8\" font-family=\"Helvetica,sans-Serif\" font-size=\"14.00\" fill=\"#000000\">gini = 0.0</text>\n<text text-anchor=\"start\" x=\"184\" y=\"-37.8\" font-family=\"Helvetica,sans-Serif\" font-size=\"14.00\" fill=\"#000000\">samples = 4</text>\n<text text-anchor=\"start\" x=\"182\" y=\"-22.8\" font-family=\"Helvetica,sans-Serif\" font-size=\"14.00\" fill=\"#000000\">value = [4, 0]</text>\n<text text-anchor=\"start\" x=\"167\" y=\"-7.8\" font-family=\"Helvetica,sans-Serif\" font-size=\"14.00\" fill=\"#000000\">class = ORANGE</text>\n</g>\n<!-- 6&#45;&gt;7 -->\n<g id=\"edge7\" class=\"edge\">\n<title>6&#45;&gt;7</title>\n<path fill=\"none\" stroke=\"#000000\" d=\"M242.9567,-103.9815C240.6059,-95.5261 238.1249,-86.6026 235.7505,-78.0623\"/>\n<polygon fill=\"#000000\" stroke=\"#000000\" points=\"239.0771,-76.9607 233.0262,-68.2637 232.3329,-78.8358 239.0771,-76.9607\"/>\n</g>\n<!-- 8 -->\n<g id=\"node9\" class=\"node\">\n<title>8</title>\n<path fill=\"#ffffff\" stroke=\"#000000\" d=\"M423,-68C423,-68 318,-68 318,-68 312,-68 306,-62 306,-56 306,-56 306,-12 306,-12 306,-6 312,0 318,0 318,0 423,0 423,0 429,0 435,-6 435,-12 435,-12 435,-56 435,-56 435,-62 429,-68 423,-68\"/>\n<text text-anchor=\"start\" x=\"341\" y=\"-52.8\" font-family=\"Helvetica,sans-Serif\" font-size=\"14.00\" fill=\"#000000\">gini = 0.5</text>\n<text text-anchor=\"start\" x=\"326.5\" y=\"-37.8\" font-family=\"Helvetica,sans-Serif\" font-size=\"14.00\" fill=\"#000000\">samples = 20</text>\n<text text-anchor=\"start\" x=\"320.5\" y=\"-22.8\" font-family=\"Helvetica,sans-Serif\" font-size=\"14.00\" fill=\"#000000\">value = [10, 10]</text>\n<text text-anchor=\"start\" x=\"314\" y=\"-7.8\" font-family=\"Helvetica,sans-Serif\" font-size=\"14.00\" fill=\"#000000\">class = ORANGE</text>\n</g>\n<!-- 6&#45;&gt;8 -->\n<g id=\"edge8\" class=\"edge\">\n<title>6&#45;&gt;8</title>\n<path fill=\"none\" stroke=\"#000000\" d=\"M297.6941,-103.9815C307.4469,-94.607 317.7983,-84.6572 327.5414,-75.2921\"/>\n<polygon fill=\"#000000\" stroke=\"#000000\" points=\"330.0694,-77.7169 334.8535,-68.2637 325.2185,-72.6702 330.0694,-77.7169\"/>\n</g>\n<!-- 11 -->\n<g id=\"node12\" class=\"node\">\n<title>11</title>\n<path fill=\"#96cbf1\" stroke=\"#000000\" d=\"M528.5,-425C528.5,-425 428.5,-425 428.5,-425 422.5,-425 416.5,-419 416.5,-413 416.5,-413 416.5,-354 416.5,-354 416.5,-348 422.5,-342 428.5,-342 428.5,-342 528.5,-342 528.5,-342 534.5,-342 540.5,-348 540.5,-354 540.5,-354 540.5,-413 540.5,-413 540.5,-419 534.5,-425 528.5,-425\"/>\n<text text-anchor=\"start\" x=\"438.5\" y=\"-409.8\" font-family=\"Helvetica,sans-Serif\" font-size=\"14.00\" fill=\"#000000\">Variety ≤ 5.5</text>\n<text text-anchor=\"start\" x=\"440.5\" y=\"-394.8\" font-family=\"Helvetica,sans-Serif\" font-size=\"14.00\" fill=\"#000000\">gini = 0.435</text>\n<text text-anchor=\"start\" x=\"430.5\" y=\"-379.8\" font-family=\"Helvetica,sans-Serif\" font-size=\"14.00\" fill=\"#000000\">samples = 166</text>\n<text text-anchor=\"start\" x=\"424.5\" y=\"-364.8\" font-family=\"Helvetica,sans-Serif\" font-size=\"14.00\" fill=\"#000000\">value = [53, 113]</text>\n<text text-anchor=\"start\" x=\"430\" y=\"-349.8\" font-family=\"Helvetica,sans-Serif\" font-size=\"14.00\" fill=\"#000000\">class = WHITE</text>\n</g>\n<!-- 10&#45;&gt;11 -->\n<g id=\"edge11\" class=\"edge\">\n<title>10&#45;&gt;11</title>\n<path fill=\"none\" stroke=\"#000000\" d=\"M479.1502,-460.8796C479.0814,-452.6838 479.0083,-443.9891 478.937,-435.5013\"/>\n<polygon fill=\"#000000\" stroke=\"#000000\" points=\"482.4352,-435.2683 478.8512,-425.2981 475.4355,-435.3272 482.4352,-435.2683\"/>\n</g>\n<!-- 18 -->\n<g id=\"node19\" class=\"node\">\n<title>18</title>\n<path fill=\"#e6853f\" stroke=\"#000000\" d=\"M676,-425C676,-425 571,-425 571,-425 565,-425 559,-419 559,-413 559,-413 559,-354 559,-354 559,-348 565,-342 571,-342 571,-342 676,-342 676,-342 682,-342 688,-348 688,-354 688,-354 688,-413 688,-413 688,-419 682,-425 676,-425\"/>\n<text text-anchor=\"start\" x=\"572\" y=\"-409.8\" font-family=\"Helvetica,sans-Serif\" font-size=\"14.00\" fill=\"#000000\">City Name ≤ 3.0</text>\n<text text-anchor=\"start\" x=\"585.5\" y=\"-394.8\" font-family=\"Helvetica,sans-Serif\" font-size=\"14.00\" fill=\"#000000\">gini = 0.059</text>\n<text text-anchor=\"start\" x=\"575.5\" y=\"-379.8\" font-family=\"Helvetica,sans-Serif\" font-size=\"14.00\" fill=\"#000000\">samples = 165</text>\n<text text-anchor=\"start\" x=\"573.5\" y=\"-364.8\" font-family=\"Helvetica,sans-Serif\" font-size=\"14.00\" fill=\"#000000\">value = [160, 5]</text>\n<text text-anchor=\"start\" x=\"567\" y=\"-349.8\" font-family=\"Helvetica,sans-Serif\" font-size=\"14.00\" fill=\"#000000\">class = ORANGE</text>\n</g>\n<!-- 10&#45;&gt;18 -->\n<g id=\"edge18\" class=\"edge\">\n<title>10&#45;&gt;18</title>\n<path fill=\"none\" stroke=\"#000000\" d=\"M529.8642,-460.8796C541.1985,-451.513 553.3215,-441.4948 564.9581,-431.8784\"/>\n<polygon fill=\"#000000\" stroke=\"#000000\" points=\"567.4419,-434.3663 572.9208,-425.2981 562.9827,-428.9703 567.4419,-434.3663\"/>\n</g>\n<!-- 12 -->\n<g id=\"node13\" class=\"node\">\n<title>12</title>\n<path fill=\"#399de5\" stroke=\"#000000\" d=\"M390,-298.5C390,-298.5 301,-298.5 301,-298.5 295,-298.5 289,-292.5 289,-286.5 289,-286.5 289,-242.5 289,-242.5 289,-236.5 295,-230.5 301,-230.5 301,-230.5 390,-230.5 390,-230.5 396,-230.5 402,-236.5 402,-242.5 402,-242.5 402,-286.5 402,-286.5 402,-292.5 396,-298.5 390,-298.5\"/>\n<text text-anchor=\"start\" x=\"316\" y=\"-283.3\" font-family=\"Helvetica,sans-Serif\" font-size=\"14.00\" fill=\"#000000\">gini = 0.0</text>\n<text text-anchor=\"start\" x=\"301.5\" y=\"-268.3\" font-family=\"Helvetica,sans-Serif\" font-size=\"14.00\" fill=\"#000000\">samples = 42</text>\n<text text-anchor=\"start\" x=\"300\" y=\"-253.3\" font-family=\"Helvetica,sans-Serif\" font-size=\"14.00\" fill=\"#000000\">value = [0, 42]</text>\n<text text-anchor=\"start\" x=\"297\" y=\"-238.3\" font-family=\"Helvetica,sans-Serif\" font-size=\"14.00\" fill=\"#000000\">class = WHITE</text>\n</g>\n<!-- 11&#45;&gt;12 -->\n<g id=\"edge12\" class=\"edge\">\n<title>11&#45;&gt;12</title>\n<path fill=\"none\" stroke=\"#000000\" d=\"M431.9831,-341.8796C418.833,-330.1138 404.5337,-317.3197 391.4191,-305.5855\"/>\n<polygon fill=\"#000000\" stroke=\"#000000\" points=\"393.6382,-302.8746 383.852,-298.8149 388.9706,-308.0913 393.6382,-302.8746\"/>\n</g>\n<!-- 13 -->\n<g id=\"node14\" class=\"node\">\n<title>13</title>\n<path fill=\"#cde6f8\" stroke=\"#000000\" d=\"M527,-306C527,-306 432,-306 432,-306 426,-306 420,-300 420,-294 420,-294 420,-235 420,-235 420,-229 426,-223 432,-223 432,-223 527,-223 527,-223 533,-223 539,-229 539,-235 539,-235 539,-294 539,-294 539,-300 533,-306 527,-306\"/>\n<text text-anchor=\"start\" x=\"428\" y=\"-290.8\" font-family=\"Helvetica,sans-Serif\" font-size=\"14.00\" fill=\"#000000\">City Name ≤ 1.5</text>\n<text text-anchor=\"start\" x=\"441.5\" y=\"-275.8\" font-family=\"Helvetica,sans-Serif\" font-size=\"14.00\" fill=\"#000000\">gini = 0.489</text>\n<text text-anchor=\"start\" x=\"431.5\" y=\"-260.8\" font-family=\"Helvetica,sans-Serif\" font-size=\"14.00\" fill=\"#000000\">samples = 124</text>\n<text text-anchor=\"start\" x=\"429.5\" y=\"-245.8\" font-family=\"Helvetica,sans-Serif\" font-size=\"14.00\" fill=\"#000000\">value = [53, 71]</text>\n<text text-anchor=\"start\" x=\"431\" y=\"-230.8\" font-family=\"Helvetica,sans-Serif\" font-size=\"14.00\" fill=\"#000000\">class = WHITE</text>\n</g>\n<!-- 11&#45;&gt;13 -->\n<g id=\"edge13\" class=\"edge\">\n<title>11&#45;&gt;13</title>\n<path fill=\"none\" stroke=\"#000000\" d=\"M478.8498,-341.8796C478.9186,-333.6838 478.9917,-324.9891 479.063,-316.5013\"/>\n<polygon fill=\"#000000\" stroke=\"#000000\" points=\"482.5645,-316.3272 479.1488,-306.2981 475.5648,-316.2683 482.5645,-316.3272\"/>\n</g>\n<!-- 14 -->\n<g id=\"node15\" class=\"node\">\n<title>14</title>\n<path fill=\"#399de5\" stroke=\"#000000\" d=\"M505,-179.5C505,-179.5 416,-179.5 416,-179.5 410,-179.5 404,-173.5 404,-167.5 404,-167.5 404,-123.5 404,-123.5 404,-117.5 410,-111.5 416,-111.5 416,-111.5 505,-111.5 505,-111.5 511,-111.5 517,-117.5 517,-123.5 517,-123.5 517,-167.5 517,-167.5 517,-173.5 511,-179.5 505,-179.5\"/>\n<text text-anchor=\"start\" x=\"431\" y=\"-164.3\" font-family=\"Helvetica,sans-Serif\" font-size=\"14.00\" fill=\"#000000\">gini = 0.0</text>\n<text text-anchor=\"start\" x=\"416.5\" y=\"-149.3\" font-family=\"Helvetica,sans-Serif\" font-size=\"14.00\" fill=\"#000000\">samples = 20</text>\n<text text-anchor=\"start\" x=\"415\" y=\"-134.3\" font-family=\"Helvetica,sans-Serif\" font-size=\"14.00\" fill=\"#000000\">value = [0, 20]</text>\n<text text-anchor=\"start\" x=\"412\" y=\"-119.3\" font-family=\"Helvetica,sans-Serif\" font-size=\"14.00\" fill=\"#000000\">class = WHITE</text>\n</g>\n<!-- 13&#45;&gt;14 -->\n<g id=\"edge14\" class=\"edge\">\n<title>13&#45;&gt;14</title>\n<path fill=\"none\" stroke=\"#000000\" d=\"M472.8547,-222.8796C471.1517,-212.2134 469.3138,-200.7021 467.5893,-189.9015\"/>\n<polygon fill=\"#000000\" stroke=\"#000000\" points=\"471.0118,-189.138 465.9789,-179.8149 464.0994,-190.2417 471.0118,-189.138\"/>\n</g>\n<!-- 15 -->\n<g id=\"node16\" class=\"node\">\n<title>15</title>\n<path fill=\"#fefaf8\" stroke=\"#000000\" d=\"M652,-187C652,-187 547,-187 547,-187 541,-187 535,-181 535,-175 535,-175 535,-116 535,-116 535,-110 541,-104 547,-104 547,-104 652,-104 652,-104 658,-104 664,-110 664,-116 664,-116 664,-175 664,-175 664,-181 658,-187 652,-187\"/>\n<text text-anchor=\"start\" x=\"548\" y=\"-171.8\" font-family=\"Helvetica,sans-Serif\" font-size=\"14.00\" fill=\"#000000\">City Name ≤ 6.5</text>\n<text text-anchor=\"start\" x=\"570\" y=\"-156.8\" font-family=\"Helvetica,sans-Serif\" font-size=\"14.00\" fill=\"#000000\">gini = 0.5</text>\n<text text-anchor=\"start\" x=\"551.5\" y=\"-141.8\" font-family=\"Helvetica,sans-Serif\" font-size=\"14.00\" fill=\"#000000\">samples = 104</text>\n<text text-anchor=\"start\" x=\"549.5\" y=\"-126.8\" font-family=\"Helvetica,sans-Serif\" font-size=\"14.00\" fill=\"#000000\">value = [53, 51]</text>\n<text text-anchor=\"start\" x=\"543\" y=\"-111.8\" font-family=\"Helvetica,sans-Serif\" font-size=\"14.00\" fill=\"#000000\">class = ORANGE</text>\n</g>\n<!-- 13&#45;&gt;15 -->\n<g id=\"edge15\" class=\"edge\">\n<title>13&#45;&gt;15</title>\n<path fill=\"none\" stroke=\"#000000\" d=\"M521.4702,-222.8796C530.7338,-213.6931 540.6296,-203.8798 550.1552,-194.4336\"/>\n<polygon fill=\"#000000\" stroke=\"#000000\" points=\"552.7146,-196.8247 557.3507,-187.2981 547.7856,-191.8543 552.7146,-196.8247\"/>\n</g>\n<!-- 16 -->\n<g id=\"node17\" class=\"node\">\n<title>16</title>\n<path fill=\"#fae7da\" stroke=\"#000000\" d=\"M571,-68C571,-68 466,-68 466,-68 460,-68 454,-62 454,-56 454,-56 454,-12 454,-12 454,-6 460,0 466,0 466,0 571,0 571,0 577,0 583,-6 583,-12 583,-12 583,-56 583,-56 583,-62 577,-68 571,-68\"/>\n<text text-anchor=\"start\" x=\"480.5\" y=\"-52.8\" font-family=\"Helvetica,sans-Serif\" font-size=\"14.00\" fill=\"#000000\">gini = 0.495</text>\n<text text-anchor=\"start\" x=\"474.5\" y=\"-37.8\" font-family=\"Helvetica,sans-Serif\" font-size=\"14.00\" fill=\"#000000\">samples = 96</text>\n<text text-anchor=\"start\" x=\"468.5\" y=\"-22.8\" font-family=\"Helvetica,sans-Serif\" font-size=\"14.00\" fill=\"#000000\">value = [53, 43]</text>\n<text text-anchor=\"start\" x=\"462\" y=\"-7.8\" font-family=\"Helvetica,sans-Serif\" font-size=\"14.00\" fill=\"#000000\">class = ORANGE</text>\n</g>\n<!-- 15&#45;&gt;16 -->\n<g id=\"edge16\" class=\"edge\">\n<title>15&#45;&gt;16</title>\n<path fill=\"none\" stroke=\"#000000\" d=\"M569.3386,-103.9815C562.7955,-94.9747 555.8666,-85.4367 549.2992,-76.3965\"/>\n<polygon fill=\"#000000\" stroke=\"#000000\" points=\"552.1002,-74.2971 543.3911,-68.2637 546.4369,-78.4113 552.1002,-74.2971\"/>\n</g>\n<!-- 17 -->\n<g id=\"node18\" class=\"node\">\n<title>17</title>\n<path fill=\"#399de5\" stroke=\"#000000\" d=\"M702,-68C702,-68 613,-68 613,-68 607,-68 601,-62 601,-56 601,-56 601,-12 601,-12 601,-6 607,0 613,0 613,0 702,0 702,0 708,0 714,-6 714,-12 714,-12 714,-56 714,-56 714,-62 708,-68 702,-68\"/>\n<text text-anchor=\"start\" x=\"628\" y=\"-52.8\" font-family=\"Helvetica,sans-Serif\" font-size=\"14.00\" fill=\"#000000\">gini = 0.0</text>\n<text text-anchor=\"start\" x=\"618\" y=\"-37.8\" font-family=\"Helvetica,sans-Serif\" font-size=\"14.00\" fill=\"#000000\">samples = 8</text>\n<text text-anchor=\"start\" x=\"616\" y=\"-22.8\" font-family=\"Helvetica,sans-Serif\" font-size=\"14.00\" fill=\"#000000\">value = [0, 8]</text>\n<text text-anchor=\"start\" x=\"609\" y=\"-7.8\" font-family=\"Helvetica,sans-Serif\" font-size=\"14.00\" fill=\"#000000\">class = WHITE</text>\n</g>\n<!-- 15&#45;&gt;17 -->\n<g id=\"edge17\" class=\"edge\">\n<title>15&#45;&gt;17</title>\n<path fill=\"none\" stroke=\"#000000\" d=\"M621.0971,-103.9815C625.6388,-95.2504 630.4402,-86.0202 635.0137,-77.2281\"/>\n<polygon fill=\"#000000\" stroke=\"#000000\" points=\"638.1669,-78.7504 639.6767,-68.2637 631.9569,-75.52 638.1669,-78.7504\"/>\n</g>\n<!-- 19 -->\n<g id=\"node20\" class=\"node\">\n<title>19</title>\n<path fill=\"#e58139\" stroke=\"#000000\" d=\"M675,-298.5C675,-298.5 570,-298.5 570,-298.5 564,-298.5 558,-292.5 558,-286.5 558,-286.5 558,-242.5 558,-242.5 558,-236.5 564,-230.5 570,-230.5 570,-230.5 675,-230.5 675,-230.5 681,-230.5 687,-236.5 687,-242.5 687,-242.5 687,-286.5 687,-286.5 687,-292.5 681,-298.5 675,-298.5\"/>\n<text text-anchor=\"start\" x=\"593\" y=\"-283.3\" font-family=\"Helvetica,sans-Serif\" font-size=\"14.00\" fill=\"#000000\">gini = 0.0</text>\n<text text-anchor=\"start\" x=\"574.5\" y=\"-268.3\" font-family=\"Helvetica,sans-Serif\" font-size=\"14.00\" fill=\"#000000\">samples = 113</text>\n<text text-anchor=\"start\" x=\"572.5\" y=\"-253.3\" font-family=\"Helvetica,sans-Serif\" font-size=\"14.00\" fill=\"#000000\">value = [113, 0]</text>\n<text text-anchor=\"start\" x=\"566\" y=\"-238.3\" font-family=\"Helvetica,sans-Serif\" font-size=\"14.00\" fill=\"#000000\">class = ORANGE</text>\n</g>\n<!-- 18&#45;&gt;19 -->\n<g id=\"edge19\" class=\"edge\">\n<title>18&#45;&gt;19</title>\n<path fill=\"none\" stroke=\"#000000\" d=\"M623.1502,-341.8796C623.0606,-331.2134 622.9639,-319.7021 622.8731,-308.9015\"/>\n<polygon fill=\"#000000\" stroke=\"#000000\" points=\"626.3724,-308.7851 622.7884,-298.8149 619.3726,-308.844 626.3724,-308.7851\"/>\n</g>\n<!-- 20 -->\n<g id=\"node21\" class=\"node\">\n<title>20</title>\n<path fill=\"#e88e4e\" stroke=\"#000000\" d=\"M822,-306C822,-306 717,-306 717,-306 711,-306 705,-300 705,-294 705,-294 705,-235 705,-235 705,-229 711,-223 717,-223 717,-223 822,-223 822,-223 828,-223 834,-229 834,-235 834,-235 834,-294 834,-294 834,-300 828,-306 822,-306\"/>\n<text text-anchor=\"start\" x=\"721.5\" y=\"-290.8\" font-family=\"Helvetica,sans-Serif\" font-size=\"14.00\" fill=\"#000000\">Item Size ≤ 3.5</text>\n<text text-anchor=\"start\" x=\"731.5\" y=\"-275.8\" font-family=\"Helvetica,sans-Serif\" font-size=\"14.00\" fill=\"#000000\">gini = 0.174</text>\n<text text-anchor=\"start\" x=\"725.5\" y=\"-260.8\" font-family=\"Helvetica,sans-Serif\" font-size=\"14.00\" fill=\"#000000\">samples = 52</text>\n<text text-anchor=\"start\" x=\"724\" y=\"-245.8\" font-family=\"Helvetica,sans-Serif\" font-size=\"14.00\" fill=\"#000000\">value = [47, 5]</text>\n<text text-anchor=\"start\" x=\"713\" y=\"-230.8\" font-family=\"Helvetica,sans-Serif\" font-size=\"14.00\" fill=\"#000000\">class = ORANGE</text>\n</g>\n<!-- 18&#45;&gt;20 -->\n<g id=\"edge20\" class=\"edge\">\n<title>18&#45;&gt;20</title>\n<path fill=\"none\" stroke=\"#000000\" d=\"M674.5637,-341.8796C686.0555,-332.513 698.3468,-322.4948 710.145,-312.8784\"/>\n<polygon fill=\"#000000\" stroke=\"#000000\" points=\"712.6782,-315.329 718.2183,-306.2981 708.2556,-309.903 712.6782,-315.329\"/>\n</g>\n<!-- 21 -->\n<g id=\"node22\" class=\"node\">\n<title>21</title>\n<path fill=\"#e58139\" stroke=\"#000000\" d=\"M811,-179.5C811,-179.5 706,-179.5 706,-179.5 700,-179.5 694,-173.5 694,-167.5 694,-167.5 694,-123.5 694,-123.5 694,-117.5 700,-111.5 706,-111.5 706,-111.5 811,-111.5 811,-111.5 817,-111.5 823,-117.5 823,-123.5 823,-123.5 823,-167.5 823,-167.5 823,-173.5 817,-179.5 811,-179.5\"/>\n<text text-anchor=\"start\" x=\"729\" y=\"-164.3\" font-family=\"Helvetica,sans-Serif\" font-size=\"14.00\" fill=\"#000000\">gini = 0.0</text>\n<text text-anchor=\"start\" x=\"714.5\" y=\"-149.3\" font-family=\"Helvetica,sans-Serif\" font-size=\"14.00\" fill=\"#000000\">samples = 29</text>\n<text text-anchor=\"start\" x=\"713\" y=\"-134.3\" font-family=\"Helvetica,sans-Serif\" font-size=\"14.00\" fill=\"#000000\">value = [29, 0]</text>\n<text text-anchor=\"start\" x=\"702\" y=\"-119.3\" font-family=\"Helvetica,sans-Serif\" font-size=\"14.00\" fill=\"#000000\">class = ORANGE</text>\n</g>\n<!-- 20&#45;&gt;21 -->\n<g id=\"edge21\" class=\"edge\">\n<title>20&#45;&gt;21</title>\n<path fill=\"none\" stroke=\"#000000\" d=\"M765.6527,-222.8796C764.6668,-212.2134 763.6027,-200.7021 762.6043,-189.9015\"/>\n<polygon fill=\"#000000\" stroke=\"#000000\" points=\"766.0776,-189.4503 761.672,-179.8149 759.1074,-190.0947 766.0776,-189.4503\"/>\n</g>\n<!-- 22 -->\n<g id=\"node23\" class=\"node\">\n<title>22</title>\n<path fill=\"#eca470\" stroke=\"#000000\" d=\"M958,-187C958,-187 853,-187 853,-187 847,-187 841,-181 841,-175 841,-175 841,-116 841,-116 841,-110 847,-104 853,-104 853,-104 958,-104 958,-104 964,-104 970,-110 970,-116 970,-116 970,-175 970,-175 970,-181 964,-187 958,-187\"/>\n<text text-anchor=\"start\" x=\"857.5\" y=\"-171.8\" font-family=\"Helvetica,sans-Serif\" font-size=\"14.00\" fill=\"#000000\">Item Size ≤ 4.5</text>\n<text text-anchor=\"start\" x=\"872\" y=\"-156.8\" font-family=\"Helvetica,sans-Serif\" font-size=\"14.00\" fill=\"#000000\">gini = 0.34</text>\n<text text-anchor=\"start\" x=\"861.5\" y=\"-141.8\" font-family=\"Helvetica,sans-Serif\" font-size=\"14.00\" fill=\"#000000\">samples = 23</text>\n<text text-anchor=\"start\" x=\"860\" y=\"-126.8\" font-family=\"Helvetica,sans-Serif\" font-size=\"14.00\" fill=\"#000000\">value = [18, 5]</text>\n<text text-anchor=\"start\" x=\"849\" y=\"-111.8\" font-family=\"Helvetica,sans-Serif\" font-size=\"14.00\" fill=\"#000000\">class = ORANGE</text>\n</g>\n<!-- 20&#45;&gt;22 -->\n<g id=\"edge22\" class=\"edge\">\n<title>20&#45;&gt;22</title>\n<path fill=\"none\" stroke=\"#000000\" d=\"M817.0662,-222.8796C827.6679,-213.6031 839.0002,-203.6874 849.8933,-194.1559\"/>\n<polygon fill=\"#000000\" stroke=\"#000000\" points=\"852.5098,-196.5172 857.7308,-187.2981 847.9002,-191.2491 852.5098,-196.5172\"/>\n</g>\n<!-- 23 -->\n<g id=\"node24\" class=\"node\">\n<title>23</title>\n<path fill=\"#f3c7a7\" stroke=\"#000000\" d=\"M850,-68C850,-68 745,-68 745,-68 739,-68 733,-62 733,-56 733,-56 733,-12 733,-12 733,-6 739,0 745,0 745,0 850,0 850,0 856,0 862,-6 862,-12 862,-12 862,-56 862,-56 862,-62 856,-68 850,-68\"/>\n<text text-anchor=\"start\" x=\"759.5\" y=\"-52.8\" font-family=\"Helvetica,sans-Serif\" font-size=\"14.00\" fill=\"#000000\">gini = 0.459</text>\n<text text-anchor=\"start\" x=\"753.5\" y=\"-37.8\" font-family=\"Helvetica,sans-Serif\" font-size=\"14.00\" fill=\"#000000\">samples = 14</text>\n<text text-anchor=\"start\" x=\"756\" y=\"-22.8\" font-family=\"Helvetica,sans-Serif\" font-size=\"14.00\" fill=\"#000000\">value = [9, 5]</text>\n<text text-anchor=\"start\" x=\"741\" y=\"-7.8\" font-family=\"Helvetica,sans-Serif\" font-size=\"14.00\" fill=\"#000000\">class = ORANGE</text>\n</g>\n<!-- 22&#45;&gt;23 -->\n<g id=\"edge23\" class=\"edge\">\n<title>22&#45;&gt;23</title>\n<path fill=\"none\" stroke=\"#000000\" d=\"M865.2848,-103.9815C856.2936,-94.6989 846.756,-84.8522 837.7629,-75.5677\"/>\n<polygon fill=\"#000000\" stroke=\"#000000\" points=\"840.1596,-73.0115 830.6881,-68.2637 835.1316,-77.8817 840.1596,-73.0115\"/>\n</g>\n<!-- 24 -->\n<g id=\"node25\" class=\"node\">\n<title>24</title>\n<path fill=\"#e58139\" stroke=\"#000000\" d=\"M997,-68C997,-68 892,-68 892,-68 886,-68 880,-62 880,-56 880,-56 880,-12 880,-12 880,-6 886,0 892,0 892,0 997,0 997,0 1003,0 1009,-6 1009,-12 1009,-12 1009,-56 1009,-56 1009,-62 1003,-68 997,-68\"/>\n<text text-anchor=\"start\" x=\"915\" y=\"-52.8\" font-family=\"Helvetica,sans-Serif\" font-size=\"14.00\" fill=\"#000000\">gini = 0.0</text>\n<text text-anchor=\"start\" x=\"905\" y=\"-37.8\" font-family=\"Helvetica,sans-Serif\" font-size=\"14.00\" fill=\"#000000\">samples = 9</text>\n<text text-anchor=\"start\" x=\"903\" y=\"-22.8\" font-family=\"Helvetica,sans-Serif\" font-size=\"14.00\" fill=\"#000000\">value = [9, 0]</text>\n<text text-anchor=\"start\" x=\"888\" y=\"-7.8\" font-family=\"Helvetica,sans-Serif\" font-size=\"14.00\" fill=\"#000000\">class = ORANGE</text>\n</g>\n<!-- 22&#45;&gt;24 -->\n<g id=\"edge24\" class=\"edge\">\n<title>22&#45;&gt;24</title>\n<path fill=\"none\" stroke=\"#000000\" d=\"M920.0222,-103.9815C923.0118,-95.4342 926.1688,-86.4086 929.1854,-77.7839\"/>\n<polygon fill=\"#000000\" stroke=\"#000000\" points=\"932.5174,-78.8585 932.5154,-68.2637 925.91,-76.5473 932.5174,-78.8585\"/>\n</g>\n</g>\n</svg>\n"
          },
          "metadata": {},
          "execution_count": 46
        }
      ]
    },
    {
      "cell_type": "markdown",
      "source": [
        "### Application on Cuisines Dataset"
      ],
      "metadata": {
        "id": "hwX49hXC2oU-"
      }
    },
    {
      "cell_type": "code",
      "source": [
        "import pandas as pd\n",
        "cuisines_df = pd.read_csv(\"https://an-utd-python.s3.us-west-1.amazonaws.com/cuisines.csv\")\n",
        "cuisines_df.head()"
      ],
      "metadata": {
        "id": "crBh36AxfT-j",
        "colab": {
          "base_uri": "https://localhost:8080/",
          "height": 317
        },
        "outputId": "7d15e927-46dc-4fbb-d166-3fcbd45632d4"
      },
      "execution_count": null,
      "outputs": [
        {
          "output_type": "execute_result",
          "data": {
            "text/plain": [
              "   Unnamed: 0 cuisine  almond  angelica  anise  anise_seed  apple  \\\n",
              "0           0  indian       0         0      0           0      0   \n",
              "1           1  indian       1         0      0           0      0   \n",
              "2           2  indian       0         0      0           0      0   \n",
              "3           3  indian       0         0      0           0      0   \n",
              "4           4  indian       0         0      0           0      0   \n",
              "\n",
              "   apple_brandy  apricot  armagnac  ...  whiskey  white_bread  white_wine  \\\n",
              "0             0        0         0  ...        0            0           0   \n",
              "1             0        0         0  ...        0            0           0   \n",
              "2             0        0         0  ...        0            0           0   \n",
              "3             0        0         0  ...        0            0           0   \n",
              "4             0        0         0  ...        0            0           0   \n",
              "\n",
              "   whole_grain_wheat_flour  wine  wood  yam  yeast  yogurt  zucchini  \n",
              "0                        0     0     0    0      0       0         0  \n",
              "1                        0     0     0    0      0       0         0  \n",
              "2                        0     0     0    0      0       0         0  \n",
              "3                        0     0     0    0      0       0         0  \n",
              "4                        0     0     0    0      0       1         0  \n",
              "\n",
              "[5 rows x 382 columns]"
            ],
            "text/html": [
              "\n",
              "  <div id=\"df-624d0d75-6fef-4550-9733-60d0fe3edaf2\">\n",
              "    <div class=\"colab-df-container\">\n",
              "      <div>\n",
              "<style scoped>\n",
              "    .dataframe tbody tr th:only-of-type {\n",
              "        vertical-align: middle;\n",
              "    }\n",
              "\n",
              "    .dataframe tbody tr th {\n",
              "        vertical-align: top;\n",
              "    }\n",
              "\n",
              "    .dataframe thead th {\n",
              "        text-align: right;\n",
              "    }\n",
              "</style>\n",
              "<table border=\"1\" class=\"dataframe\">\n",
              "  <thead>\n",
              "    <tr style=\"text-align: right;\">\n",
              "      <th></th>\n",
              "      <th>Unnamed: 0</th>\n",
              "      <th>cuisine</th>\n",
              "      <th>almond</th>\n",
              "      <th>angelica</th>\n",
              "      <th>anise</th>\n",
              "      <th>anise_seed</th>\n",
              "      <th>apple</th>\n",
              "      <th>apple_brandy</th>\n",
              "      <th>apricot</th>\n",
              "      <th>armagnac</th>\n",
              "      <th>...</th>\n",
              "      <th>whiskey</th>\n",
              "      <th>white_bread</th>\n",
              "      <th>white_wine</th>\n",
              "      <th>whole_grain_wheat_flour</th>\n",
              "      <th>wine</th>\n",
              "      <th>wood</th>\n",
              "      <th>yam</th>\n",
              "      <th>yeast</th>\n",
              "      <th>yogurt</th>\n",
              "      <th>zucchini</th>\n",
              "    </tr>\n",
              "  </thead>\n",
              "  <tbody>\n",
              "    <tr>\n",
              "      <th>0</th>\n",
              "      <td>0</td>\n",
              "      <td>indian</td>\n",
              "      <td>0</td>\n",
              "      <td>0</td>\n",
              "      <td>0</td>\n",
              "      <td>0</td>\n",
              "      <td>0</td>\n",
              "      <td>0</td>\n",
              "      <td>0</td>\n",
              "      <td>0</td>\n",
              "      <td>...</td>\n",
              "      <td>0</td>\n",
              "      <td>0</td>\n",
              "      <td>0</td>\n",
              "      <td>0</td>\n",
              "      <td>0</td>\n",
              "      <td>0</td>\n",
              "      <td>0</td>\n",
              "      <td>0</td>\n",
              "      <td>0</td>\n",
              "      <td>0</td>\n",
              "    </tr>\n",
              "    <tr>\n",
              "      <th>1</th>\n",
              "      <td>1</td>\n",
              "      <td>indian</td>\n",
              "      <td>1</td>\n",
              "      <td>0</td>\n",
              "      <td>0</td>\n",
              "      <td>0</td>\n",
              "      <td>0</td>\n",
              "      <td>0</td>\n",
              "      <td>0</td>\n",
              "      <td>0</td>\n",
              "      <td>...</td>\n",
              "      <td>0</td>\n",
              "      <td>0</td>\n",
              "      <td>0</td>\n",
              "      <td>0</td>\n",
              "      <td>0</td>\n",
              "      <td>0</td>\n",
              "      <td>0</td>\n",
              "      <td>0</td>\n",
              "      <td>0</td>\n",
              "      <td>0</td>\n",
              "    </tr>\n",
              "    <tr>\n",
              "      <th>2</th>\n",
              "      <td>2</td>\n",
              "      <td>indian</td>\n",
              "      <td>0</td>\n",
              "      <td>0</td>\n",
              "      <td>0</td>\n",
              "      <td>0</td>\n",
              "      <td>0</td>\n",
              "      <td>0</td>\n",
              "      <td>0</td>\n",
              "      <td>0</td>\n",
              "      <td>...</td>\n",
              "      <td>0</td>\n",
              "      <td>0</td>\n",
              "      <td>0</td>\n",
              "      <td>0</td>\n",
              "      <td>0</td>\n",
              "      <td>0</td>\n",
              "      <td>0</td>\n",
              "      <td>0</td>\n",
              "      <td>0</td>\n",
              "      <td>0</td>\n",
              "    </tr>\n",
              "    <tr>\n",
              "      <th>3</th>\n",
              "      <td>3</td>\n",
              "      <td>indian</td>\n",
              "      <td>0</td>\n",
              "      <td>0</td>\n",
              "      <td>0</td>\n",
              "      <td>0</td>\n",
              "      <td>0</td>\n",
              "      <td>0</td>\n",
              "      <td>0</td>\n",
              "      <td>0</td>\n",
              "      <td>...</td>\n",
              "      <td>0</td>\n",
              "      <td>0</td>\n",
              "      <td>0</td>\n",
              "      <td>0</td>\n",
              "      <td>0</td>\n",
              "      <td>0</td>\n",
              "      <td>0</td>\n",
              "      <td>0</td>\n",
              "      <td>0</td>\n",
              "      <td>0</td>\n",
              "    </tr>\n",
              "    <tr>\n",
              "      <th>4</th>\n",
              "      <td>4</td>\n",
              "      <td>indian</td>\n",
              "      <td>0</td>\n",
              "      <td>0</td>\n",
              "      <td>0</td>\n",
              "      <td>0</td>\n",
              "      <td>0</td>\n",
              "      <td>0</td>\n",
              "      <td>0</td>\n",
              "      <td>0</td>\n",
              "      <td>...</td>\n",
              "      <td>0</td>\n",
              "      <td>0</td>\n",
              "      <td>0</td>\n",
              "      <td>0</td>\n",
              "      <td>0</td>\n",
              "      <td>0</td>\n",
              "      <td>0</td>\n",
              "      <td>0</td>\n",
              "      <td>1</td>\n",
              "      <td>0</td>\n",
              "    </tr>\n",
              "  </tbody>\n",
              "</table>\n",
              "<p>5 rows × 382 columns</p>\n",
              "</div>\n",
              "      <button class=\"colab-df-convert\" onclick=\"convertToInteractive('df-624d0d75-6fef-4550-9733-60d0fe3edaf2')\"\n",
              "              title=\"Convert this dataframe to an interactive table.\"\n",
              "              style=\"display:none;\">\n",
              "        \n",
              "  <svg xmlns=\"http://www.w3.org/2000/svg\" height=\"24px\"viewBox=\"0 0 24 24\"\n",
              "       width=\"24px\">\n",
              "    <path d=\"M0 0h24v24H0V0z\" fill=\"none\"/>\n",
              "    <path d=\"M18.56 5.44l.94 2.06.94-2.06 2.06-.94-2.06-.94-.94-2.06-.94 2.06-2.06.94zm-11 1L8.5 8.5l.94-2.06 2.06-.94-2.06-.94L8.5 2.5l-.94 2.06-2.06.94zm10 10l.94 2.06.94-2.06 2.06-.94-2.06-.94-.94-2.06-.94 2.06-2.06.94z\"/><path d=\"M17.41 7.96l-1.37-1.37c-.4-.4-.92-.59-1.43-.59-.52 0-1.04.2-1.43.59L10.3 9.45l-7.72 7.72c-.78.78-.78 2.05 0 2.83L4 21.41c.39.39.9.59 1.41.59.51 0 1.02-.2 1.41-.59l7.78-7.78 2.81-2.81c.8-.78.8-2.07 0-2.86zM5.41 20L4 18.59l7.72-7.72 1.47 1.35L5.41 20z\"/>\n",
              "  </svg>\n",
              "      </button>\n",
              "      \n",
              "  <style>\n",
              "    .colab-df-container {\n",
              "      display:flex;\n",
              "      flex-wrap:wrap;\n",
              "      gap: 12px;\n",
              "    }\n",
              "\n",
              "    .colab-df-convert {\n",
              "      background-color: #E8F0FE;\n",
              "      border: none;\n",
              "      border-radius: 50%;\n",
              "      cursor: pointer;\n",
              "      display: none;\n",
              "      fill: #1967D2;\n",
              "      height: 32px;\n",
              "      padding: 0 0 0 0;\n",
              "      width: 32px;\n",
              "    }\n",
              "\n",
              "    .colab-df-convert:hover {\n",
              "      background-color: #E2EBFA;\n",
              "      box-shadow: 0px 1px 2px rgba(60, 64, 67, 0.3), 0px 1px 3px 1px rgba(60, 64, 67, 0.15);\n",
              "      fill: #174EA6;\n",
              "    }\n",
              "\n",
              "    [theme=dark] .colab-df-convert {\n",
              "      background-color: #3B4455;\n",
              "      fill: #D2E3FC;\n",
              "    }\n",
              "\n",
              "    [theme=dark] .colab-df-convert:hover {\n",
              "      background-color: #434B5C;\n",
              "      box-shadow: 0px 1px 3px 1px rgba(0, 0, 0, 0.15);\n",
              "      filter: drop-shadow(0px 1px 2px rgba(0, 0, 0, 0.3));\n",
              "      fill: #FFFFFF;\n",
              "    }\n",
              "  </style>\n",
              "\n",
              "      <script>\n",
              "        const buttonEl =\n",
              "          document.querySelector('#df-624d0d75-6fef-4550-9733-60d0fe3edaf2 button.colab-df-convert');\n",
              "        buttonEl.style.display =\n",
              "          google.colab.kernel.accessAllowed ? 'block' : 'none';\n",
              "\n",
              "        async function convertToInteractive(key) {\n",
              "          const element = document.querySelector('#df-624d0d75-6fef-4550-9733-60d0fe3edaf2');\n",
              "          const dataTable =\n",
              "            await google.colab.kernel.invokeFunction('convertToInteractive',\n",
              "                                                     [key], {});\n",
              "          if (!dataTable) return;\n",
              "\n",
              "          const docLinkHtml = 'Like what you see? Visit the ' +\n",
              "            '<a target=\"_blank\" href=https://colab.research.google.com/notebooks/data_table.ipynb>data table notebook</a>'\n",
              "            + ' to learn more about interactive tables.';\n",
              "          element.innerHTML = '';\n",
              "          dataTable['output_type'] = 'display_data';\n",
              "          await google.colab.output.renderOutput(dataTable, element);\n",
              "          const docLink = document.createElement('div');\n",
              "          docLink.innerHTML = docLinkHtml;\n",
              "          element.appendChild(docLink);\n",
              "        }\n",
              "      </script>\n",
              "    </div>\n",
              "  </div>\n",
              "  "
            ]
          },
          "metadata": {},
          "execution_count": 47
        }
      ]
    },
    {
      "cell_type": "code",
      "source": [
        "cuisines_label_df = cuisines_df['cuisine']\n",
        "cuisines_label_df.head()"
      ],
      "metadata": {
        "colab": {
          "base_uri": "https://localhost:8080/"
        },
        "id": "BWtwh2C82-Sm",
        "outputId": "2d70fd69-c3e5-4d4e-8b23-469cba9c555e"
      },
      "execution_count": null,
      "outputs": [
        {
          "output_type": "execute_result",
          "data": {
            "text/plain": [
              "0    indian\n",
              "1    indian\n",
              "2    indian\n",
              "3    indian\n",
              "4    indian\n",
              "Name: cuisine, dtype: object"
            ]
          },
          "metadata": {},
          "execution_count": 48
        }
      ]
    },
    {
      "cell_type": "code",
      "source": [
        "cuisines_label_df.value_counts()"
      ],
      "metadata": {
        "colab": {
          "base_uri": "https://localhost:8080/"
        },
        "id": "WcnvKa3D3wcg",
        "outputId": "aae7e1fd-1cfe-4c73-9aa6-7c7437592427"
      },
      "execution_count": null,
      "outputs": [
        {
          "output_type": "execute_result",
          "data": {
            "text/plain": [
              "indian      799\n",
              "thai        799\n",
              "chinese     799\n",
              "japanese    799\n",
              "korean      799\n",
              "Name: cuisine, dtype: int64"
            ]
          },
          "metadata": {},
          "execution_count": 49
        }
      ]
    },
    {
      "cell_type": "code",
      "source": [
        "type(cuisines_label_df)"
      ],
      "metadata": {
        "colab": {
          "base_uri": "https://localhost:8080/"
        },
        "id": "dSav2CAO5OB_",
        "outputId": "eb7d28b6-254f-4788-f9ad-b9d470a0fbb1"
      },
      "execution_count": null,
      "outputs": [
        {
          "output_type": "execute_result",
          "data": {
            "text/plain": [
              "pandas.core.series.Series"
            ]
          },
          "metadata": {},
          "execution_count": 50
        }
      ]
    },
    {
      "cell_type": "code",
      "source": [
        "cuisine_labels_distinct = cuisines_label_df.unique()"
      ],
      "metadata": {
        "id": "OBDjJJIX4rRC"
      },
      "execution_count": null,
      "outputs": []
    },
    {
      "cell_type": "code",
      "source": [
        "cuisine_labels_distinct"
      ],
      "metadata": {
        "colab": {
          "base_uri": "https://localhost:8080/"
        },
        "id": "FEFS3eqM47ly",
        "outputId": "6659437c-27c7-443f-e909-33ac6692cadb"
      },
      "execution_count": null,
      "outputs": [
        {
          "output_type": "execute_result",
          "data": {
            "text/plain": [
              "array(['indian', 'thai', 'chinese', 'japanese', 'korean'], dtype=object)"
            ]
          },
          "metadata": {},
          "execution_count": 52
        }
      ]
    },
    {
      "cell_type": "code",
      "source": [
        "cuisines_feature_df = cuisines_df.drop(['Unnamed: 0', 'cuisine'], axis=1)\n",
        "cuisines_feature_df.head()"
      ],
      "metadata": {
        "colab": {
          "base_uri": "https://localhost:8080/",
          "height": 300
        },
        "id": "soUQ01EQ3Cv8",
        "outputId": "8df55e46-5c6a-4c5d-a6b2-e52b743d4d8d"
      },
      "execution_count": null,
      "outputs": [
        {
          "output_type": "execute_result",
          "data": {
            "text/plain": [
              "   almond  angelica  anise  anise_seed  apple  apple_brandy  apricot  \\\n",
              "0       0         0      0           0      0             0        0   \n",
              "1       1         0      0           0      0             0        0   \n",
              "2       0         0      0           0      0             0        0   \n",
              "3       0         0      0           0      0             0        0   \n",
              "4       0         0      0           0      0             0        0   \n",
              "\n",
              "   armagnac  artemisia  artichoke  ...  whiskey  white_bread  white_wine  \\\n",
              "0         0          0          0  ...        0            0           0   \n",
              "1         0          0          0  ...        0            0           0   \n",
              "2         0          0          0  ...        0            0           0   \n",
              "3         0          0          0  ...        0            0           0   \n",
              "4         0          0          0  ...        0            0           0   \n",
              "\n",
              "   whole_grain_wheat_flour  wine  wood  yam  yeast  yogurt  zucchini  \n",
              "0                        0     0     0    0      0       0         0  \n",
              "1                        0     0     0    0      0       0         0  \n",
              "2                        0     0     0    0      0       0         0  \n",
              "3                        0     0     0    0      0       0         0  \n",
              "4                        0     0     0    0      0       1         0  \n",
              "\n",
              "[5 rows x 380 columns]"
            ],
            "text/html": [
              "\n",
              "  <div id=\"df-eba4e992-7be0-4678-8146-4b15d4c9fae5\">\n",
              "    <div class=\"colab-df-container\">\n",
              "      <div>\n",
              "<style scoped>\n",
              "    .dataframe tbody tr th:only-of-type {\n",
              "        vertical-align: middle;\n",
              "    }\n",
              "\n",
              "    .dataframe tbody tr th {\n",
              "        vertical-align: top;\n",
              "    }\n",
              "\n",
              "    .dataframe thead th {\n",
              "        text-align: right;\n",
              "    }\n",
              "</style>\n",
              "<table border=\"1\" class=\"dataframe\">\n",
              "  <thead>\n",
              "    <tr style=\"text-align: right;\">\n",
              "      <th></th>\n",
              "      <th>almond</th>\n",
              "      <th>angelica</th>\n",
              "      <th>anise</th>\n",
              "      <th>anise_seed</th>\n",
              "      <th>apple</th>\n",
              "      <th>apple_brandy</th>\n",
              "      <th>apricot</th>\n",
              "      <th>armagnac</th>\n",
              "      <th>artemisia</th>\n",
              "      <th>artichoke</th>\n",
              "      <th>...</th>\n",
              "      <th>whiskey</th>\n",
              "      <th>white_bread</th>\n",
              "      <th>white_wine</th>\n",
              "      <th>whole_grain_wheat_flour</th>\n",
              "      <th>wine</th>\n",
              "      <th>wood</th>\n",
              "      <th>yam</th>\n",
              "      <th>yeast</th>\n",
              "      <th>yogurt</th>\n",
              "      <th>zucchini</th>\n",
              "    </tr>\n",
              "  </thead>\n",
              "  <tbody>\n",
              "    <tr>\n",
              "      <th>0</th>\n",
              "      <td>0</td>\n",
              "      <td>0</td>\n",
              "      <td>0</td>\n",
              "      <td>0</td>\n",
              "      <td>0</td>\n",
              "      <td>0</td>\n",
              "      <td>0</td>\n",
              "      <td>0</td>\n",
              "      <td>0</td>\n",
              "      <td>0</td>\n",
              "      <td>...</td>\n",
              "      <td>0</td>\n",
              "      <td>0</td>\n",
              "      <td>0</td>\n",
              "      <td>0</td>\n",
              "      <td>0</td>\n",
              "      <td>0</td>\n",
              "      <td>0</td>\n",
              "      <td>0</td>\n",
              "      <td>0</td>\n",
              "      <td>0</td>\n",
              "    </tr>\n",
              "    <tr>\n",
              "      <th>1</th>\n",
              "      <td>1</td>\n",
              "      <td>0</td>\n",
              "      <td>0</td>\n",
              "      <td>0</td>\n",
              "      <td>0</td>\n",
              "      <td>0</td>\n",
              "      <td>0</td>\n",
              "      <td>0</td>\n",
              "      <td>0</td>\n",
              "      <td>0</td>\n",
              "      <td>...</td>\n",
              "      <td>0</td>\n",
              "      <td>0</td>\n",
              "      <td>0</td>\n",
              "      <td>0</td>\n",
              "      <td>0</td>\n",
              "      <td>0</td>\n",
              "      <td>0</td>\n",
              "      <td>0</td>\n",
              "      <td>0</td>\n",
              "      <td>0</td>\n",
              "    </tr>\n",
              "    <tr>\n",
              "      <th>2</th>\n",
              "      <td>0</td>\n",
              "      <td>0</td>\n",
              "      <td>0</td>\n",
              "      <td>0</td>\n",
              "      <td>0</td>\n",
              "      <td>0</td>\n",
              "      <td>0</td>\n",
              "      <td>0</td>\n",
              "      <td>0</td>\n",
              "      <td>0</td>\n",
              "      <td>...</td>\n",
              "      <td>0</td>\n",
              "      <td>0</td>\n",
              "      <td>0</td>\n",
              "      <td>0</td>\n",
              "      <td>0</td>\n",
              "      <td>0</td>\n",
              "      <td>0</td>\n",
              "      <td>0</td>\n",
              "      <td>0</td>\n",
              "      <td>0</td>\n",
              "    </tr>\n",
              "    <tr>\n",
              "      <th>3</th>\n",
              "      <td>0</td>\n",
              "      <td>0</td>\n",
              "      <td>0</td>\n",
              "      <td>0</td>\n",
              "      <td>0</td>\n",
              "      <td>0</td>\n",
              "      <td>0</td>\n",
              "      <td>0</td>\n",
              "      <td>0</td>\n",
              "      <td>0</td>\n",
              "      <td>...</td>\n",
              "      <td>0</td>\n",
              "      <td>0</td>\n",
              "      <td>0</td>\n",
              "      <td>0</td>\n",
              "      <td>0</td>\n",
              "      <td>0</td>\n",
              "      <td>0</td>\n",
              "      <td>0</td>\n",
              "      <td>0</td>\n",
              "      <td>0</td>\n",
              "    </tr>\n",
              "    <tr>\n",
              "      <th>4</th>\n",
              "      <td>0</td>\n",
              "      <td>0</td>\n",
              "      <td>0</td>\n",
              "      <td>0</td>\n",
              "      <td>0</td>\n",
              "      <td>0</td>\n",
              "      <td>0</td>\n",
              "      <td>0</td>\n",
              "      <td>0</td>\n",
              "      <td>0</td>\n",
              "      <td>...</td>\n",
              "      <td>0</td>\n",
              "      <td>0</td>\n",
              "      <td>0</td>\n",
              "      <td>0</td>\n",
              "      <td>0</td>\n",
              "      <td>0</td>\n",
              "      <td>0</td>\n",
              "      <td>0</td>\n",
              "      <td>1</td>\n",
              "      <td>0</td>\n",
              "    </tr>\n",
              "  </tbody>\n",
              "</table>\n",
              "<p>5 rows × 380 columns</p>\n",
              "</div>\n",
              "      <button class=\"colab-df-convert\" onclick=\"convertToInteractive('df-eba4e992-7be0-4678-8146-4b15d4c9fae5')\"\n",
              "              title=\"Convert this dataframe to an interactive table.\"\n",
              "              style=\"display:none;\">\n",
              "        \n",
              "  <svg xmlns=\"http://www.w3.org/2000/svg\" height=\"24px\"viewBox=\"0 0 24 24\"\n",
              "       width=\"24px\">\n",
              "    <path d=\"M0 0h24v24H0V0z\" fill=\"none\"/>\n",
              "    <path d=\"M18.56 5.44l.94 2.06.94-2.06 2.06-.94-2.06-.94-.94-2.06-.94 2.06-2.06.94zm-11 1L8.5 8.5l.94-2.06 2.06-.94-2.06-.94L8.5 2.5l-.94 2.06-2.06.94zm10 10l.94 2.06.94-2.06 2.06-.94-2.06-.94-.94-2.06-.94 2.06-2.06.94z\"/><path d=\"M17.41 7.96l-1.37-1.37c-.4-.4-.92-.59-1.43-.59-.52 0-1.04.2-1.43.59L10.3 9.45l-7.72 7.72c-.78.78-.78 2.05 0 2.83L4 21.41c.39.39.9.59 1.41.59.51 0 1.02-.2 1.41-.59l7.78-7.78 2.81-2.81c.8-.78.8-2.07 0-2.86zM5.41 20L4 18.59l7.72-7.72 1.47 1.35L5.41 20z\"/>\n",
              "  </svg>\n",
              "      </button>\n",
              "      \n",
              "  <style>\n",
              "    .colab-df-container {\n",
              "      display:flex;\n",
              "      flex-wrap:wrap;\n",
              "      gap: 12px;\n",
              "    }\n",
              "\n",
              "    .colab-df-convert {\n",
              "      background-color: #E8F0FE;\n",
              "      border: none;\n",
              "      border-radius: 50%;\n",
              "      cursor: pointer;\n",
              "      display: none;\n",
              "      fill: #1967D2;\n",
              "      height: 32px;\n",
              "      padding: 0 0 0 0;\n",
              "      width: 32px;\n",
              "    }\n",
              "\n",
              "    .colab-df-convert:hover {\n",
              "      background-color: #E2EBFA;\n",
              "      box-shadow: 0px 1px 2px rgba(60, 64, 67, 0.3), 0px 1px 3px 1px rgba(60, 64, 67, 0.15);\n",
              "      fill: #174EA6;\n",
              "    }\n",
              "\n",
              "    [theme=dark] .colab-df-convert {\n",
              "      background-color: #3B4455;\n",
              "      fill: #D2E3FC;\n",
              "    }\n",
              "\n",
              "    [theme=dark] .colab-df-convert:hover {\n",
              "      background-color: #434B5C;\n",
              "      box-shadow: 0px 1px 3px 1px rgba(0, 0, 0, 0.15);\n",
              "      filter: drop-shadow(0px 1px 2px rgba(0, 0, 0, 0.3));\n",
              "      fill: #FFFFFF;\n",
              "    }\n",
              "  </style>\n",
              "\n",
              "      <script>\n",
              "        const buttonEl =\n",
              "          document.querySelector('#df-eba4e992-7be0-4678-8146-4b15d4c9fae5 button.colab-df-convert');\n",
              "        buttonEl.style.display =\n",
              "          google.colab.kernel.accessAllowed ? 'block' : 'none';\n",
              "\n",
              "        async function convertToInteractive(key) {\n",
              "          const element = document.querySelector('#df-eba4e992-7be0-4678-8146-4b15d4c9fae5');\n",
              "          const dataTable =\n",
              "            await google.colab.kernel.invokeFunction('convertToInteractive',\n",
              "                                                     [key], {});\n",
              "          if (!dataTable) return;\n",
              "\n",
              "          const docLinkHtml = 'Like what you see? Visit the ' +\n",
              "            '<a target=\"_blank\" href=https://colab.research.google.com/notebooks/data_table.ipynb>data table notebook</a>'\n",
              "            + ' to learn more about interactive tables.';\n",
              "          element.innerHTML = '';\n",
              "          dataTable['output_type'] = 'display_data';\n",
              "          await google.colab.output.renderOutput(dataTable, element);\n",
              "          const docLink = document.createElement('div');\n",
              "          docLink.innerHTML = docLinkHtml;\n",
              "          element.appendChild(docLink);\n",
              "        }\n",
              "      </script>\n",
              "    </div>\n",
              "  </div>\n",
              "  "
            ]
          },
          "metadata": {},
          "execution_count": 53
        }
      ]
    },
    {
      "cell_type": "code",
      "source": [
        "from sklearn.tree import DecisionTreeClassifier\n",
        "from sklearn.ensemble import RandomForestClassifier, AdaBoostClassifier\n",
        "from sklearn.model_selection import train_test_split, cross_val_score\n",
        "from sklearn.metrics import accuracy_score,precision_score,confusion_matrix,classification_report, precision_recall_curve\n",
        "import numpy as np\n",
        "\n",
        "X_train, X_test, y_train, y_test = train_test_split(cuisines_feature_df, cuisines_label_df, test_size=0.3)"
      ],
      "metadata": {
        "id": "HZKDS-UM3NN_"
      },
      "execution_count": null,
      "outputs": []
    },
    {
      "cell_type": "code",
      "source": [
        "from matplotlib.pyplot import figure\n",
        "\n",
        "figure(figsize=(12, 12), dpi=80)\n",
        "from sklearn import tree\n",
        "clf = tree.DecisionTreeClassifier(max_depth = 5)\n",
        "clf = clf.fit(X_train, y_train)\n",
        "tree.plot_tree(clf)"
      ],
      "metadata": {
        "colab": {
          "base_uri": "https://localhost:8080/",
          "height": 1000
        },
        "id": "2Pvn3_qA3TG5",
        "outputId": "992eaa61-8836-4a97-c859-f05f176ac28c"
      },
      "execution_count": null,
      "outputs": [
        {
          "output_type": "execute_result",
          "data": {
            "text/plain": [
              "[Text(0.4973958333333333, 0.9166666666666666, 'X[112] <= 0.5\\ngini = 0.8\\nsamples = 2796\\nvalue = [537, 566, 565, 559, 569]'),\n",
              " Text(0.2916666666666667, 0.75, 'X[290] <= 0.5\\ngini = 0.786\\nsamples = 2311\\nvalue = [534, 236, 563, 557, 421]'),\n",
              " Text(0.16666666666666666, 0.5833333333333334, 'X[185] <= 0.5\\ngini = 0.786\\nsamples = 2144\\nvalue = [530, 236, 561, 397, 420]'),\n",
              " Text(0.08333333333333333, 0.4166666666666667, 'X[334] <= 0.5\\ngini = 0.78\\nsamples = 2000\\nvalue = [526, 224, 551, 397, 302]'),\n",
              " Text(0.041666666666666664, 0.25, 'X[68] <= 0.5\\ngini = 0.783\\nsamples = 1787\\nvalue = [368, 223, 538, 366, 292]'),\n",
              " Text(0.020833333333333332, 0.08333333333333333, 'gini = 0.753\\nsamples = 1371\\nvalue = [310, 142, 518, 196, 205]'),\n",
              " Text(0.0625, 0.08333333333333333, 'gini = 0.73\\nsamples = 416\\nvalue = [58, 81, 20, 170, 87]'),\n",
              " Text(0.125, 0.25, 'X[95] <= 0.5\\ngini = 0.423\\nsamples = 213\\nvalue = [158, 1, 13, 31, 10]'),\n",
              " Text(0.10416666666666667, 0.08333333333333333, 'gini = 0.391\\nsamples = 207\\nvalue = [158, 1, 13, 31, 4]'),\n",
              " Text(0.14583333333333334, 0.08333333333333333, 'gini = 0.0\\nsamples = 6\\nvalue = [0, 0, 0, 0, 6]'),\n",
              " Text(0.25, 0.4166666666666667, 'X[129] <= 0.5\\ngini = 0.316\\nsamples = 144\\nvalue = [4, 12, 10, 0, 118]'),\n",
              " Text(0.20833333333333334, 0.25, 'X[308] <= 0.5\\ngini = 0.677\\nsamples = 42\\nvalue = [4, 12, 7, 0, 19]'),\n",
              " Text(0.1875, 0.08333333333333333, 'gini = 0.712\\nsamples = 35\\nvalue = [4, 12, 7, 0, 12]'),\n",
              " Text(0.22916666666666666, 0.08333333333333333, 'gini = 0.0\\nsamples = 7\\nvalue = [0, 0, 0, 0, 7]'),\n",
              " Text(0.2916666666666667, 0.25, 'X[302] <= 0.5\\ngini = 0.057\\nsamples = 102\\nvalue = [0, 0, 3, 0, 99]'),\n",
              " Text(0.2708333333333333, 0.08333333333333333, 'gini = 0.039\\nsamples = 101\\nvalue = [0, 0, 2, 0, 99]'),\n",
              " Text(0.3125, 0.08333333333333333, 'gini = 0.0\\nsamples = 1\\nvalue = [0, 0, 1, 0, 0]'),\n",
              " Text(0.4166666666666667, 0.5833333333333334, 'X[236] <= 0.5\\ngini = 0.081\\nsamples = 167\\nvalue = [4, 0, 2, 160, 1]'),\n",
              " Text(0.3958333333333333, 0.4166666666666667, 'X[81] <= 0.5\\ngini = 0.07\\nsamples = 166\\nvalue = [4, 0, 2, 160, 0]'),\n",
              " Text(0.375, 0.25, 'X[246] <= 0.5\\ngini = 0.059\\nsamples = 165\\nvalue = [3, 0, 2, 160, 0]'),\n",
              " Text(0.3541666666666667, 0.08333333333333333, 'gini = 0.048\\nsamples = 164\\nvalue = [2, 0, 2, 160, 0]'),\n",
              " Text(0.3958333333333333, 0.08333333333333333, 'gini = 0.0\\nsamples = 1\\nvalue = [1, 0, 0, 0, 0]'),\n",
              " Text(0.4166666666666667, 0.25, 'gini = 0.0\\nsamples = 1\\nvalue = [1, 0, 0, 0, 0]'),\n",
              " Text(0.4375, 0.4166666666666667, 'gini = 0.0\\nsamples = 1\\nvalue = [0, 0, 0, 0, 1]'),\n",
              " Text(0.703125, 0.75, 'X[95] <= 0.5\\ngini = 0.444\\nsamples = 485\\nvalue = [3, 330, 2, 2, 148]'),\n",
              " Text(0.5729166666666666, 0.5833333333333334, 'X[129] <= 0.5\\ngini = 0.186\\nsamples = 314\\nvalue = [3, 282, 1, 2, 26]'),\n",
              " Text(0.5, 0.4166666666666667, 'X[327] <= 0.5\\ngini = 0.132\\nsamples = 301\\nvalue = [3, 280, 1, 1, 16]'),\n",
              " Text(0.4583333333333333, 0.25, 'X[202] <= 0.5\\ngini = 0.087\\nsamples = 287\\nvalue = [0, 274, 1, 1, 11]'),\n",
              " Text(0.4375, 0.08333333333333333, 'gini = 0.075\\nsamples = 285\\nvalue = [0, 274, 1, 1, 9]'),\n",
              " Text(0.4791666666666667, 0.08333333333333333, 'gini = 0.0\\nsamples = 2\\nvalue = [0, 0, 0, 0, 2]'),\n",
              " Text(0.5416666666666666, 0.25, 'X[81] <= 0.5\\ngini = 0.643\\nsamples = 14\\nvalue = [3, 6, 0, 0, 5]'),\n",
              " Text(0.5208333333333334, 0.08333333333333333, 'gini = 0.48\\nsamples = 10\\nvalue = [0, 6, 0, 0, 4]'),\n",
              " Text(0.5625, 0.08333333333333333, 'gini = 0.375\\nsamples = 4\\nvalue = [3, 0, 0, 0, 1]'),\n",
              " Text(0.6458333333333334, 0.4166666666666667, 'X[111] <= 0.5\\ngini = 0.379\\nsamples = 13\\nvalue = [0, 2, 0, 1, 10]'),\n",
              " Text(0.625, 0.25, 'X[360] <= 0.5\\ngini = 0.165\\nsamples = 11\\nvalue = [0, 0, 0, 1, 10]'),\n",
              " Text(0.6041666666666666, 0.08333333333333333, 'gini = 0.0\\nsamples = 10\\nvalue = [0, 0, 0, 0, 10]'),\n",
              " Text(0.6458333333333334, 0.08333333333333333, 'gini = 0.0\\nsamples = 1\\nvalue = [0, 0, 0, 1, 0]'),\n",
              " Text(0.6666666666666666, 0.25, 'gini = 0.0\\nsamples = 2\\nvalue = [0, 2, 0, 0, 0]'),\n",
              " Text(0.8333333333333334, 0.5833333333333334, 'X[68] <= 0.5\\ngini = 0.412\\nsamples = 171\\nvalue = [0, 48, 1, 0, 122]'),\n",
              " Text(0.75, 0.4166666666666667, 'X[328] <= 0.5\\ngini = 0.245\\nsamples = 126\\nvalue = [0, 18, 0, 0, 108]'),\n",
              " Text(0.7083333333333334, 0.25, 'X[89] <= 0.5\\ngini = 0.216\\nsamples = 122\\nvalue = [0, 15, 0, 0, 107]'),\n",
              " Text(0.6875, 0.08333333333333333, 'gini = 0.193\\nsamples = 120\\nvalue = [0, 13, 0, 0, 107]'),\n",
              " Text(0.7291666666666666, 0.08333333333333333, 'gini = 0.0\\nsamples = 2\\nvalue = [0, 2, 0, 0, 0]'),\n",
              " Text(0.7916666666666666, 0.25, 'X[178] <= 0.5\\ngini = 0.375\\nsamples = 4\\nvalue = [0, 3, 0, 0, 1]'),\n",
              " Text(0.7708333333333334, 0.08333333333333333, 'gini = 0.0\\nsamples = 3\\nvalue = [0, 3, 0, 0, 0]'),\n",
              " Text(0.8125, 0.08333333333333333, 'gini = 0.0\\nsamples = 1\\nvalue = [0, 0, 0, 0, 1]'),\n",
              " Text(0.9166666666666666, 0.4166666666666667, 'X[129] <= 0.5\\ngini = 0.458\\nsamples = 45\\nvalue = [0, 30, 1, 0, 14]'),\n",
              " Text(0.875, 0.25, 'X[27] <= 0.5\\ngini = 0.17\\nsamples = 32\\nvalue = [0, 29, 0, 0, 3]'),\n",
              " Text(0.8541666666666666, 0.08333333333333333, 'gini = 0.064\\nsamples = 30\\nvalue = [0, 29, 0, 0, 1]'),\n",
              " Text(0.8958333333333334, 0.08333333333333333, 'gini = 0.0\\nsamples = 2\\nvalue = [0, 0, 0, 0, 2]'),\n",
              " Text(0.9583333333333334, 0.25, 'X[119] <= 0.5\\ngini = 0.272\\nsamples = 13\\nvalue = [0, 1, 1, 0, 11]'),\n",
              " Text(0.9375, 0.08333333333333333, 'gini = 0.153\\nsamples = 12\\nvalue = [0, 0, 1, 0, 11]'),\n",
              " Text(0.9791666666666666, 0.08333333333333333, 'gini = 0.0\\nsamples = 1\\nvalue = [0, 1, 0, 0, 0]')]"
            ]
          },
          "metadata": {},
          "execution_count": 55
        },
        {
          "output_type": "display_data",
          "data": {
            "text/plain": [
              "<Figure size 960x960 with 1 Axes>"
            ],
            "image/png": "[encoded data removed]"
          },
          "metadata": {
            "needs_background": "light"
          }
        }
      ]
    },
    {
      "cell_type": "code",
      "source": [
        "import graphviz \n",
        "dot_data = tree.export_graphviz(clf, out_file=None, \n",
        "                     feature_names=cuisines_feature_df.columns,  \n",
        "                     class_names=cuisine_labels_distinct,  \n",
        "                     filled=True, rounded=True,\n",
        "                     special_characters=True)  \n",
        "graph = graphviz.Source(dot_data)  \n",
        "graph "
      ],
      "metadata": {
        "colab": {
          "base_uri": "https://localhost:8080/",
          "height": 936
        },
        "id": "HanSk-YF3-QA",
        "outputId": "3a69dfdb-84b2-4aa2-a9f0-5554b392f8bf"
      },
      "execution_count": null,
      "outputs": [
        {
          "output_type": "execute_result",
          "data": {
            "text/plain": [
              "<graphviz.files.Source at 0x7f16443caf50>"
            ],
            "image/svg+xml": "<?xml version=\"1.0\" encoding=\"UTF-8\" standalone=\"no\"?>\n<!DOCTYPE svg PUBLIC \"-//W3C//DTD SVG 1.1//EN\"\n \"http://www.w3.org/Graphics/SVG/1.1/DTD/svg11.dtd\">\n<!-- Generated by graphviz version 2.40.1 (20161225.0304)\n -->\n<!-- Title: Tree Pages: 1 -->\n<svg width=\"4214pt\" height=\"671pt\"\n viewBox=\"0.00 0.00 4213.50 671.00\" xmlns=\"http://www.w3.org/2000/svg\" xmlns:xlink=\"http://www.w3.org/1999/xlink\">\n<g id=\"graph0\" class=\"graph\" transform=\"scale(1 1) rotate(0) translate(4 667)\">\n<title>Tree</title>\n<polygon fill=\"#ffffff\" stroke=\"transparent\" points=\"-4,4 -4,-667 4209.5,-667 4209.5,4 -4,4\"/>\n<!-- 0 -->\n<g id=\"node1\" class=\"node\">\n<title>0</title>\n<path fill=\"#ffffff\" stroke=\"#000000\" d=\"M2296,-663C2296,-663 2091,-663 2091,-663 2085,-663 2079,-657 2079,-651 2079,-651 2079,-592 2079,-592 2079,-586 2085,-580 2091,-580 2091,-580 2296,-580 2296,-580 2302,-580 2308,-586 2308,-592 2308,-592 2308,-651 2308,-651 2308,-657 2302,-663 2296,-663\"/>\n<text text-anchor=\"start\" x=\"2156\" y=\"-647.8\" font-family=\"Helvetica,sans-Serif\" font-size=\"14.00\" fill=\"#000000\">cumin ≤ 0.5</text>\n<text text-anchor=\"start\" x=\"2164\" y=\"-632.8\" font-family=\"Helvetica,sans-Serif\" font-size=\"14.00\" fill=\"#000000\">gini = 0.8</text>\n<text text-anchor=\"start\" x=\"2141.5\" y=\"-617.8\" font-family=\"Helvetica,sans-Serif\" font-size=\"14.00\" fill=\"#000000\">samples = 2796</text>\n<text text-anchor=\"start\" x=\"2087\" y=\"-602.8\" font-family=\"Helvetica,sans-Serif\" font-size=\"14.00\" fill=\"#000000\">value = [537, 566, 565, 559, 569]</text>\n<text text-anchor=\"start\" x=\"2146\" y=\"-587.8\" font-family=\"Helvetica,sans-Serif\" font-size=\"14.00\" fill=\"#000000\">class = korean</text>\n</g>\n<!-- 1 -->\n<g id=\"node2\" class=\"node\">\n<title>1</title>\n<path fill=\"#feffff\" stroke=\"#000000\" d=\"M1948,-544C1948,-544 1743,-544 1743,-544 1737,-544 1731,-538 1731,-532 1731,-532 1731,-473 1731,-473 1731,-467 1737,-461 1743,-461 1743,-461 1948,-461 1948,-461 1954,-461 1960,-467 1960,-473 1960,-473 1960,-532 1960,-532 1960,-538 1954,-544 1948,-544\"/>\n<text text-anchor=\"start\" x=\"1753\" y=\"-528.8\" font-family=\"Helvetica,sans-Serif\" font-size=\"14.00\" fill=\"#000000\">roasted_sesame_seed ≤ 0.5</text>\n<text text-anchor=\"start\" x=\"1807.5\" y=\"-513.8\" font-family=\"Helvetica,sans-Serif\" font-size=\"14.00\" fill=\"#000000\">gini = 0.786</text>\n<text text-anchor=\"start\" x=\"1793.5\" y=\"-498.8\" font-family=\"Helvetica,sans-Serif\" font-size=\"14.00\" fill=\"#000000\">samples = 2311</text>\n<text text-anchor=\"start\" x=\"1739\" y=\"-483.8\" font-family=\"Helvetica,sans-Serif\" font-size=\"14.00\" fill=\"#000000\">value = [534, 236, 563, 557, 421]</text>\n<text text-anchor=\"start\" x=\"1795\" y=\"-468.8\" font-family=\"Helvetica,sans-Serif\" font-size=\"14.00\" fill=\"#000000\">class = chinese</text>\n</g>\n<!-- 0&#45;&gt;1 -->\n<g id=\"edge1\" class=\"edge\">\n<title>0&#45;&gt;1</title>\n<path fill=\"none\" stroke=\"#000000\" d=\"M2078.5873,-582.2052C2043.8422,-570.3239 2005.5302,-557.223 1970.1789,-545.1345\"/>\n<polygon fill=\"#000000\" stroke=\"#000000\" points=\"1970.8866,-541.6775 1960.292,-541.7536 1968.6216,-548.301 1970.8866,-541.6775\"/>\n<text text-anchor=\"middle\" x=\"1971.299\" y=\"-560.5001\" font-family=\"Helvetica,sans-Serif\" font-size=\"14.00\" fill=\"#000000\">True</text>\n</g>\n<!-- 24 -->\n<g id=\"node25\" class=\"node\">\n<title>24</title>\n<path fill=\"#b8f194\" stroke=\"#000000\" d=\"M2557,-544C2557,-544 2402,-544 2402,-544 2396,-544 2390,-538 2390,-532 2390,-532 2390,-473 2390,-473 2390,-467 2396,-461 2402,-461 2402,-461 2557,-461 2557,-461 2563,-461 2569,-467 2569,-473 2569,-473 2569,-532 2569,-532 2569,-538 2563,-544 2557,-544\"/>\n<text text-anchor=\"start\" x=\"2435.5\" y=\"-528.8\" font-family=\"Helvetica,sans-Serif\" font-size=\"14.00\" fill=\"#000000\">coconut ≤ 0.5</text>\n<text text-anchor=\"start\" x=\"2441.5\" y=\"-513.8\" font-family=\"Helvetica,sans-Serif\" font-size=\"14.00\" fill=\"#000000\">gini = 0.444</text>\n<text text-anchor=\"start\" x=\"2431.5\" y=\"-498.8\" font-family=\"Helvetica,sans-Serif\" font-size=\"14.00\" fill=\"#000000\">samples = 485</text>\n<text text-anchor=\"start\" x=\"2398\" y=\"-483.8\" font-family=\"Helvetica,sans-Serif\" font-size=\"14.00\" fill=\"#000000\">value = [3, 330, 2, 2, 148]</text>\n<text text-anchor=\"start\" x=\"2443\" y=\"-468.8\" font-family=\"Helvetica,sans-Serif\" font-size=\"14.00\" fill=\"#000000\">class = thai</text>\n</g>\n<!-- 0&#45;&gt;24 -->\n<g id=\"edge24\" class=\"edge\">\n<title>0&#45;&gt;24</title>\n<path fill=\"none\" stroke=\"#000000\" d=\"M2293.5289,-579.8796C2321.6051,-568.1975 2352.1175,-555.5018 2380.1538,-543.8364\"/>\n<polygon fill=\"#000000\" stroke=\"#000000\" points=\"2381.6716,-546.9958 2389.5597,-539.9227 2378.9825,-540.5329 2381.6716,-546.9958\"/>\n<text text-anchor=\"middle\" x=\"2380.0295\" y=\"-559.3349\" font-family=\"Helvetica,sans-Serif\" font-size=\"14.00\" fill=\"#000000\">False</text>\n</g>\n<!-- 2 -->\n<g id=\"node3\" class=\"node\">\n<title>2</title>\n<path fill=\"#fbfffe\" stroke=\"#000000\" d=\"M1266,-425C1266,-425 1061,-425 1061,-425 1055,-425 1049,-419 1049,-413 1049,-413 1049,-354 1049,-354 1049,-348 1055,-342 1061,-342 1061,-342 1266,-342 1266,-342 1272,-342 1278,-348 1278,-354 1278,-354 1278,-413 1278,-413 1278,-419 1272,-425 1266,-425\"/>\n<text text-anchor=\"start\" x=\"1113.5\" y=\"-409.8\" font-family=\"Helvetica,sans-Serif\" font-size=\"14.00\" fill=\"#000000\">lime_juice ≤ 0.5</text>\n<text text-anchor=\"start\" x=\"1125.5\" y=\"-394.8\" font-family=\"Helvetica,sans-Serif\" font-size=\"14.00\" fill=\"#000000\">gini = 0.786</text>\n<text text-anchor=\"start\" x=\"1111.5\" y=\"-379.8\" font-family=\"Helvetica,sans-Serif\" font-size=\"14.00\" fill=\"#000000\">samples = 2144</text>\n<text text-anchor=\"start\" x=\"1057\" y=\"-364.8\" font-family=\"Helvetica,sans-Serif\" font-size=\"14.00\" fill=\"#000000\">value = [530, 236, 561, 397, 420]</text>\n<text text-anchor=\"start\" x=\"1113\" y=\"-349.8\" font-family=\"Helvetica,sans-Serif\" font-size=\"14.00\" fill=\"#000000\">class = chinese</text>\n</g>\n<!-- 1&#45;&gt;2 -->\n<g id=\"edge2\" class=\"edge\">\n<title>1&#45;&gt;2</title>\n<path fill=\"none\" stroke=\"#000000\" d=\"M1730.9641,-482.515C1608.4141,-461.1316 1414.6439,-427.3213 1288.2878,-405.2738\"/>\n<polygon fill=\"#000000\" stroke=\"#000000\" points=\"1288.626,-401.78 1278.1732,-403.509 1287.4228,-408.6759 1288.626,-401.78\"/>\n</g>\n<!-- 17 -->\n<g id=\"node18\" class=\"node\">\n<title>17</title>\n<path fill=\"#4442e6\" stroke=\"#000000\" d=\"M1915,-425C1915,-425 1776,-425 1776,-425 1770,-425 1764,-419 1764,-413 1764,-413 1764,-354 1764,-354 1764,-348 1770,-342 1776,-342 1776,-342 1915,-342 1915,-342 1921,-342 1927,-348 1927,-354 1927,-354 1927,-413 1927,-413 1927,-419 1921,-425 1915,-425\"/>\n<text text-anchor=\"start\" x=\"1812\" y=\"-409.8\" font-family=\"Helvetica,sans-Serif\" font-size=\"14.00\" fill=\"#000000\">palm ≤ 0.5</text>\n<text text-anchor=\"start\" x=\"1807.5\" y=\"-394.8\" font-family=\"Helvetica,sans-Serif\" font-size=\"14.00\" fill=\"#000000\">gini = 0.081</text>\n<text text-anchor=\"start\" x=\"1797.5\" y=\"-379.8\" font-family=\"Helvetica,sans-Serif\" font-size=\"14.00\" fill=\"#000000\">samples = 167</text>\n<text text-anchor=\"start\" x=\"1772\" y=\"-364.8\" font-family=\"Helvetica,sans-Serif\" font-size=\"14.00\" fill=\"#000000\">value = [4, 0, 2, 160, 1]</text>\n<text text-anchor=\"start\" x=\"1790.5\" y=\"-349.8\" font-family=\"Helvetica,sans-Serif\" font-size=\"14.00\" fill=\"#000000\">class = japanese</text>\n</g>\n<!-- 1&#45;&gt;17 -->\n<g id=\"edge17\" class=\"edge\">\n<title>1&#45;&gt;17</title>\n<path fill=\"none\" stroke=\"#000000\" d=\"M1845.5,-460.8796C1845.5,-452.6838 1845.5,-443.9891 1845.5,-435.5013\"/>\n<polygon fill=\"#000000\" stroke=\"#000000\" points=\"1849.0001,-435.298 1845.5,-425.2981 1842.0001,-435.2981 1849.0001,-435.298\"/>\n</g>\n<!-- 3 -->\n<g id=\"node4\" class=\"node\">\n<title>3</title>\n<path fill=\"#fcfffe\" stroke=\"#000000\" d=\"M755,-306C755,-306 550,-306 550,-306 544,-306 538,-300 538,-294 538,-294 538,-235 538,-235 538,-229 544,-223 550,-223 550,-223 755,-223 755,-223 761,-223 767,-229 767,-235 767,-235 767,-294 767,-294 767,-300 761,-306 755,-306\"/>\n<text text-anchor=\"start\" x=\"614.5\" y=\"-290.8\" font-family=\"Helvetica,sans-Serif\" font-size=\"14.00\" fill=\"#000000\">starch ≤ 0.5</text>\n<text text-anchor=\"start\" x=\"619\" y=\"-275.8\" font-family=\"Helvetica,sans-Serif\" font-size=\"14.00\" fill=\"#000000\">gini = 0.78</text>\n<text text-anchor=\"start\" x=\"600.5\" y=\"-260.8\" font-family=\"Helvetica,sans-Serif\" font-size=\"14.00\" fill=\"#000000\">samples = 2000</text>\n<text text-anchor=\"start\" x=\"546\" y=\"-245.8\" font-family=\"Helvetica,sans-Serif\" font-size=\"14.00\" fill=\"#000000\">value = [526, 224, 551, 397, 302]</text>\n<text text-anchor=\"start\" x=\"602\" y=\"-230.8\" font-family=\"Helvetica,sans-Serif\" font-size=\"14.00\" fill=\"#000000\">class = chinese</text>\n</g>\n<!-- 2&#45;&gt;3 -->\n<g id=\"edge3\" class=\"edge\">\n<title>2&#45;&gt;3</title>\n<path fill=\"none\" stroke=\"#000000\" d=\"M1048.8216,-356.7941C968.0928,-337.9942 860.087,-312.8422 777.215,-293.5432\"/>\n<polygon fill=\"#000000\" stroke=\"#000000\" points=\"777.7701,-290.0789 767.2368,-291.2195 776.1824,-296.8965 777.7701,-290.0789\"/>\n</g>\n<!-- 10 -->\n<g id=\"node11\" class=\"node\">\n<title>10</title>\n<path fill=\"#ea60cc\" stroke=\"#000000\" d=\"M1241,-306C1241,-306 1086,-306 1086,-306 1080,-306 1074,-300 1074,-294 1074,-294 1074,-235 1074,-235 1074,-229 1080,-223 1086,-223 1086,-223 1241,-223 1241,-223 1247,-223 1253,-229 1253,-235 1253,-235 1253,-294 1253,-294 1253,-300 1247,-306 1241,-306\"/>\n<text text-anchor=\"start\" x=\"1134.5\" y=\"-290.8\" font-family=\"Helvetica,sans-Serif\" font-size=\"14.00\" fill=\"#000000\">fish ≤ 0.5</text>\n<text text-anchor=\"start\" x=\"1125.5\" y=\"-275.8\" font-family=\"Helvetica,sans-Serif\" font-size=\"14.00\" fill=\"#000000\">gini = 0.316</text>\n<text text-anchor=\"start\" x=\"1115.5\" y=\"-260.8\" font-family=\"Helvetica,sans-Serif\" font-size=\"14.00\" fill=\"#000000\">samples = 144</text>\n<text text-anchor=\"start\" x=\"1082\" y=\"-245.8\" font-family=\"Helvetica,sans-Serif\" font-size=\"14.00\" fill=\"#000000\">value = [4, 12, 10, 0, 118]</text>\n<text text-anchor=\"start\" x=\"1116\" y=\"-230.8\" font-family=\"Helvetica,sans-Serif\" font-size=\"14.00\" fill=\"#000000\">class = korean</text>\n</g>\n<!-- 2&#45;&gt;10 -->\n<g id=\"edge10\" class=\"edge\">\n<title>2&#45;&gt;10</title>\n<path fill=\"none\" stroke=\"#000000\" d=\"M1163.5,-341.8796C1163.5,-333.6838 1163.5,-324.9891 1163.5,-316.5013\"/>\n<polygon fill=\"#000000\" stroke=\"#000000\" points=\"1167.0001,-316.298 1163.5,-306.2981 1160.0001,-316.2981 1167.0001,-316.298\"/>\n</g>\n<!-- 4 -->\n<g id=\"node5\" class=\"node\">\n<title>4</title>\n<path fill=\"#e7fcf8\" stroke=\"#000000\" d=\"M448,-187C448,-187 243,-187 243,-187 237,-187 231,-181 231,-175 231,-175 231,-116 231,-116 231,-110 237,-104 243,-104 243,-104 448,-104 448,-104 454,-104 460,-110 460,-116 460,-116 460,-175 460,-175 460,-181 454,-187 448,-187\"/>\n<text text-anchor=\"start\" x=\"299.5\" y=\"-171.8\" font-family=\"Helvetica,sans-Serif\" font-size=\"14.00\" fill=\"#000000\">cayenne ≤ 0.5</text>\n<text text-anchor=\"start\" x=\"307.5\" y=\"-156.8\" font-family=\"Helvetica,sans-Serif\" font-size=\"14.00\" fill=\"#000000\">gini = 0.783</text>\n<text text-anchor=\"start\" x=\"293.5\" y=\"-141.8\" font-family=\"Helvetica,sans-Serif\" font-size=\"14.00\" fill=\"#000000\">samples = 1787</text>\n<text text-anchor=\"start\" x=\"239\" y=\"-126.8\" font-family=\"Helvetica,sans-Serif\" font-size=\"14.00\" fill=\"#000000\">value = [368, 223, 538, 366, 292]</text>\n<text text-anchor=\"start\" x=\"295\" y=\"-111.8\" font-family=\"Helvetica,sans-Serif\" font-size=\"14.00\" fill=\"#000000\">class = chinese</text>\n</g>\n<!-- 3&#45;&gt;4 -->\n<g id=\"edge4\" class=\"edge\">\n<title>3&#45;&gt;4</title>\n<path fill=\"none\" stroke=\"#000000\" d=\"M545.1263,-222.8796C518.3678,-212.5074 489.5477,-201.3361 462.3568,-190.7963\"/>\n<polygon fill=\"#000000\" stroke=\"#000000\" points=\"463.4021,-187.4478 452.8131,-187.0969 460.8721,-193.9746 463.4021,-187.4478\"/>\n</g>\n<!-- 7 -->\n<g id=\"node8\" class=\"node\">\n<title>7</title>\n<path fill=\"#eda775\" stroke=\"#000000\" d=\"M734.5,-187C734.5,-187 570.5,-187 570.5,-187 564.5,-187 558.5,-181 558.5,-175 558.5,-175 558.5,-116 558.5,-116 558.5,-110 564.5,-104 570.5,-104 570.5,-104 734.5,-104 734.5,-104 740.5,-104 746.5,-110 746.5,-116 746.5,-116 746.5,-175 746.5,-175 746.5,-181 740.5,-187 734.5,-187\"/>\n<text text-anchor=\"start\" x=\"608.5\" y=\"-171.8\" font-family=\"Helvetica,sans-Serif\" font-size=\"14.00\" fill=\"#000000\">coconut ≤ 0.5</text>\n<text text-anchor=\"start\" x=\"614.5\" y=\"-156.8\" font-family=\"Helvetica,sans-Serif\" font-size=\"14.00\" fill=\"#000000\">gini = 0.423</text>\n<text text-anchor=\"start\" x=\"604.5\" y=\"-141.8\" font-family=\"Helvetica,sans-Serif\" font-size=\"14.00\" fill=\"#000000\">samples = 213</text>\n<text text-anchor=\"start\" x=\"566.5\" y=\"-126.8\" font-family=\"Helvetica,sans-Serif\" font-size=\"14.00\" fill=\"#000000\">value = [158, 1, 13, 31, 10]</text>\n<text text-anchor=\"start\" x=\"608\" y=\"-111.8\" font-family=\"Helvetica,sans-Serif\" font-size=\"14.00\" fill=\"#000000\">class = indian</text>\n</g>\n<!-- 3&#45;&gt;7 -->\n<g id=\"edge7\" class=\"edge\">\n<title>3&#45;&gt;7</title>\n<path fill=\"none\" stroke=\"#000000\" d=\"M652.5,-222.8796C652.5,-214.6838 652.5,-205.9891 652.5,-197.5013\"/>\n<polygon fill=\"#000000\" stroke=\"#000000\" points=\"656.0001,-197.298 652.5,-187.2981 649.0001,-197.2981 656.0001,-197.298\"/>\n</g>\n<!-- 5 -->\n<g id=\"node6\" class=\"node\">\n<title>5</title>\n<path fill=\"#d8faf4\" stroke=\"#000000\" d=\"M217,-68C217,-68 12,-68 12,-68 6,-68 0,-62 0,-56 0,-56 0,-12 0,-12 0,-6 6,0 12,0 12,0 217,0 217,0 223,0 229,-6 229,-12 229,-12 229,-56 229,-56 229,-62 223,-68 217,-68\"/>\n<text text-anchor=\"start\" x=\"76.5\" y=\"-52.8\" font-family=\"Helvetica,sans-Serif\" font-size=\"14.00\" fill=\"#000000\">gini = 0.753</text>\n<text text-anchor=\"start\" x=\"62.5\" y=\"-37.8\" font-family=\"Helvetica,sans-Serif\" font-size=\"14.00\" fill=\"#000000\">samples = 1371</text>\n<text text-anchor=\"start\" x=\"8\" y=\"-22.8\" font-family=\"Helvetica,sans-Serif\" font-size=\"14.00\" fill=\"#000000\">value = [310, 142, 518, 196, 205]</text>\n<text text-anchor=\"start\" x=\"64\" y=\"-7.8\" font-family=\"Helvetica,sans-Serif\" font-size=\"14.00\" fill=\"#000000\">class = chinese</text>\n</g>\n<!-- 4&#45;&gt;5 -->\n<g id=\"edge5\" class=\"edge\">\n<title>4&#45;&gt;5</title>\n<path fill=\"none\" stroke=\"#000000\" d=\"M259.4841,-103.9815C238.1419,-93.68 215.3604,-82.6837 194.3286,-72.532\"/>\n<polygon fill=\"#000000\" stroke=\"#000000\" points=\"195.6441,-69.2806 185.1169,-68.0856 192.6012,-75.5847 195.6441,-69.2806\"/>\n</g>\n<!-- 6 -->\n<g id=\"node7\" class=\"node\">\n<title>6</title>\n<path fill=\"#cecdf8\" stroke=\"#000000\" d=\"M431.5,-68C431.5,-68 259.5,-68 259.5,-68 253.5,-68 247.5,-62 247.5,-56 247.5,-56 247.5,-12 247.5,-12 247.5,-6 253.5,0 259.5,0 259.5,0 431.5,0 431.5,0 437.5,0 443.5,-6 443.5,-12 443.5,-12 443.5,-56 443.5,-56 443.5,-62 437.5,-68 431.5,-68\"/>\n<text text-anchor=\"start\" x=\"312\" y=\"-52.8\" font-family=\"Helvetica,sans-Serif\" font-size=\"14.00\" fill=\"#000000\">gini = 0.73</text>\n<text text-anchor=\"start\" x=\"297.5\" y=\"-37.8\" font-family=\"Helvetica,sans-Serif\" font-size=\"14.00\" fill=\"#000000\">samples = 416</text>\n<text text-anchor=\"start\" x=\"255.5\" y=\"-22.8\" font-family=\"Helvetica,sans-Serif\" font-size=\"14.00\" fill=\"#000000\">value = [58, 81, 20, 170, 87]</text>\n<text text-anchor=\"start\" x=\"290.5\" y=\"-7.8\" font-family=\"Helvetica,sans-Serif\" font-size=\"14.00\" fill=\"#000000\">class = japanese</text>\n</g>\n<!-- 4&#45;&gt;6 -->\n<g id=\"edge6\" class=\"edge\">\n<title>4&#45;&gt;6</title>\n<path fill=\"none\" stroke=\"#000000\" d=\"M345.5,-103.9815C345.5,-95.618 345.5,-86.7965 345.5,-78.3409\"/>\n<polygon fill=\"#000000\" stroke=\"#000000\" points=\"349.0001,-78.2636 345.5,-68.2637 342.0001,-78.2637 349.0001,-78.2636\"/>\n</g>\n<!-- 8 -->\n<g id=\"node9\" class=\"node\">\n<title>8</title>\n<path fill=\"#eca470\" stroke=\"#000000\" d=\"M629,-68C629,-68 474,-68 474,-68 468,-68 462,-62 462,-56 462,-56 462,-12 462,-12 462,-6 468,0 474,0 474,0 629,0 629,0 635,0 641,-6 641,-12 641,-12 641,-56 641,-56 641,-62 635,-68 629,-68\"/>\n<text text-anchor=\"start\" x=\"513.5\" y=\"-52.8\" font-family=\"Helvetica,sans-Serif\" font-size=\"14.00\" fill=\"#000000\">gini = 0.391</text>\n<text text-anchor=\"start\" x=\"503.5\" y=\"-37.8\" font-family=\"Helvetica,sans-Serif\" font-size=\"14.00\" fill=\"#000000\">samples = 207</text>\n<text text-anchor=\"start\" x=\"470\" y=\"-22.8\" font-family=\"Helvetica,sans-Serif\" font-size=\"14.00\" fill=\"#000000\">value = [158, 1, 13, 31, 4]</text>\n<text text-anchor=\"start\" x=\"507\" y=\"-7.8\" font-family=\"Helvetica,sans-Serif\" font-size=\"14.00\" fill=\"#000000\">class = indian</text>\n</g>\n<!-- 7&#45;&gt;8 -->\n<g id=\"edge8\" class=\"edge\">\n<title>7&#45;&gt;8</title>\n<path fill=\"none\" stroke=\"#000000\" d=\"M614.8913,-103.9815C606.5661,-94.7908 597.74,-85.0472 589.4032,-75.8436\"/>\n<polygon fill=\"#000000\" stroke=\"#000000\" points=\"591.8446,-73.3254 582.537,-68.2637 586.6566,-78.0248 591.8446,-73.3254\"/>\n</g>\n<!-- 9 -->\n<g id=\"node10\" class=\"node\">\n<title>9</title>\n<path fill=\"#e539c0\" stroke=\"#000000\" d=\"M793.5,-68C793.5,-68 671.5,-68 671.5,-68 665.5,-68 659.5,-62 659.5,-56 659.5,-56 659.5,-12 659.5,-12 659.5,-6 665.5,0 671.5,0 671.5,0 793.5,0 793.5,0 799.5,0 805.5,-6 805.5,-12 805.5,-12 805.5,-56 805.5,-56 805.5,-62 799.5,-68 793.5,-68\"/>\n<text text-anchor=\"start\" x=\"703\" y=\"-52.8\" font-family=\"Helvetica,sans-Serif\" font-size=\"14.00\" fill=\"#000000\">gini = 0.0</text>\n<text text-anchor=\"start\" x=\"693\" y=\"-37.8\" font-family=\"Helvetica,sans-Serif\" font-size=\"14.00\" fill=\"#000000\">samples = 6</text>\n<text text-anchor=\"start\" x=\"667.5\" y=\"-22.8\" font-family=\"Helvetica,sans-Serif\" font-size=\"14.00\" fill=\"#000000\">value = [0, 0, 0, 0, 6]</text>\n<text text-anchor=\"start\" x=\"685\" y=\"-7.8\" font-family=\"Helvetica,sans-Serif\" font-size=\"14.00\" fill=\"#000000\">class = korean</text>\n</g>\n<!-- 7&#45;&gt;9 -->\n<g id=\"edge9\" class=\"edge\">\n<title>7&#45;&gt;9</title>\n<path fill=\"none\" stroke=\"#000000\" d=\"M682.289,-103.9815C688.7514,-94.9747 695.5948,-85.4367 702.081,-76.3965\"/>\n<polygon fill=\"#000000\" stroke=\"#000000\" points=\"704.9303,-78.4291 707.9162,-68.2637 699.2428,-74.3483 704.9303,-78.4291\"/>\n</g>\n<!-- 11 -->\n<g id=\"node12\" class=\"node\">\n<title>11</title>\n<path fill=\"#f9d1f0\" stroke=\"#000000\" d=\"M1144,-187C1144,-187 1005,-187 1005,-187 999,-187 993,-181 993,-175 993,-175 993,-116 993,-116 993,-110 999,-104 1005,-104 1005,-104 1144,-104 1144,-104 1150,-104 1156,-110 1156,-116 1156,-116 1156,-175 1156,-175 1156,-181 1150,-187 1144,-187\"/>\n<text text-anchor=\"start\" x=\"1032\" y=\"-171.8\" font-family=\"Helvetica,sans-Serif\" font-size=\"14.00\" fill=\"#000000\">scallion ≤ 0.5</text>\n<text text-anchor=\"start\" x=\"1036.5\" y=\"-156.8\" font-family=\"Helvetica,sans-Serif\" font-size=\"14.00\" fill=\"#000000\">gini = 0.677</text>\n<text text-anchor=\"start\" x=\"1030.5\" y=\"-141.8\" font-family=\"Helvetica,sans-Serif\" font-size=\"14.00\" fill=\"#000000\">samples = 42</text>\n<text text-anchor=\"start\" x=\"1001\" y=\"-126.8\" font-family=\"Helvetica,sans-Serif\" font-size=\"14.00\" fill=\"#000000\">value = [4, 12, 7, 0, 19]</text>\n<text text-anchor=\"start\" x=\"1027\" y=\"-111.8\" font-family=\"Helvetica,sans-Serif\" font-size=\"14.00\" fill=\"#000000\">class = korean</text>\n</g>\n<!-- 10&#45;&gt;11 -->\n<g id=\"edge11\" class=\"edge\">\n<title>10&#45;&gt;11</title>\n<path fill=\"none\" stroke=\"#000000\" d=\"M1132.3721,-222.8796C1125.771,-214.0534 1118.7371,-204.6485 1111.9298,-195.5466\"/>\n<polygon fill=\"#000000\" stroke=\"#000000\" points=\"1114.5528,-193.2099 1105.7607,-187.2981 1108.9472,-197.4024 1114.5528,-193.2099\"/>\n</g>\n<!-- 14 -->\n<g id=\"node15\" class=\"node\">\n<title>14</title>\n<path fill=\"#e63fc2\" stroke=\"#000000\" d=\"M1317,-187C1317,-187 1186,-187 1186,-187 1180,-187 1174,-181 1174,-175 1174,-175 1174,-116 1174,-116 1174,-110 1180,-104 1186,-104 1186,-104 1317,-104 1317,-104 1323,-104 1329,-110 1329,-116 1329,-116 1329,-175 1329,-175 1329,-181 1323,-187 1317,-187\"/>\n<text text-anchor=\"start\" x=\"1218\" y=\"-171.8\" font-family=\"Helvetica,sans-Serif\" font-size=\"14.00\" fill=\"#000000\">sake ≤ 0.5</text>\n<text text-anchor=\"start\" x=\"1213.5\" y=\"-156.8\" font-family=\"Helvetica,sans-Serif\" font-size=\"14.00\" fill=\"#000000\">gini = 0.057</text>\n<text text-anchor=\"start\" x=\"1203.5\" y=\"-141.8\" font-family=\"Helvetica,sans-Serif\" font-size=\"14.00\" fill=\"#000000\">samples = 102</text>\n<text text-anchor=\"start\" x=\"1182\" y=\"-126.8\" font-family=\"Helvetica,sans-Serif\" font-size=\"14.00\" fill=\"#000000\">value = [0, 0, 3, 0, 99]</text>\n<text text-anchor=\"start\" x=\"1204\" y=\"-111.8\" font-family=\"Helvetica,sans-Serif\" font-size=\"14.00\" fill=\"#000000\">class = korean</text>\n</g>\n<!-- 10&#45;&gt;14 -->\n<g id=\"edge14\" class=\"edge\">\n<title>10&#45;&gt;14</title>\n<path fill=\"none\" stroke=\"#000000\" d=\"M1194.2781,-222.8796C1200.8051,-214.0534 1207.7599,-204.6485 1214.4908,-195.5466\"/>\n<polygon fill=\"#000000\" stroke=\"#000000\" points=\"1217.4588,-197.4195 1220.5905,-187.2981 1211.8305,-193.2574 1217.4588,-197.4195\"/>\n</g>\n<!-- 12 -->\n<g id=\"node13\" class=\"node\">\n<title>12</title>\n<path fill=\"#ffffff\" stroke=\"#000000\" d=\"M975,-68C975,-68 836,-68 836,-68 830,-68 824,-62 824,-56 824,-56 824,-12 824,-12 824,-6 830,0 836,0 836,0 975,0 975,0 981,0 987,-6 987,-12 987,-12 987,-56 987,-56 987,-62 981,-68 975,-68\"/>\n<text text-anchor=\"start\" x=\"867.5\" y=\"-52.8\" font-family=\"Helvetica,sans-Serif\" font-size=\"14.00\" fill=\"#000000\">gini = 0.712</text>\n<text text-anchor=\"start\" x=\"861.5\" y=\"-37.8\" font-family=\"Helvetica,sans-Serif\" font-size=\"14.00\" fill=\"#000000\">samples = 35</text>\n<text text-anchor=\"start\" x=\"832\" y=\"-22.8\" font-family=\"Helvetica,sans-Serif\" font-size=\"14.00\" fill=\"#000000\">value = [4, 12, 7, 0, 12]</text>\n<text text-anchor=\"start\" x=\"869\" y=\"-7.8\" font-family=\"Helvetica,sans-Serif\" font-size=\"14.00\" fill=\"#000000\">class = thai</text>\n</g>\n<!-- 11&#45;&gt;12 -->\n<g id=\"edge12\" class=\"edge\">\n<title>11&#45;&gt;12</title>\n<path fill=\"none\" stroke=\"#000000\" d=\"M1011.5706,-103.9815C996.5868,-94.0957 980.6332,-83.5701 965.7718,-73.7651\"/>\n<polygon fill=\"#000000\" stroke=\"#000000\" points=\"967.4379,-70.6713 957.1634,-68.0856 963.583,-76.5142 967.4379,-70.6713\"/>\n</g>\n<!-- 13 -->\n<g id=\"node14\" class=\"node\">\n<title>13</title>\n<path fill=\"#e539c0\" stroke=\"#000000\" d=\"M1139.5,-68C1139.5,-68 1017.5,-68 1017.5,-68 1011.5,-68 1005.5,-62 1005.5,-56 1005.5,-56 1005.5,-12 1005.5,-12 1005.5,-6 1011.5,0 1017.5,0 1017.5,0 1139.5,0 1139.5,0 1145.5,0 1151.5,-6 1151.5,-12 1151.5,-12 1151.5,-56 1151.5,-56 1151.5,-62 1145.5,-68 1139.5,-68\"/>\n<text text-anchor=\"start\" x=\"1049\" y=\"-52.8\" font-family=\"Helvetica,sans-Serif\" font-size=\"14.00\" fill=\"#000000\">gini = 0.0</text>\n<text text-anchor=\"start\" x=\"1039\" y=\"-37.8\" font-family=\"Helvetica,sans-Serif\" font-size=\"14.00\" fill=\"#000000\">samples = 7</text>\n<text text-anchor=\"start\" x=\"1013.5\" y=\"-22.8\" font-family=\"Helvetica,sans-Serif\" font-size=\"14.00\" fill=\"#000000\">value = [0, 0, 0, 0, 7]</text>\n<text text-anchor=\"start\" x=\"1031\" y=\"-7.8\" font-family=\"Helvetica,sans-Serif\" font-size=\"14.00\" fill=\"#000000\">class = korean</text>\n</g>\n<!-- 11&#45;&gt;13 -->\n<g id=\"edge13\" class=\"edge\">\n<title>11&#45;&gt;13</title>\n<path fill=\"none\" stroke=\"#000000\" d=\"M1075.9895,-103.9815C1076.2895,-95.618 1076.606,-86.7965 1076.9093,-78.3409\"/>\n<polygon fill=\"#000000\" stroke=\"#000000\" points=\"1080.41,-78.3828 1077.2708,-68.2637 1073.4145,-78.1317 1080.41,-78.3828\"/>\n</g>\n<!-- 15 -->\n<g id=\"node16\" class=\"node\">\n<title>15</title>\n<path fill=\"#e63dc1\" stroke=\"#000000\" d=\"M1313,-68C1313,-68 1182,-68 1182,-68 1176,-68 1170,-62 1170,-56 1170,-56 1170,-12 1170,-12 1170,-6 1176,0 1182,0 1182,0 1313,0 1313,0 1319,0 1325,-6 1325,-12 1325,-12 1325,-56 1325,-56 1325,-62 1319,-68 1313,-68\"/>\n<text text-anchor=\"start\" x=\"1209.5\" y=\"-52.8\" font-family=\"Helvetica,sans-Serif\" font-size=\"14.00\" fill=\"#000000\">gini = 0.039</text>\n<text text-anchor=\"start\" x=\"1199.5\" y=\"-37.8\" font-family=\"Helvetica,sans-Serif\" font-size=\"14.00\" fill=\"#000000\">samples = 101</text>\n<text text-anchor=\"start\" x=\"1178\" y=\"-22.8\" font-family=\"Helvetica,sans-Serif\" font-size=\"14.00\" fill=\"#000000\">value = [0, 0, 2, 0, 99]</text>\n<text text-anchor=\"start\" x=\"1200\" y=\"-7.8\" font-family=\"Helvetica,sans-Serif\" font-size=\"14.00\" fill=\"#000000\">class = korean</text>\n</g>\n<!-- 14&#45;&gt;15 -->\n<g id=\"edge15\" class=\"edge\">\n<title>14&#45;&gt;15</title>\n<path fill=\"none\" stroke=\"#000000\" d=\"M1250.0105,-103.9815C1249.7105,-95.618 1249.394,-86.7965 1249.0907,-78.3409\"/>\n<polygon fill=\"#000000\" stroke=\"#000000\" points=\"1252.5855,-78.1317 1248.7292,-68.2637 1245.59,-78.3828 1252.5855,-78.1317\"/>\n</g>\n<!-- 16 -->\n<g id=\"node17\" class=\"node\">\n<title>16</title>\n<path fill=\"#39e5c5\" stroke=\"#000000\" d=\"M1477.5,-68C1477.5,-68 1355.5,-68 1355.5,-68 1349.5,-68 1343.5,-62 1343.5,-56 1343.5,-56 1343.5,-12 1343.5,-12 1343.5,-6 1349.5,0 1355.5,0 1355.5,0 1477.5,0 1477.5,0 1483.5,0 1489.5,-6 1489.5,-12 1489.5,-12 1489.5,-56 1489.5,-56 1489.5,-62 1483.5,-68 1477.5,-68\"/>\n<text text-anchor=\"start\" x=\"1387\" y=\"-52.8\" font-family=\"Helvetica,sans-Serif\" font-size=\"14.00\" fill=\"#000000\">gini = 0.0</text>\n<text text-anchor=\"start\" x=\"1377\" y=\"-37.8\" font-family=\"Helvetica,sans-Serif\" font-size=\"14.00\" fill=\"#000000\">samples = 1</text>\n<text text-anchor=\"start\" x=\"1351.5\" y=\"-22.8\" font-family=\"Helvetica,sans-Serif\" font-size=\"14.00\" fill=\"#000000\">value = [0, 0, 1, 0, 0]</text>\n<text text-anchor=\"start\" x=\"1366\" y=\"-7.8\" font-family=\"Helvetica,sans-Serif\" font-size=\"14.00\" fill=\"#000000\">class = chinese</text>\n</g>\n<!-- 14&#45;&gt;16 -->\n<g id=\"edge16\" class=\"edge\">\n<title>14&#45;&gt;16</title>\n<path fill=\"none\" stroke=\"#000000\" d=\"M1312.9399,-103.9815C1327.5691,-94.0957 1343.1451,-83.5701 1357.6548,-73.7651\"/>\n<polygon fill=\"#000000\" stroke=\"#000000\" points=\"1359.7335,-76.5847 1366.0594,-68.0856 1355.8141,-70.7848 1359.7335,-76.5847\"/>\n</g>\n<!-- 18 -->\n<g id=\"node19\" class=\"node\">\n<title>18</title>\n<path fill=\"#4340e6\" stroke=\"#000000\" d=\"M1829,-306C1829,-306 1690,-306 1690,-306 1684,-306 1678,-300 1678,-294 1678,-294 1678,-235 1678,-235 1678,-229 1684,-223 1690,-223 1690,-223 1829,-223 1829,-223 1835,-223 1841,-229 1841,-235 1841,-235 1841,-294 1841,-294 1841,-300 1835,-306 1829,-306\"/>\n<text text-anchor=\"start\" x=\"1696\" y=\"-290.8\" font-family=\"Helvetica,sans-Serif\" font-size=\"14.00\" fill=\"#000000\">chicken_broth ≤ 0.5</text>\n<text text-anchor=\"start\" x=\"1726\" y=\"-275.8\" font-family=\"Helvetica,sans-Serif\" font-size=\"14.00\" fill=\"#000000\">gini = 0.07</text>\n<text text-anchor=\"start\" x=\"1711.5\" y=\"-260.8\" font-family=\"Helvetica,sans-Serif\" font-size=\"14.00\" fill=\"#000000\">samples = 166</text>\n<text text-anchor=\"start\" x=\"1686\" y=\"-245.8\" font-family=\"Helvetica,sans-Serif\" font-size=\"14.00\" fill=\"#000000\">value = [4, 0, 2, 160, 0]</text>\n<text text-anchor=\"start\" x=\"1704.5\" y=\"-230.8\" font-family=\"Helvetica,sans-Serif\" font-size=\"14.00\" fill=\"#000000\">class = japanese</text>\n</g>\n<!-- 17&#45;&gt;18 -->\n<g id=\"edge18\" class=\"edge\">\n<title>17&#45;&gt;18</title>\n<path fill=\"none\" stroke=\"#000000\" d=\"M1815.4214,-341.8796C1809.0428,-333.0534 1802.246,-323.6485 1795.6681,-314.5466\"/>\n<polygon fill=\"#000000\" stroke=\"#000000\" points=\"1798.4012,-312.353 1789.707,-306.2981 1792.7277,-316.4532 1798.4012,-312.353\"/>\n</g>\n<!-- 23 -->\n<g id=\"node24\" class=\"node\">\n<title>23</title>\n<path fill=\"#e539c0\" stroke=\"#000000\" d=\"M1993.5,-298.5C1993.5,-298.5 1871.5,-298.5 1871.5,-298.5 1865.5,-298.5 1859.5,-292.5 1859.5,-286.5 1859.5,-286.5 1859.5,-242.5 1859.5,-242.5 1859.5,-236.5 1865.5,-230.5 1871.5,-230.5 1871.5,-230.5 1993.5,-230.5 1993.5,-230.5 1999.5,-230.5 2005.5,-236.5 2005.5,-242.5 2005.5,-242.5 2005.5,-286.5 2005.5,-286.5 2005.5,-292.5 1999.5,-298.5 1993.5,-298.5\"/>\n<text text-anchor=\"start\" x=\"1903\" y=\"-283.3\" font-family=\"Helvetica,sans-Serif\" font-size=\"14.00\" fill=\"#000000\">gini = 0.0</text>\n<text text-anchor=\"start\" x=\"1893\" y=\"-268.3\" font-family=\"Helvetica,sans-Serif\" font-size=\"14.00\" fill=\"#000000\">samples = 1</text>\n<text text-anchor=\"start\" x=\"1867.5\" y=\"-253.3\" font-family=\"Helvetica,sans-Serif\" font-size=\"14.00\" fill=\"#000000\">value = [0, 0, 0, 0, 1]</text>\n<text text-anchor=\"start\" x=\"1885\" y=\"-238.3\" font-family=\"Helvetica,sans-Serif\" font-size=\"14.00\" fill=\"#000000\">class = korean</text>\n</g>\n<!-- 17&#45;&gt;23 -->\n<g id=\"edge23\" class=\"edge\">\n<title>17&#45;&gt;23</title>\n<path fill=\"none\" stroke=\"#000000\" d=\"M1875.9284,-341.8796C1884.2087,-330.5536 1893.1857,-318.2748 1901.4974,-306.9058\"/>\n<polygon fill=\"#000000\" stroke=\"#000000\" points=\"1904.3361,-308.9533 1907.4126,-298.8149 1898.6853,-304.822 1904.3361,-308.9533\"/>\n</g>\n<!-- 19 -->\n<g id=\"node20\" class=\"node\">\n<title>19</title>\n<path fill=\"#423fe6\" stroke=\"#000000\" d=\"M1743,-187C1743,-187 1604,-187 1604,-187 1598,-187 1592,-181 1592,-175 1592,-175 1592,-116 1592,-116 1592,-110 1598,-104 1604,-104 1604,-104 1743,-104 1743,-104 1749,-104 1755,-110 1755,-116 1755,-116 1755,-175 1755,-175 1755,-181 1749,-187 1743,-187\"/>\n<text text-anchor=\"start\" x=\"1622\" y=\"-171.8\" font-family=\"Helvetica,sans-Serif\" font-size=\"14.00\" fill=\"#000000\">peanut_oil ≤ 0.5</text>\n<text text-anchor=\"start\" x=\"1635.5\" y=\"-156.8\" font-family=\"Helvetica,sans-Serif\" font-size=\"14.00\" fill=\"#000000\">gini = 0.059</text>\n<text text-anchor=\"start\" x=\"1625.5\" y=\"-141.8\" font-family=\"Helvetica,sans-Serif\" font-size=\"14.00\" fill=\"#000000\">samples = 165</text>\n<text text-anchor=\"start\" x=\"1600\" y=\"-126.8\" font-family=\"Helvetica,sans-Serif\" font-size=\"14.00\" fill=\"#000000\">value = [3, 0, 2, 160, 0]</text>\n<text text-anchor=\"start\" x=\"1618.5\" y=\"-111.8\" font-family=\"Helvetica,sans-Serif\" font-size=\"14.00\" fill=\"#000000\">class = japanese</text>\n</g>\n<!-- 18&#45;&gt;19 -->\n<g id=\"edge19\" class=\"edge\">\n<title>18&#45;&gt;19</title>\n<path fill=\"none\" stroke=\"#000000\" d=\"M1729.4214,-222.8796C1723.0428,-214.0534 1716.246,-204.6485 1709.6681,-195.5466\"/>\n<polygon fill=\"#000000\" stroke=\"#000000\" points=\"1712.4012,-193.353 1703.707,-187.2981 1706.7277,-197.4532 1712.4012,-193.353\"/>\n</g>\n<!-- 22 -->\n<g id=\"node23\" class=\"node\">\n<title>22</title>\n<path fill=\"#e58139\" stroke=\"#000000\" d=\"M1907.5,-179.5C1907.5,-179.5 1785.5,-179.5 1785.5,-179.5 1779.5,-179.5 1773.5,-173.5 1773.5,-167.5 1773.5,-167.5 1773.5,-123.5 1773.5,-123.5 1773.5,-117.5 1779.5,-111.5 1785.5,-111.5 1785.5,-111.5 1907.5,-111.5 1907.5,-111.5 1913.5,-111.5 1919.5,-117.5 1919.5,-123.5 1919.5,-123.5 1919.5,-167.5 1919.5,-167.5 1919.5,-173.5 1913.5,-179.5 1907.5,-179.5\"/>\n<text text-anchor=\"start\" x=\"1817\" y=\"-164.3\" font-family=\"Helvetica,sans-Serif\" font-size=\"14.00\" fill=\"#000000\">gini = 0.0</text>\n<text text-anchor=\"start\" x=\"1807\" y=\"-149.3\" font-family=\"Helvetica,sans-Serif\" font-size=\"14.00\" fill=\"#000000\">samples = 1</text>\n<text text-anchor=\"start\" x=\"1781.5\" y=\"-134.3\" font-family=\"Helvetica,sans-Serif\" font-size=\"14.00\" fill=\"#000000\">value = [1, 0, 0, 0, 0]</text>\n<text text-anchor=\"start\" x=\"1802\" y=\"-119.3\" font-family=\"Helvetica,sans-Serif\" font-size=\"14.00\" fill=\"#000000\">class = indian</text>\n</g>\n<!-- 18&#45;&gt;22 -->\n<g id=\"edge22\" class=\"edge\">\n<title>18&#45;&gt;22</title>\n<path fill=\"none\" stroke=\"#000000\" d=\"M1789.9284,-222.8796C1798.2087,-211.5536 1807.1857,-199.2748 1815.4974,-187.9058\"/>\n<polygon fill=\"#000000\" stroke=\"#000000\" points=\"1818.3361,-189.9533 1821.4126,-179.8149 1812.6853,-185.822 1818.3361,-189.9533\"/>\n</g>\n<!-- 20 -->\n<g id=\"node21\" class=\"node\">\n<title>20</title>\n<path fill=\"#413ee6\" stroke=\"#000000\" d=\"M1659,-68C1659,-68 1520,-68 1520,-68 1514,-68 1508,-62 1508,-56 1508,-56 1508,-12 1508,-12 1508,-6 1514,0 1520,0 1520,0 1659,0 1659,0 1665,0 1671,-6 1671,-12 1671,-12 1671,-56 1671,-56 1671,-62 1665,-68 1659,-68\"/>\n<text text-anchor=\"start\" x=\"1551.5\" y=\"-52.8\" font-family=\"Helvetica,sans-Serif\" font-size=\"14.00\" fill=\"#000000\">gini = 0.048</text>\n<text text-anchor=\"start\" x=\"1541.5\" y=\"-37.8\" font-family=\"Helvetica,sans-Serif\" font-size=\"14.00\" fill=\"#000000\">samples = 164</text>\n<text text-anchor=\"start\" x=\"1516\" y=\"-22.8\" font-family=\"Helvetica,sans-Serif\" font-size=\"14.00\" fill=\"#000000\">value = [2, 0, 2, 160, 0]</text>\n<text text-anchor=\"start\" x=\"1534.5\" y=\"-7.8\" font-family=\"Helvetica,sans-Serif\" font-size=\"14.00\" fill=\"#000000\">class = japanese</text>\n</g>\n<!-- 19&#45;&gt;20 -->\n<g id=\"edge20\" class=\"edge\">\n<title>19&#45;&gt;20</title>\n<path fill=\"none\" stroke=\"#000000\" d=\"M1642.2215,-103.9815C1635.4361,-94.9747 1628.2505,-85.4367 1621.4399,-76.3965\"/>\n<polygon fill=\"#000000\" stroke=\"#000000\" points=\"1624.1257,-74.1448 1615.313,-68.2637 1618.5347,-78.3568 1624.1257,-74.1448\"/>\n</g>\n<!-- 21 -->\n<g id=\"node22\" class=\"node\">\n<title>21</title>\n<path fill=\"#e58139\" stroke=\"#000000\" d=\"M1823.5,-68C1823.5,-68 1701.5,-68 1701.5,-68 1695.5,-68 1689.5,-62 1689.5,-56 1689.5,-56 1689.5,-12 1689.5,-12 1689.5,-6 1695.5,0 1701.5,0 1701.5,0 1823.5,0 1823.5,0 1829.5,0 1835.5,-6 1835.5,-12 1835.5,-12 1835.5,-56 1835.5,-56 1835.5,-62 1829.5,-68 1823.5,-68\"/>\n<text text-anchor=\"start\" x=\"1733\" y=\"-52.8\" font-family=\"Helvetica,sans-Serif\" font-size=\"14.00\" fill=\"#000000\">gini = 0.0</text>\n<text text-anchor=\"start\" x=\"1723\" y=\"-37.8\" font-family=\"Helvetica,sans-Serif\" font-size=\"14.00\" fill=\"#000000\">samples = 1</text>\n<text text-anchor=\"start\" x=\"1697.5\" y=\"-22.8\" font-family=\"Helvetica,sans-Serif\" font-size=\"14.00\" fill=\"#000000\">value = [1, 0, 0, 0, 0]</text>\n<text text-anchor=\"start\" x=\"1718\" y=\"-7.8\" font-family=\"Helvetica,sans-Serif\" font-size=\"14.00\" fill=\"#000000\">class = indian</text>\n</g>\n<!-- 19&#45;&gt;21 -->\n<g id=\"edge21\" class=\"edge\">\n<title>19&#45;&gt;21</title>\n<path fill=\"none\" stroke=\"#000000\" d=\"M1706.6403,-103.9815C1713.903,-94.8828 1721.5983,-85.242 1728.8796,-76.1199\"/>\n<polygon fill=\"#000000\" stroke=\"#000000\" points=\"1731.6475,-78.2627 1735.1505,-68.2637 1726.1766,-73.8958 1731.6475,-78.2627\"/>\n</g>\n<!-- 25 -->\n<g id=\"node26\" class=\"node\">\n<title>25</title>\n<path fill=\"#8ae84f\" stroke=\"#000000\" d=\"M2553,-425C2553,-425 2406,-425 2406,-425 2400,-425 2394,-419 2394,-413 2394,-413 2394,-354 2394,-354 2394,-348 2400,-342 2406,-342 2406,-342 2553,-342 2553,-342 2559,-342 2565,-348 2565,-354 2565,-354 2565,-413 2565,-413 2565,-419 2559,-425 2553,-425\"/>\n<text text-anchor=\"start\" x=\"2450.5\" y=\"-409.8\" font-family=\"Helvetica,sans-Serif\" font-size=\"14.00\" fill=\"#000000\">fish ≤ 0.5</text>\n<text text-anchor=\"start\" x=\"2441.5\" y=\"-394.8\" font-family=\"Helvetica,sans-Serif\" font-size=\"14.00\" fill=\"#000000\">gini = 0.186</text>\n<text text-anchor=\"start\" x=\"2431.5\" y=\"-379.8\" font-family=\"Helvetica,sans-Serif\" font-size=\"14.00\" fill=\"#000000\">samples = 314</text>\n<text text-anchor=\"start\" x=\"2402\" y=\"-364.8\" font-family=\"Helvetica,sans-Serif\" font-size=\"14.00\" fill=\"#000000\">value = [3, 282, 1, 2, 26]</text>\n<text text-anchor=\"start\" x=\"2443\" y=\"-349.8\" font-family=\"Helvetica,sans-Serif\" font-size=\"14.00\" fill=\"#000000\">class = thai</text>\n</g>\n<!-- 24&#45;&gt;25 -->\n<g id=\"edge25\" class=\"edge\">\n<title>24&#45;&gt;25</title>\n<path fill=\"none\" stroke=\"#000000\" d=\"M2479.5,-460.8796C2479.5,-452.6838 2479.5,-443.9891 2479.5,-435.5013\"/>\n<polygon fill=\"#000000\" stroke=\"#000000\" points=\"2483.0001,-435.298 2479.5,-425.2981 2476.0001,-435.2981 2483.0001,-435.298\"/>\n</g>\n<!-- 38 -->\n<g id=\"node39\" class=\"node\">\n<title>38</title>\n<path fill=\"#ef88d9\" stroke=\"#000000\" d=\"M3283,-425C3283,-425 3136,-425 3136,-425 3130,-425 3124,-419 3124,-413 3124,-413 3124,-354 3124,-354 3124,-348 3130,-342 3136,-342 3136,-342 3283,-342 3283,-342 3289,-342 3295,-348 3295,-354 3295,-354 3295,-413 3295,-413 3295,-419 3289,-425 3283,-425\"/>\n<text text-anchor=\"start\" x=\"3163.5\" y=\"-409.8\" font-family=\"Helvetica,sans-Serif\" font-size=\"14.00\" fill=\"#000000\">cayenne ≤ 0.5</text>\n<text text-anchor=\"start\" x=\"3171.5\" y=\"-394.8\" font-family=\"Helvetica,sans-Serif\" font-size=\"14.00\" fill=\"#000000\">gini = 0.412</text>\n<text text-anchor=\"start\" x=\"3161.5\" y=\"-379.8\" font-family=\"Helvetica,sans-Serif\" font-size=\"14.00\" fill=\"#000000\">samples = 171</text>\n<text text-anchor=\"start\" x=\"3132\" y=\"-364.8\" font-family=\"Helvetica,sans-Serif\" font-size=\"14.00\" fill=\"#000000\">value = [0, 48, 1, 0, 122]</text>\n<text text-anchor=\"start\" x=\"3162\" y=\"-349.8\" font-family=\"Helvetica,sans-Serif\" font-size=\"14.00\" fill=\"#000000\">class = korean</text>\n</g>\n<!-- 24&#45;&gt;38 -->\n<g id=\"edge38\" class=\"edge\">\n<title>24&#45;&gt;38</title>\n<path fill=\"none\" stroke=\"#000000\" d=\"M2569.0123,-487.9083C2707.3225,-465.3618 2971.8071,-422.2472 3113.7855,-399.1028\"/>\n<polygon fill=\"#000000\" stroke=\"#000000\" points=\"3114.4862,-402.5348 3123.7928,-397.4714 3113.3599,-395.626 3114.4862,-402.5348\"/>\n</g>\n<!-- 26 -->\n<g id=\"node27\" class=\"node\">\n<title>26</title>\n<path fill=\"#85e748\" stroke=\"#000000\" d=\"M2428,-306C2428,-306 2281,-306 2281,-306 2275,-306 2269,-300 2269,-294 2269,-294 2269,-235 2269,-235 2269,-229 2275,-223 2281,-223 2281,-223 2428,-223 2428,-223 2434,-223 2440,-229 2440,-235 2440,-235 2440,-294 2440,-294 2440,-300 2434,-306 2428,-306\"/>\n<text text-anchor=\"start\" x=\"2301\" y=\"-290.8\" font-family=\"Helvetica,sans-Serif\" font-size=\"14.00\" fill=\"#000000\">soy_sauce ≤ 0.5</text>\n<text text-anchor=\"start\" x=\"2316.5\" y=\"-275.8\" font-family=\"Helvetica,sans-Serif\" font-size=\"14.00\" fill=\"#000000\">gini = 0.132</text>\n<text text-anchor=\"start\" x=\"2306.5\" y=\"-260.8\" font-family=\"Helvetica,sans-Serif\" font-size=\"14.00\" fill=\"#000000\">samples = 301</text>\n<text text-anchor=\"start\" x=\"2277\" y=\"-245.8\" font-family=\"Helvetica,sans-Serif\" font-size=\"14.00\" fill=\"#000000\">value = [3, 280, 1, 1, 16]</text>\n<text text-anchor=\"start\" x=\"2318\" y=\"-230.8\" font-family=\"Helvetica,sans-Serif\" font-size=\"14.00\" fill=\"#000000\">class = thai</text>\n</g>\n<!-- 25&#45;&gt;26 -->\n<g id=\"edge26\" class=\"edge\">\n<title>25&#45;&gt;26</title>\n<path fill=\"none\" stroke=\"#000000\" d=\"M2435.7811,-341.8796C2426.1314,-332.6931 2415.8234,-322.8798 2405.9009,-313.4336\"/>\n<polygon fill=\"#000000\" stroke=\"#000000\" points=\"2408.0616,-310.6582 2398.4055,-306.2981 2403.235,-315.7282 2408.0616,-310.6582\"/>\n</g>\n<!-- 33 -->\n<g id=\"node34\" class=\"node\">\n<title>33</title>\n<path fill=\"#ec6fd1\" stroke=\"#000000\" d=\"M2671,-306C2671,-306 2540,-306 2540,-306 2534,-306 2528,-300 2528,-294 2528,-294 2528,-235 2528,-235 2528,-229 2534,-223 2540,-223 2540,-223 2671,-223 2671,-223 2677,-223 2683,-229 2683,-235 2683,-235 2683,-294 2683,-294 2683,-300 2677,-306 2671,-306\"/>\n<text text-anchor=\"start\" x=\"2555.5\" y=\"-290.8\" font-family=\"Helvetica,sans-Serif\" font-size=\"14.00\" fill=\"#000000\">cucumber ≤ 0.5</text>\n<text text-anchor=\"start\" x=\"2567.5\" y=\"-275.8\" font-family=\"Helvetica,sans-Serif\" font-size=\"14.00\" fill=\"#000000\">gini = 0.379</text>\n<text text-anchor=\"start\" x=\"2561.5\" y=\"-260.8\" font-family=\"Helvetica,sans-Serif\" font-size=\"14.00\" fill=\"#000000\">samples = 13</text>\n<text text-anchor=\"start\" x=\"2536\" y=\"-245.8\" font-family=\"Helvetica,sans-Serif\" font-size=\"14.00\" fill=\"#000000\">value = [0, 2, 0, 1, 10]</text>\n<text text-anchor=\"start\" x=\"2558\" y=\"-230.8\" font-family=\"Helvetica,sans-Serif\" font-size=\"14.00\" fill=\"#000000\">class = korean</text>\n</g>\n<!-- 25&#45;&gt;33 -->\n<g id=\"edge33\" class=\"edge\">\n<title>25&#45;&gt;33</title>\n<path fill=\"none\" stroke=\"#000000\" d=\"M2523.5687,-341.8796C2533.2955,-332.6931 2543.6861,-322.8798 2553.6879,-313.4336\"/>\n<polygon fill=\"#000000\" stroke=\"#000000\" points=\"2556.3763,-315.7089 2561.2432,-306.2981 2551.5699,-310.6198 2556.3763,-315.7089\"/>\n</g>\n<!-- 27 -->\n<g id=\"node28\" class=\"node\">\n<title>27</title>\n<path fill=\"#81e642\" stroke=\"#000000\" d=\"M2182,-187C2182,-187 2035,-187 2035,-187 2029,-187 2023,-181 2023,-175 2023,-175 2023,-116 2023,-116 2023,-110 2029,-104 2035,-104 2035,-104 2182,-104 2182,-104 2188,-104 2194,-110 2194,-116 2194,-116 2194,-175 2194,-175 2194,-181 2188,-187 2182,-187\"/>\n<text text-anchor=\"start\" x=\"2060\" y=\"-171.8\" font-family=\"Helvetica,sans-Serif\" font-size=\"14.00\" fill=\"#000000\">marjoram ≤ 0.5</text>\n<text text-anchor=\"start\" x=\"2070.5\" y=\"-156.8\" font-family=\"Helvetica,sans-Serif\" font-size=\"14.00\" fill=\"#000000\">gini = 0.087</text>\n<text text-anchor=\"start\" x=\"2060.5\" y=\"-141.8\" font-family=\"Helvetica,sans-Serif\" font-size=\"14.00\" fill=\"#000000\">samples = 287</text>\n<text text-anchor=\"start\" x=\"2031\" y=\"-126.8\" font-family=\"Helvetica,sans-Serif\" font-size=\"14.00\" fill=\"#000000\">value = [0, 274, 1, 1, 11]</text>\n<text text-anchor=\"start\" x=\"2072\" y=\"-111.8\" font-family=\"Helvetica,sans-Serif\" font-size=\"14.00\" fill=\"#000000\">class = thai</text>\n</g>\n<!-- 26&#45;&gt;27 -->\n<g id=\"edge27\" class=\"edge\">\n<title>26&#45;&gt;27</title>\n<path fill=\"none\" stroke=\"#000000\" d=\"M2268.8065,-223.0466C2247.6951,-212.8342 2224.9641,-201.8383 2203.4435,-191.428\"/>\n<polygon fill=\"#000000\" stroke=\"#000000\" points=\"2204.829,-188.2102 2194.3028,-187.0062 2201.7807,-194.5116 2204.829,-188.2102\"/>\n</g>\n<!-- 30 -->\n<g id=\"node31\" class=\"node\">\n<title>30</title>\n<path fill=\"#f0fce9\" stroke=\"#000000\" d=\"M2415.5,-187C2415.5,-187 2293.5,-187 2293.5,-187 2287.5,-187 2281.5,-181 2281.5,-175 2281.5,-175 2281.5,-116 2281.5,-116 2281.5,-110 2287.5,-104 2293.5,-104 2293.5,-104 2415.5,-104 2415.5,-104 2421.5,-104 2427.5,-110 2427.5,-116 2427.5,-116 2427.5,-175 2427.5,-175 2427.5,-181 2421.5,-187 2415.5,-187\"/>\n<text text-anchor=\"start\" x=\"2291\" y=\"-171.8\" font-family=\"Helvetica,sans-Serif\" font-size=\"14.00\" fill=\"#000000\">chicken_broth ≤ 0.5</text>\n<text text-anchor=\"start\" x=\"2316.5\" y=\"-156.8\" font-family=\"Helvetica,sans-Serif\" font-size=\"14.00\" fill=\"#000000\">gini = 0.643</text>\n<text text-anchor=\"start\" x=\"2310.5\" y=\"-141.8\" font-family=\"Helvetica,sans-Serif\" font-size=\"14.00\" fill=\"#000000\">samples = 14</text>\n<text text-anchor=\"start\" x=\"2289.5\" y=\"-126.8\" font-family=\"Helvetica,sans-Serif\" font-size=\"14.00\" fill=\"#000000\">value = [3, 6, 0, 0, 5]</text>\n<text text-anchor=\"start\" x=\"2318\" y=\"-111.8\" font-family=\"Helvetica,sans-Serif\" font-size=\"14.00\" fill=\"#000000\">class = thai</text>\n</g>\n<!-- 26&#45;&gt;30 -->\n<g id=\"edge30\" class=\"edge\">\n<title>26&#45;&gt;30</title>\n<path fill=\"none\" stroke=\"#000000\" d=\"M2354.5,-222.8796C2354.5,-214.6838 2354.5,-205.9891 2354.5,-197.5013\"/>\n<polygon fill=\"#000000\" stroke=\"#000000\" points=\"2358.0001,-197.298 2354.5,-187.2981 2351.0001,-197.2981 2358.0001,-197.298\"/>\n</g>\n<!-- 28 -->\n<g id=\"node29\" class=\"node\">\n<title>28</title>\n<path fill=\"#80e641\" stroke=\"#000000\" d=\"M2005,-68C2005,-68 1866,-68 1866,-68 1860,-68 1854,-62 1854,-56 1854,-56 1854,-12 1854,-12 1854,-6 1860,0 1866,0 1866,0 2005,0 2005,0 2011,0 2017,-6 2017,-12 2017,-12 2017,-56 2017,-56 2017,-62 2011,-68 2005,-68\"/>\n<text text-anchor=\"start\" x=\"1897.5\" y=\"-52.8\" font-family=\"Helvetica,sans-Serif\" font-size=\"14.00\" fill=\"#000000\">gini = 0.075</text>\n<text text-anchor=\"start\" x=\"1887.5\" y=\"-37.8\" font-family=\"Helvetica,sans-Serif\" font-size=\"14.00\" fill=\"#000000\">samples = 285</text>\n<text text-anchor=\"start\" x=\"1862\" y=\"-22.8\" font-family=\"Helvetica,sans-Serif\" font-size=\"14.00\" fill=\"#000000\">value = [0, 274, 1, 1, 9]</text>\n<text text-anchor=\"start\" x=\"1899\" y=\"-7.8\" font-family=\"Helvetica,sans-Serif\" font-size=\"14.00\" fill=\"#000000\">class = thai</text>\n</g>\n<!-- 27&#45;&gt;28 -->\n<g id=\"edge28\" class=\"edge\">\n<title>27&#45;&gt;28</title>\n<path fill=\"none\" stroke=\"#000000\" d=\"M2044.0812,-103.9815C2028.7427,-94.0957 2012.4115,-83.5701 1997.1984,-73.7651\"/>\n<polygon fill=\"#000000\" stroke=\"#000000\" points=\"1998.6878,-70.5611 1988.3862,-68.0856 1994.8956,-76.445 1998.6878,-70.5611\"/>\n</g>\n<!-- 29 -->\n<g id=\"node30\" class=\"node\">\n<title>29</title>\n<path fill=\"#e539c0\" stroke=\"#000000\" d=\"M2169.5,-68C2169.5,-68 2047.5,-68 2047.5,-68 2041.5,-68 2035.5,-62 2035.5,-56 2035.5,-56 2035.5,-12 2035.5,-12 2035.5,-6 2041.5,0 2047.5,0 2047.5,0 2169.5,0 2169.5,0 2175.5,0 2181.5,-6 2181.5,-12 2181.5,-12 2181.5,-56 2181.5,-56 2181.5,-62 2175.5,-68 2169.5,-68\"/>\n<text text-anchor=\"start\" x=\"2079\" y=\"-52.8\" font-family=\"Helvetica,sans-Serif\" font-size=\"14.00\" fill=\"#000000\">gini = 0.0</text>\n<text text-anchor=\"start\" x=\"2069\" y=\"-37.8\" font-family=\"Helvetica,sans-Serif\" font-size=\"14.00\" fill=\"#000000\">samples = 2</text>\n<text text-anchor=\"start\" x=\"2043.5\" y=\"-22.8\" font-family=\"Helvetica,sans-Serif\" font-size=\"14.00\" fill=\"#000000\">value = [0, 0, 0, 0, 2]</text>\n<text text-anchor=\"start\" x=\"2061\" y=\"-7.8\" font-family=\"Helvetica,sans-Serif\" font-size=\"14.00\" fill=\"#000000\">class = korean</text>\n</g>\n<!-- 27&#45;&gt;29 -->\n<g id=\"edge29\" class=\"edge\">\n<title>27&#45;&gt;29</title>\n<path fill=\"none\" stroke=\"#000000\" d=\"M2108.5,-103.9815C2108.5,-95.618 2108.5,-86.7965 2108.5,-78.3409\"/>\n<polygon fill=\"#000000\" stroke=\"#000000\" points=\"2112.0001,-78.2636 2108.5,-68.2637 2105.0001,-78.2637 2112.0001,-78.2636\"/>\n</g>\n<!-- 31 -->\n<g id=\"node32\" class=\"node\">\n<title>31</title>\n<path fill=\"#d3f6bd\" stroke=\"#000000\" d=\"M2333.5,-68C2333.5,-68 2211.5,-68 2211.5,-68 2205.5,-68 2199.5,-62 2199.5,-56 2199.5,-56 2199.5,-12 2199.5,-12 2199.5,-6 2205.5,0 2211.5,0 2211.5,0 2333.5,0 2333.5,0 2339.5,0 2345.5,-6 2345.5,-12 2345.5,-12 2345.5,-56 2345.5,-56 2345.5,-62 2339.5,-68 2333.5,-68\"/>\n<text text-anchor=\"start\" x=\"2239\" y=\"-52.8\" font-family=\"Helvetica,sans-Serif\" font-size=\"14.00\" fill=\"#000000\">gini = 0.48</text>\n<text text-anchor=\"start\" x=\"2228.5\" y=\"-37.8\" font-family=\"Helvetica,sans-Serif\" font-size=\"14.00\" fill=\"#000000\">samples = 10</text>\n<text text-anchor=\"start\" x=\"2207.5\" y=\"-22.8\" font-family=\"Helvetica,sans-Serif\" font-size=\"14.00\" fill=\"#000000\">value = [0, 6, 0, 0, 4]</text>\n<text text-anchor=\"start\" x=\"2236\" y=\"-7.8\" font-family=\"Helvetica,sans-Serif\" font-size=\"14.00\" fill=\"#000000\">class = thai</text>\n</g>\n<!-- 30&#45;&gt;31 -->\n<g id=\"edge31\" class=\"edge\">\n<title>30&#45;&gt;31</title>\n<path fill=\"none\" stroke=\"#000000\" d=\"M2323.9662,-103.9815C2317.3424,-94.9747 2310.3279,-85.4367 2303.6795,-76.3965\"/>\n<polygon fill=\"#000000\" stroke=\"#000000\" points=\"2306.4426,-74.2461 2297.6984,-68.2637 2300.8034,-78.3933 2306.4426,-74.2461\"/>\n</g>\n<!-- 32 -->\n<g id=\"node33\" class=\"node\">\n<title>32</title>\n<path fill=\"#eeab7b\" stroke=\"#000000\" d=\"M2497.5,-68C2497.5,-68 2375.5,-68 2375.5,-68 2369.5,-68 2363.5,-62 2363.5,-56 2363.5,-56 2363.5,-12 2363.5,-12 2363.5,-6 2369.5,0 2375.5,0 2375.5,0 2497.5,0 2497.5,0 2503.5,0 2509.5,-6 2509.5,-12 2509.5,-12 2509.5,-56 2509.5,-56 2509.5,-62 2503.5,-68 2497.5,-68\"/>\n<text text-anchor=\"start\" x=\"2398.5\" y=\"-52.8\" font-family=\"Helvetica,sans-Serif\" font-size=\"14.00\" fill=\"#000000\">gini = 0.375</text>\n<text text-anchor=\"start\" x=\"2397\" y=\"-37.8\" font-family=\"Helvetica,sans-Serif\" font-size=\"14.00\" fill=\"#000000\">samples = 4</text>\n<text text-anchor=\"start\" x=\"2371.5\" y=\"-22.8\" font-family=\"Helvetica,sans-Serif\" font-size=\"14.00\" fill=\"#000000\">value = [3, 0, 0, 0, 1]</text>\n<text text-anchor=\"start\" x=\"2392\" y=\"-7.8\" font-family=\"Helvetica,sans-Serif\" font-size=\"14.00\" fill=\"#000000\">class = indian</text>\n</g>\n<!-- 30&#45;&gt;32 -->\n<g id=\"edge32\" class=\"edge\">\n<title>30&#45;&gt;32</title>\n<path fill=\"none\" stroke=\"#000000\" d=\"M2385.0338,-103.9815C2391.6576,-94.9747 2398.6721,-85.4367 2405.3205,-76.3965\"/>\n<polygon fill=\"#000000\" stroke=\"#000000\" points=\"2408.1966,-78.3933 2411.3016,-68.2637 2402.5574,-74.2461 2408.1966,-78.3933\"/>\n</g>\n<!-- 34 -->\n<g id=\"node35\" class=\"node\">\n<title>34</title>\n<path fill=\"#e84dc6\" stroke=\"#000000\" d=\"M2671,-187C2671,-187 2540,-187 2540,-187 2534,-187 2528,-181 2528,-175 2528,-175 2528,-116 2528,-116 2528,-110 2534,-104 2540,-104 2540,-104 2671,-104 2671,-104 2677,-104 2683,-110 2683,-116 2683,-116 2683,-175 2683,-175 2683,-181 2677,-187 2671,-187\"/>\n<text text-anchor=\"start\" x=\"2555.5\" y=\"-171.8\" font-family=\"Helvetica,sans-Serif\" font-size=\"14.00\" fill=\"#000000\">vegetable ≤ 0.5</text>\n<text text-anchor=\"start\" x=\"2567.5\" y=\"-156.8\" font-family=\"Helvetica,sans-Serif\" font-size=\"14.00\" fill=\"#000000\">gini = 0.165</text>\n<text text-anchor=\"start\" x=\"2561.5\" y=\"-141.8\" font-family=\"Helvetica,sans-Serif\" font-size=\"14.00\" fill=\"#000000\">samples = 11</text>\n<text text-anchor=\"start\" x=\"2536\" y=\"-126.8\" font-family=\"Helvetica,sans-Serif\" font-size=\"14.00\" fill=\"#000000\">value = [0, 0, 0, 1, 10]</text>\n<text text-anchor=\"start\" x=\"2558\" y=\"-111.8\" font-family=\"Helvetica,sans-Serif\" font-size=\"14.00\" fill=\"#000000\">class = korean</text>\n</g>\n<!-- 33&#45;&gt;34 -->\n<g id=\"edge34\" class=\"edge\">\n<title>33&#45;&gt;34</title>\n<path fill=\"none\" stroke=\"#000000\" d=\"M2605.5,-222.8796C2605.5,-214.6838 2605.5,-205.9891 2605.5,-197.5013\"/>\n<polygon fill=\"#000000\" stroke=\"#000000\" points=\"2609.0001,-197.298 2605.5,-187.2981 2602.0001,-197.2981 2609.0001,-197.298\"/>\n</g>\n<!-- 37 -->\n<g id=\"node38\" class=\"node\">\n<title>37</title>\n<path fill=\"#7be539\" stroke=\"#000000\" d=\"M2835.5,-179.5C2835.5,-179.5 2713.5,-179.5 2713.5,-179.5 2707.5,-179.5 2701.5,-173.5 2701.5,-167.5 2701.5,-167.5 2701.5,-123.5 2701.5,-123.5 2701.5,-117.5 2707.5,-111.5 2713.5,-111.5 2713.5,-111.5 2835.5,-111.5 2835.5,-111.5 2841.5,-111.5 2847.5,-117.5 2847.5,-123.5 2847.5,-123.5 2847.5,-167.5 2847.5,-167.5 2847.5,-173.5 2841.5,-179.5 2835.5,-179.5\"/>\n<text text-anchor=\"start\" x=\"2745\" y=\"-164.3\" font-family=\"Helvetica,sans-Serif\" font-size=\"14.00\" fill=\"#000000\">gini = 0.0</text>\n<text text-anchor=\"start\" x=\"2735\" y=\"-149.3\" font-family=\"Helvetica,sans-Serif\" font-size=\"14.00\" fill=\"#000000\">samples = 2</text>\n<text text-anchor=\"start\" x=\"2709.5\" y=\"-134.3\" font-family=\"Helvetica,sans-Serif\" font-size=\"14.00\" fill=\"#000000\">value = [0, 2, 0, 0, 0]</text>\n<text text-anchor=\"start\" x=\"2738\" y=\"-119.3\" font-family=\"Helvetica,sans-Serif\" font-size=\"14.00\" fill=\"#000000\">class = thai</text>\n</g>\n<!-- 33&#45;&gt;37 -->\n<g id=\"edge37\" class=\"edge\">\n<title>33&#45;&gt;37</title>\n<path fill=\"none\" stroke=\"#000000\" d=\"M2664.608,-222.8796C2681.8677,-210.7263 2700.6856,-197.4759 2717.793,-185.4297\"/>\n<polygon fill=\"#000000\" stroke=\"#000000\" points=\"2719.8782,-188.2421 2726.0396,-179.623 2715.8481,-182.5187 2719.8782,-188.2421\"/>\n</g>\n<!-- 35 -->\n<g id=\"node36\" class=\"node\">\n<title>35</title>\n<path fill=\"#e539c0\" stroke=\"#000000\" d=\"M2671,-68C2671,-68 2540,-68 2540,-68 2534,-68 2528,-62 2528,-56 2528,-56 2528,-12 2528,-12 2528,-6 2534,0 2540,0 2540,0 2671,0 2671,0 2677,0 2683,-6 2683,-12 2683,-12 2683,-56 2683,-56 2683,-62 2677,-68 2671,-68\"/>\n<text text-anchor=\"start\" x=\"2576\" y=\"-52.8\" font-family=\"Helvetica,sans-Serif\" font-size=\"14.00\" fill=\"#000000\">gini = 0.0</text>\n<text text-anchor=\"start\" x=\"2561.5\" y=\"-37.8\" font-family=\"Helvetica,sans-Serif\" font-size=\"14.00\" fill=\"#000000\">samples = 10</text>\n<text text-anchor=\"start\" x=\"2536\" y=\"-22.8\" font-family=\"Helvetica,sans-Serif\" font-size=\"14.00\" fill=\"#000000\">value = [0, 0, 0, 0, 10]</text>\n<text text-anchor=\"start\" x=\"2558\" y=\"-7.8\" font-family=\"Helvetica,sans-Serif\" font-size=\"14.00\" fill=\"#000000\">class = korean</text>\n</g>\n<!-- 34&#45;&gt;35 -->\n<g id=\"edge35\" class=\"edge\">\n<title>34&#45;&gt;35</title>\n<path fill=\"none\" stroke=\"#000000\" d=\"M2605.5,-103.9815C2605.5,-95.618 2605.5,-86.7965 2605.5,-78.3409\"/>\n<polygon fill=\"#000000\" stroke=\"#000000\" points=\"2609.0001,-78.2636 2605.5,-68.2637 2602.0001,-78.2637 2609.0001,-78.2636\"/>\n</g>\n<!-- 36 -->\n<g id=\"node37\" class=\"node\">\n<title>36</title>\n<path fill=\"#3c39e5\" stroke=\"#000000\" d=\"M2835.5,-68C2835.5,-68 2713.5,-68 2713.5,-68 2707.5,-68 2701.5,-62 2701.5,-56 2701.5,-56 2701.5,-12 2701.5,-12 2701.5,-6 2707.5,0 2713.5,0 2713.5,0 2835.5,0 2835.5,0 2841.5,0 2847.5,-6 2847.5,-12 2847.5,-12 2847.5,-56 2847.5,-56 2847.5,-62 2841.5,-68 2835.5,-68\"/>\n<text text-anchor=\"start\" x=\"2745\" y=\"-52.8\" font-family=\"Helvetica,sans-Serif\" font-size=\"14.00\" fill=\"#000000\">gini = 0.0</text>\n<text text-anchor=\"start\" x=\"2735\" y=\"-37.8\" font-family=\"Helvetica,sans-Serif\" font-size=\"14.00\" fill=\"#000000\">samples = 1</text>\n<text text-anchor=\"start\" x=\"2709.5\" y=\"-22.8\" font-family=\"Helvetica,sans-Serif\" font-size=\"14.00\" fill=\"#000000\">value = [0, 0, 0, 1, 0]</text>\n<text text-anchor=\"start\" x=\"2719.5\" y=\"-7.8\" font-family=\"Helvetica,sans-Serif\" font-size=\"14.00\" fill=\"#000000\">class = japanese</text>\n</g>\n<!-- 34&#45;&gt;36 -->\n<g id=\"edge36\" class=\"edge\">\n<title>34&#45;&gt;36</title>\n<path fill=\"none\" stroke=\"#000000\" d=\"M2668.4294,-103.9815C2683.4132,-94.0957 2699.3668,-83.5701 2714.2282,-73.7651\"/>\n<polygon fill=\"#000000\" stroke=\"#000000\" points=\"2716.417,-76.5142 2722.8366,-68.0856 2712.5621,-70.6713 2716.417,-76.5142\"/>\n</g>\n<!-- 39 -->\n<g id=\"node40\" class=\"node\">\n<title>39</title>\n<path fill=\"#e95acb\" stroke=\"#000000\" d=\"M3283,-306C3283,-306 3136,-306 3136,-306 3130,-306 3124,-300 3124,-294 3124,-294 3124,-235 3124,-235 3124,-229 3130,-223 3136,-223 3136,-223 3283,-223 3283,-223 3289,-223 3295,-229 3295,-235 3295,-235 3295,-294 3295,-294 3295,-300 3289,-306 3283,-306\"/>\n<text text-anchor=\"start\" x=\"3163.5\" y=\"-290.8\" font-family=\"Helvetica,sans-Serif\" font-size=\"14.00\" fill=\"#000000\">soybean ≤ 0.5</text>\n<text text-anchor=\"start\" x=\"3171.5\" y=\"-275.8\" font-family=\"Helvetica,sans-Serif\" font-size=\"14.00\" fill=\"#000000\">gini = 0.245</text>\n<text text-anchor=\"start\" x=\"3161.5\" y=\"-260.8\" font-family=\"Helvetica,sans-Serif\" font-size=\"14.00\" fill=\"#000000\">samples = 126</text>\n<text text-anchor=\"start\" x=\"3132\" y=\"-245.8\" font-family=\"Helvetica,sans-Serif\" font-size=\"14.00\" fill=\"#000000\">value = [0, 18, 0, 0, 108]</text>\n<text text-anchor=\"start\" x=\"3162\" y=\"-230.8\" font-family=\"Helvetica,sans-Serif\" font-size=\"14.00\" fill=\"#000000\">class = korean</text>\n</g>\n<!-- 38&#45;&gt;39 -->\n<g id=\"edge39\" class=\"edge\">\n<title>38&#45;&gt;39</title>\n<path fill=\"none\" stroke=\"#000000\" d=\"M3209.5,-341.8796C3209.5,-333.6838 3209.5,-324.9891 3209.5,-316.5013\"/>\n<polygon fill=\"#000000\" stroke=\"#000000\" points=\"3213.0001,-316.298 3209.5,-306.2981 3206.0001,-316.2981 3213.0001,-316.298\"/>\n</g>\n<!-- 46 -->\n<g id=\"node47\" class=\"node\">\n<title>46</title>\n<path fill=\"#bbf299\" stroke=\"#000000\" d=\"M3777,-306C3777,-306 3638,-306 3638,-306 3632,-306 3626,-300 3626,-294 3626,-294 3626,-235 3626,-235 3626,-229 3632,-223 3638,-223 3638,-223 3777,-223 3777,-223 3783,-223 3789,-229 3789,-235 3789,-235 3789,-294 3789,-294 3789,-300 3783,-306 3777,-306\"/>\n<text text-anchor=\"start\" x=\"3678.5\" y=\"-290.8\" font-family=\"Helvetica,sans-Serif\" font-size=\"14.00\" fill=\"#000000\">fish ≤ 0.5</text>\n<text text-anchor=\"start\" x=\"3669.5\" y=\"-275.8\" font-family=\"Helvetica,sans-Serif\" font-size=\"14.00\" fill=\"#000000\">gini = 0.458</text>\n<text text-anchor=\"start\" x=\"3663.5\" y=\"-260.8\" font-family=\"Helvetica,sans-Serif\" font-size=\"14.00\" fill=\"#000000\">samples = 45</text>\n<text text-anchor=\"start\" x=\"3634\" y=\"-245.8\" font-family=\"Helvetica,sans-Serif\" font-size=\"14.00\" fill=\"#000000\">value = [0, 30, 1, 0, 14]</text>\n<text text-anchor=\"start\" x=\"3671\" y=\"-230.8\" font-family=\"Helvetica,sans-Serif\" font-size=\"14.00\" fill=\"#000000\">class = thai</text>\n</g>\n<!-- 38&#45;&gt;46 -->\n<g id=\"edge46\" class=\"edge\">\n<title>38&#45;&gt;46</title>\n<path fill=\"none\" stroke=\"#000000\" d=\"M3295.1093,-363.0432C3384.594,-341.6603 3524.4848,-308.2326 3616.0806,-286.3452\"/>\n<polygon fill=\"#000000\" stroke=\"#000000\" points=\"3616.9832,-289.7281 3625.8959,-283.9998 3615.3563,-282.9198 3616.9832,-289.7281\"/>\n</g>\n<!-- 40 -->\n<g id=\"node41\" class=\"node\">\n<title>40</title>\n<path fill=\"#e955c9\" stroke=\"#000000\" d=\"M3195,-187C3195,-187 3048,-187 3048,-187 3042,-187 3036,-181 3036,-175 3036,-175 3036,-116 3036,-116 3036,-110 3042,-104 3048,-104 3048,-104 3195,-104 3195,-104 3201,-104 3207,-110 3207,-116 3207,-116 3207,-175 3207,-175 3207,-181 3201,-187 3195,-187\"/>\n<text text-anchor=\"start\" x=\"3071.5\" y=\"-171.8\" font-family=\"Helvetica,sans-Serif\" font-size=\"14.00\" fill=\"#000000\">cinnamon ≤ 0.5</text>\n<text text-anchor=\"start\" x=\"3083.5\" y=\"-156.8\" font-family=\"Helvetica,sans-Serif\" font-size=\"14.00\" fill=\"#000000\">gini = 0.216</text>\n<text text-anchor=\"start\" x=\"3073.5\" y=\"-141.8\" font-family=\"Helvetica,sans-Serif\" font-size=\"14.00\" fill=\"#000000\">samples = 122</text>\n<text text-anchor=\"start\" x=\"3044\" y=\"-126.8\" font-family=\"Helvetica,sans-Serif\" font-size=\"14.00\" fill=\"#000000\">value = [0, 15, 0, 0, 107]</text>\n<text text-anchor=\"start\" x=\"3074\" y=\"-111.8\" font-family=\"Helvetica,sans-Serif\" font-size=\"14.00\" fill=\"#000000\">class = korean</text>\n</g>\n<!-- 39&#45;&gt;40 -->\n<g id=\"edge40\" class=\"edge\">\n<title>39&#45;&gt;40</title>\n<path fill=\"none\" stroke=\"#000000\" d=\"M3178.7219,-222.8796C3172.1949,-214.0534 3165.2401,-204.6485 3158.5092,-195.5466\"/>\n<polygon fill=\"#000000\" stroke=\"#000000\" points=\"3161.1695,-193.2574 3152.4095,-187.2981 3155.5412,-197.4195 3161.1695,-193.2574\"/>\n</g>\n<!-- 43 -->\n<g id=\"node44\" class=\"node\">\n<title>43</title>\n<path fill=\"#a7ee7b\" stroke=\"#000000\" d=\"M3359.5,-187C3359.5,-187 3237.5,-187 3237.5,-187 3231.5,-187 3225.5,-181 3225.5,-175 3225.5,-175 3225.5,-116 3225.5,-116 3225.5,-110 3231.5,-104 3237.5,-104 3237.5,-104 3359.5,-104 3359.5,-104 3365.5,-104 3371.5,-110 3371.5,-116 3371.5,-116 3371.5,-175 3371.5,-175 3371.5,-181 3365.5,-187 3359.5,-187\"/>\n<text text-anchor=\"start\" x=\"3242.5\" y=\"-171.8\" font-family=\"Helvetica,sans-Serif\" font-size=\"14.00\" fill=\"#000000\">lemongrass ≤ 0.5</text>\n<text text-anchor=\"start\" x=\"3260.5\" y=\"-156.8\" font-family=\"Helvetica,sans-Serif\" font-size=\"14.00\" fill=\"#000000\">gini = 0.375</text>\n<text text-anchor=\"start\" x=\"3259\" y=\"-141.8\" font-family=\"Helvetica,sans-Serif\" font-size=\"14.00\" fill=\"#000000\">samples = 4</text>\n<text text-anchor=\"start\" x=\"3233.5\" y=\"-126.8\" font-family=\"Helvetica,sans-Serif\" font-size=\"14.00\" fill=\"#000000\">value = [0, 3, 0, 0, 1]</text>\n<text text-anchor=\"start\" x=\"3262\" y=\"-111.8\" font-family=\"Helvetica,sans-Serif\" font-size=\"14.00\" fill=\"#000000\">class = thai</text>\n</g>\n<!-- 39&#45;&gt;43 -->\n<g id=\"edge43\" class=\"edge\">\n<title>39&#45;&gt;43</title>\n<path fill=\"none\" stroke=\"#000000\" d=\"M3240.6279,-222.8796C3247.229,-214.0534 3254.2629,-204.6485 3261.0702,-195.5466\"/>\n<polygon fill=\"#000000\" stroke=\"#000000\" points=\"3264.0528,-197.4024 3267.2393,-187.2981 3258.4472,-193.2099 3264.0528,-197.4024\"/>\n</g>\n<!-- 41 -->\n<g id=\"node42\" class=\"node\">\n<title>41</title>\n<path fill=\"#e851c8\" stroke=\"#000000\" d=\"M3025,-68C3025,-68 2878,-68 2878,-68 2872,-68 2866,-62 2866,-56 2866,-56 2866,-12 2866,-12 2866,-6 2872,0 2878,0 2878,0 3025,0 3025,0 3031,0 3037,-6 3037,-12 3037,-12 3037,-56 3037,-56 3037,-62 3031,-68 3025,-68\"/>\n<text text-anchor=\"start\" x=\"2913.5\" y=\"-52.8\" font-family=\"Helvetica,sans-Serif\" font-size=\"14.00\" fill=\"#000000\">gini = 0.193</text>\n<text text-anchor=\"start\" x=\"2903.5\" y=\"-37.8\" font-family=\"Helvetica,sans-Serif\" font-size=\"14.00\" fill=\"#000000\">samples = 120</text>\n<text text-anchor=\"start\" x=\"2874\" y=\"-22.8\" font-family=\"Helvetica,sans-Serif\" font-size=\"14.00\" fill=\"#000000\">value = [0, 13, 0, 0, 107]</text>\n<text text-anchor=\"start\" x=\"2904\" y=\"-7.8\" font-family=\"Helvetica,sans-Serif\" font-size=\"14.00\" fill=\"#000000\">class = korean</text>\n</g>\n<!-- 40&#45;&gt;41 -->\n<g id=\"edge41\" class=\"edge\">\n<title>40&#45;&gt;41</title>\n<path fill=\"none\" stroke=\"#000000\" d=\"M3058.1983,-103.9815C3043.1258,-94.0957 3027.0778,-83.5701 3012.1284,-73.7651\"/>\n<polygon fill=\"#000000\" stroke=\"#000000\" points=\"3013.7506,-70.6434 3003.4691,-68.0856 3009.9115,-76.4968 3013.7506,-70.6434\"/>\n</g>\n<!-- 42 -->\n<g id=\"node43\" class=\"node\">\n<title>42</title>\n<path fill=\"#7be539\" stroke=\"#000000\" d=\"M3189.5,-68C3189.5,-68 3067.5,-68 3067.5,-68 3061.5,-68 3055.5,-62 3055.5,-56 3055.5,-56 3055.5,-12 3055.5,-12 3055.5,-6 3061.5,0 3067.5,0 3067.5,0 3189.5,0 3189.5,0 3195.5,0 3201.5,-6 3201.5,-12 3201.5,-12 3201.5,-56 3201.5,-56 3201.5,-62 3195.5,-68 3189.5,-68\"/>\n<text text-anchor=\"start\" x=\"3099\" y=\"-52.8\" font-family=\"Helvetica,sans-Serif\" font-size=\"14.00\" fill=\"#000000\">gini = 0.0</text>\n<text text-anchor=\"start\" x=\"3089\" y=\"-37.8\" font-family=\"Helvetica,sans-Serif\" font-size=\"14.00\" fill=\"#000000\">samples = 2</text>\n<text text-anchor=\"start\" x=\"3063.5\" y=\"-22.8\" font-family=\"Helvetica,sans-Serif\" font-size=\"14.00\" fill=\"#000000\">value = [0, 2, 0, 0, 0]</text>\n<text text-anchor=\"start\" x=\"3092\" y=\"-7.8\" font-family=\"Helvetica,sans-Serif\" font-size=\"14.00\" fill=\"#000000\">class = thai</text>\n</g>\n<!-- 40&#45;&gt;42 -->\n<g id=\"edge42\" class=\"edge\">\n<title>40&#45;&gt;42</title>\n<path fill=\"none\" stroke=\"#000000\" d=\"M3124.1065,-103.9815C3124.6316,-95.618 3125.1854,-86.7965 3125.7163,-78.3409\"/>\n<polygon fill=\"#000000\" stroke=\"#000000\" points=\"3129.2154,-78.4634 3126.3489,-68.2637 3122.2291,-78.0247 3129.2154,-78.4634\"/>\n</g>\n<!-- 44 -->\n<g id=\"node45\" class=\"node\">\n<title>44</title>\n<path fill=\"#7be539\" stroke=\"#000000\" d=\"M3353.5,-68C3353.5,-68 3231.5,-68 3231.5,-68 3225.5,-68 3219.5,-62 3219.5,-56 3219.5,-56 3219.5,-12 3219.5,-12 3219.5,-6 3225.5,0 3231.5,0 3231.5,0 3353.5,0 3353.5,0 3359.5,0 3365.5,-6 3365.5,-12 3365.5,-12 3365.5,-56 3365.5,-56 3365.5,-62 3359.5,-68 3353.5,-68\"/>\n<text text-anchor=\"start\" x=\"3263\" y=\"-52.8\" font-family=\"Helvetica,sans-Serif\" font-size=\"14.00\" fill=\"#000000\">gini = 0.0</text>\n<text text-anchor=\"start\" x=\"3253\" y=\"-37.8\" font-family=\"Helvetica,sans-Serif\" font-size=\"14.00\" fill=\"#000000\">samples = 3</text>\n<text text-anchor=\"start\" x=\"3227.5\" y=\"-22.8\" font-family=\"Helvetica,sans-Serif\" font-size=\"14.00\" fill=\"#000000\">value = [0, 3, 0, 0, 0]</text>\n<text text-anchor=\"start\" x=\"3256\" y=\"-7.8\" font-family=\"Helvetica,sans-Serif\" font-size=\"14.00\" fill=\"#000000\">class = thai</text>\n</g>\n<!-- 43&#45;&gt;44 -->\n<g id=\"edge44\" class=\"edge\">\n<title>43&#45;&gt;44</title>\n<path fill=\"none\" stroke=\"#000000\" d=\"M3296.2658,-103.9815C3295.8158,-95.618 3295.3411,-86.7965 3294.8861,-78.3409\"/>\n<polygon fill=\"#000000\" stroke=\"#000000\" points=\"3298.3762,-78.0611 3294.3438,-68.2637 3291.3863,-78.4373 3298.3762,-78.0611\"/>\n</g>\n<!-- 45 -->\n<g id=\"node46\" class=\"node\">\n<title>45</title>\n<path fill=\"#e539c0\" stroke=\"#000000\" d=\"M3517.5,-68C3517.5,-68 3395.5,-68 3395.5,-68 3389.5,-68 3383.5,-62 3383.5,-56 3383.5,-56 3383.5,-12 3383.5,-12 3383.5,-6 3389.5,0 3395.5,0 3395.5,0 3517.5,0 3517.5,0 3523.5,0 3529.5,-6 3529.5,-12 3529.5,-12 3529.5,-56 3529.5,-56 3529.5,-62 3523.5,-68 3517.5,-68\"/>\n<text text-anchor=\"start\" x=\"3427\" y=\"-52.8\" font-family=\"Helvetica,sans-Serif\" font-size=\"14.00\" fill=\"#000000\">gini = 0.0</text>\n<text text-anchor=\"start\" x=\"3417\" y=\"-37.8\" font-family=\"Helvetica,sans-Serif\" font-size=\"14.00\" fill=\"#000000\">samples = 1</text>\n<text text-anchor=\"start\" x=\"3391.5\" y=\"-22.8\" font-family=\"Helvetica,sans-Serif\" font-size=\"14.00\" fill=\"#000000\">value = [0, 0, 0, 0, 1]</text>\n<text text-anchor=\"start\" x=\"3409\" y=\"-7.8\" font-family=\"Helvetica,sans-Serif\" font-size=\"14.00\" fill=\"#000000\">class = korean</text>\n</g>\n<!-- 43&#45;&gt;45 -->\n<g id=\"edge45\" class=\"edge\">\n<title>43&#45;&gt;45</title>\n<path fill=\"none\" stroke=\"#000000\" d=\"M3357.3334,-103.9815C3371.211,-94.1881 3385.9784,-83.7668 3399.7614,-74.0402\"/>\n<polygon fill=\"#000000\" stroke=\"#000000\" points=\"3402.0469,-76.7111 3408.1993,-68.0856 3398.0108,-70.9918 3402.0469,-76.7111\"/>\n</g>\n<!-- 47 -->\n<g id=\"node48\" class=\"node\">\n<title>47</title>\n<path fill=\"#89e84d\" stroke=\"#000000\" d=\"M3773,-187C3773,-187 3642,-187 3642,-187 3636,-187 3630,-181 3630,-175 3630,-175 3630,-116 3630,-116 3630,-110 3636,-104 3642,-104 3642,-104 3773,-104 3773,-104 3779,-104 3785,-110 3785,-116 3785,-116 3785,-175 3785,-175 3785,-181 3779,-187 3773,-187\"/>\n<text text-anchor=\"start\" x=\"3651.5\" y=\"-171.8\" font-family=\"Helvetica,sans-Serif\" font-size=\"14.00\" fill=\"#000000\">bell_pepper ≤ 0.5</text>\n<text text-anchor=\"start\" x=\"3674\" y=\"-156.8\" font-family=\"Helvetica,sans-Serif\" font-size=\"14.00\" fill=\"#000000\">gini = 0.17</text>\n<text text-anchor=\"start\" x=\"3663.5\" y=\"-141.8\" font-family=\"Helvetica,sans-Serif\" font-size=\"14.00\" fill=\"#000000\">samples = 32</text>\n<text text-anchor=\"start\" x=\"3638\" y=\"-126.8\" font-family=\"Helvetica,sans-Serif\" font-size=\"14.00\" fill=\"#000000\">value = [0, 29, 0, 0, 3]</text>\n<text text-anchor=\"start\" x=\"3671\" y=\"-111.8\" font-family=\"Helvetica,sans-Serif\" font-size=\"14.00\" fill=\"#000000\">class = thai</text>\n</g>\n<!-- 46&#45;&gt;47 -->\n<g id=\"edge47\" class=\"edge\">\n<title>46&#45;&gt;47</title>\n<path fill=\"none\" stroke=\"#000000\" d=\"M3707.5,-222.8796C3707.5,-214.6838 3707.5,-205.9891 3707.5,-197.5013\"/>\n<polygon fill=\"#000000\" stroke=\"#000000\" points=\"3711.0001,-197.298 3707.5,-187.2981 3704.0001,-197.2981 3711.0001,-197.298\"/>\n</g>\n<!-- 50 -->\n<g id=\"node51\" class=\"node\">\n<title>50</title>\n<path fill=\"#e95acb\" stroke=\"#000000\" d=\"M4029,-187C4029,-187 3898,-187 3898,-187 3892,-187 3886,-181 3886,-175 3886,-175 3886,-116 3886,-116 3886,-110 3892,-104 3898,-104 3898,-104 4029,-104 4029,-104 4035,-104 4041,-110 4041,-116 4041,-116 4041,-175 4041,-175 4041,-181 4035,-187 4029,-187\"/>\n<text text-anchor=\"start\" x=\"3933\" y=\"-171.8\" font-family=\"Helvetica,sans-Serif\" font-size=\"14.00\" fill=\"#000000\">egg ≤ 0.5</text>\n<text text-anchor=\"start\" x=\"3925.5\" y=\"-156.8\" font-family=\"Helvetica,sans-Serif\" font-size=\"14.00\" fill=\"#000000\">gini = 0.272</text>\n<text text-anchor=\"start\" x=\"3919.5\" y=\"-141.8\" font-family=\"Helvetica,sans-Serif\" font-size=\"14.00\" fill=\"#000000\">samples = 13</text>\n<text text-anchor=\"start\" x=\"3894\" y=\"-126.8\" font-family=\"Helvetica,sans-Serif\" font-size=\"14.00\" fill=\"#000000\">value = [0, 1, 1, 0, 11]</text>\n<text text-anchor=\"start\" x=\"3916\" y=\"-111.8\" font-family=\"Helvetica,sans-Serif\" font-size=\"14.00\" fill=\"#000000\">class = korean</text>\n</g>\n<!-- 46&#45;&gt;50 -->\n<g id=\"edge50\" class=\"edge\">\n<title>46&#45;&gt;50</title>\n<path fill=\"none\" stroke=\"#000000\" d=\"M3789.2039,-226.5205C3816.9434,-213.6259 3848.0355,-199.1729 3876.1949,-186.0832\"/>\n<polygon fill=\"#000000\" stroke=\"#000000\" points=\"3878.0302,-189.0898 3885.623,-181.7006 3875.0795,-182.7421 3878.0302,-189.0898\"/>\n</g>\n<!-- 48 -->\n<g id=\"node49\" class=\"node\">\n<title>48</title>\n<path fill=\"#80e640\" stroke=\"#000000\" d=\"M3691,-68C3691,-68 3560,-68 3560,-68 3554,-68 3548,-62 3548,-56 3548,-56 3548,-12 3548,-12 3548,-6 3554,0 3560,0 3560,0 3691,0 3691,0 3697,0 3703,-6 3703,-12 3703,-12 3703,-56 3703,-56 3703,-62 3697,-68 3691,-68\"/>\n<text text-anchor=\"start\" x=\"3587.5\" y=\"-52.8\" font-family=\"Helvetica,sans-Serif\" font-size=\"14.00\" fill=\"#000000\">gini = 0.064</text>\n<text text-anchor=\"start\" x=\"3581.5\" y=\"-37.8\" font-family=\"Helvetica,sans-Serif\" font-size=\"14.00\" fill=\"#000000\">samples = 30</text>\n<text text-anchor=\"start\" x=\"3556\" y=\"-22.8\" font-family=\"Helvetica,sans-Serif\" font-size=\"14.00\" fill=\"#000000\">value = [0, 29, 0, 0, 1]</text>\n<text text-anchor=\"start\" x=\"3589\" y=\"-7.8\" font-family=\"Helvetica,sans-Serif\" font-size=\"14.00\" fill=\"#000000\">class = thai</text>\n</g>\n<!-- 47&#45;&gt;48 -->\n<g id=\"edge48\" class=\"edge\">\n<title>47&#45;&gt;48</title>\n<path fill=\"none\" stroke=\"#000000\" d=\"M3676.9662,-103.9815C3670.3424,-94.9747 3663.3279,-85.4367 3656.6795,-76.3965\"/>\n<polygon fill=\"#000000\" stroke=\"#000000\" points=\"3659.4426,-74.2461 3650.6984,-68.2637 3653.8034,-78.3933 3659.4426,-74.2461\"/>\n</g>\n<!-- 49 -->\n<g id=\"node50\" class=\"node\">\n<title>49</title>\n<path fill=\"#e539c0\" stroke=\"#000000\" d=\"M3855.5,-68C3855.5,-68 3733.5,-68 3733.5,-68 3727.5,-68 3721.5,-62 3721.5,-56 3721.5,-56 3721.5,-12 3721.5,-12 3721.5,-6 3727.5,0 3733.5,0 3733.5,0 3855.5,0 3855.5,0 3861.5,0 3867.5,-6 3867.5,-12 3867.5,-12 3867.5,-56 3867.5,-56 3867.5,-62 3861.5,-68 3855.5,-68\"/>\n<text text-anchor=\"start\" x=\"3765\" y=\"-52.8\" font-family=\"Helvetica,sans-Serif\" font-size=\"14.00\" fill=\"#000000\">gini = 0.0</text>\n<text text-anchor=\"start\" x=\"3755\" y=\"-37.8\" font-family=\"Helvetica,sans-Serif\" font-size=\"14.00\" fill=\"#000000\">samples = 2</text>\n<text text-anchor=\"start\" x=\"3729.5\" y=\"-22.8\" font-family=\"Helvetica,sans-Serif\" font-size=\"14.00\" fill=\"#000000\">value = [0, 0, 0, 0, 2]</text>\n<text text-anchor=\"start\" x=\"3747\" y=\"-7.8\" font-family=\"Helvetica,sans-Serif\" font-size=\"14.00\" fill=\"#000000\">class = korean</text>\n</g>\n<!-- 47&#45;&gt;49 -->\n<g id=\"edge49\" class=\"edge\">\n<title>47&#45;&gt;49</title>\n<path fill=\"none\" stroke=\"#000000\" d=\"M3739.8956,-103.9815C3746.9234,-94.9747 3754.3655,-85.4367 3761.4193,-76.3965\"/>\n<polygon fill=\"#000000\" stroke=\"#000000\" points=\"3764.3728,-78.3008 3767.7651,-68.2637 3758.854,-73.9946 3764.3728,-78.3008\"/>\n</g>\n<!-- 51 -->\n<g id=\"node52\" class=\"node\">\n<title>51</title>\n<path fill=\"#e74bc6\" stroke=\"#000000\" d=\"M4029,-68C4029,-68 3898,-68 3898,-68 3892,-68 3886,-62 3886,-56 3886,-56 3886,-12 3886,-12 3886,-6 3892,0 3898,0 3898,0 4029,0 4029,0 4035,0 4041,-6 4041,-12 4041,-12 4041,-56 4041,-56 4041,-62 4035,-68 4029,-68\"/>\n<text text-anchor=\"start\" x=\"3925.5\" y=\"-52.8\" font-family=\"Helvetica,sans-Serif\" font-size=\"14.00\" fill=\"#000000\">gini = 0.153</text>\n<text text-anchor=\"start\" x=\"3919.5\" y=\"-37.8\" font-family=\"Helvetica,sans-Serif\" font-size=\"14.00\" fill=\"#000000\">samples = 12</text>\n<text text-anchor=\"start\" x=\"3894\" y=\"-22.8\" font-family=\"Helvetica,sans-Serif\" font-size=\"14.00\" fill=\"#000000\">value = [0, 0, 1, 0, 11]</text>\n<text text-anchor=\"start\" x=\"3916\" y=\"-7.8\" font-family=\"Helvetica,sans-Serif\" font-size=\"14.00\" fill=\"#000000\">class = korean</text>\n</g>\n<!-- 50&#45;&gt;51 -->\n<g id=\"edge51\" class=\"edge\">\n<title>50&#45;&gt;51</title>\n<path fill=\"none\" stroke=\"#000000\" d=\"M3963.5,-103.9815C3963.5,-95.618 3963.5,-86.7965 3963.5,-78.3409\"/>\n<polygon fill=\"#000000\" stroke=\"#000000\" points=\"3967.0001,-78.2636 3963.5,-68.2637 3960.0001,-78.2637 3967.0001,-78.2636\"/>\n</g>\n<!-- 52 -->\n<g id=\"node53\" class=\"node\">\n<title>52</title>\n<path fill=\"#7be539\" stroke=\"#000000\" d=\"M4193.5,-68C4193.5,-68 4071.5,-68 4071.5,-68 4065.5,-68 4059.5,-62 4059.5,-56 4059.5,-56 4059.5,-12 4059.5,-12 4059.5,-6 4065.5,0 4071.5,0 4071.5,0 4193.5,0 4193.5,0 4199.5,0 4205.5,-6 4205.5,-12 4205.5,-12 4205.5,-56 4205.5,-56 4205.5,-62 4199.5,-68 4193.5,-68\"/>\n<text text-anchor=\"start\" x=\"4103\" y=\"-52.8\" font-family=\"Helvetica,sans-Serif\" font-size=\"14.00\" fill=\"#000000\">gini = 0.0</text>\n<text text-anchor=\"start\" x=\"4093\" y=\"-37.8\" font-family=\"Helvetica,sans-Serif\" font-size=\"14.00\" fill=\"#000000\">samples = 1</text>\n<text text-anchor=\"start\" x=\"4067.5\" y=\"-22.8\" font-family=\"Helvetica,sans-Serif\" font-size=\"14.00\" fill=\"#000000\">value = [0, 1, 0, 0, 0]</text>\n<text text-anchor=\"start\" x=\"4096\" y=\"-7.8\" font-family=\"Helvetica,sans-Serif\" font-size=\"14.00\" fill=\"#000000\">class = thai</text>\n</g>\n<!-- 50&#45;&gt;52 -->\n<g id=\"edge52\" class=\"edge\">\n<title>50&#45;&gt;52</title>\n<path fill=\"none\" stroke=\"#000000\" d=\"M4026.4294,-103.9815C4041.4132,-94.0957 4057.3668,-83.5701 4072.2282,-73.7651\"/>\n<polygon fill=\"#000000\" stroke=\"#000000\" points=\"4074.417,-76.5142 4080.8366,-68.0856 4070.5621,-70.6713 4074.417,-76.5142\"/>\n</g>\n</g>\n</svg>\n"
          },
          "metadata": {},
          "execution_count": 56
        }
      ]
    },
    {
      "cell_type": "code",
      "source": [
        "y_pred = clf.predict(X_test)\n",
        "accuracy = accuracy_score(y_test, y_pred)\n",
        "print(classification_report(y_test,y_pred))"
      ],
      "metadata": {
        "colab": {
          "base_uri": "https://localhost:8080/"
        },
        "id": "YrHY2bav5pgD",
        "outputId": "c46b67b7-50b1-4fd9-9952-e1b8de216f65"
      },
      "execution_count": null,
      "outputs": [
        {
          "output_type": "stream",
          "name": "stdout",
          "text": [
            "              precision    recall  f1-score   support\n",
            "\n",
            "     chinese       0.82      0.31      0.44       262\n",
            "      indian       0.81      0.57      0.67       233\n",
            "    japanese       0.37      0.88      0.52       234\n",
            "      korean       0.58      0.60      0.59       240\n",
            "        thai       0.83      0.44      0.58       230\n",
            "\n",
            "    accuracy                           0.55      1199\n",
            "   macro avg       0.68      0.56      0.56      1199\n",
            "weighted avg       0.68      0.55      0.56      1199\n",
            "\n"
          ]
        }
      ]
    },
    {
      "cell_type": "code",
      "source": [
        "rf = RandomForestClassifier(max_depth=3, random_state=0, n_estimators = 100)\n",
        "rf.fit(X_train, y_train)"
      ],
      "metadata": {
        "colab": {
          "base_uri": "https://localhost:8080/"
        },
        "id": "nD13MTIL81vC",
        "outputId": "51000971-851e-4fa2-ab92-dc5284616822"
      },
      "execution_count": null,
      "outputs": [
        {
          "output_type": "execute_result",
          "data": {
            "text/plain": [
              "RandomForestClassifier(max_depth=3, random_state=0)"
            ]
          },
          "metadata": {},
          "execution_count": 58
        }
      ]
    },
    {
      "cell_type": "code",
      "source": [
        "y_pred = rf.predict(X_test)\n",
        "accuracy = accuracy_score(y_test, y_pred)\n",
        "print(classification_report(y_test,y_pred))"
      ],
      "metadata": {
        "colab": {
          "base_uri": "https://localhost:8080/"
        },
        "id": "8iP_6XWu9OTL",
        "outputId": "0605dea8-ebaf-42ad-a35e-b54561d06989"
      },
      "execution_count": null,
      "outputs": [
        {
          "output_type": "stream",
          "name": "stdout",
          "text": [
            "              precision    recall  f1-score   support\n",
            "\n",
            "     chinese       0.82      0.47      0.60       262\n",
            "      indian       0.76      0.84      0.80       233\n",
            "    japanese       0.47      0.81      0.59       234\n",
            "      korean       0.76      0.69      0.72       240\n",
            "        thai       0.83      0.60      0.69       230\n",
            "\n",
            "    accuracy                           0.68      1199\n",
            "   macro avg       0.72      0.68      0.68      1199\n",
            "weighted avg       0.73      0.68      0.68      1199\n",
            "\n"
          ]
        }
      ]
    },
    {
      "cell_type": "code",
      "source": [
        "cars = pd.read_csv(\"https://an-vistra.s3.us-west-1.amazonaws.com/data/auto-mpg.csv\")"
      ],
      "metadata": {
        "id": "4hXtYQCV-dvN"
      },
      "execution_count": null,
      "outputs": []
    },
    {
      "cell_type": "code",
      "source": [
        "X = cars[['mpg', 'cyl', 'displ', 'hp', 'weight', 'accel', 'size']]"
      ],
      "metadata": {
        "id": "x7uQxtuLBFGh"
      },
      "execution_count": null,
      "outputs": []
    },
    {
      "cell_type": "code",
      "source": [
        "y = cars['origin']"
      ],
      "metadata": {
        "id": "kkAeVoULBI1A"
      },
      "execution_count": null,
      "outputs": []
    },
    {
      "cell_type": "code",
      "source": [
        "from sklearn.model_selection import train_test_split\n",
        "X_train, X_test, y_train, y_test = train_test_split(X, y, test_size=0.2, random_state=0)"
      ],
      "metadata": {
        "id": "NrOQZ6ZCBLbi"
      },
      "execution_count": null,
      "outputs": []
    },
    {
      "cell_type": "code",
      "source": [
        "clf = tree.DecisionTreeClassifier(max_depth = 5)\n",
        "clf = clf.fit(X_train, y_train)"
      ],
      "metadata": {
        "id": "cbwpp2_nBSTk"
      },
      "execution_count": null,
      "outputs": []
    },
    {
      "cell_type": "code",
      "source": [
        "import graphviz \n",
        "dot_data = tree.export_graphviz(clf, out_file=None, \n",
        "                     feature_names=X.columns,  \n",
        "                     class_names=y.unique(),  \n",
        "                     filled=True, rounded=True,\n",
        "                     special_characters=True)  \n",
        "graph = graphviz.Source(dot_data)  \n",
        "graph "
      ],
      "metadata": {
        "colab": {
          "base_uri": "https://localhost:8080/",
          "height": 936
        },
        "id": "JHtlbzY8BZp6",
        "outputId": "f9fd189e-04e3-4388-feeb-a51e06328349"
      },
      "execution_count": null,
      "outputs": [
        {
          "output_type": "execute_result",
          "data": {
            "text/plain": [
              "<graphviz.files.Source at 0x7f1645c91b10>"
            ],
            "image/svg+xml": "<?xml version=\"1.0\" encoding=\"UTF-8\" standalone=\"no\"?>\n<!DOCTYPE svg PUBLIC \"-//W3C//DTD SVG 1.1//EN\"\n \"http://www.w3.org/Graphics/SVG/1.1/DTD/svg11.dtd\">\n<!-- Generated by graphviz version 2.40.1 (20161225.0304)\n -->\n<!-- Title: Tree Pages: 1 -->\n<svg width=\"2041pt\" height=\"671pt\"\n viewBox=\"0.00 0.00 2041.00 671.00\" xmlns=\"http://www.w3.org/2000/svg\" xmlns:xlink=\"http://www.w3.org/1999/xlink\">\n<g id=\"graph0\" class=\"graph\" transform=\"scale(1 1) rotate(0) translate(4 667)\">\n<title>Tree</title>\n<polygon fill=\"#ffffff\" stroke=\"transparent\" points=\"-4,4 -4,-667 2037,-667 2037,4 -4,4\"/>\n<!-- 0 -->\n<g id=\"node1\" class=\"node\">\n<title>0</title>\n<path fill=\"#bb95f1\" stroke=\"#000000\" d=\"M1484.5,-663C1484.5,-663 1360.5,-663 1360.5,-663 1354.5,-663 1348.5,-657 1348.5,-651 1348.5,-651 1348.5,-592 1348.5,-592 1348.5,-586 1354.5,-580 1360.5,-580 1360.5,-580 1484.5,-580 1484.5,-580 1490.5,-580 1496.5,-586 1496.5,-592 1496.5,-592 1496.5,-651 1496.5,-651 1496.5,-657 1490.5,-663 1484.5,-663\"/>\n<text text-anchor=\"start\" x=\"1381.5\" y=\"-647.8\" font-family=\"Helvetica,sans-Serif\" font-size=\"14.00\" fill=\"#000000\">displ ≤ 134.5</text>\n<text text-anchor=\"start\" x=\"1384.5\" y=\"-632.8\" font-family=\"Helvetica,sans-Serif\" font-size=\"14.00\" fill=\"#000000\">gini = 0.535</text>\n<text text-anchor=\"start\" x=\"1374.5\" y=\"-617.8\" font-family=\"Helvetica,sans-Serif\" font-size=\"14.00\" fill=\"#000000\">samples = 313</text>\n<text text-anchor=\"start\" x=\"1356.5\" y=\"-602.8\" font-family=\"Helvetica,sans-Serif\" font-size=\"14.00\" fill=\"#000000\">value = [63, 53, 197]</text>\n<text text-anchor=\"start\" x=\"1374\" y=\"-587.8\" font-family=\"Helvetica,sans-Serif\" font-size=\"14.00\" fill=\"#000000\">class = Europe</text>\n</g>\n<!-- 1 -->\n<g id=\"node2\" class=\"node\">\n<title>1</title>\n<path fill=\"#fbeadf\" stroke=\"#000000\" d=\"M1275.5,-544C1275.5,-544 1159.5,-544 1159.5,-544 1153.5,-544 1147.5,-538 1147.5,-532 1147.5,-532 1147.5,-473 1147.5,-473 1147.5,-467 1153.5,-461 1159.5,-461 1159.5,-461 1275.5,-461 1275.5,-461 1281.5,-461 1287.5,-467 1287.5,-473 1287.5,-473 1287.5,-532 1287.5,-532 1287.5,-538 1281.5,-544 1275.5,-544\"/>\n<text text-anchor=\"start\" x=\"1177\" y=\"-528.8\" font-family=\"Helvetica,sans-Serif\" font-size=\"14.00\" fill=\"#000000\">mpg ≤ 30.75</text>\n<text text-anchor=\"start\" x=\"1179.5\" y=\"-513.8\" font-family=\"Helvetica,sans-Serif\" font-size=\"14.00\" fill=\"#000000\">gini = 0.633</text>\n<text text-anchor=\"start\" x=\"1169.5\" y=\"-498.8\" font-family=\"Helvetica,sans-Serif\" font-size=\"14.00\" fill=\"#000000\">samples = 132</text>\n<text text-anchor=\"start\" x=\"1155.5\" y=\"-483.8\" font-family=\"Helvetica,sans-Serif\" font-size=\"14.00\" fill=\"#000000\">value = [60, 46, 26]</text>\n<text text-anchor=\"start\" x=\"1182.5\" y=\"-468.8\" font-family=\"Helvetica,sans-Serif\" font-size=\"14.00\" fill=\"#000000\">class = US</text>\n</g>\n<!-- 0&#45;&gt;1 -->\n<g id=\"edge1\" class=\"edge\">\n<title>0&#45;&gt;1</title>\n<path fill=\"none\" stroke=\"#000000\" d=\"M1350.8009,-579.8796C1333.2382,-569.6846 1314.3455,-558.7176 1296.4632,-548.3372\"/>\n<polygon fill=\"#000000\" stroke=\"#000000\" points=\"1298.1816,-545.2878 1287.776,-543.2944 1294.6674,-551.3417 1298.1816,-545.2878\"/>\n<text text-anchor=\"middle\" x=\"1294.1897\" y=\"-563.7576\" font-family=\"Helvetica,sans-Serif\" font-size=\"14.00\" fill=\"#000000\">True</text>\n</g>\n<!-- 28 -->\n<g id=\"node29\" class=\"node\">\n<title>28</title>\n<path fill=\"#8844e6\" stroke=\"#000000\" d=\"M1682,-544C1682,-544 1575,-544 1575,-544 1569,-544 1563,-538 1563,-532 1563,-532 1563,-473 1563,-473 1563,-467 1569,-461 1575,-461 1575,-461 1682,-461 1682,-461 1688,-461 1694,-467 1694,-473 1694,-473 1694,-532 1694,-532 1694,-538 1688,-544 1682,-544\"/>\n<text text-anchor=\"start\" x=\"1585\" y=\"-528.8\" font-family=\"Helvetica,sans-Serif\" font-size=\"14.00\" fill=\"#000000\">accel ≤ 19.55</text>\n<text text-anchor=\"start\" x=\"1590.5\" y=\"-513.8\" font-family=\"Helvetica,sans-Serif\" font-size=\"14.00\" fill=\"#000000\">gini = 0.106</text>\n<text text-anchor=\"start\" x=\"1580.5\" y=\"-498.8\" font-family=\"Helvetica,sans-Serif\" font-size=\"14.00\" fill=\"#000000\">samples = 181</text>\n<text text-anchor=\"start\" x=\"1571\" y=\"-483.8\" font-family=\"Helvetica,sans-Serif\" font-size=\"14.00\" fill=\"#000000\">value = [3, 7, 171]</text>\n<text text-anchor=\"start\" x=\"1580\" y=\"-468.8\" font-family=\"Helvetica,sans-Serif\" font-size=\"14.00\" fill=\"#000000\">class = Europe</text>\n</g>\n<!-- 0&#45;&gt;28 -->\n<g id=\"edge28\" class=\"edge\">\n<title>0&#45;&gt;28</title>\n<path fill=\"none\" stroke=\"#000000\" d=\"M1494.5488,-579.8796C1513.7662,-568.7782 1534.5684,-556.7615 1553.9187,-545.5834\"/>\n<polygon fill=\"#000000\" stroke=\"#000000\" points=\"1555.788,-548.5456 1562.6963,-540.5128 1552.2865,-542.4842 1555.788,-548.5456\"/>\n<text text-anchor=\"middle\" x=\"1556.2317\" y=\"-560.9625\" font-family=\"Helvetica,sans-Serif\" font-size=\"14.00\" fill=\"#000000\">False</text>\n</g>\n<!-- 2 -->\n<g id=\"node3\" class=\"node\">\n<title>2</title>\n<path fill=\"#d3f9e3\" stroke=\"#000000\" d=\"M603.5,-425C603.5,-425 487.5,-425 487.5,-425 481.5,-425 475.5,-419 475.5,-413 475.5,-413 475.5,-354 475.5,-354 475.5,-348 481.5,-342 487.5,-342 487.5,-342 603.5,-342 603.5,-342 609.5,-342 615.5,-348 615.5,-354 615.5,-354 615.5,-413 615.5,-413 615.5,-419 609.5,-425 603.5,-425\"/>\n<text text-anchor=\"start\" x=\"515\" y=\"-409.8\" font-family=\"Helvetica,sans-Serif\" font-size=\"14.00\" fill=\"#000000\">hp ≤ 87.5</text>\n<text text-anchor=\"start\" x=\"507.5\" y=\"-394.8\" font-family=\"Helvetica,sans-Serif\" font-size=\"14.00\" fill=\"#000000\">gini = 0.624</text>\n<text text-anchor=\"start\" x=\"501.5\" y=\"-379.8\" font-family=\"Helvetica,sans-Serif\" font-size=\"14.00\" fill=\"#000000\">samples = 75</text>\n<text text-anchor=\"start\" x=\"483.5\" y=\"-364.8\" font-family=\"Helvetica,sans-Serif\" font-size=\"14.00\" fill=\"#000000\">value = [25, 36, 14]</text>\n<text text-anchor=\"start\" x=\"506.5\" y=\"-349.8\" font-family=\"Helvetica,sans-Serif\" font-size=\"14.00\" fill=\"#000000\">class = Asia</text>\n</g>\n<!-- 1&#45;&gt;2 -->\n<g id=\"edge2\" class=\"edge\">\n<title>1&#45;&gt;2</title>\n<path fill=\"none\" stroke=\"#000000\" d=\"M1147.486,-490.1017C1021.7585,-467.8374 758.4928,-421.2175 625.7155,-397.7048\"/>\n<polygon fill=\"#000000\" stroke=\"#000000\" points=\"626.0657,-394.2125 615.6086,-395.9151 624.8451,-401.1052 626.0657,-394.2125\"/>\n</g>\n<!-- 15 -->\n<g id=\"node16\" class=\"node\">\n<title>15</title>\n<path fill=\"#f2bf9a\" stroke=\"#000000\" d=\"M1275.5,-425C1275.5,-425 1159.5,-425 1159.5,-425 1153.5,-425 1147.5,-419 1147.5,-413 1147.5,-413 1147.5,-354 1147.5,-354 1147.5,-348 1153.5,-342 1159.5,-342 1159.5,-342 1275.5,-342 1275.5,-342 1281.5,-342 1287.5,-348 1287.5,-354 1287.5,-354 1287.5,-413 1287.5,-413 1287.5,-419 1281.5,-425 1275.5,-425\"/>\n<text text-anchor=\"start\" x=\"1180.5\" y=\"-409.8\" font-family=\"Helvetica,sans-Serif\" font-size=\"14.00\" fill=\"#000000\">displ ≤ 97.5</text>\n<text text-anchor=\"start\" x=\"1179.5\" y=\"-394.8\" font-family=\"Helvetica,sans-Serif\" font-size=\"14.00\" fill=\"#000000\">gini = 0.548</text>\n<text text-anchor=\"start\" x=\"1173.5\" y=\"-379.8\" font-family=\"Helvetica,sans-Serif\" font-size=\"14.00\" fill=\"#000000\">samples = 57</text>\n<text text-anchor=\"start\" x=\"1155.5\" y=\"-364.8\" font-family=\"Helvetica,sans-Serif\" font-size=\"14.00\" fill=\"#000000\">value = [35, 10, 12]</text>\n<text text-anchor=\"start\" x=\"1182.5\" y=\"-349.8\" font-family=\"Helvetica,sans-Serif\" font-size=\"14.00\" fill=\"#000000\">class = US</text>\n</g>\n<!-- 1&#45;&gt;15 -->\n<g id=\"edge15\" class=\"edge\">\n<title>1&#45;&gt;15</title>\n<path fill=\"none\" stroke=\"#000000\" d=\"M1217.5,-460.8796C1217.5,-452.6838 1217.5,-443.9891 1217.5,-435.5013\"/>\n<polygon fill=\"#000000\" stroke=\"#000000\" points=\"1221.0001,-435.298 1217.5,-425.2981 1214.0001,-435.2981 1221.0001,-435.298\"/>\n</g>\n<!-- 3 -->\n<g id=\"node4\" class=\"node\">\n<title>3</title>\n<path fill=\"#aef4cc\" stroke=\"#000000\" d=\"M385,-306C385,-306 278,-306 278,-306 272,-306 266,-300 266,-294 266,-294 266,-235 266,-235 266,-229 272,-223 278,-223 278,-223 385,-223 385,-223 391,-223 397,-229 397,-235 397,-235 397,-294 397,-294 397,-300 391,-306 385,-306\"/>\n<text text-anchor=\"start\" x=\"290.5\" y=\"-290.8\" font-family=\"Helvetica,sans-Serif\" font-size=\"14.00\" fill=\"#000000\">displ ≤ 120.5</text>\n<text text-anchor=\"start\" x=\"293.5\" y=\"-275.8\" font-family=\"Helvetica,sans-Serif\" font-size=\"14.00\" fill=\"#000000\">gini = 0.547</text>\n<text text-anchor=\"start\" x=\"287.5\" y=\"-260.8\" font-family=\"Helvetica,sans-Serif\" font-size=\"14.00\" fill=\"#000000\">samples = 39</text>\n<text text-anchor=\"start\" x=\"274\" y=\"-245.8\" font-family=\"Helvetica,sans-Serif\" font-size=\"14.00\" fill=\"#000000\">value = [4, 23, 12]</text>\n<text text-anchor=\"start\" x=\"292.5\" y=\"-230.8\" font-family=\"Helvetica,sans-Serif\" font-size=\"14.00\" fill=\"#000000\">class = Asia</text>\n</g>\n<!-- 2&#45;&gt;3 -->\n<g id=\"edge3\" class=\"edge\">\n<title>2&#45;&gt;3</title>\n<path fill=\"none\" stroke=\"#000000\" d=\"M475.4284,-344.5349C453.1526,-332.1479 428.443,-318.4075 405.8746,-305.8578\"/>\n<polygon fill=\"#000000\" stroke=\"#000000\" points=\"407.4517,-302.7301 397.011,-300.929 404.0497,-308.8479 407.4517,-302.7301\"/>\n</g>\n<!-- 8 -->\n<g id=\"node9\" class=\"node\">\n<title>8</title>\n<path fill=\"#f6d3ba\" stroke=\"#000000\" d=\"M599,-306C599,-306 492,-306 492,-306 486,-306 480,-300 480,-294 480,-294 480,-235 480,-235 480,-229 486,-223 492,-223 492,-223 599,-223 599,-223 605,-223 611,-229 611,-235 611,-235 611,-294 611,-294 611,-300 605,-306 599,-306\"/>\n<text text-anchor=\"start\" x=\"494\" y=\"-290.8\" font-family=\"Helvetica,sans-Serif\" font-size=\"14.00\" fill=\"#000000\">weight ≤ 2571.0</text>\n<text text-anchor=\"start\" x=\"507.5\" y=\"-275.8\" font-family=\"Helvetica,sans-Serif\" font-size=\"14.00\" fill=\"#000000\">gini = 0.526</text>\n<text text-anchor=\"start\" x=\"501.5\" y=\"-260.8\" font-family=\"Helvetica,sans-Serif\" font-size=\"14.00\" fill=\"#000000\">samples = 36</text>\n<text text-anchor=\"start\" x=\"488\" y=\"-245.8\" font-family=\"Helvetica,sans-Serif\" font-size=\"14.00\" fill=\"#000000\">value = [21, 13, 2]</text>\n<text text-anchor=\"start\" x=\"510.5\" y=\"-230.8\" font-family=\"Helvetica,sans-Serif\" font-size=\"14.00\" fill=\"#000000\">class = US</text>\n</g>\n<!-- 2&#45;&gt;8 -->\n<g id=\"edge8\" class=\"edge\">\n<title>2&#45;&gt;8</title>\n<path fill=\"none\" stroke=\"#000000\" d=\"M545.5,-341.8796C545.5,-333.6838 545.5,-324.9891 545.5,-316.5013\"/>\n<polygon fill=\"#000000\" stroke=\"#000000\" points=\"549.0001,-316.298 545.5,-306.2981 542.0001,-316.2981 549.0001,-316.298\"/>\n</g>\n<!-- 4 -->\n<g id=\"node5\" class=\"node\">\n<title>4</title>\n<path fill=\"#91f1b9\" stroke=\"#000000\" d=\"M244,-187C244,-187 145,-187 145,-187 139,-187 133,-181 133,-175 133,-175 133,-116 133,-116 133,-110 139,-104 145,-104 145,-104 244,-104 244,-104 250,-104 256,-110 256,-116 256,-116 256,-175 256,-175 256,-181 250,-187 244,-187\"/>\n<text text-anchor=\"start\" x=\"143\" y=\"-171.8\" font-family=\"Helvetica,sans-Serif\" font-size=\"14.00\" fill=\"#000000\">weight ≤ 1974.0</text>\n<text text-anchor=\"start\" x=\"156.5\" y=\"-156.8\" font-family=\"Helvetica,sans-Serif\" font-size=\"14.00\" fill=\"#000000\">gini = 0.503</text>\n<text text-anchor=\"start\" x=\"150.5\" y=\"-141.8\" font-family=\"Helvetica,sans-Serif\" font-size=\"14.00\" fill=\"#000000\">samples = 35</text>\n<text text-anchor=\"start\" x=\"141\" y=\"-126.8\" font-family=\"Helvetica,sans-Serif\" font-size=\"14.00\" fill=\"#000000\">value = [4, 23, 8]</text>\n<text text-anchor=\"start\" x=\"155.5\" y=\"-111.8\" font-family=\"Helvetica,sans-Serif\" font-size=\"14.00\" fill=\"#000000\">class = Asia</text>\n</g>\n<!-- 3&#45;&gt;4 -->\n<g id=\"edge4\" class=\"edge\">\n<title>3&#45;&gt;4</title>\n<path fill=\"none\" stroke=\"#000000\" d=\"M283.584,-222.8796C272.8007,-213.513 261.2671,-203.4948 250.1961,-193.8784\"/>\n<polygon fill=\"#000000\" stroke=\"#000000\" points=\"252.4653,-191.2134 242.6205,-187.2981 247.8749,-196.4982 252.4653,-191.2134\"/>\n</g>\n<!-- 7 -->\n<g id=\"node8\" class=\"node\">\n<title>7</title>\n<path fill=\"#8139e5\" stroke=\"#000000\" d=\"M377,-179.5C377,-179.5 286,-179.5 286,-179.5 280,-179.5 274,-173.5 274,-167.5 274,-167.5 274,-123.5 274,-123.5 274,-117.5 280,-111.5 286,-111.5 286,-111.5 377,-111.5 377,-111.5 383,-111.5 389,-117.5 389,-123.5 389,-123.5 389,-167.5 389,-167.5 389,-173.5 383,-179.5 377,-179.5\"/>\n<text text-anchor=\"start\" x=\"302\" y=\"-164.3\" font-family=\"Helvetica,sans-Serif\" font-size=\"14.00\" fill=\"#000000\">gini = 0.0</text>\n<text text-anchor=\"start\" x=\"292\" y=\"-149.3\" font-family=\"Helvetica,sans-Serif\" font-size=\"14.00\" fill=\"#000000\">samples = 4</text>\n<text text-anchor=\"start\" x=\"282\" y=\"-134.3\" font-family=\"Helvetica,sans-Serif\" font-size=\"14.00\" fill=\"#000000\">value = [0, 0, 4]</text>\n<text text-anchor=\"start\" x=\"283\" y=\"-119.3\" font-family=\"Helvetica,sans-Serif\" font-size=\"14.00\" fill=\"#000000\">class = Europe</text>\n</g>\n<!-- 3&#45;&gt;7 -->\n<g id=\"edge7\" class=\"edge\">\n<title>3&#45;&gt;7</title>\n<path fill=\"none\" stroke=\"#000000\" d=\"M331.5,-222.8796C331.5,-212.2134 331.5,-200.7021 331.5,-189.9015\"/>\n<polygon fill=\"#000000\" stroke=\"#000000\" points=\"335.0001,-189.8149 331.5,-179.8149 328.0001,-189.815 335.0001,-189.8149\"/>\n</g>\n<!-- 5 -->\n<g id=\"node6\" class=\"node\">\n<title>5</title>\n<path fill=\"#39e581\" stroke=\"#000000\" d=\"M103,-68C103,-68 12,-68 12,-68 6,-68 0,-62 0,-56 0,-56 0,-12 0,-12 0,-6 6,0 12,0 12,0 103,0 103,0 109,0 115,-6 115,-12 115,-12 115,-56 115,-56 115,-62 109,-68 103,-68\"/>\n<text text-anchor=\"start\" x=\"28\" y=\"-52.8\" font-family=\"Helvetica,sans-Serif\" font-size=\"14.00\" fill=\"#000000\">gini = 0.0</text>\n<text text-anchor=\"start\" x=\"18\" y=\"-37.8\" font-family=\"Helvetica,sans-Serif\" font-size=\"14.00\" fill=\"#000000\">samples = 9</text>\n<text text-anchor=\"start\" x=\"8\" y=\"-22.8\" font-family=\"Helvetica,sans-Serif\" font-size=\"14.00\" fill=\"#000000\">value = [0, 9, 0]</text>\n<text text-anchor=\"start\" x=\"18.5\" y=\"-7.8\" font-family=\"Helvetica,sans-Serif\" font-size=\"14.00\" fill=\"#000000\">class = Asia</text>\n</g>\n<!-- 4&#45;&gt;5 -->\n<g id=\"edge5\" class=\"edge\">\n<title>4&#45;&gt;5</title>\n<path fill=\"none\" stroke=\"#000000\" d=\"M143.4863,-103.9815C131.742,-94.4232 119.2628,-84.2668 107.5595,-74.7419\"/>\n<polygon fill=\"#000000\" stroke=\"#000000\" points=\"109.565,-71.8614 99.5998,-68.2637 105.1464,-77.2906 109.565,-71.8614\"/>\n</g>\n<!-- 6 -->\n<g id=\"node7\" class=\"node\">\n<title>6</title>\n<path fill=\"#bdf6d5\" stroke=\"#000000\" d=\"M244,-68C244,-68 145,-68 145,-68 139,-68 133,-62 133,-56 133,-56 133,-12 133,-12 133,-6 139,0 145,0 145,0 244,0 244,0 250,0 256,-6 256,-12 256,-12 256,-56 256,-56 256,-62 250,-68 244,-68\"/>\n<text text-anchor=\"start\" x=\"156.5\" y=\"-52.8\" font-family=\"Helvetica,sans-Serif\" font-size=\"14.00\" fill=\"#000000\">gini = 0.592</text>\n<text text-anchor=\"start\" x=\"150.5\" y=\"-37.8\" font-family=\"Helvetica,sans-Serif\" font-size=\"14.00\" fill=\"#000000\">samples = 26</text>\n<text text-anchor=\"start\" x=\"141\" y=\"-22.8\" font-family=\"Helvetica,sans-Serif\" font-size=\"14.00\" fill=\"#000000\">value = [4, 14, 8]</text>\n<text text-anchor=\"start\" x=\"155.5\" y=\"-7.8\" font-family=\"Helvetica,sans-Serif\" font-size=\"14.00\" fill=\"#000000\">class = Asia</text>\n</g>\n<!-- 4&#45;&gt;6 -->\n<g id=\"edge6\" class=\"edge\">\n<title>4&#45;&gt;6</title>\n<path fill=\"none\" stroke=\"#000000\" d=\"M194.5,-103.9815C194.5,-95.618 194.5,-86.7965 194.5,-78.3409\"/>\n<polygon fill=\"#000000\" stroke=\"#000000\" points=\"198.0001,-78.2636 194.5,-68.2637 191.0001,-78.2637 198.0001,-78.2636\"/>\n</g>\n<!-- 9 -->\n<g id=\"node10\" class=\"node\">\n<title>9</title>\n<path fill=\"#ea9c63\" stroke=\"#000000\" d=\"M518,-187C518,-187 419,-187 419,-187 413,-187 407,-181 407,-175 407,-175 407,-116 407,-116 407,-110 413,-104 419,-104 419,-104 518,-104 518,-104 524,-104 530,-110 530,-116 530,-116 530,-175 530,-175 530,-181 524,-187 518,-187\"/>\n<text text-anchor=\"start\" x=\"427.5\" y=\"-171.8\" font-family=\"Helvetica,sans-Serif\" font-size=\"14.00\" fill=\"#000000\">displ ≤ 107.5</text>\n<text text-anchor=\"start\" x=\"435\" y=\"-156.8\" font-family=\"Helvetica,sans-Serif\" font-size=\"14.00\" fill=\"#000000\">gini = 0.31</text>\n<text text-anchor=\"start\" x=\"424.5\" y=\"-141.8\" font-family=\"Helvetica,sans-Serif\" font-size=\"14.00\" fill=\"#000000\">samples = 22</text>\n<text text-anchor=\"start\" x=\"415\" y=\"-126.8\" font-family=\"Helvetica,sans-Serif\" font-size=\"14.00\" fill=\"#000000\">value = [18, 3, 1]</text>\n<text text-anchor=\"start\" x=\"433.5\" y=\"-111.8\" font-family=\"Helvetica,sans-Serif\" font-size=\"14.00\" fill=\"#000000\">class = US</text>\n</g>\n<!-- 8&#45;&gt;9 -->\n<g id=\"edge9\" class=\"edge\">\n<title>8&#45;&gt;9</title>\n<path fill=\"none\" stroke=\"#000000\" d=\"M518.5691,-222.8796C512.9163,-214.1434 506.8967,-204.8404 501.0634,-195.8253\"/>\n<polygon fill=\"#000000\" stroke=\"#000000\" points=\"503.9169,-193.7924 495.5458,-187.2981 498.0399,-197.5952 503.9169,-193.7924\"/>\n</g>\n<!-- 12 -->\n<g id=\"node13\" class=\"node\">\n<title>12</title>\n<path fill=\"#81eeaf\" stroke=\"#000000\" d=\"M659,-187C659,-187 560,-187 560,-187 554,-187 548,-181 548,-175 548,-175 548,-116 548,-116 548,-110 554,-104 560,-104 560,-104 659,-104 659,-104 665,-104 671,-110 671,-116 671,-116 671,-175 671,-175 671,-181 665,-187 659,-187\"/>\n<text text-anchor=\"start\" x=\"568.5\" y=\"-171.8\" font-family=\"Helvetica,sans-Serif\" font-size=\"14.00\" fill=\"#000000\">displ ≤ 132.5</text>\n<text text-anchor=\"start\" x=\"571.5\" y=\"-156.8\" font-family=\"Helvetica,sans-Serif\" font-size=\"14.00\" fill=\"#000000\">gini = 0.439</text>\n<text text-anchor=\"start\" x=\"565.5\" y=\"-141.8\" font-family=\"Helvetica,sans-Serif\" font-size=\"14.00\" fill=\"#000000\">samples = 14</text>\n<text text-anchor=\"start\" x=\"556\" y=\"-126.8\" font-family=\"Helvetica,sans-Serif\" font-size=\"14.00\" fill=\"#000000\">value = [3, 10, 1]</text>\n<text text-anchor=\"start\" x=\"570.5\" y=\"-111.8\" font-family=\"Helvetica,sans-Serif\" font-size=\"14.00\" fill=\"#000000\">class = Asia</text>\n</g>\n<!-- 8&#45;&gt;12 -->\n<g id=\"edge12\" class=\"edge\">\n<title>8&#45;&gt;12</title>\n<path fill=\"none\" stroke=\"#000000\" d=\"M567.8841,-222.8796C572.4856,-214.3236 577.3796,-205.2238 582.1342,-196.3833\"/>\n<polygon fill=\"#000000\" stroke=\"#000000\" points=\"585.3662,-197.763 587.0204,-187.2981 579.2012,-194.4473 585.3662,-197.763\"/>\n</g>\n<!-- 10 -->\n<g id=\"node11\" class=\"node\">\n<title>10</title>\n<path fill=\"#f0b78e\" stroke=\"#000000\" d=\"M377,-68C377,-68 286,-68 286,-68 280,-68 274,-62 274,-56 274,-56 274,-12 274,-12 274,-6 280,0 286,0 286,0 377,0 377,0 383,0 389,-6 389,-12 389,-12 389,-56 389,-56 389,-62 383,-68 377,-68\"/>\n<text text-anchor=\"start\" x=\"298\" y=\"-52.8\" font-family=\"Helvetica,sans-Serif\" font-size=\"14.00\" fill=\"#000000\">gini = 0.42</text>\n<text text-anchor=\"start\" x=\"287.5\" y=\"-37.8\" font-family=\"Helvetica,sans-Serif\" font-size=\"14.00\" fill=\"#000000\">samples = 10</text>\n<text text-anchor=\"start\" x=\"282\" y=\"-22.8\" font-family=\"Helvetica,sans-Serif\" font-size=\"14.00\" fill=\"#000000\">value = [7, 3, 0]</text>\n<text text-anchor=\"start\" x=\"296.5\" y=\"-7.8\" font-family=\"Helvetica,sans-Serif\" font-size=\"14.00\" fill=\"#000000\">class = US</text>\n</g>\n<!-- 9&#45;&gt;10 -->\n<g id=\"edge10\" class=\"edge\">\n<title>9&#45;&gt;10</title>\n<path fill=\"none\" stroke=\"#000000\" d=\"M417.4863,-103.9815C405.742,-94.4232 393.2628,-84.2668 381.5595,-74.7419\"/>\n<polygon fill=\"#000000\" stroke=\"#000000\" points=\"383.565,-71.8614 373.5998,-68.2637 379.1464,-77.2906 383.565,-71.8614\"/>\n</g>\n<!-- 11 -->\n<g id=\"node12\" class=\"node\">\n<title>11</title>\n<path fill=\"#e78c4b\" stroke=\"#000000\" d=\"M518,-68C518,-68 419,-68 419,-68 413,-68 407,-62 407,-56 407,-56 407,-12 407,-12 407,-6 413,0 419,0 419,0 518,0 518,0 524,0 530,-6 530,-12 530,-12 530,-56 530,-56 530,-62 524,-68 518,-68\"/>\n<text text-anchor=\"start\" x=\"430.5\" y=\"-52.8\" font-family=\"Helvetica,sans-Serif\" font-size=\"14.00\" fill=\"#000000\">gini = 0.153</text>\n<text text-anchor=\"start\" x=\"424.5\" y=\"-37.8\" font-family=\"Helvetica,sans-Serif\" font-size=\"14.00\" fill=\"#000000\">samples = 12</text>\n<text text-anchor=\"start\" x=\"415\" y=\"-22.8\" font-family=\"Helvetica,sans-Serif\" font-size=\"14.00\" fill=\"#000000\">value = [11, 0, 1]</text>\n<text text-anchor=\"start\" x=\"433.5\" y=\"-7.8\" font-family=\"Helvetica,sans-Serif\" font-size=\"14.00\" fill=\"#000000\">class = US</text>\n</g>\n<!-- 9&#45;&gt;11 -->\n<g id=\"edge11\" class=\"edge\">\n<title>9&#45;&gt;11</title>\n<path fill=\"none\" stroke=\"#000000\" d=\"M468.5,-103.9815C468.5,-95.618 468.5,-86.7965 468.5,-78.3409\"/>\n<polygon fill=\"#000000\" stroke=\"#000000\" points=\"472.0001,-78.2636 468.5,-68.2637 465.0001,-78.2637 472.0001,-78.2636\"/>\n</g>\n<!-- 13 -->\n<g id=\"node14\" class=\"node\">\n<title>13</title>\n<path fill=\"#5dea98\" stroke=\"#000000\" d=\"M659,-68C659,-68 560,-68 560,-68 554,-68 548,-62 548,-56 548,-56 548,-12 548,-12 548,-6 554,0 560,0 560,0 659,0 659,0 665,0 671,-6 671,-12 671,-12 671,-56 671,-56 671,-62 665,-68 659,-68\"/>\n<text text-anchor=\"start\" x=\"571.5\" y=\"-52.8\" font-family=\"Helvetica,sans-Serif\" font-size=\"14.00\" fill=\"#000000\">gini = 0.292</text>\n<text text-anchor=\"start\" x=\"565.5\" y=\"-37.8\" font-family=\"Helvetica,sans-Serif\" font-size=\"14.00\" fill=\"#000000\">samples = 12</text>\n<text text-anchor=\"start\" x=\"556\" y=\"-22.8\" font-family=\"Helvetica,sans-Serif\" font-size=\"14.00\" fill=\"#000000\">value = [1, 10, 1]</text>\n<text text-anchor=\"start\" x=\"570.5\" y=\"-7.8\" font-family=\"Helvetica,sans-Serif\" font-size=\"14.00\" fill=\"#000000\">class = Asia</text>\n</g>\n<!-- 12&#45;&gt;13 -->\n<g id=\"edge13\" class=\"edge\">\n<title>12&#45;&gt;13</title>\n<path fill=\"none\" stroke=\"#000000\" d=\"M609.5,-103.9815C609.5,-95.618 609.5,-86.7965 609.5,-78.3409\"/>\n<polygon fill=\"#000000\" stroke=\"#000000\" points=\"613.0001,-78.2636 609.5,-68.2637 606.0001,-78.2637 613.0001,-78.2636\"/>\n</g>\n<!-- 14 -->\n<g id=\"node15\" class=\"node\">\n<title>14</title>\n<path fill=\"#e58139\" stroke=\"#000000\" d=\"M792,-68C792,-68 701,-68 701,-68 695,-68 689,-62 689,-56 689,-56 689,-12 689,-12 689,-6 695,0 701,0 701,0 792,0 792,0 798,0 804,-6 804,-12 804,-12 804,-56 804,-56 804,-62 798,-68 792,-68\"/>\n<text text-anchor=\"start\" x=\"717\" y=\"-52.8\" font-family=\"Helvetica,sans-Serif\" font-size=\"14.00\" fill=\"#000000\">gini = 0.0</text>\n<text text-anchor=\"start\" x=\"707\" y=\"-37.8\" font-family=\"Helvetica,sans-Serif\" font-size=\"14.00\" fill=\"#000000\">samples = 2</text>\n<text text-anchor=\"start\" x=\"697\" y=\"-22.8\" font-family=\"Helvetica,sans-Serif\" font-size=\"14.00\" fill=\"#000000\">value = [2, 0, 0]</text>\n<text text-anchor=\"start\" x=\"711.5\" y=\"-7.8\" font-family=\"Helvetica,sans-Serif\" font-size=\"14.00\" fill=\"#000000\">class = US</text>\n</g>\n<!-- 12&#45;&gt;14 -->\n<g id=\"edge14\" class=\"edge\">\n<title>12&#45;&gt;14</title>\n<path fill=\"none\" stroke=\"#000000\" d=\"M660.5137,-103.9815C672.258,-94.4232 684.7372,-84.2668 696.4405,-74.7419\"/>\n<polygon fill=\"#000000\" stroke=\"#000000\" points=\"698.8536,-77.2906 704.4002,-68.2637 694.435,-71.8614 698.8536,-77.2906\"/>\n</g>\n<!-- 16 -->\n<g id=\"node17\" class=\"node\">\n<title>16</title>\n<path fill=\"#eeab7b\" stroke=\"#000000\" d=\"M1197,-306C1197,-306 1098,-306 1098,-306 1092,-306 1086,-300 1086,-294 1086,-294 1086,-235 1086,-235 1086,-229 1092,-223 1098,-223 1098,-223 1197,-223 1197,-223 1203,-223 1209,-229 1209,-235 1209,-235 1209,-294 1209,-294 1209,-300 1203,-306 1197,-306\"/>\n<text text-anchor=\"start\" x=\"1117\" y=\"-290.8\" font-family=\"Helvetica,sans-Serif\" font-size=\"14.00\" fill=\"#000000\">hp ≤ 70.5</text>\n<text text-anchor=\"start\" x=\"1109.5\" y=\"-275.8\" font-family=\"Helvetica,sans-Serif\" font-size=\"14.00\" fill=\"#000000\">gini = 0.395</text>\n<text text-anchor=\"start\" x=\"1103.5\" y=\"-260.8\" font-family=\"Helvetica,sans-Serif\" font-size=\"14.00\" fill=\"#000000\">samples = 35</text>\n<text text-anchor=\"start\" x=\"1094\" y=\"-245.8\" font-family=\"Helvetica,sans-Serif\" font-size=\"14.00\" fill=\"#000000\">value = [26, 8, 1]</text>\n<text text-anchor=\"start\" x=\"1112.5\" y=\"-230.8\" font-family=\"Helvetica,sans-Serif\" font-size=\"14.00\" fill=\"#000000\">class = US</text>\n</g>\n<!-- 15&#45;&gt;16 -->\n<g id=\"edge16\" class=\"edge\">\n<title>15&#45;&gt;16</title>\n<path fill=\"none\" stroke=\"#000000\" d=\"M1193.0174,-341.8796C1187.9315,-333.2335 1182.5189,-324.0322 1177.2672,-315.1042\"/>\n<polygon fill=\"#000000\" stroke=\"#000000\" points=\"1180.1741,-313.1428 1172.0871,-306.2981 1174.1406,-316.692 1180.1741,-313.1428\"/>\n</g>\n<!-- 21 -->\n<g id=\"node22\" class=\"node\">\n<title>21</title>\n<path fill=\"#ece1fb\" stroke=\"#000000\" d=\"M1338,-306C1338,-306 1239,-306 1239,-306 1233,-306 1227,-300 1227,-294 1227,-294 1227,-235 1227,-235 1227,-229 1233,-223 1239,-223 1239,-223 1338,-223 1338,-223 1344,-223 1350,-229 1350,-235 1350,-235 1350,-294 1350,-294 1350,-300 1344,-306 1338,-306\"/>\n<text text-anchor=\"start\" x=\"1247.5\" y=\"-290.8\" font-family=\"Helvetica,sans-Serif\" font-size=\"14.00\" fill=\"#000000\">displ ≤ 106.0</text>\n<text text-anchor=\"start\" x=\"1250.5\" y=\"-275.8\" font-family=\"Helvetica,sans-Serif\" font-size=\"14.00\" fill=\"#000000\">gini = 0.574</text>\n<text text-anchor=\"start\" x=\"1244.5\" y=\"-260.8\" font-family=\"Helvetica,sans-Serif\" font-size=\"14.00\" fill=\"#000000\">samples = 22</text>\n<text text-anchor=\"start\" x=\"1235\" y=\"-245.8\" font-family=\"Helvetica,sans-Serif\" font-size=\"14.00\" fill=\"#000000\">value = [9, 2, 11]</text>\n<text text-anchor=\"start\" x=\"1240\" y=\"-230.8\" font-family=\"Helvetica,sans-Serif\" font-size=\"14.00\" fill=\"#000000\">class = Europe</text>\n</g>\n<!-- 15&#45;&gt;21 -->\n<g id=\"edge21\" class=\"edge\">\n<title>15&#45;&gt;21</title>\n<path fill=\"none\" stroke=\"#000000\" d=\"M1242.3324,-341.8796C1247.4909,-333.2335 1252.9808,-324.0322 1258.3076,-315.1042\"/>\n<polygon fill=\"#000000\" stroke=\"#000000\" points=\"1261.4436,-316.679 1263.5617,-306.2981 1255.4322,-313.0924 1261.4436,-316.679\"/>\n</g>\n<!-- 17 -->\n<g id=\"node18\" class=\"node\">\n<title>17</title>\n<path fill=\"#eb9d65\" stroke=\"#000000\" d=\"M1062,-187C1062,-187 963,-187 963,-187 957,-187 951,-181 951,-175 951,-175 951,-116 951,-116 951,-110 957,-104 963,-104 963,-104 1062,-104 1062,-104 1068,-104 1074,-110 1074,-116 1074,-116 1074,-175 1074,-175 1074,-181 1068,-187 1062,-187\"/>\n<text text-anchor=\"start\" x=\"969\" y=\"-171.8\" font-family=\"Helvetica,sans-Serif\" font-size=\"14.00\" fill=\"#000000\">accel ≤ 21.25</text>\n<text text-anchor=\"start\" x=\"974.5\" y=\"-156.8\" font-family=\"Helvetica,sans-Serif\" font-size=\"14.00\" fill=\"#000000\">gini = 0.314</text>\n<text text-anchor=\"start\" x=\"968.5\" y=\"-141.8\" font-family=\"Helvetica,sans-Serif\" font-size=\"14.00\" fill=\"#000000\">samples = 32</text>\n<text text-anchor=\"start\" x=\"959\" y=\"-126.8\" font-family=\"Helvetica,sans-Serif\" font-size=\"14.00\" fill=\"#000000\">value = [26, 5, 1]</text>\n<text text-anchor=\"start\" x=\"977.5\" y=\"-111.8\" font-family=\"Helvetica,sans-Serif\" font-size=\"14.00\" fill=\"#000000\">class = US</text>\n</g>\n<!-- 16&#45;&gt;17 -->\n<g id=\"edge17\" class=\"edge\">\n<title>16&#45;&gt;17</title>\n<path fill=\"none\" stroke=\"#000000\" d=\"M1100.2836,-222.8796C1089.7598,-213.6031 1078.5109,-203.6874 1067.6979,-194.1559\"/>\n<polygon fill=\"#000000\" stroke=\"#000000\" points=\"1069.734,-191.2851 1059.918,-187.2981 1065.1052,-196.5362 1069.734,-191.2851\"/>\n</g>\n<!-- 20 -->\n<g id=\"node21\" class=\"node\">\n<title>20</title>\n<path fill=\"#39e581\" stroke=\"#000000\" d=\"M1195,-179.5C1195,-179.5 1104,-179.5 1104,-179.5 1098,-179.5 1092,-173.5 1092,-167.5 1092,-167.5 1092,-123.5 1092,-123.5 1092,-117.5 1098,-111.5 1104,-111.5 1104,-111.5 1195,-111.5 1195,-111.5 1201,-111.5 1207,-117.5 1207,-123.5 1207,-123.5 1207,-167.5 1207,-167.5 1207,-173.5 1201,-179.5 1195,-179.5\"/>\n<text text-anchor=\"start\" x=\"1120\" y=\"-164.3\" font-family=\"Helvetica,sans-Serif\" font-size=\"14.00\" fill=\"#000000\">gini = 0.0</text>\n<text text-anchor=\"start\" x=\"1110\" y=\"-149.3\" font-family=\"Helvetica,sans-Serif\" font-size=\"14.00\" fill=\"#000000\">samples = 3</text>\n<text text-anchor=\"start\" x=\"1100\" y=\"-134.3\" font-family=\"Helvetica,sans-Serif\" font-size=\"14.00\" fill=\"#000000\">value = [0, 3, 0]</text>\n<text text-anchor=\"start\" x=\"1110.5\" y=\"-119.3\" font-family=\"Helvetica,sans-Serif\" font-size=\"14.00\" fill=\"#000000\">class = Asia</text>\n</g>\n<!-- 16&#45;&gt;20 -->\n<g id=\"edge20\" class=\"edge\">\n<title>16&#45;&gt;20</title>\n<path fill=\"none\" stroke=\"#000000\" d=\"M1148.1995,-222.8796C1148.3788,-212.2134 1148.5722,-200.7021 1148.7538,-189.9015\"/>\n<polygon fill=\"#000000\" stroke=\"#000000\" points=\"1152.2546,-189.8724 1148.9233,-179.8149 1145.2556,-189.7547 1152.2546,-189.8724\"/>\n</g>\n<!-- 18 -->\n<g id=\"node19\" class=\"node\">\n<title>18</title>\n<path fill=\"#e99456\" stroke=\"#000000\" d=\"M933,-68C933,-68 834,-68 834,-68 828,-68 822,-62 822,-56 822,-56 822,-12 822,-12 822,-6 828,0 834,0 834,0 933,0 933,0 939,0 945,-6 945,-12 945,-12 945,-56 945,-56 945,-62 939,-68 933,-68\"/>\n<text text-anchor=\"start\" x=\"845.5\" y=\"-52.8\" font-family=\"Helvetica,sans-Serif\" font-size=\"14.00\" fill=\"#000000\">gini = 0.238</text>\n<text text-anchor=\"start\" x=\"839.5\" y=\"-37.8\" font-family=\"Helvetica,sans-Serif\" font-size=\"14.00\" fill=\"#000000\">samples = 30</text>\n<text text-anchor=\"start\" x=\"830\" y=\"-22.8\" font-family=\"Helvetica,sans-Serif\" font-size=\"14.00\" fill=\"#000000\">value = [26, 3, 1]</text>\n<text text-anchor=\"start\" x=\"848.5\" y=\"-7.8\" font-family=\"Helvetica,sans-Serif\" font-size=\"14.00\" fill=\"#000000\">class = US</text>\n</g>\n<!-- 17&#45;&gt;18 -->\n<g id=\"edge18\" class=\"edge\">\n<title>17&#45;&gt;18</title>\n<path fill=\"none\" stroke=\"#000000\" d=\"M964.4652,-103.9815C953.513,-94.5151 941.8821,-84.462 930.9544,-75.0168\"/>\n<polygon fill=\"#000000\" stroke=\"#000000\" points=\"932.9957,-72.155 923.1414,-68.2637 928.4182,-77.4509 932.9957,-72.155\"/>\n</g>\n<!-- 19 -->\n<g id=\"node20\" class=\"node\">\n<title>19</title>\n<path fill=\"#39e581\" stroke=\"#000000\" d=\"M1066,-68C1066,-68 975,-68 975,-68 969,-68 963,-62 963,-56 963,-56 963,-12 963,-12 963,-6 969,0 975,0 975,0 1066,0 1066,0 1072,0 1078,-6 1078,-12 1078,-12 1078,-56 1078,-56 1078,-62 1072,-68 1066,-68\"/>\n<text text-anchor=\"start\" x=\"991\" y=\"-52.8\" font-family=\"Helvetica,sans-Serif\" font-size=\"14.00\" fill=\"#000000\">gini = 0.0</text>\n<text text-anchor=\"start\" x=\"981\" y=\"-37.8\" font-family=\"Helvetica,sans-Serif\" font-size=\"14.00\" fill=\"#000000\">samples = 2</text>\n<text text-anchor=\"start\" x=\"971\" y=\"-22.8\" font-family=\"Helvetica,sans-Serif\" font-size=\"14.00\" fill=\"#000000\">value = [0, 2, 0]</text>\n<text text-anchor=\"start\" x=\"981.5\" y=\"-7.8\" font-family=\"Helvetica,sans-Serif\" font-size=\"14.00\" fill=\"#000000\">class = Asia</text>\n</g>\n<!-- 17&#45;&gt;19 -->\n<g id=\"edge19\" class=\"edge\">\n<title>17&#45;&gt;19</title>\n<path fill=\"none\" stroke=\"#000000\" d=\"M1015.4789,-103.9815C1016.079,-95.618 1016.7119,-86.7965 1017.3186,-78.3409\"/>\n<polygon fill=\"#000000\" stroke=\"#000000\" points=\"1020.8169,-78.4885 1018.0416,-68.2637 1013.8349,-77.9875 1020.8169,-78.4885\"/>\n</g>\n<!-- 22 -->\n<g id=\"node23\" class=\"node\">\n<title>22</title>\n<path fill=\"#9a61ea\" stroke=\"#000000\" d=\"M1332,-187C1332,-187 1241,-187 1241,-187 1235,-187 1229,-181 1229,-175 1229,-175 1229,-116 1229,-116 1229,-110 1235,-104 1241,-104 1241,-104 1332,-104 1332,-104 1338,-104 1344,-110 1344,-116 1344,-116 1344,-175 1344,-175 1344,-181 1338,-187 1332,-187\"/>\n<text text-anchor=\"start\" x=\"1250\" y=\"-171.8\" font-family=\"Helvetica,sans-Serif\" font-size=\"14.00\" fill=\"#000000\">mpg ≤ 31.8</text>\n<text text-anchor=\"start\" x=\"1248.5\" y=\"-156.8\" font-family=\"Helvetica,sans-Serif\" font-size=\"14.00\" fill=\"#000000\">gini = 0.314</text>\n<text text-anchor=\"start\" x=\"1242.5\" y=\"-141.8\" font-family=\"Helvetica,sans-Serif\" font-size=\"14.00\" fill=\"#000000\">samples = 11</text>\n<text text-anchor=\"start\" x=\"1237\" y=\"-126.8\" font-family=\"Helvetica,sans-Serif\" font-size=\"14.00\" fill=\"#000000\">value = [1, 1, 9]</text>\n<text text-anchor=\"start\" x=\"1238\" y=\"-111.8\" font-family=\"Helvetica,sans-Serif\" font-size=\"14.00\" fill=\"#000000\">class = Europe</text>\n</g>\n<!-- 21&#45;&gt;22 -->\n<g id=\"edge22\" class=\"edge\">\n<title>21&#45;&gt;22</title>\n<path fill=\"none\" stroke=\"#000000\" d=\"M1287.8005,-222.8796C1287.6628,-214.6838 1287.5166,-205.9891 1287.374,-197.5013\"/>\n<polygon fill=\"#000000\" stroke=\"#000000\" points=\"1290.8701,-197.2378 1287.2025,-187.2981 1283.8711,-197.3555 1290.8701,-197.2378\"/>\n</g>\n<!-- 25 -->\n<g id=\"node26\" class=\"node\">\n<title>25</title>\n<path fill=\"#eeab7b\" stroke=\"#000000\" d=\"M1465,-187C1465,-187 1374,-187 1374,-187 1368,-187 1362,-181 1362,-175 1362,-175 1362,-116 1362,-116 1362,-110 1368,-104 1374,-104 1374,-104 1465,-104 1465,-104 1471,-104 1477,-110 1477,-116 1477,-116 1477,-175 1477,-175 1477,-181 1471,-187 1465,-187\"/>\n<text text-anchor=\"start\" x=\"1379\" y=\"-171.8\" font-family=\"Helvetica,sans-Serif\" font-size=\"14.00\" fill=\"#000000\">mpg ≤ 31.15</text>\n<text text-anchor=\"start\" x=\"1386\" y=\"-156.8\" font-family=\"Helvetica,sans-Serif\" font-size=\"14.00\" fill=\"#000000\">gini = 0.43</text>\n<text text-anchor=\"start\" x=\"1375.5\" y=\"-141.8\" font-family=\"Helvetica,sans-Serif\" font-size=\"14.00\" fill=\"#000000\">samples = 11</text>\n<text text-anchor=\"start\" x=\"1370\" y=\"-126.8\" font-family=\"Helvetica,sans-Serif\" font-size=\"14.00\" fill=\"#000000\">value = [8, 1, 2]</text>\n<text text-anchor=\"start\" x=\"1384.5\" y=\"-111.8\" font-family=\"Helvetica,sans-Serif\" font-size=\"14.00\" fill=\"#000000\">class = US</text>\n</g>\n<!-- 21&#45;&gt;25 -->\n<g id=\"edge25\" class=\"edge\">\n<title>21&#45;&gt;25</title>\n<path fill=\"none\" stroke=\"#000000\" d=\"M1334.3174,-222.8796C1344.5294,-213.6031 1355.445,-203.6874 1365.9376,-194.1559\"/>\n<polygon fill=\"#000000\" stroke=\"#000000\" points=\"1368.4384,-196.6127 1373.487,-187.2981 1363.7316,-191.4313 1368.4384,-196.6127\"/>\n</g>\n<!-- 23 -->\n<g id=\"node24\" class=\"node\">\n<title>23</title>\n<path fill=\"#e58139\" stroke=\"#000000\" d=\"M1199,-68C1199,-68 1108,-68 1108,-68 1102,-68 1096,-62 1096,-56 1096,-56 1096,-12 1096,-12 1096,-6 1102,0 1108,0 1108,0 1199,0 1199,0 1205,0 1211,-6 1211,-12 1211,-12 1211,-56 1211,-56 1211,-62 1205,-68 1199,-68\"/>\n<text text-anchor=\"start\" x=\"1124\" y=\"-52.8\" font-family=\"Helvetica,sans-Serif\" font-size=\"14.00\" fill=\"#000000\">gini = 0.0</text>\n<text text-anchor=\"start\" x=\"1114\" y=\"-37.8\" font-family=\"Helvetica,sans-Serif\" font-size=\"14.00\" fill=\"#000000\">samples = 1</text>\n<text text-anchor=\"start\" x=\"1104\" y=\"-22.8\" font-family=\"Helvetica,sans-Serif\" font-size=\"14.00\" fill=\"#000000\">value = [1, 0, 0]</text>\n<text text-anchor=\"start\" x=\"1118.5\" y=\"-7.8\" font-family=\"Helvetica,sans-Serif\" font-size=\"14.00\" fill=\"#000000\">class = US</text>\n</g>\n<!-- 22&#45;&gt;23 -->\n<g id=\"edge23\" class=\"edge\">\n<title>22&#45;&gt;23</title>\n<path fill=\"none\" stroke=\"#000000\" d=\"M1236.9757,-103.9815C1225.5743,-94.4232 1213.4595,-84.2668 1202.0979,-74.7419\"/>\n<polygon fill=\"#000000\" stroke=\"#000000\" points=\"1204.2825,-72.006 1194.3706,-68.2637 1199.7853,-77.3704 1204.2825,-72.006\"/>\n</g>\n<!-- 24 -->\n<g id=\"node25\" class=\"node\">\n<title>24</title>\n<path fill=\"#8f4fe8\" stroke=\"#000000\" d=\"M1332,-68C1332,-68 1241,-68 1241,-68 1235,-68 1229,-62 1229,-56 1229,-56 1229,-12 1229,-12 1229,-6 1235,0 1241,0 1241,0 1332,0 1332,0 1338,0 1344,-6 1344,-12 1344,-12 1344,-56 1344,-56 1344,-62 1338,-68 1332,-68\"/>\n<text text-anchor=\"start\" x=\"1253\" y=\"-52.8\" font-family=\"Helvetica,sans-Serif\" font-size=\"14.00\" fill=\"#000000\">gini = 0.18</text>\n<text text-anchor=\"start\" x=\"1242.5\" y=\"-37.8\" font-family=\"Helvetica,sans-Serif\" font-size=\"14.00\" fill=\"#000000\">samples = 10</text>\n<text text-anchor=\"start\" x=\"1237\" y=\"-22.8\" font-family=\"Helvetica,sans-Serif\" font-size=\"14.00\" fill=\"#000000\">value = [0, 1, 9]</text>\n<text text-anchor=\"start\" x=\"1238\" y=\"-7.8\" font-family=\"Helvetica,sans-Serif\" font-size=\"14.00\" fill=\"#000000\">class = Europe</text>\n</g>\n<!-- 22&#45;&gt;24 -->\n<g id=\"edge24\" class=\"edge\">\n<title>22&#45;&gt;24</title>\n<path fill=\"none\" stroke=\"#000000\" d=\"M1286.5,-103.9815C1286.5,-95.618 1286.5,-86.7965 1286.5,-78.3409\"/>\n<polygon fill=\"#000000\" stroke=\"#000000\" points=\"1290.0001,-78.2636 1286.5,-68.2637 1283.0001,-78.2637 1290.0001,-78.2636\"/>\n</g>\n<!-- 26 -->\n<g id=\"node27\" class=\"node\">\n<title>26</title>\n<path fill=\"#8139e5\" stroke=\"#000000\" d=\"M1465,-68C1465,-68 1374,-68 1374,-68 1368,-68 1362,-62 1362,-56 1362,-56 1362,-12 1362,-12 1362,-6 1368,0 1374,0 1374,0 1465,0 1465,0 1471,0 1477,-6 1477,-12 1477,-12 1477,-56 1477,-56 1477,-62 1471,-68 1465,-68\"/>\n<text text-anchor=\"start\" x=\"1390\" y=\"-52.8\" font-family=\"Helvetica,sans-Serif\" font-size=\"14.00\" fill=\"#000000\">gini = 0.0</text>\n<text text-anchor=\"start\" x=\"1380\" y=\"-37.8\" font-family=\"Helvetica,sans-Serif\" font-size=\"14.00\" fill=\"#000000\">samples = 2</text>\n<text text-anchor=\"start\" x=\"1370\" y=\"-22.8\" font-family=\"Helvetica,sans-Serif\" font-size=\"14.00\" fill=\"#000000\">value = [0, 0, 2]</text>\n<text text-anchor=\"start\" x=\"1371\" y=\"-7.8\" font-family=\"Helvetica,sans-Serif\" font-size=\"14.00\" fill=\"#000000\">class = Europe</text>\n</g>\n<!-- 25&#45;&gt;26 -->\n<g id=\"edge26\" class=\"edge\">\n<title>25&#45;&gt;26</title>\n<path fill=\"none\" stroke=\"#000000\" d=\"M1419.5,-103.9815C1419.5,-95.618 1419.5,-86.7965 1419.5,-78.3409\"/>\n<polygon fill=\"#000000\" stroke=\"#000000\" points=\"1423.0001,-78.2636 1419.5,-68.2637 1416.0001,-78.2637 1423.0001,-78.2636\"/>\n</g>\n<!-- 27 -->\n<g id=\"node28\" class=\"node\">\n<title>27</title>\n<path fill=\"#e89152\" stroke=\"#000000\" d=\"M1598,-68C1598,-68 1507,-68 1507,-68 1501,-68 1495,-62 1495,-56 1495,-56 1495,-12 1495,-12 1495,-6 1501,0 1507,0 1507,0 1598,0 1598,0 1604,0 1610,-6 1610,-12 1610,-12 1610,-56 1610,-56 1610,-62 1604,-68 1598,-68\"/>\n<text text-anchor=\"start\" x=\"1514.5\" y=\"-52.8\" font-family=\"Helvetica,sans-Serif\" font-size=\"14.00\" fill=\"#000000\">gini = 0.198</text>\n<text text-anchor=\"start\" x=\"1513\" y=\"-37.8\" font-family=\"Helvetica,sans-Serif\" font-size=\"14.00\" fill=\"#000000\">samples = 9</text>\n<text text-anchor=\"start\" x=\"1503\" y=\"-22.8\" font-family=\"Helvetica,sans-Serif\" font-size=\"14.00\" fill=\"#000000\">value = [8, 1, 0]</text>\n<text text-anchor=\"start\" x=\"1517.5\" y=\"-7.8\" font-family=\"Helvetica,sans-Serif\" font-size=\"14.00\" fill=\"#000000\">class = US</text>\n</g>\n<!-- 25&#45;&gt;27 -->\n<g id=\"edge27\" class=\"edge\">\n<title>25&#45;&gt;27</title>\n<path fill=\"none\" stroke=\"#000000\" d=\"M1469.0243,-103.9815C1480.4257,-94.4232 1492.5405,-84.2668 1503.9021,-74.7419\"/>\n<polygon fill=\"#000000\" stroke=\"#000000\" points=\"1506.2147,-77.3704 1511.6294,-68.2637 1501.7175,-72.006 1506.2147,-77.3704\"/>\n</g>\n<!-- 29 -->\n<g id=\"node30\" class=\"node\">\n<title>29</title>\n<path fill=\"#853fe6\" stroke=\"#000000\" d=\"M1682,-425C1682,-425 1575,-425 1575,-425 1569,-425 1563,-419 1563,-413 1563,-413 1563,-354 1563,-354 1563,-348 1569,-342 1575,-342 1575,-342 1682,-342 1682,-342 1688,-342 1694,-348 1694,-354 1694,-354 1694,-413 1694,-413 1694,-419 1688,-425 1682,-425\"/>\n<text text-anchor=\"start\" x=\"1587.5\" y=\"-409.8\" font-family=\"Helvetica,sans-Serif\" font-size=\"14.00\" fill=\"#000000\">displ ≤ 169.5</text>\n<text text-anchor=\"start\" x=\"1590.5\" y=\"-394.8\" font-family=\"Helvetica,sans-Serif\" font-size=\"14.00\" fill=\"#000000\">gini = 0.057</text>\n<text text-anchor=\"start\" x=\"1580.5\" y=\"-379.8\" font-family=\"Helvetica,sans-Serif\" font-size=\"14.00\" fill=\"#000000\">samples = 173</text>\n<text text-anchor=\"start\" x=\"1571\" y=\"-364.8\" font-family=\"Helvetica,sans-Serif\" font-size=\"14.00\" fill=\"#000000\">value = [3, 2, 168]</text>\n<text text-anchor=\"start\" x=\"1580\" y=\"-349.8\" font-family=\"Helvetica,sans-Serif\" font-size=\"14.00\" fill=\"#000000\">class = Europe</text>\n</g>\n<!-- 28&#45;&gt;29 -->\n<g id=\"edge29\" class=\"edge\">\n<title>28&#45;&gt;29</title>\n<path fill=\"none\" stroke=\"#000000\" d=\"M1628.5,-460.8796C1628.5,-452.6838 1628.5,-443.9891 1628.5,-435.5013\"/>\n<polygon fill=\"#000000\" stroke=\"#000000\" points=\"1632.0001,-435.298 1628.5,-425.2981 1625.0001,-435.2981 1632.0001,-435.298\"/>\n</g>\n<!-- 36 -->\n<g id=\"node37\" class=\"node\">\n<title>36</title>\n<path fill=\"#b0f5cd\" stroke=\"#000000\" d=\"M1888,-425C1888,-425 1797,-425 1797,-425 1791,-425 1785,-419 1785,-413 1785,-413 1785,-354 1785,-354 1785,-348 1791,-342 1797,-342 1797,-342 1888,-342 1888,-342 1894,-342 1900,-348 1900,-354 1900,-354 1900,-413 1900,-413 1900,-419 1894,-425 1888,-425\"/>\n<text text-anchor=\"start\" x=\"1802\" y=\"-409.8\" font-family=\"Helvetica,sans-Serif\" font-size=\"14.00\" fill=\"#000000\">mpg ≤ 24.85</text>\n<text text-anchor=\"start\" x=\"1804.5\" y=\"-394.8\" font-family=\"Helvetica,sans-Serif\" font-size=\"14.00\" fill=\"#000000\">gini = 0.469</text>\n<text text-anchor=\"start\" x=\"1803\" y=\"-379.8\" font-family=\"Helvetica,sans-Serif\" font-size=\"14.00\" fill=\"#000000\">samples = 8</text>\n<text text-anchor=\"start\" x=\"1793\" y=\"-364.8\" font-family=\"Helvetica,sans-Serif\" font-size=\"14.00\" fill=\"#000000\">value = [0, 5, 3]</text>\n<text text-anchor=\"start\" x=\"1803.5\" y=\"-349.8\" font-family=\"Helvetica,sans-Serif\" font-size=\"14.00\" fill=\"#000000\">class = Asia</text>\n</g>\n<!-- 28&#45;&gt;36 -->\n<g id=\"edge36\" class=\"edge\">\n<title>28&#45;&gt;36</title>\n<path fill=\"none\" stroke=\"#000000\" d=\"M1694.1614,-465.9874C1720.0991,-451.5641 1749.8664,-435.0112 1775.8957,-420.537\"/>\n<polygon fill=\"#000000\" stroke=\"#000000\" points=\"1777.8956,-423.4297 1784.9342,-415.5109 1774.4936,-417.3119 1777.8956,-423.4297\"/>\n</g>\n<!-- 30 -->\n<g id=\"node31\" class=\"node\">\n<title>30</title>\n<path fill=\"#965ae9\" stroke=\"#000000\" d=\"M1606,-306C1606,-306 1507,-306 1507,-306 1501,-306 1495,-300 1495,-294 1495,-294 1495,-235 1495,-235 1495,-229 1501,-223 1507,-223 1507,-223 1606,-223 1606,-223 1612,-223 1618,-229 1618,-235 1618,-235 1618,-294 1618,-294 1618,-300 1612,-306 1606,-306\"/>\n<text text-anchor=\"start\" x=\"1529.5\" y=\"-290.8\" font-family=\"Helvetica,sans-Serif\" font-size=\"14.00\" fill=\"#000000\">cyl ≤ 5.0</text>\n<text text-anchor=\"start\" x=\"1518.5\" y=\"-275.8\" font-family=\"Helvetica,sans-Serif\" font-size=\"14.00\" fill=\"#000000\">gini = 0.268</text>\n<text text-anchor=\"start\" x=\"1512.5\" y=\"-260.8\" font-family=\"Helvetica,sans-Serif\" font-size=\"14.00\" fill=\"#000000\">samples = 33</text>\n<text text-anchor=\"start\" x=\"1503\" y=\"-245.8\" font-family=\"Helvetica,sans-Serif\" font-size=\"14.00\" fill=\"#000000\">value = [3, 2, 28]</text>\n<text text-anchor=\"start\" x=\"1508\" y=\"-230.8\" font-family=\"Helvetica,sans-Serif\" font-size=\"14.00\" fill=\"#000000\">class = Europe</text>\n</g>\n<!-- 29&#45;&gt;30 -->\n<g id=\"edge30\" class=\"edge\">\n<title>29&#45;&gt;30</title>\n<path fill=\"none\" stroke=\"#000000\" d=\"M1603.3179,-341.8796C1598.0867,-333.2335 1592.5195,-324.0322 1587.1177,-315.1042\"/>\n<polygon fill=\"#000000\" stroke=\"#000000\" points=\"1589.9608,-313.0421 1581.7896,-306.2981 1583.9717,-316.6658 1589.9608,-313.0421\"/>\n</g>\n<!-- 35 -->\n<g id=\"node36\" class=\"node\">\n<title>35</title>\n<path fill=\"#8139e5\" stroke=\"#000000\" d=\"M1755,-298.5C1755,-298.5 1648,-298.5 1648,-298.5 1642,-298.5 1636,-292.5 1636,-286.5 1636,-286.5 1636,-242.5 1636,-242.5 1636,-236.5 1642,-230.5 1648,-230.5 1648,-230.5 1755,-230.5 1755,-230.5 1761,-230.5 1767,-236.5 1767,-242.5 1767,-242.5 1767,-286.5 1767,-286.5 1767,-292.5 1761,-298.5 1755,-298.5\"/>\n<text text-anchor=\"start\" x=\"1672\" y=\"-283.3\" font-family=\"Helvetica,sans-Serif\" font-size=\"14.00\" fill=\"#000000\">gini = 0.0</text>\n<text text-anchor=\"start\" x=\"1653.5\" y=\"-268.3\" font-family=\"Helvetica,sans-Serif\" font-size=\"14.00\" fill=\"#000000\">samples = 140</text>\n<text text-anchor=\"start\" x=\"1644\" y=\"-253.3\" font-family=\"Helvetica,sans-Serif\" font-size=\"14.00\" fill=\"#000000\">value = [0, 0, 140]</text>\n<text text-anchor=\"start\" x=\"1653\" y=\"-238.3\" font-family=\"Helvetica,sans-Serif\" font-size=\"14.00\" fill=\"#000000\">class = Europe</text>\n</g>\n<!-- 29&#45;&gt;35 -->\n<g id=\"edge35\" class=\"edge\">\n<title>29&#45;&gt;35</title>\n<path fill=\"none\" stroke=\"#000000\" d=\"M1654.0319,-341.8796C1660.8448,-330.7735 1668.2198,-318.7513 1675.0794,-307.5691\"/>\n<polygon fill=\"#000000\" stroke=\"#000000\" points=\"1678.204,-309.1691 1680.4497,-298.8149 1672.2372,-305.5087 1678.204,-309.1691\"/>\n</g>\n<!-- 31 -->\n<g id=\"node32\" class=\"node\">\n<title>31</title>\n<path fill=\"#8139e5\" stroke=\"#000000\" d=\"M1606,-179.5C1606,-179.5 1507,-179.5 1507,-179.5 1501,-179.5 1495,-173.5 1495,-167.5 1495,-167.5 1495,-123.5 1495,-123.5 1495,-117.5 1501,-111.5 1507,-111.5 1507,-111.5 1606,-111.5 1606,-111.5 1612,-111.5 1618,-117.5 1618,-123.5 1618,-123.5 1618,-167.5 1618,-167.5 1618,-173.5 1612,-179.5 1606,-179.5\"/>\n<text text-anchor=\"start\" x=\"1527\" y=\"-164.3\" font-family=\"Helvetica,sans-Serif\" font-size=\"14.00\" fill=\"#000000\">gini = 0.0</text>\n<text text-anchor=\"start\" x=\"1512.5\" y=\"-149.3\" font-family=\"Helvetica,sans-Serif\" font-size=\"14.00\" fill=\"#000000\">samples = 27</text>\n<text text-anchor=\"start\" x=\"1503\" y=\"-134.3\" font-family=\"Helvetica,sans-Serif\" font-size=\"14.00\" fill=\"#000000\">value = [0, 0, 27]</text>\n<text text-anchor=\"start\" x=\"1508\" y=\"-119.3\" font-family=\"Helvetica,sans-Serif\" font-size=\"14.00\" fill=\"#000000\">class = Europe</text>\n</g>\n<!-- 30&#45;&gt;31 -->\n<g id=\"edge31\" class=\"edge\">\n<title>30&#45;&gt;31</title>\n<path fill=\"none\" stroke=\"#000000\" d=\"M1556.5,-222.8796C1556.5,-212.2134 1556.5,-200.7021 1556.5,-189.9015\"/>\n<polygon fill=\"#000000\" stroke=\"#000000\" points=\"1560.0001,-189.8149 1556.5,-179.8149 1553.0001,-189.815 1560.0001,-189.8149\"/>\n</g>\n<!-- 32 -->\n<g id=\"node33\" class=\"node\">\n<title>32</title>\n<path fill=\"#f8e0ce\" stroke=\"#000000\" d=\"M1743,-187C1743,-187 1648,-187 1648,-187 1642,-187 1636,-181 1636,-175 1636,-175 1636,-116 1636,-116 1636,-110 1642,-104 1648,-104 1648,-104 1743,-104 1743,-104 1749,-104 1755,-110 1755,-116 1755,-116 1755,-175 1755,-175 1755,-181 1749,-187 1743,-187\"/>\n<text text-anchor=\"start\" x=\"1644\" y=\"-171.8\" font-family=\"Helvetica,sans-Serif\" font-size=\"14.00\" fill=\"#000000\">weight ≤ 3025.0</text>\n<text text-anchor=\"start\" x=\"1657.5\" y=\"-156.8\" font-family=\"Helvetica,sans-Serif\" font-size=\"14.00\" fill=\"#000000\">gini = 0.611</text>\n<text text-anchor=\"start\" x=\"1656\" y=\"-141.8\" font-family=\"Helvetica,sans-Serif\" font-size=\"14.00\" fill=\"#000000\">samples = 6</text>\n<text text-anchor=\"start\" x=\"1646\" y=\"-126.8\" font-family=\"Helvetica,sans-Serif\" font-size=\"14.00\" fill=\"#000000\">value = [3, 2, 1]</text>\n<text text-anchor=\"start\" x=\"1660.5\" y=\"-111.8\" font-family=\"Helvetica,sans-Serif\" font-size=\"14.00\" fill=\"#000000\">class = US</text>\n</g>\n<!-- 30&#45;&gt;32 -->\n<g id=\"edge32\" class=\"edge\">\n<title>30&#45;&gt;32</title>\n<path fill=\"none\" stroke=\"#000000\" d=\"M1605.1155,-222.8796C1616.0562,-213.513 1627.7582,-203.4948 1638.9908,-193.8784\"/>\n<polygon fill=\"#000000\" stroke=\"#000000\" points=\"1641.3568,-196.4603 1646.677,-187.2981 1636.8044,-191.1428 1641.3568,-196.4603\"/>\n</g>\n<!-- 33 -->\n<g id=\"node34\" class=\"node\">\n<title>33</title>\n<path fill=\"#eeab7b\" stroke=\"#000000\" d=\"M1736,-68C1736,-68 1645,-68 1645,-68 1639,-68 1633,-62 1633,-56 1633,-56 1633,-12 1633,-12 1633,-6 1639,0 1645,0 1645,0 1736,0 1736,0 1742,0 1748,-6 1748,-12 1748,-12 1748,-56 1748,-56 1748,-62 1742,-68 1736,-68\"/>\n<text text-anchor=\"start\" x=\"1652.5\" y=\"-52.8\" font-family=\"Helvetica,sans-Serif\" font-size=\"14.00\" fill=\"#000000\">gini = 0.375</text>\n<text text-anchor=\"start\" x=\"1651\" y=\"-37.8\" font-family=\"Helvetica,sans-Serif\" font-size=\"14.00\" fill=\"#000000\">samples = 4</text>\n<text text-anchor=\"start\" x=\"1641\" y=\"-22.8\" font-family=\"Helvetica,sans-Serif\" font-size=\"14.00\" fill=\"#000000\">value = [3, 0, 1]</text>\n<text text-anchor=\"start\" x=\"1655.5\" y=\"-7.8\" font-family=\"Helvetica,sans-Serif\" font-size=\"14.00\" fill=\"#000000\">class = US</text>\n</g>\n<!-- 32&#45;&gt;33 -->\n<g id=\"edge33\" class=\"edge\">\n<title>32&#45;&gt;33</title>\n<path fill=\"none\" stroke=\"#000000\" d=\"M1693.6382,-103.9815C1693.2631,-95.618 1692.8676,-86.7965 1692.4884,-78.3409\"/>\n<polygon fill=\"#000000\" stroke=\"#000000\" points=\"1695.981,-78.0968 1692.0365,-68.2637 1688.9881,-78.4105 1695.981,-78.0968\"/>\n</g>\n<!-- 34 -->\n<g id=\"node35\" class=\"node\">\n<title>34</title>\n<path fill=\"#39e581\" stroke=\"#000000\" d=\"M1869,-68C1869,-68 1778,-68 1778,-68 1772,-68 1766,-62 1766,-56 1766,-56 1766,-12 1766,-12 1766,-6 1772,0 1778,0 1778,0 1869,0 1869,0 1875,0 1881,-6 1881,-12 1881,-12 1881,-56 1881,-56 1881,-62 1875,-68 1869,-68\"/>\n<text text-anchor=\"start\" x=\"1794\" y=\"-52.8\" font-family=\"Helvetica,sans-Serif\" font-size=\"14.00\" fill=\"#000000\">gini = 0.0</text>\n<text text-anchor=\"start\" x=\"1784\" y=\"-37.8\" font-family=\"Helvetica,sans-Serif\" font-size=\"14.00\" fill=\"#000000\">samples = 2</text>\n<text text-anchor=\"start\" x=\"1774\" y=\"-22.8\" font-family=\"Helvetica,sans-Serif\" font-size=\"14.00\" fill=\"#000000\">value = [0, 2, 0]</text>\n<text text-anchor=\"start\" x=\"1784.5\" y=\"-7.8\" font-family=\"Helvetica,sans-Serif\" font-size=\"14.00\" fill=\"#000000\">class = Asia</text>\n</g>\n<!-- 32&#45;&gt;34 -->\n<g id=\"edge34\" class=\"edge\">\n<title>32&#45;&gt;34</title>\n<path fill=\"none\" stroke=\"#000000\" d=\"M1743.1625,-103.9815C1754.0297,-94.5151 1765.5705,-84.462 1776.4135,-75.0168\"/>\n<polygon fill=\"#000000\" stroke=\"#000000\" points=\"1778.9245,-77.4712 1784.1659,-68.2637 1774.3266,-72.1929 1778.9245,-77.4712\"/>\n</g>\n<!-- 37 -->\n<g id=\"node38\" class=\"node\">\n<title>37</title>\n<path fill=\"#8139e5\" stroke=\"#000000\" d=\"M1888,-298.5C1888,-298.5 1797,-298.5 1797,-298.5 1791,-298.5 1785,-292.5 1785,-286.5 1785,-286.5 1785,-242.5 1785,-242.5 1785,-236.5 1791,-230.5 1797,-230.5 1797,-230.5 1888,-230.5 1888,-230.5 1894,-230.5 1900,-236.5 1900,-242.5 1900,-242.5 1900,-286.5 1900,-286.5 1900,-292.5 1894,-298.5 1888,-298.5\"/>\n<text text-anchor=\"start\" x=\"1813\" y=\"-283.3\" font-family=\"Helvetica,sans-Serif\" font-size=\"14.00\" fill=\"#000000\">gini = 0.0</text>\n<text text-anchor=\"start\" x=\"1803\" y=\"-268.3\" font-family=\"Helvetica,sans-Serif\" font-size=\"14.00\" fill=\"#000000\">samples = 3</text>\n<text text-anchor=\"start\" x=\"1793\" y=\"-253.3\" font-family=\"Helvetica,sans-Serif\" font-size=\"14.00\" fill=\"#000000\">value = [0, 0, 3]</text>\n<text text-anchor=\"start\" x=\"1794\" y=\"-238.3\" font-family=\"Helvetica,sans-Serif\" font-size=\"14.00\" fill=\"#000000\">class = Europe</text>\n</g>\n<!-- 36&#45;&gt;37 -->\n<g id=\"edge37\" class=\"edge\">\n<title>36&#45;&gt;37</title>\n<path fill=\"none\" stroke=\"#000000\" d=\"M1842.5,-341.8796C1842.5,-331.2134 1842.5,-319.7021 1842.5,-308.9015\"/>\n<polygon fill=\"#000000\" stroke=\"#000000\" points=\"1846.0001,-308.8149 1842.5,-298.8149 1839.0001,-308.815 1846.0001,-308.8149\"/>\n</g>\n<!-- 38 -->\n<g id=\"node39\" class=\"node\">\n<title>38</title>\n<path fill=\"#39e581\" stroke=\"#000000\" d=\"M2021,-298.5C2021,-298.5 1930,-298.5 1930,-298.5 1924,-298.5 1918,-292.5 1918,-286.5 1918,-286.5 1918,-242.5 1918,-242.5 1918,-236.5 1924,-230.5 1930,-230.5 1930,-230.5 2021,-230.5 2021,-230.5 2027,-230.5 2033,-236.5 2033,-242.5 2033,-242.5 2033,-286.5 2033,-286.5 2033,-292.5 2027,-298.5 2021,-298.5\"/>\n<text text-anchor=\"start\" x=\"1946\" y=\"-283.3\" font-family=\"Helvetica,sans-Serif\" font-size=\"14.00\" fill=\"#000000\">gini = 0.0</text>\n<text text-anchor=\"start\" x=\"1936\" y=\"-268.3\" font-family=\"Helvetica,sans-Serif\" font-size=\"14.00\" fill=\"#000000\">samples = 5</text>\n<text text-anchor=\"start\" x=\"1926\" y=\"-253.3\" font-family=\"Helvetica,sans-Serif\" font-size=\"14.00\" fill=\"#000000\">value = [0, 5, 0]</text>\n<text text-anchor=\"start\" x=\"1936.5\" y=\"-238.3\" font-family=\"Helvetica,sans-Serif\" font-size=\"14.00\" fill=\"#000000\">class = Asia</text>\n</g>\n<!-- 36&#45;&gt;38 -->\n<g id=\"edge38\" class=\"edge\">\n<title>36&#45;&gt;38</title>\n<path fill=\"none\" stroke=\"#000000\" d=\"M1889.0169,-341.8796C1902.167,-330.1138 1916.4663,-317.3197 1929.5809,-305.5855\"/>\n<polygon fill=\"#000000\" stroke=\"#000000\" points=\"1932.0294,-308.0913 1937.148,-298.8149 1927.3618,-302.8746 1932.0294,-308.0913\"/>\n</g>\n</g>\n</svg>\n"
          },
          "metadata": {},
          "execution_count": 65
        }
      ]
    },
    {
      "cell_type": "code",
      "source": [
        "y_pred = clf.predict(X_test)\n",
        "accuracy = accuracy_score(y_test, y_pred)\n",
        "print(classification_report(y_test,y_pred))"
      ],
      "metadata": {
        "colab": {
          "base_uri": "https://localhost:8080/"
        },
        "id": "MJIr7UeOBoaD",
        "outputId": "e5791bdc-422b-4077-956d-b85008602aff"
      },
      "execution_count": null,
      "outputs": [
        {
          "output_type": "stream",
          "name": "stdout",
          "text": [
            "              precision    recall  f1-score   support\n",
            "\n",
            "        Asia       0.74      0.88      0.80        16\n",
            "      Europe       0.60      0.60      0.60        15\n",
            "          US       0.91      0.85      0.88        48\n",
            "\n",
            "    accuracy                           0.81        79\n",
            "   macro avg       0.75      0.78      0.76        79\n",
            "weighted avg       0.82      0.81      0.81        79\n",
            "\n"
          ]
        }
      ]
    },
    {
      "cell_type": "code",
      "source": [],
      "metadata": {
        "id": "qXggyyrjyYNr"
      },
      "execution_count": null,
      "outputs": []
    }
  ]
}