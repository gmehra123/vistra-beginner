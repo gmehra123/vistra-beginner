{
  "nbformat": 4,
  "nbformat_minor": 0,
  "metadata": {
    "colab": {
      "provenance": [],
      "collapsed_sections": [],
      "authorship_tag": "ABX9TyP3ukooUC7Ba44TNZB0mEm3",
      "include_colab_link": true
    },
    "kernelspec": {
      "name": "python3",
      "display_name": "Python 3"
    },
    "language_info": {
      "name": "python"
    }
  },
  "cells": [
    {
      "cell_type": "markdown",
      "metadata": {
        "id": "view-in-github",
        "colab_type": "text"
      },
      "source": [
        "<a href=\"https://colab.research.google.com/github/a-nagar/vistra-beginner/blob/main/Python_ML.ipynb\" target=\"_parent\"><img src=\"https://colab.research.google.com/assets/colab-badge.svg\" alt=\"Open In Colab\"/></a>"
      ]
    },
    {
      "cell_type": "markdown",
      "source": [
        "# Linear Regression\n",
        "Let's start by looking at our dataset. Dataset contains 506 rows about neighborhoods in the Boston area. Each data point has two features - average number of rooms and average distance from major employment centers - and a target variable indicating the average value of homes in that neighborhood."
      ],
      "metadata": {
        "id": "nvWFZ1oxmDmD"
      }
    },
    {
      "cell_type": "code",
      "execution_count": null,
      "metadata": {
        "id": "j8VbKb-XlOgG"
      },
      "outputs": [],
      "source": [
        "import pandas as pd\n",
        "import seaborn as sns\n",
        "import sklearn"
      ]
    },
    {
      "cell_type": "code",
      "source": [
        "boston = pd.read_csv('https://an-utd-python.s3.us-west-1.amazonaws.com/BostonHousePrices.csv')\n",
        "boston"
      ],
      "metadata": {
        "colab": {
          "base_uri": "https://localhost:8080/",
          "height": 424
        },
        "id": "GTWhgg8puJC1",
        "outputId": "191654c4-9fbb-4e5a-f920-fd950bb4d7e1"
      },
      "execution_count": null,
      "outputs": [
        {
          "output_type": "execute_result",
          "data": {
            "text/plain": [
              "     Rooms  Distance  Value\n",
              "0    6.575    4.0900   24.0\n",
              "1    6.421    4.9671   21.6\n",
              "2    7.185    4.9671   34.7\n",
              "3    6.998    6.0622   33.4\n",
              "4    7.147    6.0622   36.2\n",
              "..     ...       ...    ...\n",
              "501  6.593    2.4786   22.4\n",
              "502  6.120    2.2875   20.6\n",
              "503  6.976    2.1675   23.9\n",
              "504  6.794    2.3889   22.0\n",
              "505  6.030    2.5050   11.9\n",
              "\n",
              "[506 rows x 3 columns]"
            ],
            "text/html": [
              "\n",
              "  <div id=\"df-d78daf50-a7cf-4222-bda8-3d2e6468e17a\">\n",
              "    <div class=\"colab-df-container\">\n",
              "      <div>\n",
              "<style scoped>\n",
              "    .dataframe tbody tr th:only-of-type {\n",
              "        vertical-align: middle;\n",
              "    }\n",
              "\n",
              "    .dataframe tbody tr th {\n",
              "        vertical-align: top;\n",
              "    }\n",
              "\n",
              "    .dataframe thead th {\n",
              "        text-align: right;\n",
              "    }\n",
              "</style>\n",
              "<table border=\"1\" class=\"dataframe\">\n",
              "  <thead>\n",
              "    <tr style=\"text-align: right;\">\n",
              "      <th></th>\n",
              "      <th>Rooms</th>\n",
              "      <th>Distance</th>\n",
              "      <th>Value</th>\n",
              "    </tr>\n",
              "  </thead>\n",
              "  <tbody>\n",
              "    <tr>\n",
              "      <th>0</th>\n",
              "      <td>6.575</td>\n",
              "      <td>4.0900</td>\n",
              "      <td>24.0</td>\n",
              "    </tr>\n",
              "    <tr>\n",
              "      <th>1</th>\n",
              "      <td>6.421</td>\n",
              "      <td>4.9671</td>\n",
              "      <td>21.6</td>\n",
              "    </tr>\n",
              "    <tr>\n",
              "      <th>2</th>\n",
              "      <td>7.185</td>\n",
              "      <td>4.9671</td>\n",
              "      <td>34.7</td>\n",
              "    </tr>\n",
              "    <tr>\n",
              "      <th>3</th>\n",
              "      <td>6.998</td>\n",
              "      <td>6.0622</td>\n",
              "      <td>33.4</td>\n",
              "    </tr>\n",
              "    <tr>\n",
              "      <th>4</th>\n",
              "      <td>7.147</td>\n",
              "      <td>6.0622</td>\n",
              "      <td>36.2</td>\n",
              "    </tr>\n",
              "    <tr>\n",
              "      <th>...</th>\n",
              "      <td>...</td>\n",
              "      <td>...</td>\n",
              "      <td>...</td>\n",
              "    </tr>\n",
              "    <tr>\n",
              "      <th>501</th>\n",
              "      <td>6.593</td>\n",
              "      <td>2.4786</td>\n",
              "      <td>22.4</td>\n",
              "    </tr>\n",
              "    <tr>\n",
              "      <th>502</th>\n",
              "      <td>6.120</td>\n",
              "      <td>2.2875</td>\n",
              "      <td>20.6</td>\n",
              "    </tr>\n",
              "    <tr>\n",
              "      <th>503</th>\n",
              "      <td>6.976</td>\n",
              "      <td>2.1675</td>\n",
              "      <td>23.9</td>\n",
              "    </tr>\n",
              "    <tr>\n",
              "      <th>504</th>\n",
              "      <td>6.794</td>\n",
              "      <td>2.3889</td>\n",
              "      <td>22.0</td>\n",
              "    </tr>\n",
              "    <tr>\n",
              "      <th>505</th>\n",
              "      <td>6.030</td>\n",
              "      <td>2.5050</td>\n",
              "      <td>11.9</td>\n",
              "    </tr>\n",
              "  </tbody>\n",
              "</table>\n",
              "<p>506 rows × 3 columns</p>\n",
              "</div>\n",
              "      <button class=\"colab-df-convert\" onclick=\"convertToInteractive('df-d78daf50-a7cf-4222-bda8-3d2e6468e17a')\"\n",
              "              title=\"Convert this dataframe to an interactive table.\"\n",
              "              style=\"display:none;\">\n",
              "        \n",
              "  <svg xmlns=\"http://www.w3.org/2000/svg\" height=\"24px\"viewBox=\"0 0 24 24\"\n",
              "       width=\"24px\">\n",
              "    <path d=\"M0 0h24v24H0V0z\" fill=\"none\"/>\n",
              "    <path d=\"M18.56 5.44l.94 2.06.94-2.06 2.06-.94-2.06-.94-.94-2.06-.94 2.06-2.06.94zm-11 1L8.5 8.5l.94-2.06 2.06-.94-2.06-.94L8.5 2.5l-.94 2.06-2.06.94zm10 10l.94 2.06.94-2.06 2.06-.94-2.06-.94-.94-2.06-.94 2.06-2.06.94z\"/><path d=\"M17.41 7.96l-1.37-1.37c-.4-.4-.92-.59-1.43-.59-.52 0-1.04.2-1.43.59L10.3 9.45l-7.72 7.72c-.78.78-.78 2.05 0 2.83L4 21.41c.39.39.9.59 1.41.59.51 0 1.02-.2 1.41-.59l7.78-7.78 2.81-2.81c.8-.78.8-2.07 0-2.86zM5.41 20L4 18.59l7.72-7.72 1.47 1.35L5.41 20z\"/>\n",
              "  </svg>\n",
              "      </button>\n",
              "      \n",
              "  <style>\n",
              "    .colab-df-container {\n",
              "      display:flex;\n",
              "      flex-wrap:wrap;\n",
              "      gap: 12px;\n",
              "    }\n",
              "\n",
              "    .colab-df-convert {\n",
              "      background-color: #E8F0FE;\n",
              "      border: none;\n",
              "      border-radius: 50%;\n",
              "      cursor: pointer;\n",
              "      display: none;\n",
              "      fill: #1967D2;\n",
              "      height: 32px;\n",
              "      padding: 0 0 0 0;\n",
              "      width: 32px;\n",
              "    }\n",
              "\n",
              "    .colab-df-convert:hover {\n",
              "      background-color: #E2EBFA;\n",
              "      box-shadow: 0px 1px 2px rgba(60, 64, 67, 0.3), 0px 1px 3px 1px rgba(60, 64, 67, 0.15);\n",
              "      fill: #174EA6;\n",
              "    }\n",
              "\n",
              "    [theme=dark] .colab-df-convert {\n",
              "      background-color: #3B4455;\n",
              "      fill: #D2E3FC;\n",
              "    }\n",
              "\n",
              "    [theme=dark] .colab-df-convert:hover {\n",
              "      background-color: #434B5C;\n",
              "      box-shadow: 0px 1px 3px 1px rgba(0, 0, 0, 0.15);\n",
              "      filter: drop-shadow(0px 1px 2px rgba(0, 0, 0, 0.3));\n",
              "      fill: #FFFFFF;\n",
              "    }\n",
              "  </style>\n",
              "\n",
              "      <script>\n",
              "        const buttonEl =\n",
              "          document.querySelector('#df-d78daf50-a7cf-4222-bda8-3d2e6468e17a button.colab-df-convert');\n",
              "        buttonEl.style.display =\n",
              "          google.colab.kernel.accessAllowed ? 'block' : 'none';\n",
              "\n",
              "        async function convertToInteractive(key) {\n",
              "          const element = document.querySelector('#df-d78daf50-a7cf-4222-bda8-3d2e6468e17a');\n",
              "          const dataTable =\n",
              "            await google.colab.kernel.invokeFunction('convertToInteractive',\n",
              "                                                     [key], {});\n",
              "          if (!dataTable) return;\n",
              "\n",
              "          const docLinkHtml = 'Like what you see? Visit the ' +\n",
              "            '<a target=\"_blank\" href=https://colab.research.google.com/notebooks/data_table.ipynb>data table notebook</a>'\n",
              "            + ' to learn more about interactive tables.';\n",
              "          element.innerHTML = '';\n",
              "          dataTable['output_type'] = 'display_data';\n",
              "          await google.colab.output.renderOutput(dataTable, element);\n",
              "          const docLink = document.createElement('div');\n",
              "          docLink.innerHTML = docLinkHtml;\n",
              "          element.appendChild(docLink);\n",
              "        }\n",
              "      </script>\n",
              "    </div>\n",
              "  </div>\n",
              "  "
            ]
          },
          "metadata": {},
          "execution_count": 2
        }
      ]
    },
    {
      "cell_type": "code",
      "source": [
        "boston.describe()"
      ],
      "metadata": {
        "colab": {
          "base_uri": "https://localhost:8080/",
          "height": 300
        },
        "id": "55NWAHH-w9rY",
        "outputId": "c37a4d53-45e9-4677-94ad-027f16bad841"
      },
      "execution_count": null,
      "outputs": [
        {
          "output_type": "execute_result",
          "data": {
            "text/plain": [
              "            Rooms    Distance       Value\n",
              "count  506.000000  506.000000  506.000000\n",
              "mean     6.284634    3.795043   22.532806\n",
              "std      0.702617    2.105710    9.197104\n",
              "min      3.561000    1.129600    5.000000\n",
              "25%      5.885500    2.100175   17.025000\n",
              "50%      6.208500    3.207450   21.200000\n",
              "75%      6.623500    5.188425   25.000000\n",
              "max      8.780000   12.126500   50.000000"
            ],
            "text/html": [
              "\n",
              "  <div id=\"df-167d85ae-32e0-497d-91e4-962929ae5add\">\n",
              "    <div class=\"colab-df-container\">\n",
              "      <div>\n",
              "<style scoped>\n",
              "    .dataframe tbody tr th:only-of-type {\n",
              "        vertical-align: middle;\n",
              "    }\n",
              "\n",
              "    .dataframe tbody tr th {\n",
              "        vertical-align: top;\n",
              "    }\n",
              "\n",
              "    .dataframe thead th {\n",
              "        text-align: right;\n",
              "    }\n",
              "</style>\n",
              "<table border=\"1\" class=\"dataframe\">\n",
              "  <thead>\n",
              "    <tr style=\"text-align: right;\">\n",
              "      <th></th>\n",
              "      <th>Rooms</th>\n",
              "      <th>Distance</th>\n",
              "      <th>Value</th>\n",
              "    </tr>\n",
              "  </thead>\n",
              "  <tbody>\n",
              "    <tr>\n",
              "      <th>count</th>\n",
              "      <td>506.000000</td>\n",
              "      <td>506.000000</td>\n",
              "      <td>506.000000</td>\n",
              "    </tr>\n",
              "    <tr>\n",
              "      <th>mean</th>\n",
              "      <td>6.284634</td>\n",
              "      <td>3.795043</td>\n",
              "      <td>22.532806</td>\n",
              "    </tr>\n",
              "    <tr>\n",
              "      <th>std</th>\n",
              "      <td>0.702617</td>\n",
              "      <td>2.105710</td>\n",
              "      <td>9.197104</td>\n",
              "    </tr>\n",
              "    <tr>\n",
              "      <th>min</th>\n",
              "      <td>3.561000</td>\n",
              "      <td>1.129600</td>\n",
              "      <td>5.000000</td>\n",
              "    </tr>\n",
              "    <tr>\n",
              "      <th>25%</th>\n",
              "      <td>5.885500</td>\n",
              "      <td>2.100175</td>\n",
              "      <td>17.025000</td>\n",
              "    </tr>\n",
              "    <tr>\n",
              "      <th>50%</th>\n",
              "      <td>6.208500</td>\n",
              "      <td>3.207450</td>\n",
              "      <td>21.200000</td>\n",
              "    </tr>\n",
              "    <tr>\n",
              "      <th>75%</th>\n",
              "      <td>6.623500</td>\n",
              "      <td>5.188425</td>\n",
              "      <td>25.000000</td>\n",
              "    </tr>\n",
              "    <tr>\n",
              "      <th>max</th>\n",
              "      <td>8.780000</td>\n",
              "      <td>12.126500</td>\n",
              "      <td>50.000000</td>\n",
              "    </tr>\n",
              "  </tbody>\n",
              "</table>\n",
              "</div>\n",
              "      <button class=\"colab-df-convert\" onclick=\"convertToInteractive('df-167d85ae-32e0-497d-91e4-962929ae5add')\"\n",
              "              title=\"Convert this dataframe to an interactive table.\"\n",
              "              style=\"display:none;\">\n",
              "        \n",
              "  <svg xmlns=\"http://www.w3.org/2000/svg\" height=\"24px\"viewBox=\"0 0 24 24\"\n",
              "       width=\"24px\">\n",
              "    <path d=\"M0 0h24v24H0V0z\" fill=\"none\"/>\n",
              "    <path d=\"M18.56 5.44l.94 2.06.94-2.06 2.06-.94-2.06-.94-.94-2.06-.94 2.06-2.06.94zm-11 1L8.5 8.5l.94-2.06 2.06-.94-2.06-.94L8.5 2.5l-.94 2.06-2.06.94zm10 10l.94 2.06.94-2.06 2.06-.94-2.06-.94-.94-2.06-.94 2.06-2.06.94z\"/><path d=\"M17.41 7.96l-1.37-1.37c-.4-.4-.92-.59-1.43-.59-.52 0-1.04.2-1.43.59L10.3 9.45l-7.72 7.72c-.78.78-.78 2.05 0 2.83L4 21.41c.39.39.9.59 1.41.59.51 0 1.02-.2 1.41-.59l7.78-7.78 2.81-2.81c.8-.78.8-2.07 0-2.86zM5.41 20L4 18.59l7.72-7.72 1.47 1.35L5.41 20z\"/>\n",
              "  </svg>\n",
              "      </button>\n",
              "      \n",
              "  <style>\n",
              "    .colab-df-container {\n",
              "      display:flex;\n",
              "      flex-wrap:wrap;\n",
              "      gap: 12px;\n",
              "    }\n",
              "\n",
              "    .colab-df-convert {\n",
              "      background-color: #E8F0FE;\n",
              "      border: none;\n",
              "      border-radius: 50%;\n",
              "      cursor: pointer;\n",
              "      display: none;\n",
              "      fill: #1967D2;\n",
              "      height: 32px;\n",
              "      padding: 0 0 0 0;\n",
              "      width: 32px;\n",
              "    }\n",
              "\n",
              "    .colab-df-convert:hover {\n",
              "      background-color: #E2EBFA;\n",
              "      box-shadow: 0px 1px 2px rgba(60, 64, 67, 0.3), 0px 1px 3px 1px rgba(60, 64, 67, 0.15);\n",
              "      fill: #174EA6;\n",
              "    }\n",
              "\n",
              "    [theme=dark] .colab-df-convert {\n",
              "      background-color: #3B4455;\n",
              "      fill: #D2E3FC;\n",
              "    }\n",
              "\n",
              "    [theme=dark] .colab-df-convert:hover {\n",
              "      background-color: #434B5C;\n",
              "      box-shadow: 0px 1px 3px 1px rgba(0, 0, 0, 0.15);\n",
              "      filter: drop-shadow(0px 1px 2px rgba(0, 0, 0, 0.3));\n",
              "      fill: #FFFFFF;\n",
              "    }\n",
              "  </style>\n",
              "\n",
              "      <script>\n",
              "        const buttonEl =\n",
              "          document.querySelector('#df-167d85ae-32e0-497d-91e4-962929ae5add button.colab-df-convert');\n",
              "        buttonEl.style.display =\n",
              "          google.colab.kernel.accessAllowed ? 'block' : 'none';\n",
              "\n",
              "        async function convertToInteractive(key) {\n",
              "          const element = document.querySelector('#df-167d85ae-32e0-497d-91e4-962929ae5add');\n",
              "          const dataTable =\n",
              "            await google.colab.kernel.invokeFunction('convertToInteractive',\n",
              "                                                     [key], {});\n",
              "          if (!dataTable) return;\n",
              "\n",
              "          const docLinkHtml = 'Like what you see? Visit the ' +\n",
              "            '<a target=\"_blank\" href=https://colab.research.google.com/notebooks/data_table.ipynb>data table notebook</a>'\n",
              "            + ' to learn more about interactive tables.';\n",
              "          element.innerHTML = '';\n",
              "          dataTable['output_type'] = 'display_data';\n",
              "          await google.colab.output.renderOutput(dataTable, element);\n",
              "          const docLink = document.createElement('div');\n",
              "          docLink.innerHTML = docLinkHtml;\n",
              "          element.appendChild(docLink);\n",
              "        }\n",
              "      </script>\n",
              "    </div>\n",
              "  </div>\n",
              "  "
            ]
          },
          "metadata": {},
          "execution_count": 3
        }
      ]
    },
    {
      "cell_type": "code",
      "source": [
        "sns.pairplot(boston)"
      ],
      "metadata": {
        "colab": {
          "base_uri": "https://localhost:8080/",
          "height": 567
        },
        "id": "I8qYphm9uUe1",
        "outputId": "680e849e-ad26-4d16-f4c1-eb21f745c0c9"
      },
      "execution_count": null,
      "outputs": [
        {
          "output_type": "execute_result",
          "data": {
            "text/plain": [
              "<seaborn.axisgrid.PairGrid at 0x7f888dcbe890>"
            ]
          },
          "metadata": {},
          "execution_count": 4
        },
        {
          "output_type": "display_data",
          "data": {
            "text/plain": [
              "<Figure size 540x540 with 12 Axes>"
            ],
            "image/png": "[encoded data removed]"
          },
          "metadata": {
            "needs_background": "light"
          }
        }
      ]
    },
    {
      "cell_type": "code",
      "source": [
        "corr = boston.corr() #.corr can be applied to a dataframe "
      ],
      "metadata": {
        "id": "m8P10eMGwCbh"
      },
      "execution_count": null,
      "outputs": []
    },
    {
      "cell_type": "code",
      "source": [
        "sns.heatmap(corr, annot=True)"
      ],
      "metadata": {
        "colab": {
          "base_uri": "https://localhost:8080/",
          "height": 286
        },
        "id": "Pyk3gAazweh6",
        "outputId": "ed5af63d-68df-4197-98ec-7896144d49bf"
      },
      "execution_count": null,
      "outputs": [
        {
          "output_type": "execute_result",
          "data": {
            "text/plain": [
              "<matplotlib.axes._subplots.AxesSubplot at 0x7f888aab77d0>"
            ]
          },
          "metadata": {},
          "execution_count": 7
        },
        {
          "output_type": "display_data",
          "data": {
            "text/plain": [
              "<Figure size 432x288 with 2 Axes>"
            ],
            "image/png": "[encoded data removed]"
          },
          "metadata": {
            "needs_background": "light"
          }
        }
      ]
    },
    {
      "cell_type": "markdown",
      "source": [
        "## Linear Regression using StatsModels library"
      ],
      "metadata": {
        "id": "s4-9o_tDynF-"
      }
    },
    {
      "cell_type": "code",
      "source": [
        "import statsmodels.api as sm"
      ],
      "metadata": {
        "colab": {
          "base_uri": "https://localhost:8080/"
        },
        "id": "EpVM98ajwfTo",
        "outputId": "7495662b-142e-46ba-9ffb-91459e0753bb"
      },
      "execution_count": null,
      "outputs": [
        {
          "output_type": "stream",
          "name": "stderr",
          "text": [
            "/usr/local/lib/python3.7/dist-packages/statsmodels/tools/_testing.py:19: FutureWarning: pandas.util.testing is deprecated. Use the functions in the public API at pandas.testing instead.\n",
            "  import pandas.util.testing as tm\n"
          ]
        }
      ]
    },
    {
      "cell_type": "code",
      "source": [
        "y = boston['Value'] # dependent variable\n",
        "X = boston[['Rooms', 'Distance']] # independent variablea"
      ],
      "metadata": {
        "id": "lE9L1wGFyuv6"
      },
      "execution_count": null,
      "outputs": []
    },
    {
      "cell_type": "code",
      "source": [
        "X = sm.add_constant(X) # adding a constant\n",
        "lm = sm.OLS(y, X).fit() # fitting the model\n",
        "lm.summary()"
      ],
      "metadata": {
        "colab": {
          "base_uri": "https://localhost:8080/",
          "height": 528
        },
        "id": "CHto7ItLyvQd",
        "outputId": "635043d7-438e-475e-af22-23be2ef557c2"
      },
      "execution_count": null,
      "outputs": [
        {
          "output_type": "stream",
          "name": "stderr",
          "text": [
            "/usr/local/lib/python3.7/dist-packages/statsmodels/tsa/tsatools.py:117: FutureWarning: In a future version of pandas all arguments of concat except for the argument 'objs' will be keyword-only\n",
            "  x = pd.concat(x[::order], 1)\n"
          ]
        },
        {
          "output_type": "execute_result",
          "data": {
            "text/plain": [
              "<class 'statsmodels.iolib.summary.Summary'>\n",
              "\"\"\"\n",
              "                            OLS Regression Results                            \n",
              "==============================================================================\n",
              "Dep. Variable:                  Value   R-squared:                       0.496\n",
              "Model:                            OLS   Adj. R-squared:                  0.494\n",
              "Method:                 Least Squares   F-statistic:                     247.0\n",
              "Date:                Fri, 15 Jul 2022   Prob (F-statistic):           1.84e-75\n",
              "Time:                        16:18:02   Log-Likelihood:                -1667.1\n",
              "No. Observations:                 506   AIC:                             3340.\n",
              "Df Residuals:                     503   BIC:                             3353.\n",
              "Df Model:                           2                                         \n",
              "Covariance Type:            nonrobust                                         \n",
              "==============================================================================\n",
              "                 coef    std err          t      P>|t|      [0.025      0.975]\n",
              "------------------------------------------------------------------------------\n",
              "const        -34.6361      2.621    -13.212      0.000     -39.786     -29.486\n",
              "Rooms          8.8014      0.424     20.780      0.000       7.969       9.634\n",
              "Distance       0.4888      0.141      3.459      0.001       0.211       0.767\n",
              "==============================================================================\n",
              "Omnibus:                      142.807   Durbin-Watson:                   0.684\n",
              "Prob(Omnibus):                  0.000   Jarque-Bera (JB):              844.520\n",
              "Skew:                           1.090   Prob(JB):                    4.12e-184\n",
              "Kurtosis:                       8.942   Cond. No.                         68.7\n",
              "==============================================================================\n",
              "\n",
              "Warnings:\n",
              "[1] Standard Errors assume that the covariance matrix of the errors is correctly specified.\n",
              "\"\"\""
            ],
            "text/html": [
              "<table class=\"simpletable\">\n",
              "<caption>OLS Regression Results</caption>\n",
              "<tr>\n",
              "  <th>Dep. Variable:</th>          <td>Value</td>      <th>  R-squared:         </th> <td>   0.496</td>\n",
              "</tr>\n",
              "<tr>\n",
              "  <th>Model:</th>                   <td>OLS</td>       <th>  Adj. R-squared:    </th> <td>   0.494</td>\n",
              "</tr>\n",
              "<tr>\n",
              "  <th>Method:</th>             <td>Least Squares</td>  <th>  F-statistic:       </th> <td>   247.0</td>\n",
              "</tr>\n",
              "<tr>\n",
              "  <th>Date:</th>             <td>Fri, 15 Jul 2022</td> <th>  Prob (F-statistic):</th> <td>1.84e-75</td>\n",
              "</tr>\n",
              "<tr>\n",
              "  <th>Time:</th>                 <td>16:18:02</td>     <th>  Log-Likelihood:    </th> <td> -1667.1</td>\n",
              "</tr>\n",
              "<tr>\n",
              "  <th>No. Observations:</th>      <td>   506</td>      <th>  AIC:               </th> <td>   3340.</td>\n",
              "</tr>\n",
              "<tr>\n",
              "  <th>Df Residuals:</th>          <td>   503</td>      <th>  BIC:               </th> <td>   3353.</td>\n",
              "</tr>\n",
              "<tr>\n",
              "  <th>Df Model:</th>              <td>     2</td>      <th>                     </th>     <td> </td>   \n",
              "</tr>\n",
              "<tr>\n",
              "  <th>Covariance Type:</th>      <td>nonrobust</td>    <th>                     </th>     <td> </td>   \n",
              "</tr>\n",
              "</table>\n",
              "<table class=\"simpletable\">\n",
              "<tr>\n",
              "      <td></td>        <th>coef</th>     <th>std err</th>      <th>t</th>      <th>P>|t|</th>  <th>[0.025</th>    <th>0.975]</th>  \n",
              "</tr>\n",
              "<tr>\n",
              "  <th>const</th>    <td>  -34.6361</td> <td>    2.621</td> <td>  -13.212</td> <td> 0.000</td> <td>  -39.786</td> <td>  -29.486</td>\n",
              "</tr>\n",
              "<tr>\n",
              "  <th>Rooms</th>    <td>    8.8014</td> <td>    0.424</td> <td>   20.780</td> <td> 0.000</td> <td>    7.969</td> <td>    9.634</td>\n",
              "</tr>\n",
              "<tr>\n",
              "  <th>Distance</th> <td>    0.4888</td> <td>    0.141</td> <td>    3.459</td> <td> 0.001</td> <td>    0.211</td> <td>    0.767</td>\n",
              "</tr>\n",
              "</table>\n",
              "<table class=\"simpletable\">\n",
              "<tr>\n",
              "  <th>Omnibus:</th>       <td>142.807</td> <th>  Durbin-Watson:     </th> <td>   0.684</td> \n",
              "</tr>\n",
              "<tr>\n",
              "  <th>Prob(Omnibus):</th> <td> 0.000</td>  <th>  Jarque-Bera (JB):  </th> <td> 844.520</td> \n",
              "</tr>\n",
              "<tr>\n",
              "  <th>Skew:</th>          <td> 1.090</td>  <th>  Prob(JB):          </th> <td>4.12e-184</td>\n",
              "</tr>\n",
              "<tr>\n",
              "  <th>Kurtosis:</th>      <td> 8.942</td>  <th>  Cond. No.          </th> <td>    68.7</td> \n",
              "</tr>\n",
              "</table><br/><br/>Warnings:<br/>[1] Standard Errors assume that the covariance matrix of the errors is correctly specified."
            ]
          },
          "metadata": {},
          "execution_count": 10
        }
      ]
    },
    {
      "cell_type": "markdown",
      "source": [
        "## Linear Regression Using Scikit-Learn"
      ],
      "metadata": {
        "id": "rZqLNbG1zLW-"
      }
    },
    {
      "cell_type": "code",
      "source": [
        "from sklearn import linear_model"
      ],
      "metadata": {
        "id": "ldYTkua-y0je"
      },
      "execution_count": null,
      "outputs": []
    },
    {
      "cell_type": "code",
      "source": [
        "y = boston['Value'] # dependent variable\n",
        "X = boston[['Rooms', 'Distance']] # independent variable"
      ],
      "metadata": {
        "id": "jKOGlqsyz1RD"
      },
      "execution_count": null,
      "outputs": []
    },
    {
      "cell_type": "code",
      "source": [
        "lm = linear_model.LinearRegression() \n",
        "lm.fit(X, y)"
      ],
      "metadata": {
        "colab": {
          "base_uri": "https://localhost:8080/"
        },
        "id": "xHBTQTx1zPb_",
        "outputId": "c0fe9f41-9edd-4dbf-acc8-0198dda6e58e"
      },
      "execution_count": null,
      "outputs": [
        {
          "output_type": "execute_result",
          "data": {
            "text/plain": [
              "LinearRegression()"
            ]
          },
          "metadata": {},
          "execution_count": 13
        }
      ]
    },
    {
      "cell_type": "code",
      "source": [
        "# r2 score\n",
        "lm.score(X, y)"
      ],
      "metadata": {
        "colab": {
          "base_uri": "https://localhost:8080/"
        },
        "id": "pqsF_xyVzSaD",
        "outputId": "bb51bab5-54be-4556-ea1c-800445211484"
      },
      "execution_count": null,
      "outputs": [
        {
          "output_type": "execute_result",
          "data": {
            "text/plain": [
              "0.4955246476058477"
            ]
          },
          "metadata": {},
          "execution_count": 14
        }
      ]
    },
    {
      "cell_type": "code",
      "source": [
        "# coefficient\n",
        "lm.coef_"
      ],
      "metadata": {
        "colab": {
          "base_uri": "https://localhost:8080/"
        },
        "id": "Yk_M4GGFzX8o",
        "outputId": "edebc0f4-5e71-4b17-9276-df314686fa48"
      },
      "execution_count": null,
      "outputs": [
        {
          "output_type": "execute_result",
          "data": {
            "text/plain": [
              "array([8.80141183, 0.48884854])"
            ]
          },
          "metadata": {},
          "execution_count": 15
        }
      ]
    },
    {
      "cell_type": "code",
      "source": [
        "# intercept\n",
        "lm.intercept_"
      ],
      "metadata": {
        "colab": {
          "base_uri": "https://localhost:8080/"
        },
        "id": "MjY55FTXzcFC",
        "outputId": "7161d1c9-f18d-4502-b535-dae5319da285"
      },
      "execution_count": null,
      "outputs": [
        {
          "output_type": "execute_result",
          "data": {
            "text/plain": [
              "-34.636050175473315"
            ]
          },
          "metadata": {},
          "execution_count": 16
        }
      ]
    },
    {
      "cell_type": "code",
      "source": [
        "from sklearn.linear_model import SGDRegressor"
      ],
      "metadata": {
        "id": "Sj5lrm15s4rZ"
      },
      "execution_count": null,
      "outputs": []
    },
    {
      "cell_type": "code",
      "source": [
        "sgd = SGDRegressor(max_iter=10000, tol=1e-4, alpha = 0.01 )"
      ],
      "metadata": {
        "id": "daovwmKTtIlS"
      },
      "execution_count": null,
      "outputs": []
    },
    {
      "cell_type": "code",
      "source": [
        "sgd.fit(X, y)"
      ],
      "metadata": {
        "colab": {
          "base_uri": "https://localhost:8080/"
        },
        "id": "9_9E3YqMtrlv",
        "outputId": "bad43627-b82d-4d37-9f8e-3cdf5444da30"
      },
      "execution_count": null,
      "outputs": [
        {
          "output_type": "execute_result",
          "data": {
            "text/plain": [
              "SGDRegressor(alpha=0.01, max_iter=10000, tol=0.0001)"
            ]
          },
          "metadata": {},
          "execution_count": 28
        }
      ]
    },
    {
      "cell_type": "code",
      "source": [
        "sgd.coef_"
      ],
      "metadata": {
        "colab": {
          "base_uri": "https://localhost:8080/"
        },
        "id": "JrKcfC7ItuxU",
        "outputId": "8435d539-0462-43ce-dc90-e87601d9a5b2"
      },
      "execution_count": null,
      "outputs": [
        {
          "output_type": "execute_result",
          "data": {
            "text/plain": [
              "array([4.46222514, 0.52285819])"
            ]
          },
          "metadata": {},
          "execution_count": 29
        }
      ]
    },
    {
      "cell_type": "code",
      "source": [
        "sgd.score(X, y)"
      ],
      "metadata": {
        "colab": {
          "base_uri": "https://localhost:8080/"
        },
        "id": "9kaE7e63ty2_",
        "outputId": "f35797bb-0b78-4a31-ab5f-c2055b22fdcc"
      },
      "execution_count": null,
      "outputs": [
        {
          "output_type": "execute_result",
          "data": {
            "text/plain": [
              "0.3863335374202045"
            ]
          },
          "metadata": {},
          "execution_count": 30
        }
      ]
    },
    {
      "cell_type": "markdown",
      "source": [
        "## Logistic Regression"
      ],
      "metadata": {
        "id": "0CIKyA1Y54PT"
      }
    },
    {
      "cell_type": "markdown",
      "source": [
        "We will use the US-pumpkins dataset which includes 1757 lines of data about the market for pumpkins, sorted into groupings by city. This is raw data extracted from the Specialty Crops Terminal Markets Standard Reports distributed by the United States Department of Agriculture."
      ],
      "metadata": {
        "id": "qJDS973r7g4m"
      }
    },
    {
      "cell_type": "code",
      "source": [
        "pumpkins = pd.read_csv('https://an-utd-python.s3.us-west-1.amazonaws.com/US-pumpkins.csv')\n",
        "pumpkins.head()"
      ],
      "metadata": {
        "colab": {
          "base_uri": "https://localhost:8080/",
          "height": 421
        },
        "id": "nPDgSheYzfZa",
        "outputId": "85ad6a9b-ad9e-482f-8a1c-c8334be4382c"
      },
      "execution_count": null,
      "outputs": [
        {
          "output_type": "execute_result",
          "data": {
            "text/plain": [
              "   City Name Type       Package      Variety Sub Variety  Grade     Date  \\\n",
              "0  BALTIMORE  NaN  24 inch bins          NaN         NaN    NaN  4/29/17   \n",
              "1  BALTIMORE  NaN  24 inch bins          NaN         NaN    NaN   5/6/17   \n",
              "2  BALTIMORE  NaN  24 inch bins  HOWDEN TYPE         NaN    NaN  9/24/16   \n",
              "3  BALTIMORE  NaN  24 inch bins  HOWDEN TYPE         NaN    NaN  9/24/16   \n",
              "4  BALTIMORE  NaN  24 inch bins  HOWDEN TYPE         NaN    NaN  11/5/16   \n",
              "\n",
              "   Low Price  High Price  Mostly Low  ...   Color Environment Unit of Sale  \\\n",
              "0      270.0       280.0       270.0  ...     NaN         NaN          NaN   \n",
              "1      270.0       280.0       270.0  ...     NaN         NaN          NaN   \n",
              "2      160.0       160.0       160.0  ...  ORANGE         NaN          NaN   \n",
              "3      160.0       160.0       160.0  ...  ORANGE         NaN          NaN   \n",
              "4       90.0       100.0        90.0  ...  ORANGE         NaN          NaN   \n",
              "\n",
              "  Quality Condition  Appearance Storage  Crop  Repack  Trans Mode  \n",
              "0     NaN       NaN         NaN     NaN   NaN       E         NaN  \n",
              "1     NaN       NaN         NaN     NaN   NaN       E         NaN  \n",
              "2     NaN       NaN         NaN     NaN   NaN       N         NaN  \n",
              "3     NaN       NaN         NaN     NaN   NaN       N         NaN  \n",
              "4     NaN       NaN         NaN     NaN   NaN       N         NaN  \n",
              "\n",
              "[5 rows x 24 columns]"
            ],
            "text/html": [
              "\n",
              "  <div id=\"df-65c55531-925a-43ab-be72-c6d0c67db605\">\n",
              "    <div class=\"colab-df-container\">\n",
              "      <div>\n",
              "<style scoped>\n",
              "    .dataframe tbody tr th:only-of-type {\n",
              "        vertical-align: middle;\n",
              "    }\n",
              "\n",
              "    .dataframe tbody tr th {\n",
              "        vertical-align: top;\n",
              "    }\n",
              "\n",
              "    .dataframe thead th {\n",
              "        text-align: right;\n",
              "    }\n",
              "</style>\n",
              "<table border=\"1\" class=\"dataframe\">\n",
              "  <thead>\n",
              "    <tr style=\"text-align: right;\">\n",
              "      <th></th>\n",
              "      <th>City Name</th>\n",
              "      <th>Type</th>\n",
              "      <th>Package</th>\n",
              "      <th>Variety</th>\n",
              "      <th>Sub Variety</th>\n",
              "      <th>Grade</th>\n",
              "      <th>Date</th>\n",
              "      <th>Low Price</th>\n",
              "      <th>High Price</th>\n",
              "      <th>Mostly Low</th>\n",
              "      <th>...</th>\n",
              "      <th>Color</th>\n",
              "      <th>Environment</th>\n",
              "      <th>Unit of Sale</th>\n",
              "      <th>Quality</th>\n",
              "      <th>Condition</th>\n",
              "      <th>Appearance</th>\n",
              "      <th>Storage</th>\n",
              "      <th>Crop</th>\n",
              "      <th>Repack</th>\n",
              "      <th>Trans Mode</th>\n",
              "    </tr>\n",
              "  </thead>\n",
              "  <tbody>\n",
              "    <tr>\n",
              "      <th>0</th>\n",
              "      <td>BALTIMORE</td>\n",
              "      <td>NaN</td>\n",
              "      <td>24 inch bins</td>\n",
              "      <td>NaN</td>\n",
              "      <td>NaN</td>\n",
              "      <td>NaN</td>\n",
              "      <td>4/29/17</td>\n",
              "      <td>270.0</td>\n",
              "      <td>280.0</td>\n",
              "      <td>270.0</td>\n",
              "      <td>...</td>\n",
              "      <td>NaN</td>\n",
              "      <td>NaN</td>\n",
              "      <td>NaN</td>\n",
              "      <td>NaN</td>\n",
              "      <td>NaN</td>\n",
              "      <td>NaN</td>\n",
              "      <td>NaN</td>\n",
              "      <td>NaN</td>\n",
              "      <td>E</td>\n",
              "      <td>NaN</td>\n",
              "    </tr>\n",
              "    <tr>\n",
              "      <th>1</th>\n",
              "      <td>BALTIMORE</td>\n",
              "      <td>NaN</td>\n",
              "      <td>24 inch bins</td>\n",
              "      <td>NaN</td>\n",
              "      <td>NaN</td>\n",
              "      <td>NaN</td>\n",
              "      <td>5/6/17</td>\n",
              "      <td>270.0</td>\n",
              "      <td>280.0</td>\n",
              "      <td>270.0</td>\n",
              "      <td>...</td>\n",
              "      <td>NaN</td>\n",
              "      <td>NaN</td>\n",
              "      <td>NaN</td>\n",
              "      <td>NaN</td>\n",
              "      <td>NaN</td>\n",
              "      <td>NaN</td>\n",
              "      <td>NaN</td>\n",
              "      <td>NaN</td>\n",
              "      <td>E</td>\n",
              "      <td>NaN</td>\n",
              "    </tr>\n",
              "    <tr>\n",
              "      <th>2</th>\n",
              "      <td>BALTIMORE</td>\n",
              "      <td>NaN</td>\n",
              "      <td>24 inch bins</td>\n",
              "      <td>HOWDEN TYPE</td>\n",
              "      <td>NaN</td>\n",
              "      <td>NaN</td>\n",
              "      <td>9/24/16</td>\n",
              "      <td>160.0</td>\n",
              "      <td>160.0</td>\n",
              "      <td>160.0</td>\n",
              "      <td>...</td>\n",
              "      <td>ORANGE</td>\n",
              "      <td>NaN</td>\n",
              "      <td>NaN</td>\n",
              "      <td>NaN</td>\n",
              "      <td>NaN</td>\n",
              "      <td>NaN</td>\n",
              "      <td>NaN</td>\n",
              "      <td>NaN</td>\n",
              "      <td>N</td>\n",
              "      <td>NaN</td>\n",
              "    </tr>\n",
              "    <tr>\n",
              "      <th>3</th>\n",
              "      <td>BALTIMORE</td>\n",
              "      <td>NaN</td>\n",
              "      <td>24 inch bins</td>\n",
              "      <td>HOWDEN TYPE</td>\n",
              "      <td>NaN</td>\n",
              "      <td>NaN</td>\n",
              "      <td>9/24/16</td>\n",
              "      <td>160.0</td>\n",
              "      <td>160.0</td>\n",
              "      <td>160.0</td>\n",
              "      <td>...</td>\n",
              "      <td>ORANGE</td>\n",
              "      <td>NaN</td>\n",
              "      <td>NaN</td>\n",
              "      <td>NaN</td>\n",
              "      <td>NaN</td>\n",
              "      <td>NaN</td>\n",
              "      <td>NaN</td>\n",
              "      <td>NaN</td>\n",
              "      <td>N</td>\n",
              "      <td>NaN</td>\n",
              "    </tr>\n",
              "    <tr>\n",
              "      <th>4</th>\n",
              "      <td>BALTIMORE</td>\n",
              "      <td>NaN</td>\n",
              "      <td>24 inch bins</td>\n",
              "      <td>HOWDEN TYPE</td>\n",
              "      <td>NaN</td>\n",
              "      <td>NaN</td>\n",
              "      <td>11/5/16</td>\n",
              "      <td>90.0</td>\n",
              "      <td>100.0</td>\n",
              "      <td>90.0</td>\n",
              "      <td>...</td>\n",
              "      <td>ORANGE</td>\n",
              "      <td>NaN</td>\n",
              "      <td>NaN</td>\n",
              "      <td>NaN</td>\n",
              "      <td>NaN</td>\n",
              "      <td>NaN</td>\n",
              "      <td>NaN</td>\n",
              "      <td>NaN</td>\n",
              "      <td>N</td>\n",
              "      <td>NaN</td>\n",
              "    </tr>\n",
              "  </tbody>\n",
              "</table>\n",
              "<p>5 rows × 24 columns</p>\n",
              "</div>\n",
              "      <button class=\"colab-df-convert\" onclick=\"convertToInteractive('df-65c55531-925a-43ab-be72-c6d0c67db605')\"\n",
              "              title=\"Convert this dataframe to an interactive table.\"\n",
              "              style=\"display:none;\">\n",
              "        \n",
              "  <svg xmlns=\"http://www.w3.org/2000/svg\" height=\"24px\"viewBox=\"0 0 24 24\"\n",
              "       width=\"24px\">\n",
              "    <path d=\"M0 0h24v24H0V0z\" fill=\"none\"/>\n",
              "    <path d=\"M18.56 5.44l.94 2.06.94-2.06 2.06-.94-2.06-.94-.94-2.06-.94 2.06-2.06.94zm-11 1L8.5 8.5l.94-2.06 2.06-.94-2.06-.94L8.5 2.5l-.94 2.06-2.06.94zm10 10l.94 2.06.94-2.06 2.06-.94-2.06-.94-.94-2.06-.94 2.06-2.06.94z\"/><path d=\"M17.41 7.96l-1.37-1.37c-.4-.4-.92-.59-1.43-.59-.52 0-1.04.2-1.43.59L10.3 9.45l-7.72 7.72c-.78.78-.78 2.05 0 2.83L4 21.41c.39.39.9.59 1.41.59.51 0 1.02-.2 1.41-.59l7.78-7.78 2.81-2.81c.8-.78.8-2.07 0-2.86zM5.41 20L4 18.59l7.72-7.72 1.47 1.35L5.41 20z\"/>\n",
              "  </svg>\n",
              "      </button>\n",
              "      \n",
              "  <style>\n",
              "    .colab-df-container {\n",
              "      display:flex;\n",
              "      flex-wrap:wrap;\n",
              "      gap: 12px;\n",
              "    }\n",
              "\n",
              "    .colab-df-convert {\n",
              "      background-color: #E8F0FE;\n",
              "      border: none;\n",
              "      border-radius: 50%;\n",
              "      cursor: pointer;\n",
              "      display: none;\n",
              "      fill: #1967D2;\n",
              "      height: 32px;\n",
              "      padding: 0 0 0 0;\n",
              "      width: 32px;\n",
              "    }\n",
              "\n",
              "    .colab-df-convert:hover {\n",
              "      background-color: #E2EBFA;\n",
              "      box-shadow: 0px 1px 2px rgba(60, 64, 67, 0.3), 0px 1px 3px 1px rgba(60, 64, 67, 0.15);\n",
              "      fill: #174EA6;\n",
              "    }\n",
              "\n",
              "    [theme=dark] .colab-df-convert {\n",
              "      background-color: #3B4455;\n",
              "      fill: #D2E3FC;\n",
              "    }\n",
              "\n",
              "    [theme=dark] .colab-df-convert:hover {\n",
              "      background-color: #434B5C;\n",
              "      box-shadow: 0px 1px 3px 1px rgba(0, 0, 0, 0.15);\n",
              "      filter: drop-shadow(0px 1px 2px rgba(0, 0, 0, 0.3));\n",
              "      fill: #FFFFFF;\n",
              "    }\n",
              "  </style>\n",
              "\n",
              "      <script>\n",
              "        const buttonEl =\n",
              "          document.querySelector('#df-65c55531-925a-43ab-be72-c6d0c67db605 button.colab-df-convert');\n",
              "        buttonEl.style.display =\n",
              "          google.colab.kernel.accessAllowed ? 'block' : 'none';\n",
              "\n",
              "        async function convertToInteractive(key) {\n",
              "          const element = document.querySelector('#df-65c55531-925a-43ab-be72-c6d0c67db605');\n",
              "          const dataTable =\n",
              "            await google.colab.kernel.invokeFunction('convertToInteractive',\n",
              "                                                     [key], {});\n",
              "          if (!dataTable) return;\n",
              "\n",
              "          const docLinkHtml = 'Like what you see? Visit the ' +\n",
              "            '<a target=\"_blank\" href=https://colab.research.google.com/notebooks/data_table.ipynb>data table notebook</a>'\n",
              "            + ' to learn more about interactive tables.';\n",
              "          element.innerHTML = '';\n",
              "          dataTable['output_type'] = 'display_data';\n",
              "          await google.colab.output.renderOutput(dataTable, element);\n",
              "          const docLink = document.createElement('div');\n",
              "          docLink.innerHTML = docLinkHtml;\n",
              "          element.appendChild(docLink);\n",
              "        }\n",
              "      </script>\n",
              "    </div>\n",
              "  </div>\n",
              "  "
            ]
          },
          "metadata": {},
          "execution_count": 31
        }
      ]
    },
    {
      "cell_type": "code",
      "source": [
        "pumpkins.info()"
      ],
      "metadata": {
        "colab": {
          "base_uri": "https://localhost:8080/"
        },
        "id": "3NWBtzMn6Dh4",
        "outputId": "5ea1171e-a387-49c6-e58b-41662017e74c"
      },
      "execution_count": null,
      "outputs": [
        {
          "output_type": "stream",
          "name": "stdout",
          "text": [
            "<class 'pandas.core.frame.DataFrame'>\n",
            "RangeIndex: 1757 entries, 0 to 1756\n",
            "Data columns (total 24 columns):\n",
            " #   Column           Non-Null Count  Dtype  \n",
            "---  ------           --------------  -----  \n",
            " 0   City Name        1757 non-null   object \n",
            " 1   Type             45 non-null     object \n",
            " 2   Package          1757 non-null   object \n",
            " 3   Variety          1752 non-null   object \n",
            " 4   Sub Variety      296 non-null    object \n",
            " 5   Grade            0 non-null      float64\n",
            " 6   Date             1757 non-null   object \n",
            " 7   Low Price        1757 non-null   float64\n",
            " 8   High Price       1757 non-null   float64\n",
            " 9   Mostly Low       1654 non-null   float64\n",
            " 10  Mostly High      1654 non-null   float64\n",
            " 11  Origin           1754 non-null   object \n",
            " 12  Origin District  131 non-null    object \n",
            " 13  Item Size        1478 non-null   object \n",
            " 14  Color            1141 non-null   object \n",
            " 15  Environment      0 non-null      float64\n",
            " 16  Unit of Sale     162 non-null    object \n",
            " 17  Quality          0 non-null      float64\n",
            " 18  Condition        0 non-null      float64\n",
            " 19  Appearance       0 non-null      float64\n",
            " 20  Storage          0 non-null      float64\n",
            " 21  Crop             0 non-null      float64\n",
            " 22  Repack           1757 non-null   object \n",
            " 23  Trans Mode       0 non-null      float64\n",
            "dtypes: float64(12), object(12)\n",
            "memory usage: 329.6+ KB\n"
          ]
        }
      ]
    },
    {
      "cell_type": "markdown",
      "source": [
        "We are going to try to predict the color class using Logistic Regression method."
      ],
      "metadata": {
        "id": "6QMwpx1Q6541"
      }
    },
    {
      "cell_type": "code",
      "source": [
        "pumpkins['Color'].value_counts()"
      ],
      "metadata": {
        "colab": {
          "base_uri": "https://localhost:8080/"
        },
        "id": "kDDs19Sb6zAS",
        "outputId": "f2bc6c3b-a3f6-468f-97ae-b82169d2b32c"
      },
      "execution_count": null,
      "outputs": [
        {
          "output_type": "execute_result",
          "data": {
            "text/plain": [
              "ORANGE     916\n",
              "WHITE      213\n",
              "STRIPED     12\n",
              "Name: Color, dtype: int64"
            ]
          },
          "metadata": {},
          "execution_count": 30
        }
      ]
    },
    {
      "cell_type": "markdown",
      "source": [
        "Let's convert the categorical data into labels. Luckily, sklearn has a method for this called LabelEncoder."
      ],
      "metadata": {
        "id": "KlR7pSbY8fHO"
      }
    },
    {
      "cell_type": "code",
      "source": [
        "from sklearn.preprocessing import LabelEncoder\n",
        "\n",
        "new_columns = ['Color','Origin','Item Size','Variety','City Name','Package']\n",
        "\n",
        "new_pumpkins = pumpkins.drop([c for c in pumpkins.columns if c not in new_columns], axis=1)\n",
        "\n",
        "new_pumpkins.dropna(inplace=True)\n",
        "\n",
        "\n",
        "new_pumpkins = new_pumpkins.apply(LabelEncoder().fit_transform)"
      ],
      "metadata": {
        "id": "F6hEnhLd8QMC"
      },
      "execution_count": null,
      "outputs": []
    },
    {
      "cell_type": "code",
      "source": [
        "new_pumpkins.head()"
      ],
      "metadata": {
        "colab": {
          "base_uri": "https://localhost:8080/",
          "height": 206
        },
        "id": "eabVpVQB8bFW",
        "outputId": "2dbdeaad-dd93-4bc8-dcb3-fd5244902bd5"
      },
      "execution_count": null,
      "outputs": [
        {
          "output_type": "execute_result",
          "data": {
            "text/plain": [
              "   City Name  Package  Variety  Origin  Item Size  Color\n",
              "2          1        3        4       3          3      0\n",
              "3          1        3        4      17          3      0\n",
              "4          1        3        4       5          2      0\n",
              "5          1        3        4       5          2      0\n",
              "6          1        4        4       5          3      0"
            ],
            "text/html": [
              "\n",
              "  <div id=\"df-715f7bb6-508f-4cb2-ba09-d35b7bb5921a\">\n",
              "    <div class=\"colab-df-container\">\n",
              "      <div>\n",
              "<style scoped>\n",
              "    .dataframe tbody tr th:only-of-type {\n",
              "        vertical-align: middle;\n",
              "    }\n",
              "\n",
              "    .dataframe tbody tr th {\n",
              "        vertical-align: top;\n",
              "    }\n",
              "\n",
              "    .dataframe thead th {\n",
              "        text-align: right;\n",
              "    }\n",
              "</style>\n",
              "<table border=\"1\" class=\"dataframe\">\n",
              "  <thead>\n",
              "    <tr style=\"text-align: right;\">\n",
              "      <th></th>\n",
              "      <th>City Name</th>\n",
              "      <th>Package</th>\n",
              "      <th>Variety</th>\n",
              "      <th>Origin</th>\n",
              "      <th>Item Size</th>\n",
              "      <th>Color</th>\n",
              "    </tr>\n",
              "  </thead>\n",
              "  <tbody>\n",
              "    <tr>\n",
              "      <th>2</th>\n",
              "      <td>1</td>\n",
              "      <td>3</td>\n",
              "      <td>4</td>\n",
              "      <td>3</td>\n",
              "      <td>3</td>\n",
              "      <td>0</td>\n",
              "    </tr>\n",
              "    <tr>\n",
              "      <th>3</th>\n",
              "      <td>1</td>\n",
              "      <td>3</td>\n",
              "      <td>4</td>\n",
              "      <td>17</td>\n",
              "      <td>3</td>\n",
              "      <td>0</td>\n",
              "    </tr>\n",
              "    <tr>\n",
              "      <th>4</th>\n",
              "      <td>1</td>\n",
              "      <td>3</td>\n",
              "      <td>4</td>\n",
              "      <td>5</td>\n",
              "      <td>2</td>\n",
              "      <td>0</td>\n",
              "    </tr>\n",
              "    <tr>\n",
              "      <th>5</th>\n",
              "      <td>1</td>\n",
              "      <td>3</td>\n",
              "      <td>4</td>\n",
              "      <td>5</td>\n",
              "      <td>2</td>\n",
              "      <td>0</td>\n",
              "    </tr>\n",
              "    <tr>\n",
              "      <th>6</th>\n",
              "      <td>1</td>\n",
              "      <td>4</td>\n",
              "      <td>4</td>\n",
              "      <td>5</td>\n",
              "      <td>3</td>\n",
              "      <td>0</td>\n",
              "    </tr>\n",
              "  </tbody>\n",
              "</table>\n",
              "</div>\n",
              "      <button class=\"colab-df-convert\" onclick=\"convertToInteractive('df-715f7bb6-508f-4cb2-ba09-d35b7bb5921a')\"\n",
              "              title=\"Convert this dataframe to an interactive table.\"\n",
              "              style=\"display:none;\">\n",
              "        \n",
              "  <svg xmlns=\"http://www.w3.org/2000/svg\" height=\"24px\"viewBox=\"0 0 24 24\"\n",
              "       width=\"24px\">\n",
              "    <path d=\"M0 0h24v24H0V0z\" fill=\"none\"/>\n",
              "    <path d=\"M18.56 5.44l.94 2.06.94-2.06 2.06-.94-2.06-.94-.94-2.06-.94 2.06-2.06.94zm-11 1L8.5 8.5l.94-2.06 2.06-.94-2.06-.94L8.5 2.5l-.94 2.06-2.06.94zm10 10l.94 2.06.94-2.06 2.06-.94-2.06-.94-.94-2.06-.94 2.06-2.06.94z\"/><path d=\"M17.41 7.96l-1.37-1.37c-.4-.4-.92-.59-1.43-.59-.52 0-1.04.2-1.43.59L10.3 9.45l-7.72 7.72c-.78.78-.78 2.05 0 2.83L4 21.41c.39.39.9.59 1.41.59.51 0 1.02-.2 1.41-.59l7.78-7.78 2.81-2.81c.8-.78.8-2.07 0-2.86zM5.41 20L4 18.59l7.72-7.72 1.47 1.35L5.41 20z\"/>\n",
              "  </svg>\n",
              "      </button>\n",
              "      \n",
              "  <style>\n",
              "    .colab-df-container {\n",
              "      display:flex;\n",
              "      flex-wrap:wrap;\n",
              "      gap: 12px;\n",
              "    }\n",
              "\n",
              "    .colab-df-convert {\n",
              "      background-color: #E8F0FE;\n",
              "      border: none;\n",
              "      border-radius: 50%;\n",
              "      cursor: pointer;\n",
              "      display: none;\n",
              "      fill: #1967D2;\n",
              "      height: 32px;\n",
              "      padding: 0 0 0 0;\n",
              "      width: 32px;\n",
              "    }\n",
              "\n",
              "    .colab-df-convert:hover {\n",
              "      background-color: #E2EBFA;\n",
              "      box-shadow: 0px 1px 2px rgba(60, 64, 67, 0.3), 0px 1px 3px 1px rgba(60, 64, 67, 0.15);\n",
              "      fill: #174EA6;\n",
              "    }\n",
              "\n",
              "    [theme=dark] .colab-df-convert {\n",
              "      background-color: #3B4455;\n",
              "      fill: #D2E3FC;\n",
              "    }\n",
              "\n",
              "    [theme=dark] .colab-df-convert:hover {\n",
              "      background-color: #434B5C;\n",
              "      box-shadow: 0px 1px 3px 1px rgba(0, 0, 0, 0.15);\n",
              "      filter: drop-shadow(0px 1px 2px rgba(0, 0, 0, 0.3));\n",
              "      fill: #FFFFFF;\n",
              "    }\n",
              "  </style>\n",
              "\n",
              "      <script>\n",
              "        const buttonEl =\n",
              "          document.querySelector('#df-715f7bb6-508f-4cb2-ba09-d35b7bb5921a button.colab-df-convert');\n",
              "        buttonEl.style.display =\n",
              "          google.colab.kernel.accessAllowed ? 'block' : 'none';\n",
              "\n",
              "        async function convertToInteractive(key) {\n",
              "          const element = document.querySelector('#df-715f7bb6-508f-4cb2-ba09-d35b7bb5921a');\n",
              "          const dataTable =\n",
              "            await google.colab.kernel.invokeFunction('convertToInteractive',\n",
              "                                                     [key], {});\n",
              "          if (!dataTable) return;\n",
              "\n",
              "          const docLinkHtml = 'Like what you see? Visit the ' +\n",
              "            '<a target=\"_blank\" href=https://colab.research.google.com/notebooks/data_table.ipynb>data table notebook</a>'\n",
              "            + ' to learn more about interactive tables.';\n",
              "          element.innerHTML = '';\n",
              "          dataTable['output_type'] = 'display_data';\n",
              "          await google.colab.output.renderOutput(dataTable, element);\n",
              "          const docLink = document.createElement('div');\n",
              "          docLink.innerHTML = docLinkHtml;\n",
              "          element.appendChild(docLink);\n",
              "        }\n",
              "      </script>\n",
              "    </div>\n",
              "  </div>\n",
              "  "
            ]
          },
          "metadata": {},
          "execution_count": 33
        }
      ]
    },
    {
      "cell_type": "code",
      "source": [
        "new_pumpkins['Color'].value_counts()"
      ],
      "metadata": {
        "colab": {
          "base_uri": "https://localhost:8080/"
        },
        "id": "Ix3FzeFc8dqT",
        "outputId": "504c5493-2917-43d1-b939-bb828b5fccf5"
      },
      "execution_count": null,
      "outputs": [
        {
          "output_type": "execute_result",
          "data": {
            "text/plain": [
              "0    835\n",
              "1    156\n",
              "Name: Color, dtype: int64"
            ]
          },
          "metadata": {},
          "execution_count": 33
        }
      ]
    },
    {
      "cell_type": "code",
      "source": [
        "import seaborn as sns\n",
        "\n",
        "g = sns.PairGrid(new_pumpkins)\n",
        "g.map(sns.scatterplot)\n",
        "\n"
      ],
      "metadata": {
        "colab": {
          "base_uri": "https://localhost:8080/",
          "height": 1000
        },
        "id": "iNcgh9qy8v7Y",
        "outputId": "2a8d2576-7b1e-4c02-d675-39c77deec37e"
      },
      "execution_count": null,
      "outputs": [
        {
          "output_type": "execute_result",
          "data": {
            "text/plain": [
              "<seaborn.axisgrid.PairGrid at 0x7f7840a9d7d0>"
            ]
          },
          "metadata": {},
          "execution_count": 34
        },
        {
          "output_type": "display_data",
          "data": {
            "text/plain": [
              "<Figure size 1080x1080 with 36 Axes>"
            ],
            "image/png": "[encoded data removed]"
          },
          "metadata": {
            "needs_background": "light"
          }
        }
      ]
    },
    {
      "cell_type": "code",
      "source": [
        "sns.swarmplot(x=\"Color\", y=\"Item Size\", data=new_pumpkins)"
      ],
      "metadata": {
        "colab": {
          "base_uri": "https://localhost:8080/",
          "height": 386
        },
        "id": "QTo8cpgW8z3B",
        "outputId": "851202ec-ab0a-4fb2-f948-7c5bd513afac"
      },
      "execution_count": null,
      "outputs": [
        {
          "output_type": "stream",
          "name": "stderr",
          "text": [
            "/usr/local/lib/python3.7/dist-packages/seaborn/categorical.py:1296: UserWarning: 80.6% of the points cannot be placed; you may want to decrease the size of the markers or use stripplot.\n",
            "  warnings.warn(msg, UserWarning)\n",
            "/usr/local/lib/python3.7/dist-packages/seaborn/categorical.py:1296: UserWarning: 37.2% of the points cannot be placed; you may want to decrease the size of the markers or use stripplot.\n",
            "  warnings.warn(msg, UserWarning)\n"
          ]
        },
        {
          "output_type": "execute_result",
          "data": {
            "text/plain": [
              "<matplotlib.axes._subplots.AxesSubplot at 0x7f8878a132d0>"
            ]
          },
          "metadata": {},
          "execution_count": 34
        },
        {
          "output_type": "display_data",
          "data": {
            "text/plain": [
              "<Figure size 432x288 with 1 Axes>"
            ],
            "image/png": "[encoded data removed]"
          },
          "metadata": {
            "needs_background": "light"
          }
        }
      ]
    },
    {
      "cell_type": "code",
      "source": [
        "sns.catplot(x=\"Color\", y=\"Item Size\",\n",
        "            kind=\"violin\", data=new_pumpkins)"
      ],
      "metadata": {
        "colab": {
          "base_uri": "https://localhost:8080/",
          "height": 386
        },
        "id": "PZUws90b9CpE",
        "outputId": "e14289ae-b113-45ab-96ce-6f0e94b5df08"
      },
      "execution_count": null,
      "outputs": [
        {
          "output_type": "execute_result",
          "data": {
            "text/plain": [
              "<seaborn.axisgrid.FacetGrid at 0x7f887894c3d0>"
            ]
          },
          "metadata": {},
          "execution_count": 36
        },
        {
          "output_type": "display_data",
          "data": {
            "text/plain": [
              "<Figure size 360x360 with 1 Axes>"
            ],
            "image/png": "[encoded data removed]"
          },
          "metadata": {
            "needs_background": "light"
          }
        }
      ]
    },
    {
      "cell_type": "code",
      "source": [
        "new_pumpkins[new_pumpkins['Variety'] == 4]"
      ],
      "metadata": {
        "colab": {
          "base_uri": "https://localhost:8080/",
          "height": 424
        },
        "id": "vHTqIS26FC71",
        "outputId": "da72834d-f6fb-4bc9-a743-e4ab19c36948"
      },
      "execution_count": null,
      "outputs": [
        {
          "output_type": "execute_result",
          "data": {
            "text/plain": [
              "      City Name  Package  Variety  Origin  Item Size  Color\n",
              "2             1        3        4       3          3      0\n",
              "3             1        3        4      17          3      0\n",
              "4             1        3        4       5          2      0\n",
              "5             1        3        4       5          2      0\n",
              "6             1        4        4       5          3      0\n",
              "...         ...      ...      ...     ...        ...    ...\n",
              "1689         12        4        4       4          2      0\n",
              "1690         12        4        4       4          3      0\n",
              "1691         12        4        4       8          6      0\n",
              "1692         12        4        4       8          2      0\n",
              "1693         12        4        4       8          3      0\n",
              "\n",
              "[531 rows x 6 columns]"
            ],
            "text/html": [
              "\n",
              "  <div id=\"df-773e1c69-5697-45b7-afde-65d783bb5bd7\">\n",
              "    <div class=\"colab-df-container\">\n",
              "      <div>\n",
              "<style scoped>\n",
              "    .dataframe tbody tr th:only-of-type {\n",
              "        vertical-align: middle;\n",
              "    }\n",
              "\n",
              "    .dataframe tbody tr th {\n",
              "        vertical-align: top;\n",
              "    }\n",
              "\n",
              "    .dataframe thead th {\n",
              "        text-align: right;\n",
              "    }\n",
              "</style>\n",
              "<table border=\"1\" class=\"dataframe\">\n",
              "  <thead>\n",
              "    <tr style=\"text-align: right;\">\n",
              "      <th></th>\n",
              "      <th>City Name</th>\n",
              "      <th>Package</th>\n",
              "      <th>Variety</th>\n",
              "      <th>Origin</th>\n",
              "      <th>Item Size</th>\n",
              "      <th>Color</th>\n",
              "    </tr>\n",
              "  </thead>\n",
              "  <tbody>\n",
              "    <tr>\n",
              "      <th>2</th>\n",
              "      <td>1</td>\n",
              "      <td>3</td>\n",
              "      <td>4</td>\n",
              "      <td>3</td>\n",
              "      <td>3</td>\n",
              "      <td>0</td>\n",
              "    </tr>\n",
              "    <tr>\n",
              "      <th>3</th>\n",
              "      <td>1</td>\n",
              "      <td>3</td>\n",
              "      <td>4</td>\n",
              "      <td>17</td>\n",
              "      <td>3</td>\n",
              "      <td>0</td>\n",
              "    </tr>\n",
              "    <tr>\n",
              "      <th>4</th>\n",
              "      <td>1</td>\n",
              "      <td>3</td>\n",
              "      <td>4</td>\n",
              "      <td>5</td>\n",
              "      <td>2</td>\n",
              "      <td>0</td>\n",
              "    </tr>\n",
              "    <tr>\n",
              "      <th>5</th>\n",
              "      <td>1</td>\n",
              "      <td>3</td>\n",
              "      <td>4</td>\n",
              "      <td>5</td>\n",
              "      <td>2</td>\n",
              "      <td>0</td>\n",
              "    </tr>\n",
              "    <tr>\n",
              "      <th>6</th>\n",
              "      <td>1</td>\n",
              "      <td>4</td>\n",
              "      <td>4</td>\n",
              "      <td>5</td>\n",
              "      <td>3</td>\n",
              "      <td>0</td>\n",
              "    </tr>\n",
              "    <tr>\n",
              "      <th>...</th>\n",
              "      <td>...</td>\n",
              "      <td>...</td>\n",
              "      <td>...</td>\n",
              "      <td>...</td>\n",
              "      <td>...</td>\n",
              "      <td>...</td>\n",
              "    </tr>\n",
              "    <tr>\n",
              "      <th>1689</th>\n",
              "      <td>12</td>\n",
              "      <td>4</td>\n",
              "      <td>4</td>\n",
              "      <td>4</td>\n",
              "      <td>2</td>\n",
              "      <td>0</td>\n",
              "    </tr>\n",
              "    <tr>\n",
              "      <th>1690</th>\n",
              "      <td>12</td>\n",
              "      <td>4</td>\n",
              "      <td>4</td>\n",
              "      <td>4</td>\n",
              "      <td>3</td>\n",
              "      <td>0</td>\n",
              "    </tr>\n",
              "    <tr>\n",
              "      <th>1691</th>\n",
              "      <td>12</td>\n",
              "      <td>4</td>\n",
              "      <td>4</td>\n",
              "      <td>8</td>\n",
              "      <td>6</td>\n",
              "      <td>0</td>\n",
              "    </tr>\n",
              "    <tr>\n",
              "      <th>1692</th>\n",
              "      <td>12</td>\n",
              "      <td>4</td>\n",
              "      <td>4</td>\n",
              "      <td>8</td>\n",
              "      <td>2</td>\n",
              "      <td>0</td>\n",
              "    </tr>\n",
              "    <tr>\n",
              "      <th>1693</th>\n",
              "      <td>12</td>\n",
              "      <td>4</td>\n",
              "      <td>4</td>\n",
              "      <td>8</td>\n",
              "      <td>3</td>\n",
              "      <td>0</td>\n",
              "    </tr>\n",
              "  </tbody>\n",
              "</table>\n",
              "<p>531 rows × 6 columns</p>\n",
              "</div>\n",
              "      <button class=\"colab-df-convert\" onclick=\"convertToInteractive('df-773e1c69-5697-45b7-afde-65d783bb5bd7')\"\n",
              "              title=\"Convert this dataframe to an interactive table.\"\n",
              "              style=\"display:none;\">\n",
              "        \n",
              "  <svg xmlns=\"http://www.w3.org/2000/svg\" height=\"24px\"viewBox=\"0 0 24 24\"\n",
              "       width=\"24px\">\n",
              "    <path d=\"M0 0h24v24H0V0z\" fill=\"none\"/>\n",
              "    <path d=\"M18.56 5.44l.94 2.06.94-2.06 2.06-.94-2.06-.94-.94-2.06-.94 2.06-2.06.94zm-11 1L8.5 8.5l.94-2.06 2.06-.94-2.06-.94L8.5 2.5l-.94 2.06-2.06.94zm10 10l.94 2.06.94-2.06 2.06-.94-2.06-.94-.94-2.06-.94 2.06-2.06.94z\"/><path d=\"M17.41 7.96l-1.37-1.37c-.4-.4-.92-.59-1.43-.59-.52 0-1.04.2-1.43.59L10.3 9.45l-7.72 7.72c-.78.78-.78 2.05 0 2.83L4 21.41c.39.39.9.59 1.41.59.51 0 1.02-.2 1.41-.59l7.78-7.78 2.81-2.81c.8-.78.8-2.07 0-2.86zM5.41 20L4 18.59l7.72-7.72 1.47 1.35L5.41 20z\"/>\n",
              "  </svg>\n",
              "      </button>\n",
              "      \n",
              "  <style>\n",
              "    .colab-df-container {\n",
              "      display:flex;\n",
              "      flex-wrap:wrap;\n",
              "      gap: 12px;\n",
              "    }\n",
              "\n",
              "    .colab-df-convert {\n",
              "      background-color: #E8F0FE;\n",
              "      border: none;\n",
              "      border-radius: 50%;\n",
              "      cursor: pointer;\n",
              "      display: none;\n",
              "      fill: #1967D2;\n",
              "      height: 32px;\n",
              "      padding: 0 0 0 0;\n",
              "      width: 32px;\n",
              "    }\n",
              "\n",
              "    .colab-df-convert:hover {\n",
              "      background-color: #E2EBFA;\n",
              "      box-shadow: 0px 1px 2px rgba(60, 64, 67, 0.3), 0px 1px 3px 1px rgba(60, 64, 67, 0.15);\n",
              "      fill: #174EA6;\n",
              "    }\n",
              "\n",
              "    [theme=dark] .colab-df-convert {\n",
              "      background-color: #3B4455;\n",
              "      fill: #D2E3FC;\n",
              "    }\n",
              "\n",
              "    [theme=dark] .colab-df-convert:hover {\n",
              "      background-color: #434B5C;\n",
              "      box-shadow: 0px 1px 3px 1px rgba(0, 0, 0, 0.15);\n",
              "      filter: drop-shadow(0px 1px 2px rgba(0, 0, 0, 0.3));\n",
              "      fill: #FFFFFF;\n",
              "    }\n",
              "  </style>\n",
              "\n",
              "      <script>\n",
              "        const buttonEl =\n",
              "          document.querySelector('#df-773e1c69-5697-45b7-afde-65d783bb5bd7 button.colab-df-convert');\n",
              "        buttonEl.style.display =\n",
              "          google.colab.kernel.accessAllowed ? 'block' : 'none';\n",
              "\n",
              "        async function convertToInteractive(key) {\n",
              "          const element = document.querySelector('#df-773e1c69-5697-45b7-afde-65d783bb5bd7');\n",
              "          const dataTable =\n",
              "            await google.colab.kernel.invokeFunction('convertToInteractive',\n",
              "                                                     [key], {});\n",
              "          if (!dataTable) return;\n",
              "\n",
              "          const docLinkHtml = 'Like what you see? Visit the ' +\n",
              "            '<a target=\"_blank\" href=https://colab.research.google.com/notebooks/data_table.ipynb>data table notebook</a>'\n",
              "            + ' to learn more about interactive tables.';\n",
              "          element.innerHTML = '';\n",
              "          dataTable['output_type'] = 'display_data';\n",
              "          await google.colab.output.renderOutput(dataTable, element);\n",
              "          const docLink = document.createElement('div');\n",
              "          docLink.innerHTML = docLinkHtml;\n",
              "          element.appendChild(docLink);\n",
              "        }\n",
              "      </script>\n",
              "    </div>\n",
              "  </div>\n",
              "  "
            ]
          },
          "metadata": {},
          "execution_count": 51
        }
      ]
    },
    {
      "cell_type": "code",
      "source": [
        "from sklearn.model_selection import train_test_split\n",
        "\n",
        "Selected_features = ['Origin','Item Size','Variety','City Name','Package']\n",
        "\n",
        "X = new_pumpkins[Selected_features]  # predictors, independent variables, attributes, features\n",
        "y = new_pumpkins['Color'] # predicted variable, outcome variable, target variable\n",
        "\n",
        "\n",
        "X_train, X_test, y_train, y_test = train_test_split(X, y, test_size=0.1, random_state=0)\n",
        "# no guarantee that train and test parts will keep same ratio of orange and white pumpkins\n",
        "# if you want to ensure balanced class data in each part, stratified sampling"
      ],
      "metadata": {
        "id": "eqLEW5NT9FIV"
      },
      "execution_count": null,
      "outputs": []
    },
    {
      "cell_type": "code",
      "source": [
        "X.shape"
      ],
      "metadata": {
        "colab": {
          "base_uri": "https://localhost:8080/"
        },
        "id": "4DZQCM7by9FH",
        "outputId": "4951197c-bd49-4637-8725-f54834da9628"
      },
      "execution_count": null,
      "outputs": [
        {
          "output_type": "execute_result",
          "data": {
            "text/plain": [
              "(991, 5)"
            ]
          },
          "metadata": {},
          "execution_count": 38
        }
      ]
    },
    {
      "cell_type": "code",
      "source": [
        "X_train.shape"
      ],
      "metadata": {
        "colab": {
          "base_uri": "https://localhost:8080/"
        },
        "id": "Wb16GCRqzAok",
        "outputId": "fea4b262-ebff-44aa-9a26-4e29af38f54a"
      },
      "execution_count": null,
      "outputs": [
        {
          "output_type": "execute_result",
          "data": {
            "text/plain": [
              "(891, 5)"
            ]
          },
          "metadata": {},
          "execution_count": 39
        }
      ]
    },
    {
      "cell_type": "code",
      "source": [
        "X_test.shape"
      ],
      "metadata": {
        "colab": {
          "base_uri": "https://localhost:8080/"
        },
        "id": "dxqMmvxTzDOj",
        "outputId": "832965b7-91e8-4abf-c548-96f9233ed78b"
      },
      "execution_count": null,
      "outputs": [
        {
          "output_type": "execute_result",
          "data": {
            "text/plain": [
              "(100, 5)"
            ]
          },
          "metadata": {},
          "execution_count": 40
        }
      ]
    },
    {
      "cell_type": "code",
      "source": [
        "from sklearn.model_selection import train_test_split\n",
        "from sklearn.metrics import accuracy_score, classification_report, confusion_matrix\n",
        "from sklearn.linear_model import LogisticRegression\n",
        "model = LogisticRegression()\n",
        "model.fit(X_train, y_train) # learning phase \n",
        "predictions = model.predict(X_test) # testing phase \n",
        "\n",
        "print(classification_report(y_test, predictions)) # predictions contain predicted values (derived from probability with 0.5 threshold)\n",
        "print('Predicted labels: ', predictions)\n",
        "print('Accuracy: ', accuracy_score(y_test, predictions))\n",
        "print('confusion matrix \\n', confusion_matrix(y_test, predictions))\n",
        "\n",
        "\n"
      ],
      "metadata": {
        "colab": {
          "base_uri": "https://localhost:8080/"
        },
        "id": "_NrW-0wj9KYF",
        "outputId": "f65c1a2d-a6fd-436f-c8d2-2617697dc8b5"
      },
      "execution_count": null,
      "outputs": [
        {
          "output_type": "stream",
          "name": "stdout",
          "text": [
            "              precision    recall  f1-score   support\n",
            "\n",
            "           0       0.85      0.98      0.91        85\n",
            "           1       0.00      0.00      0.00        15\n",
            "\n",
            "    accuracy                           0.83       100\n",
            "   macro avg       0.42      0.49      0.45       100\n",
            "weighted avg       0.72      0.83      0.77       100\n",
            "\n",
            "Predicted labels:  [0 0 1 0 0 0 0 0 0 0 0 0 0 0 0 0 0 0 0 0 0 0 0 0 0 0 0 0 0 0 0 0 0 1 0 0 0\n",
            " 0 0 0 0 0 0 0 0 0 0 0 0 0 0 0 0 0 0 0 0 0 0 0 0 0 0 0 0 0 0 0 0 0 0 0 0 0\n",
            " 0 0 0 0 0 0 0 0 0 0 0 0 0 0 0 0 0 0 0 0 0 0 0 0 0 0]\n",
            "Accuracy:  0.83\n",
            "confusion matrix \n",
            " [[83  2]\n",
            " [15  0]]\n"
          ]
        }
      ]
    },
    {
      "cell_type": "code",
      "source": [
        "model.coef_"
      ],
      "metadata": {
        "colab": {
          "base_uri": "https://localhost:8080/"
        },
        "id": "TyPDcH079Nn3",
        "outputId": "1983dc0b-0653-47e7-d5bd-f0628771f2ba"
      },
      "execution_count": null,
      "outputs": [
        {
          "output_type": "execute_result",
          "data": {
            "text/plain": [
              "array([[ 0.05868392,  0.0958126 , -0.02975975, -0.03245229, -0.56699159]])"
            ]
          },
          "metadata": {},
          "execution_count": 39
        }
      ]
    },
    {
      "cell_type": "code",
      "source": [
        "model.intercept_"
      ],
      "metadata": {
        "colab": {
          "base_uri": "https://localhost:8080/"
        },
        "id": "7mdBk_cb9SW_",
        "outputId": "250832a0-208c-430a-9846-1f7865ead11c"
      },
      "execution_count": null,
      "outputs": [
        {
          "output_type": "execute_result",
          "data": {
            "text/plain": [
              "array([-0.47616433])"
            ]
          },
          "metadata": {},
          "execution_count": 40
        }
      ]
    },
    {
      "cell_type": "code",
      "source": [
        "model.predict_proba(X_test)[:5]"
      ],
      "metadata": {
        "colab": {
          "base_uri": "https://localhost:8080/"
        },
        "id": "6eg2yfUE9T6J",
        "outputId": "978d92f7-5f0c-47b6-c301-9ea8579a4996"
      },
      "execution_count": null,
      "outputs": [
        {
          "output_type": "execute_result",
          "data": {
            "text/plain": [
              "array([[0.9513989 , 0.0486011 ],\n",
              "       [0.96309216, 0.03690784],\n",
              "       [0.43906681, 0.56093319],\n",
              "       [0.90984627, 0.09015373],\n",
              "       [0.88617068, 0.11382932]])"
            ]
          },
          "metadata": {},
          "execution_count": 66
        }
      ]
    },
    {
      "cell_type": "code",
      "source": [
        "y_test.shape"
      ],
      "metadata": {
        "colab": {
          "base_uri": "https://localhost:8080/"
        },
        "id": "dHtGvd1g9VXk",
        "outputId": "f2f244f6-ebcd-43f3-d0db-4b161d4e2a09"
      },
      "execution_count": null,
      "outputs": [
        {
          "output_type": "execute_result",
          "data": {
            "text/plain": [
              "(100,)"
            ]
          },
          "metadata": {},
          "execution_count": 42
        }
      ]
    },
    {
      "cell_type": "code",
      "source": [
        "from sklearn.metrics import confusion_matrix\n",
        "confusion_matrix(y_test, predictions)"
      ],
      "metadata": {
        "colab": {
          "base_uri": "https://localhost:8080/"
        },
        "id": "6sppqdgy9YMP",
        "outputId": "ab222c0c-0139-40c5-a82b-40fce57cc451"
      },
      "execution_count": null,
      "outputs": [
        {
          "output_type": "execute_result",
          "data": {
            "text/plain": [
              "array([[83,  2],\n",
              "       [15,  0]])"
            ]
          },
          "metadata": {},
          "execution_count": 42
        }
      ]
    },
    {
      "cell_type": "code",
      "source": [
        "from sklearn.metrics import roc_curve, roc_auc_score\n",
        "\n",
        "y_scores = model.predict_proba(X_test)\n",
        "# calculate ROC curve\n",
        "fpr, tpr, thresholds = roc_curve(y_test, y_scores[:,1])\n",
        "sns.lineplot([0, 1], [0, 1])\n",
        "sns.lineplot(fpr, tpr)"
      ],
      "metadata": {
        "colab": {
          "base_uri": "https://localhost:8080/",
          "height": 373
        },
        "id": "p-njeGFp9ZvH",
        "outputId": "455dd87a-25f6-48f8-cb91-3e219fb3fae7"
      },
      "execution_count": null,
      "outputs": [
        {
          "output_type": "stream",
          "name": "stderr",
          "text": [
            "/usr/local/lib/python3.7/dist-packages/seaborn/_decorators.py:43: FutureWarning: Pass the following variables as keyword args: x, y. From version 0.12, the only valid positional argument will be `data`, and passing other arguments without an explicit keyword will result in an error or misinterpretation.\n",
            "  FutureWarning\n",
            "/usr/local/lib/python3.7/dist-packages/seaborn/_decorators.py:43: FutureWarning: Pass the following variables as keyword args: x, y. From version 0.12, the only valid positional argument will be `data`, and passing other arguments without an explicit keyword will result in an error or misinterpretation.\n",
            "  FutureWarning\n"
          ]
        },
        {
          "output_type": "execute_result",
          "data": {
            "text/plain": [
              "<matplotlib.axes._subplots.AxesSubplot at 0x7f783fcb7690>"
            ]
          },
          "metadata": {},
          "execution_count": 44
        },
        {
          "output_type": "display_data",
          "data": {
            "text/plain": [
              "<Figure size 432x288 with 1 Axes>"
            ],
            "image/png": "[encoded data removed]"
          },
          "metadata": {
            "needs_background": "light"
          }
        }
      ]
    },
    {
      "cell_type": "code",
      "source": [
        "auc = roc_auc_score(y_test,y_scores[:,1])\n",
        "print(auc)"
      ],
      "metadata": {
        "colab": {
          "base_uri": "https://localhost:8080/"
        },
        "id": "6pQqWtBg9cif",
        "outputId": "2a4baffc-6f10-435f-a5c2-647b51de1ede"
      },
      "execution_count": null,
      "outputs": [
        {
          "output_type": "stream",
          "name": "stdout",
          "text": [
            "0.7729411764705882\n"
          ]
        }
      ]
    },
    {
      "cell_type": "markdown",
      "source": [
        "## Decision Tree Classification Model"
      ],
      "metadata": {
        "id": "PMJm1na5-tdb"
      }
    },
    {
      "cell_type": "code",
      "source": [
        "from sklearn import tree\n",
        "clf = tree.DecisionTreeClassifier(max_depth = 5)\n",
        "clf = clf.fit(X_train, y_train)\n",
        "tree.plot_tree(clf)\n"
      ],
      "metadata": {
        "id": "AWHUyHEW9edn",
        "colab": {
          "base_uri": "https://localhost:8080/",
          "height": 682
        },
        "outputId": "2867d46e-2c3a-4f90-de14-5b89f51e4ff0"
      },
      "execution_count": null,
      "outputs": [
        {
          "output_type": "execute_result",
          "data": {
            "text/plain": [
              "[Text(0.39285714285714285, 0.9166666666666666, 'X[2] <= 4.5\\ngini = 0.266\\nsamples = 891\\nvalue = [750, 141]'),\n",
              " Text(0.21428571428571427, 0.75, 'X[2] <= 3.5\\ngini = 0.079\\nsamples = 560\\nvalue = [537, 23]'),\n",
              " Text(0.14285714285714285, 0.5833333333333334, 'X[3] <= 1.5\\ngini = 0.441\\nsamples = 70\\nvalue = [47, 23]'),\n",
              " Text(0.07142857142857142, 0.4166666666666667, 'gini = 0.0\\nsamples = 13\\nvalue = [0, 13]'),\n",
              " Text(0.21428571428571427, 0.4166666666666667, 'X[2] <= 1.5\\ngini = 0.289\\nsamples = 57\\nvalue = [47, 10]'),\n",
              " Text(0.14285714285714285, 0.25, 'gini = 0.0\\nsamples = 33\\nvalue = [33, 0]'),\n",
              " Text(0.2857142857142857, 0.25, 'X[4] <= 2.5\\ngini = 0.486\\nsamples = 24\\nvalue = [14, 10]'),\n",
              " Text(0.21428571428571427, 0.08333333333333333, 'gini = 0.0\\nsamples = 4\\nvalue = [4, 0]'),\n",
              " Text(0.35714285714285715, 0.08333333333333333, 'gini = 0.5\\nsamples = 20\\nvalue = [10, 10]'),\n",
              " Text(0.2857142857142857, 0.5833333333333334, 'gini = 0.0\\nsamples = 490\\nvalue = [490, 0]'),\n",
              " Text(0.5714285714285714, 0.75, 'X[2] <= 7.5\\ngini = 0.459\\nsamples = 331\\nvalue = [213, 118]'),\n",
              " Text(0.42857142857142855, 0.5833333333333334, 'X[2] <= 5.5\\ngini = 0.435\\nsamples = 166\\nvalue = [53, 113]'),\n",
              " Text(0.35714285714285715, 0.4166666666666667, 'gini = 0.0\\nsamples = 42\\nvalue = [0, 42]'),\n",
              " Text(0.5, 0.4166666666666667, 'X[3] <= 1.5\\ngini = 0.489\\nsamples = 124\\nvalue = [53, 71]'),\n",
              " Text(0.42857142857142855, 0.25, 'gini = 0.0\\nsamples = 20\\nvalue = [0, 20]'),\n",
              " Text(0.5714285714285714, 0.25, 'X[3] <= 6.5\\ngini = 0.5\\nsamples = 104\\nvalue = [53, 51]'),\n",
              " Text(0.5, 0.08333333333333333, 'gini = 0.495\\nsamples = 96\\nvalue = [53, 43]'),\n",
              " Text(0.6428571428571429, 0.08333333333333333, 'gini = 0.0\\nsamples = 8\\nvalue = [0, 8]'),\n",
              " Text(0.7142857142857143, 0.5833333333333334, 'X[3] <= 3.0\\ngini = 0.059\\nsamples = 165\\nvalue = [160, 5]'),\n",
              " Text(0.6428571428571429, 0.4166666666666667, 'gini = 0.0\\nsamples = 113\\nvalue = [113, 0]'),\n",
              " Text(0.7857142857142857, 0.4166666666666667, 'X[1] <= 3.5\\ngini = 0.174\\nsamples = 52\\nvalue = [47, 5]'),\n",
              " Text(0.7142857142857143, 0.25, 'gini = 0.0\\nsamples = 29\\nvalue = [29, 0]'),\n",
              " Text(0.8571428571428571, 0.25, 'X[1] <= 4.5\\ngini = 0.34\\nsamples = 23\\nvalue = [18, 5]'),\n",
              " Text(0.7857142857142857, 0.08333333333333333, 'gini = 0.459\\nsamples = 14\\nvalue = [9, 5]'),\n",
              " Text(0.9285714285714286, 0.08333333333333333, 'gini = 0.0\\nsamples = 9\\nvalue = [9, 0]')]"
            ]
          },
          "metadata": {},
          "execution_count": 43
        },
        {
          "output_type": "display_data",
          "data": {
            "text/plain": [
              "<Figure size 432x288 with 1 Axes>"
            ],
            "image/png": "[encoded data removed]"
          },
          "metadata": {
            "needs_background": "light"
          }
        }
      ]
    },
    {
      "cell_type": "code",
      "source": [
        "print(classification_report(y_test, predictions)) # predictions contain predicted values (derived from probability with 0.5 threshold)\n",
        "print('Predicted labels: ', predictions)\n",
        "print('Accuracy: ', accuracy_score(y_test, predictions))\n"
      ],
      "metadata": {
        "colab": {
          "base_uri": "https://localhost:8080/"
        },
        "id": "KBuDwuPZCBNO",
        "outputId": "cfcb13b6-a52f-4275-89bc-835b9e5844f1"
      },
      "execution_count": null,
      "outputs": [
        {
          "output_type": "stream",
          "name": "stdout",
          "text": [
            "              precision    recall  f1-score   support\n",
            "\n",
            "           0       0.85      0.98      0.91        85\n",
            "           1       0.00      0.00      0.00        15\n",
            "\n",
            "    accuracy                           0.83       100\n",
            "   macro avg       0.42      0.49      0.45       100\n",
            "weighted avg       0.72      0.83      0.77       100\n",
            "\n",
            "Predicted labels:  [0 0 1 0 0 0 0 0 0 0 0 0 0 0 0 0 0 0 0 0 0 0 0 0 0 0 0 0 0 0 0 0 0 1 0 0 0\n",
            " 0 0 0 0 0 0 0 0 0 0 0 0 0 0 0 0 0 0 0 0 0 0 0 0 0 0 0 0 0 0 0 0 0 0 0 0 0\n",
            " 0 0 0 0 0 0 0 0 0 0 0 0 0 0 0 0 0 0 0 0 0 0 0 0 0 0]\n",
            "Accuracy:  0.83\n"
          ]
        }
      ]
    },
    {
      "cell_type": "code",
      "source": [
        "!pip install graphviz"
      ],
      "metadata": {
        "colab": {
          "base_uri": "https://localhost:8080/"
        },
        "id": "IWku9XDkCCNa",
        "outputId": "683d1233-3bfc-47b2-c211-4b69c25b8fc3"
      },
      "execution_count": null,
      "outputs": [
        {
          "output_type": "stream",
          "name": "stdout",
          "text": [
            "Looking in indexes: https://pypi.org/simple, https://us-python.pkg.dev/colab-wheels/public/simple/\n",
            "Requirement already satisfied: graphviz in /usr/local/lib/python3.7/dist-packages (0.10.1)\n"
          ]
        }
      ]
    },
    {
      "cell_type": "code",
      "source": [
        "X.columns"
      ],
      "metadata": {
        "colab": {
          "base_uri": "https://localhost:8080/"
        },
        "id": "ofNHbzxnCR3v",
        "outputId": "72d89663-e801-40ac-e759-334a6606a936"
      },
      "execution_count": null,
      "outputs": [
        {
          "output_type": "execute_result",
          "data": {
            "text/plain": [
              "Index(['Origin', 'Item Size', 'Variety', 'City Name', 'Package'], dtype='object')"
            ]
          },
          "metadata": {},
          "execution_count": 46
        }
      ]
    },
    {
      "cell_type": "code",
      "source": [
        "y.unique()"
      ],
      "metadata": {
        "colab": {
          "base_uri": "https://localhost:8080/"
        },
        "id": "vKQ7ucJhCUR6",
        "outputId": "8143b8c0-401c-4892-b47b-cecb8045f7a1"
      },
      "execution_count": null,
      "outputs": [
        {
          "output_type": "execute_result",
          "data": {
            "text/plain": [
              "array([0, 1])"
            ]
          },
          "metadata": {},
          "execution_count": 47
        }
      ]
    },
    {
      "cell_type": "code",
      "source": [
        "colors =  [\"ORANGE\", \"WHITE\"]"
      ],
      "metadata": {
        "id": "wqDe_xIuDZTL"
      },
      "execution_count": null,
      "outputs": []
    },
    {
      "cell_type": "code",
      "source": [
        "import graphviz \n",
        "dot_data = tree.export_graphviz(clf, out_file=None, \n",
        "                     feature_names=X.columns,  \n",
        "                     class_names=colors,  \n",
        "                     filled=True, rounded=True,\n",
        "                     special_characters=True)  \n",
        "graph = graphviz.Source(dot_data)  \n",
        "graph "
      ],
      "metadata": {
        "colab": {
          "base_uri": "https://localhost:8080/",
          "height": 936
        },
        "id": "QufTChnRCfQI",
        "outputId": "f4add6eb-24f8-4c26-ac5b-3827e0eafc51"
      },
      "execution_count": null,
      "outputs": [
        {
          "output_type": "execute_result",
          "data": {
            "text/plain": [
              "<graphviz.files.Source at 0x7f8878368610>"
            ],
            "image/svg+xml": "<?xml version=\"1.0\" encoding=\"UTF-8\" standalone=\"no\"?>\n<!DOCTYPE svg PUBLIC \"-//W3C//DTD SVG 1.1//EN\"\n \"http://www.w3.org/Graphics/SVG/1.1/DTD/svg11.dtd\">\n<!-- Generated by graphviz version 2.40.1 (20161225.0304)\n -->\n<!-- Title: Tree Pages: 1 -->\n<svg width=\"1017pt\" height=\"671pt\"\n viewBox=\"0.00 0.00 1017.00 671.00\" xmlns=\"http://www.w3.org/2000/svg\" xmlns:xlink=\"http://www.w3.org/1999/xlink\">\n<g id=\"graph0\" class=\"graph\" transform=\"scale(1 1) rotate(0) translate(4 667)\">\n<title>Tree</title>\n<polygon fill=\"#ffffff\" stroke=\"transparent\" points=\"-4,4 -4,-667 1013,-667 1013,4 -4,4\"/>\n<!-- 0 -->\n<g id=\"node1\" class=\"node\">\n<title>0</title>\n<path fill=\"#ea995e\" stroke=\"#000000\" d=\"M458.5,-663C458.5,-663 350.5,-663 350.5,-663 344.5,-663 338.5,-657 338.5,-651 338.5,-651 338.5,-592 338.5,-592 338.5,-586 344.5,-580 350.5,-580 350.5,-580 458.5,-580 458.5,-580 464.5,-580 470.5,-586 470.5,-592 470.5,-592 470.5,-651 470.5,-651 470.5,-657 464.5,-663 458.5,-663\"/>\n<text text-anchor=\"start\" x=\"364.5\" y=\"-647.8\" font-family=\"Helvetica,sans-Serif\" font-size=\"14.00\" fill=\"#000000\">Variety ≤ 4.5</text>\n<text text-anchor=\"start\" x=\"366.5\" y=\"-632.8\" font-family=\"Helvetica,sans-Serif\" font-size=\"14.00\" fill=\"#000000\">gini = 0.266</text>\n<text text-anchor=\"start\" x=\"356.5\" y=\"-617.8\" font-family=\"Helvetica,sans-Serif\" font-size=\"14.00\" fill=\"#000000\">samples = 891</text>\n<text text-anchor=\"start\" x=\"346.5\" y=\"-602.8\" font-family=\"Helvetica,sans-Serif\" font-size=\"14.00\" fill=\"#000000\">value = [750, 141]</text>\n<text text-anchor=\"start\" x=\"348\" y=\"-587.8\" font-family=\"Helvetica,sans-Serif\" font-size=\"14.00\" fill=\"#000000\">class = ORANGE</text>\n</g>\n<!-- 1 -->\n<g id=\"node2\" class=\"node\">\n<title>1</title>\n<path fill=\"#e68641\" stroke=\"#000000\" d=\"M383,-544C383,-544 278,-544 278,-544 272,-544 266,-538 266,-532 266,-532 266,-473 266,-473 266,-467 272,-461 278,-461 278,-461 383,-461 383,-461 389,-461 395,-467 395,-473 395,-473 395,-532 395,-532 395,-538 389,-544 383,-544\"/>\n<text text-anchor=\"start\" x=\"290.5\" y=\"-528.8\" font-family=\"Helvetica,sans-Serif\" font-size=\"14.00\" fill=\"#000000\">Variety ≤ 3.5</text>\n<text text-anchor=\"start\" x=\"292.5\" y=\"-513.8\" font-family=\"Helvetica,sans-Serif\" font-size=\"14.00\" fill=\"#000000\">gini = 0.079</text>\n<text text-anchor=\"start\" x=\"282.5\" y=\"-498.8\" font-family=\"Helvetica,sans-Serif\" font-size=\"14.00\" fill=\"#000000\">samples = 560</text>\n<text text-anchor=\"start\" x=\"276.5\" y=\"-483.8\" font-family=\"Helvetica,sans-Serif\" font-size=\"14.00\" fill=\"#000000\">value = [537, 23]</text>\n<text text-anchor=\"start\" x=\"274\" y=\"-468.8\" font-family=\"Helvetica,sans-Serif\" font-size=\"14.00\" fill=\"#000000\">class = ORANGE</text>\n</g>\n<!-- 0&#45;&gt;1 -->\n<g id=\"edge1\" class=\"edge\">\n<title>0&#45;&gt;1</title>\n<path fill=\"none\" stroke=\"#000000\" d=\"M378.6184,-579.8796C373.1858,-571.1434 367.4008,-561.8404 361.7947,-552.8253\"/>\n<polygon fill=\"#000000\" stroke=\"#000000\" points=\"364.7451,-550.9418 356.4921,-544.2981 358.8007,-554.6383 364.7451,-550.9418\"/>\n<text text-anchor=\"middle\" x=\"350.8153\" y=\"-564.945\" font-family=\"Helvetica,sans-Serif\" font-size=\"14.00\" fill=\"#000000\">True</text>\n</g>\n<!-- 10 -->\n<g id=\"node11\" class=\"node\">\n<title>10</title>\n<path fill=\"#f3c7a7\" stroke=\"#000000\" d=\"M533.5,-544C533.5,-544 425.5,-544 425.5,-544 419.5,-544 413.5,-538 413.5,-532 413.5,-532 413.5,-473 413.5,-473 413.5,-467 419.5,-461 425.5,-461 425.5,-461 533.5,-461 533.5,-461 539.5,-461 545.5,-467 545.5,-473 545.5,-473 545.5,-532 545.5,-532 545.5,-538 539.5,-544 533.5,-544\"/>\n<text text-anchor=\"start\" x=\"439.5\" y=\"-528.8\" font-family=\"Helvetica,sans-Serif\" font-size=\"14.00\" fill=\"#000000\">Variety ≤ 7.5</text>\n<text text-anchor=\"start\" x=\"441.5\" y=\"-513.8\" font-family=\"Helvetica,sans-Serif\" font-size=\"14.00\" fill=\"#000000\">gini = 0.459</text>\n<text text-anchor=\"start\" x=\"431.5\" y=\"-498.8\" font-family=\"Helvetica,sans-Serif\" font-size=\"14.00\" fill=\"#000000\">samples = 331</text>\n<text text-anchor=\"start\" x=\"421.5\" y=\"-483.8\" font-family=\"Helvetica,sans-Serif\" font-size=\"14.00\" fill=\"#000000\">value = [213, 118]</text>\n<text text-anchor=\"start\" x=\"423\" y=\"-468.8\" font-family=\"Helvetica,sans-Serif\" font-size=\"14.00\" fill=\"#000000\">class = ORANGE</text>\n</g>\n<!-- 0&#45;&gt;10 -->\n<g id=\"edge10\" class=\"edge\">\n<title>0&#45;&gt;10</title>\n<path fill=\"none\" stroke=\"#000000\" d=\"M430.7314,-579.8796C436.2373,-571.1434 442.1006,-561.8404 447.7824,-552.8253\"/>\n<polygon fill=\"#000000\" stroke=\"#000000\" points=\"450.7857,-554.6242 453.1567,-544.2981 444.8637,-550.8919 450.7857,-554.6242\"/>\n<text text-anchor=\"middle\" x=\"458.6863\" y=\"-564.9789\" font-family=\"Helvetica,sans-Serif\" font-size=\"14.00\" fill=\"#000000\">False</text>\n</g>\n<!-- 2 -->\n<g id=\"node3\" class=\"node\">\n<title>2</title>\n<path fill=\"#f2bf9a\" stroke=\"#000000\" d=\"M237,-425C237,-425 132,-425 132,-425 126,-425 120,-419 120,-413 120,-413 120,-354 120,-354 120,-348 126,-342 132,-342 132,-342 237,-342 237,-342 243,-342 249,-348 249,-354 249,-354 249,-413 249,-413 249,-419 243,-425 237,-425\"/>\n<text text-anchor=\"start\" x=\"133\" y=\"-409.8\" font-family=\"Helvetica,sans-Serif\" font-size=\"14.00\" fill=\"#000000\">City Name ≤ 1.5</text>\n<text text-anchor=\"start\" x=\"146.5\" y=\"-394.8\" font-family=\"Helvetica,sans-Serif\" font-size=\"14.00\" fill=\"#000000\">gini = 0.441</text>\n<text text-anchor=\"start\" x=\"140.5\" y=\"-379.8\" font-family=\"Helvetica,sans-Serif\" font-size=\"14.00\" fill=\"#000000\">samples = 70</text>\n<text text-anchor=\"start\" x=\"134.5\" y=\"-364.8\" font-family=\"Helvetica,sans-Serif\" font-size=\"14.00\" fill=\"#000000\">value = [47, 23]</text>\n<text text-anchor=\"start\" x=\"128\" y=\"-349.8\" font-family=\"Helvetica,sans-Serif\" font-size=\"14.00\" fill=\"#000000\">class = ORANGE</text>\n</g>\n<!-- 1&#45;&gt;2 -->\n<g id=\"edge2\" class=\"edge\">\n<title>1&#45;&gt;2</title>\n<path fill=\"none\" stroke=\"#000000\" d=\"M279.4363,-460.8796C267.9445,-451.513 255.6532,-441.4948 243.855,-431.8784\"/>\n<polygon fill=\"#000000\" stroke=\"#000000\" points=\"245.7444,-428.903 235.7817,-425.2981 241.3218,-434.329 245.7444,-428.903\"/>\n</g>\n<!-- 9 -->\n<g id=\"node10\" class=\"node\">\n<title>9</title>\n<path fill=\"#e58139\" stroke=\"#000000\" d=\"M384,-417.5C384,-417.5 279,-417.5 279,-417.5 273,-417.5 267,-411.5 267,-405.5 267,-405.5 267,-361.5 267,-361.5 267,-355.5 273,-349.5 279,-349.5 279,-349.5 384,-349.5 384,-349.5 390,-349.5 396,-355.5 396,-361.5 396,-361.5 396,-405.5 396,-405.5 396,-411.5 390,-417.5 384,-417.5\"/>\n<text text-anchor=\"start\" x=\"302\" y=\"-402.3\" font-family=\"Helvetica,sans-Serif\" font-size=\"14.00\" fill=\"#000000\">gini = 0.0</text>\n<text text-anchor=\"start\" x=\"283.5\" y=\"-387.3\" font-family=\"Helvetica,sans-Serif\" font-size=\"14.00\" fill=\"#000000\">samples = 490</text>\n<text text-anchor=\"start\" x=\"281.5\" y=\"-372.3\" font-family=\"Helvetica,sans-Serif\" font-size=\"14.00\" fill=\"#000000\">value = [490, 0]</text>\n<text text-anchor=\"start\" x=\"275\" y=\"-357.3\" font-family=\"Helvetica,sans-Serif\" font-size=\"14.00\" fill=\"#000000\">class = ORANGE</text>\n</g>\n<!-- 1&#45;&gt;9 -->\n<g id=\"edge9\" class=\"edge\">\n<title>1&#45;&gt;9</title>\n<path fill=\"none\" stroke=\"#000000\" d=\"M330.8498,-460.8796C330.9394,-450.2134 331.0361,-438.7021 331.1269,-427.9015\"/>\n<polygon fill=\"#000000\" stroke=\"#000000\" points=\"334.6274,-427.844 331.2116,-417.8149 327.6276,-427.7851 334.6274,-427.844\"/>\n</g>\n<!-- 3 -->\n<g id=\"node4\" class=\"node\">\n<title>3</title>\n<path fill=\"#399de5\" stroke=\"#000000\" d=\"M101,-298.5C101,-298.5 12,-298.5 12,-298.5 6,-298.5 0,-292.5 0,-286.5 0,-286.5 0,-242.5 0,-242.5 0,-236.5 6,-230.5 12,-230.5 12,-230.5 101,-230.5 101,-230.5 107,-230.5 113,-236.5 113,-242.5 113,-242.5 113,-286.5 113,-286.5 113,-292.5 107,-298.5 101,-298.5\"/>\n<text text-anchor=\"start\" x=\"27\" y=\"-283.3\" font-family=\"Helvetica,sans-Serif\" font-size=\"14.00\" fill=\"#000000\">gini = 0.0</text>\n<text text-anchor=\"start\" x=\"12.5\" y=\"-268.3\" font-family=\"Helvetica,sans-Serif\" font-size=\"14.00\" fill=\"#000000\">samples = 13</text>\n<text text-anchor=\"start\" x=\"11\" y=\"-253.3\" font-family=\"Helvetica,sans-Serif\" font-size=\"14.00\" fill=\"#000000\">value = [0, 13]</text>\n<text text-anchor=\"start\" x=\"8\" y=\"-238.3\" font-family=\"Helvetica,sans-Serif\" font-size=\"14.00\" fill=\"#000000\">class = WHITE</text>\n</g>\n<!-- 2&#45;&gt;3 -->\n<g id=\"edge3\" class=\"edge\">\n<title>2&#45;&gt;3</title>\n<path fill=\"none\" stroke=\"#000000\" d=\"M139.7318,-341.8796C127.1944,-330.2237 113.5716,-317.5587 101.047,-305.9148\"/>\n<polygon fill=\"#000000\" stroke=\"#000000\" points=\"103.1172,-303.0605 93.4102,-298.8149 98.3509,-308.1872 103.1172,-303.0605\"/>\n</g>\n<!-- 4 -->\n<g id=\"node5\" class=\"node\">\n<title>4</title>\n<path fill=\"#eb9c63\" stroke=\"#000000\" d=\"M248,-306C248,-306 143,-306 143,-306 137,-306 131,-300 131,-294 131,-294 131,-235 131,-235 131,-229 137,-223 143,-223 143,-223 248,-223 248,-223 254,-223 260,-229 260,-235 260,-235 260,-294 260,-294 260,-300 254,-306 248,-306\"/>\n<text text-anchor=\"start\" x=\"155.5\" y=\"-290.8\" font-family=\"Helvetica,sans-Serif\" font-size=\"14.00\" fill=\"#000000\">Variety ≤ 1.5</text>\n<text text-anchor=\"start\" x=\"157.5\" y=\"-275.8\" font-family=\"Helvetica,sans-Serif\" font-size=\"14.00\" fill=\"#000000\">gini = 0.289</text>\n<text text-anchor=\"start\" x=\"151.5\" y=\"-260.8\" font-family=\"Helvetica,sans-Serif\" font-size=\"14.00\" fill=\"#000000\">samples = 57</text>\n<text text-anchor=\"start\" x=\"145.5\" y=\"-245.8\" font-family=\"Helvetica,sans-Serif\" font-size=\"14.00\" fill=\"#000000\">value = [47, 10]</text>\n<text text-anchor=\"start\" x=\"139\" y=\"-230.8\" font-family=\"Helvetica,sans-Serif\" font-size=\"14.00\" fill=\"#000000\">class = ORANGE</text>\n</g>\n<!-- 2&#45;&gt;4 -->\n<g id=\"edge4\" class=\"edge\">\n<title>2&#45;&gt;4</title>\n<path fill=\"none\" stroke=\"#000000\" d=\"M188.3473,-341.8796C189.1049,-333.6838 189.9086,-324.9891 190.6932,-316.5013\"/>\n<polygon fill=\"#000000\" stroke=\"#000000\" points=\"194.2009,-316.5778 191.6363,-306.2981 187.2306,-315.9334 194.2009,-316.5778\"/>\n</g>\n<!-- 5 -->\n<g id=\"node6\" class=\"node\">\n<title>5</title>\n<path fill=\"#e58139\" stroke=\"#000000\" d=\"M160,-179.5C160,-179.5 55,-179.5 55,-179.5 49,-179.5 43,-173.5 43,-167.5 43,-167.5 43,-123.5 43,-123.5 43,-117.5 49,-111.5 55,-111.5 55,-111.5 160,-111.5 160,-111.5 166,-111.5 172,-117.5 172,-123.5 172,-123.5 172,-167.5 172,-167.5 172,-173.5 166,-179.5 160,-179.5\"/>\n<text text-anchor=\"start\" x=\"78\" y=\"-164.3\" font-family=\"Helvetica,sans-Serif\" font-size=\"14.00\" fill=\"#000000\">gini = 0.0</text>\n<text text-anchor=\"start\" x=\"63.5\" y=\"-149.3\" font-family=\"Helvetica,sans-Serif\" font-size=\"14.00\" fill=\"#000000\">samples = 33</text>\n<text text-anchor=\"start\" x=\"62\" y=\"-134.3\" font-family=\"Helvetica,sans-Serif\" font-size=\"14.00\" fill=\"#000000\">value = [33, 0]</text>\n<text text-anchor=\"start\" x=\"51\" y=\"-119.3\" font-family=\"Helvetica,sans-Serif\" font-size=\"14.00\" fill=\"#000000\">class = ORANGE</text>\n</g>\n<!-- 4&#45;&gt;5 -->\n<g id=\"edge5\" class=\"edge\">\n<title>4&#45;&gt;5</title>\n<path fill=\"none\" stroke=\"#000000\" d=\"M164.7219,-222.8796C156.3464,-211.5536 147.2662,-199.2748 138.8589,-187.9058\"/>\n<polygon fill=\"#000000\" stroke=\"#000000\" points=\"141.6357,-185.7743 132.8758,-179.8149 136.0075,-189.9364 141.6357,-185.7743\"/>\n</g>\n<!-- 6 -->\n<g id=\"node7\" class=\"node\">\n<title>6</title>\n<path fill=\"#f8dbc6\" stroke=\"#000000\" d=\"M307,-187C307,-187 202,-187 202,-187 196,-187 190,-181 190,-175 190,-175 190,-116 190,-116 190,-110 196,-104 202,-104 202,-104 307,-104 307,-104 313,-104 319,-110 319,-116 319,-116 319,-175 319,-175 319,-181 313,-187 307,-187\"/>\n<text text-anchor=\"start\" x=\"207.5\" y=\"-171.8\" font-family=\"Helvetica,sans-Serif\" font-size=\"14.00\" fill=\"#000000\">Package ≤ 2.5</text>\n<text text-anchor=\"start\" x=\"216.5\" y=\"-156.8\" font-family=\"Helvetica,sans-Serif\" font-size=\"14.00\" fill=\"#000000\">gini = 0.486</text>\n<text text-anchor=\"start\" x=\"210.5\" y=\"-141.8\" font-family=\"Helvetica,sans-Serif\" font-size=\"14.00\" fill=\"#000000\">samples = 24</text>\n<text text-anchor=\"start\" x=\"204.5\" y=\"-126.8\" font-family=\"Helvetica,sans-Serif\" font-size=\"14.00\" fill=\"#000000\">value = [14, 10]</text>\n<text text-anchor=\"start\" x=\"198\" y=\"-111.8\" font-family=\"Helvetica,sans-Serif\" font-size=\"14.00\" fill=\"#000000\">class = ORANGE</text>\n</g>\n<!-- 4&#45;&gt;6 -->\n<g id=\"edge6\" class=\"edge\">\n<title>4&#45;&gt;6</title>\n<path fill=\"none\" stroke=\"#000000\" d=\"M216.1353,-222.8796C220.3774,-214.3236 224.889,-205.2238 229.2721,-196.3833\"/>\n<polygon fill=\"#000000\" stroke=\"#000000\" points=\"232.4703,-197.8121 233.7766,-187.2981 226.1988,-194.7026 232.4703,-197.8121\"/>\n</g>\n<!-- 7 -->\n<g id=\"node8\" class=\"node\">\n<title>7</title>\n<path fill=\"#e58139\" stroke=\"#000000\" d=\"M276,-68C276,-68 171,-68 171,-68 165,-68 159,-62 159,-56 159,-56 159,-12 159,-12 159,-6 165,0 171,0 171,0 276,0 276,0 282,0 288,-6 288,-12 288,-12 288,-56 288,-56 288,-62 282,-68 276,-68\"/>\n<text text-anchor=\"start\" x=\"194\" y=\"-52.8\" font-family=\"Helvetica,sans-Serif\" font-size=\"14.00\" fill=\"#000000\">gini = 0.0</text>\n<text text-anchor=\"start\" x=\"184\" y=\"-37.8\" font-family=\"Helvetica,sans-Serif\" font-size=\"14.00\" fill=\"#000000\">samples = 4</text>\n<text text-anchor=\"start\" x=\"182\" y=\"-22.8\" font-family=\"Helvetica,sans-Serif\" font-size=\"14.00\" fill=\"#000000\">value = [4, 0]</text>\n<text text-anchor=\"start\" x=\"167\" y=\"-7.8\" font-family=\"Helvetica,sans-Serif\" font-size=\"14.00\" fill=\"#000000\">class = ORANGE</text>\n</g>\n<!-- 6&#45;&gt;7 -->\n<g id=\"edge7\" class=\"edge\">\n<title>6&#45;&gt;7</title>\n<path fill=\"none\" stroke=\"#000000\" d=\"M242.9567,-103.9815C240.6059,-95.5261 238.1249,-86.6026 235.7505,-78.0623\"/>\n<polygon fill=\"#000000\" stroke=\"#000000\" points=\"239.0771,-76.9607 233.0262,-68.2637 232.3329,-78.8358 239.0771,-76.9607\"/>\n</g>\n<!-- 8 -->\n<g id=\"node9\" class=\"node\">\n<title>8</title>\n<path fill=\"#ffffff\" stroke=\"#000000\" d=\"M423,-68C423,-68 318,-68 318,-68 312,-68 306,-62 306,-56 306,-56 306,-12 306,-12 306,-6 312,0 318,0 318,0 423,0 423,0 429,0 435,-6 435,-12 435,-12 435,-56 435,-56 435,-62 429,-68 423,-68\"/>\n<text text-anchor=\"start\" x=\"341\" y=\"-52.8\" font-family=\"Helvetica,sans-Serif\" font-size=\"14.00\" fill=\"#000000\">gini = 0.5</text>\n<text text-anchor=\"start\" x=\"326.5\" y=\"-37.8\" font-family=\"Helvetica,sans-Serif\" font-size=\"14.00\" fill=\"#000000\">samples = 20</text>\n<text text-anchor=\"start\" x=\"320.5\" y=\"-22.8\" font-family=\"Helvetica,sans-Serif\" font-size=\"14.00\" fill=\"#000000\">value = [10, 10]</text>\n<text text-anchor=\"start\" x=\"314\" y=\"-7.8\" font-family=\"Helvetica,sans-Serif\" font-size=\"14.00\" fill=\"#000000\">class = ORANGE</text>\n</g>\n<!-- 6&#45;&gt;8 -->\n<g id=\"edge8\" class=\"edge\">\n<title>6&#45;&gt;8</title>\n<path fill=\"none\" stroke=\"#000000\" d=\"M297.6941,-103.9815C307.4469,-94.607 317.7983,-84.6572 327.5414,-75.2921\"/>\n<polygon fill=\"#000000\" stroke=\"#000000\" points=\"330.0694,-77.7169 334.8535,-68.2637 325.2185,-72.6702 330.0694,-77.7169\"/>\n</g>\n<!-- 11 -->\n<g id=\"node12\" class=\"node\">\n<title>11</title>\n<path fill=\"#96cbf1\" stroke=\"#000000\" d=\"M528.5,-425C528.5,-425 428.5,-425 428.5,-425 422.5,-425 416.5,-419 416.5,-413 416.5,-413 416.5,-354 416.5,-354 416.5,-348 422.5,-342 428.5,-342 428.5,-342 528.5,-342 528.5,-342 534.5,-342 540.5,-348 540.5,-354 540.5,-354 540.5,-413 540.5,-413 540.5,-419 534.5,-425 528.5,-425\"/>\n<text text-anchor=\"start\" x=\"438.5\" y=\"-409.8\" font-family=\"Helvetica,sans-Serif\" font-size=\"14.00\" fill=\"#000000\">Variety ≤ 5.5</text>\n<text text-anchor=\"start\" x=\"440.5\" y=\"-394.8\" font-family=\"Helvetica,sans-Serif\" font-size=\"14.00\" fill=\"#000000\">gini = 0.435</text>\n<text text-anchor=\"start\" x=\"430.5\" y=\"-379.8\" font-family=\"Helvetica,sans-Serif\" font-size=\"14.00\" fill=\"#000000\">samples = 166</text>\n<text text-anchor=\"start\" x=\"424.5\" y=\"-364.8\" font-family=\"Helvetica,sans-Serif\" font-size=\"14.00\" fill=\"#000000\">value = [53, 113]</text>\n<text text-anchor=\"start\" x=\"430\" y=\"-349.8\" font-family=\"Helvetica,sans-Serif\" font-size=\"14.00\" fill=\"#000000\">class = WHITE</text>\n</g>\n<!-- 10&#45;&gt;11 -->\n<g id=\"edge11\" class=\"edge\">\n<title>10&#45;&gt;11</title>\n<path fill=\"none\" stroke=\"#000000\" d=\"M479.1502,-460.8796C479.0814,-452.6838 479.0083,-443.9891 478.937,-435.5013\"/>\n<polygon fill=\"#000000\" stroke=\"#000000\" points=\"482.4352,-435.2683 478.8512,-425.2981 475.4355,-435.3272 482.4352,-435.2683\"/>\n</g>\n<!-- 18 -->\n<g id=\"node19\" class=\"node\">\n<title>18</title>\n<path fill=\"#e6853f\" stroke=\"#000000\" d=\"M676,-425C676,-425 571,-425 571,-425 565,-425 559,-419 559,-413 559,-413 559,-354 559,-354 559,-348 565,-342 571,-342 571,-342 676,-342 676,-342 682,-342 688,-348 688,-354 688,-354 688,-413 688,-413 688,-419 682,-425 676,-425\"/>\n<text text-anchor=\"start\" x=\"572\" y=\"-409.8\" font-family=\"Helvetica,sans-Serif\" font-size=\"14.00\" fill=\"#000000\">City Name ≤ 3.0</text>\n<text text-anchor=\"start\" x=\"585.5\" y=\"-394.8\" font-family=\"Helvetica,sans-Serif\" font-size=\"14.00\" fill=\"#000000\">gini = 0.059</text>\n<text text-anchor=\"start\" x=\"575.5\" y=\"-379.8\" font-family=\"Helvetica,sans-Serif\" font-size=\"14.00\" fill=\"#000000\">samples = 165</text>\n<text text-anchor=\"start\" x=\"573.5\" y=\"-364.8\" font-family=\"Helvetica,sans-Serif\" font-size=\"14.00\" fill=\"#000000\">value = [160, 5]</text>\n<text text-anchor=\"start\" x=\"567\" y=\"-349.8\" font-family=\"Helvetica,sans-Serif\" font-size=\"14.00\" fill=\"#000000\">class = ORANGE</text>\n</g>\n<!-- 10&#45;&gt;18 -->\n<g id=\"edge18\" class=\"edge\">\n<title>10&#45;&gt;18</title>\n<path fill=\"none\" stroke=\"#000000\" d=\"M529.8642,-460.8796C541.1985,-451.513 553.3215,-441.4948 564.9581,-431.8784\"/>\n<polygon fill=\"#000000\" stroke=\"#000000\" points=\"567.4419,-434.3663 572.9208,-425.2981 562.9827,-428.9703 567.4419,-434.3663\"/>\n</g>\n<!-- 12 -->\n<g id=\"node13\" class=\"node\">\n<title>12</title>\n<path fill=\"#399de5\" stroke=\"#000000\" d=\"M390,-298.5C390,-298.5 301,-298.5 301,-298.5 295,-298.5 289,-292.5 289,-286.5 289,-286.5 289,-242.5 289,-242.5 289,-236.5 295,-230.5 301,-230.5 301,-230.5 390,-230.5 390,-230.5 396,-230.5 402,-236.5 402,-242.5 402,-242.5 402,-286.5 402,-286.5 402,-292.5 396,-298.5 390,-298.5\"/>\n<text text-anchor=\"start\" x=\"316\" y=\"-283.3\" font-family=\"Helvetica,sans-Serif\" font-size=\"14.00\" fill=\"#000000\">gini = 0.0</text>\n<text text-anchor=\"start\" x=\"301.5\" y=\"-268.3\" font-family=\"Helvetica,sans-Serif\" font-size=\"14.00\" fill=\"#000000\">samples = 42</text>\n<text text-anchor=\"start\" x=\"300\" y=\"-253.3\" font-family=\"Helvetica,sans-Serif\" font-size=\"14.00\" fill=\"#000000\">value = [0, 42]</text>\n<text text-anchor=\"start\" x=\"297\" y=\"-238.3\" font-family=\"Helvetica,sans-Serif\" font-size=\"14.00\" fill=\"#000000\">class = WHITE</text>\n</g>\n<!-- 11&#45;&gt;12 -->\n<g id=\"edge12\" class=\"edge\">\n<title>11&#45;&gt;12</title>\n<path fill=\"none\" stroke=\"#000000\" d=\"M431.9831,-341.8796C418.833,-330.1138 404.5337,-317.3197 391.4191,-305.5855\"/>\n<polygon fill=\"#000000\" stroke=\"#000000\" points=\"393.6382,-302.8746 383.852,-298.8149 388.9706,-308.0913 393.6382,-302.8746\"/>\n</g>\n<!-- 13 -->\n<g id=\"node14\" class=\"node\">\n<title>13</title>\n<path fill=\"#cde6f8\" stroke=\"#000000\" d=\"M527,-306C527,-306 432,-306 432,-306 426,-306 420,-300 420,-294 420,-294 420,-235 420,-235 420,-229 426,-223 432,-223 432,-223 527,-223 527,-223 533,-223 539,-229 539,-235 539,-235 539,-294 539,-294 539,-300 533,-306 527,-306\"/>\n<text text-anchor=\"start\" x=\"428\" y=\"-290.8\" font-family=\"Helvetica,sans-Serif\" font-size=\"14.00\" fill=\"#000000\">City Name ≤ 1.5</text>\n<text text-anchor=\"start\" x=\"441.5\" y=\"-275.8\" font-family=\"Helvetica,sans-Serif\" font-size=\"14.00\" fill=\"#000000\">gini = 0.489</text>\n<text text-anchor=\"start\" x=\"431.5\" y=\"-260.8\" font-family=\"Helvetica,sans-Serif\" font-size=\"14.00\" fill=\"#000000\">samples = 124</text>\n<text text-anchor=\"start\" x=\"429.5\" y=\"-245.8\" font-family=\"Helvetica,sans-Serif\" font-size=\"14.00\" fill=\"#000000\">value = [53, 71]</text>\n<text text-anchor=\"start\" x=\"431\" y=\"-230.8\" font-family=\"Helvetica,sans-Serif\" font-size=\"14.00\" fill=\"#000000\">class = WHITE</text>\n</g>\n<!-- 11&#45;&gt;13 -->\n<g id=\"edge13\" class=\"edge\">\n<title>11&#45;&gt;13</title>\n<path fill=\"none\" stroke=\"#000000\" d=\"M478.8498,-341.8796C478.9186,-333.6838 478.9917,-324.9891 479.063,-316.5013\"/>\n<polygon fill=\"#000000\" stroke=\"#000000\" points=\"482.5645,-316.3272 479.1488,-306.2981 475.5648,-316.2683 482.5645,-316.3272\"/>\n</g>\n<!-- 14 -->\n<g id=\"node15\" class=\"node\">\n<title>14</title>\n<path fill=\"#399de5\" stroke=\"#000000\" d=\"M505,-179.5C505,-179.5 416,-179.5 416,-179.5 410,-179.5 404,-173.5 404,-167.5 404,-167.5 404,-123.5 404,-123.5 404,-117.5 410,-111.5 416,-111.5 416,-111.5 505,-111.5 505,-111.5 511,-111.5 517,-117.5 517,-123.5 517,-123.5 517,-167.5 517,-167.5 517,-173.5 511,-179.5 505,-179.5\"/>\n<text text-anchor=\"start\" x=\"431\" y=\"-164.3\" font-family=\"Helvetica,sans-Serif\" font-size=\"14.00\" fill=\"#000000\">gini = 0.0</text>\n<text text-anchor=\"start\" x=\"416.5\" y=\"-149.3\" font-family=\"Helvetica,sans-Serif\" font-size=\"14.00\" fill=\"#000000\">samples = 20</text>\n<text text-anchor=\"start\" x=\"415\" y=\"-134.3\" font-family=\"Helvetica,sans-Serif\" font-size=\"14.00\" fill=\"#000000\">value = [0, 20]</text>\n<text text-anchor=\"start\" x=\"412\" y=\"-119.3\" font-family=\"Helvetica,sans-Serif\" font-size=\"14.00\" fill=\"#000000\">class = WHITE</text>\n</g>\n<!-- 13&#45;&gt;14 -->\n<g id=\"edge14\" class=\"edge\">\n<title>13&#45;&gt;14</title>\n<path fill=\"none\" stroke=\"#000000\" d=\"M472.8547,-222.8796C471.1517,-212.2134 469.3138,-200.7021 467.5893,-189.9015\"/>\n<polygon fill=\"#000000\" stroke=\"#000000\" points=\"471.0118,-189.138 465.9789,-179.8149 464.0994,-190.2417 471.0118,-189.138\"/>\n</g>\n<!-- 15 -->\n<g id=\"node16\" class=\"node\">\n<title>15</title>\n<path fill=\"#fefaf8\" stroke=\"#000000\" d=\"M652,-187C652,-187 547,-187 547,-187 541,-187 535,-181 535,-175 535,-175 535,-116 535,-116 535,-110 541,-104 547,-104 547,-104 652,-104 652,-104 658,-104 664,-110 664,-116 664,-116 664,-175 664,-175 664,-181 658,-187 652,-187\"/>\n<text text-anchor=\"start\" x=\"548\" y=\"-171.8\" font-family=\"Helvetica,sans-Serif\" font-size=\"14.00\" fill=\"#000000\">City Name ≤ 6.5</text>\n<text text-anchor=\"start\" x=\"570\" y=\"-156.8\" font-family=\"Helvetica,sans-Serif\" font-size=\"14.00\" fill=\"#000000\">gini = 0.5</text>\n<text text-anchor=\"start\" x=\"551.5\" y=\"-141.8\" font-family=\"Helvetica,sans-Serif\" font-size=\"14.00\" fill=\"#000000\">samples = 104</text>\n<text text-anchor=\"start\" x=\"549.5\" y=\"-126.8\" font-family=\"Helvetica,sans-Serif\" font-size=\"14.00\" fill=\"#000000\">value = [53, 51]</text>\n<text text-anchor=\"start\" x=\"543\" y=\"-111.8\" font-family=\"Helvetica,sans-Serif\" font-size=\"14.00\" fill=\"#000000\">class = ORANGE</text>\n</g>\n<!-- 13&#45;&gt;15 -->\n<g id=\"edge15\" class=\"edge\">\n<title>13&#45;&gt;15</title>\n<path fill=\"none\" stroke=\"#000000\" d=\"M521.4702,-222.8796C530.7338,-213.6931 540.6296,-203.8798 550.1552,-194.4336\"/>\n<polygon fill=\"#000000\" stroke=\"#000000\" points=\"552.7146,-196.8247 557.3507,-187.2981 547.7856,-191.8543 552.7146,-196.8247\"/>\n</g>\n<!-- 16 -->\n<g id=\"node17\" class=\"node\">\n<title>16</title>\n<path fill=\"#fae7da\" stroke=\"#000000\" d=\"M571,-68C571,-68 466,-68 466,-68 460,-68 454,-62 454,-56 454,-56 454,-12 454,-12 454,-6 460,0 466,0 466,0 571,0 571,0 577,0 583,-6 583,-12 583,-12 583,-56 583,-56 583,-62 577,-68 571,-68\"/>\n<text text-anchor=\"start\" x=\"480.5\" y=\"-52.8\" font-family=\"Helvetica,sans-Serif\" font-size=\"14.00\" fill=\"#000000\">gini = 0.495</text>\n<text text-anchor=\"start\" x=\"474.5\" y=\"-37.8\" font-family=\"Helvetica,sans-Serif\" font-size=\"14.00\" fill=\"#000000\">samples = 96</text>\n<text text-anchor=\"start\" x=\"468.5\" y=\"-22.8\" font-family=\"Helvetica,sans-Serif\" font-size=\"14.00\" fill=\"#000000\">value = [53, 43]</text>\n<text text-anchor=\"start\" x=\"462\" y=\"-7.8\" font-family=\"Helvetica,sans-Serif\" font-size=\"14.00\" fill=\"#000000\">class = ORANGE</text>\n</g>\n<!-- 15&#45;&gt;16 -->\n<g id=\"edge16\" class=\"edge\">\n<title>15&#45;&gt;16</title>\n<path fill=\"none\" stroke=\"#000000\" d=\"M569.3386,-103.9815C562.7955,-94.9747 555.8666,-85.4367 549.2992,-76.3965\"/>\n<polygon fill=\"#000000\" stroke=\"#000000\" points=\"552.1002,-74.2971 543.3911,-68.2637 546.4369,-78.4113 552.1002,-74.2971\"/>\n</g>\n<!-- 17 -->\n<g id=\"node18\" class=\"node\">\n<title>17</title>\n<path fill=\"#399de5\" stroke=\"#000000\" d=\"M702,-68C702,-68 613,-68 613,-68 607,-68 601,-62 601,-56 601,-56 601,-12 601,-12 601,-6 607,0 613,0 613,0 702,0 702,0 708,0 714,-6 714,-12 714,-12 714,-56 714,-56 714,-62 708,-68 702,-68\"/>\n<text text-anchor=\"start\" x=\"628\" y=\"-52.8\" font-family=\"Helvetica,sans-Serif\" font-size=\"14.00\" fill=\"#000000\">gini = 0.0</text>\n<text text-anchor=\"start\" x=\"618\" y=\"-37.8\" font-family=\"Helvetica,sans-Serif\" font-size=\"14.00\" fill=\"#000000\">samples = 8</text>\n<text text-anchor=\"start\" x=\"616\" y=\"-22.8\" font-family=\"Helvetica,sans-Serif\" font-size=\"14.00\" fill=\"#000000\">value = [0, 8]</text>\n<text text-anchor=\"start\" x=\"609\" y=\"-7.8\" font-family=\"Helvetica,sans-Serif\" font-size=\"14.00\" fill=\"#000000\">class = WHITE</text>\n</g>\n<!-- 15&#45;&gt;17 -->\n<g id=\"edge17\" class=\"edge\">\n<title>15&#45;&gt;17</title>\n<path fill=\"none\" stroke=\"#000000\" d=\"M621.0971,-103.9815C625.6388,-95.2504 630.4402,-86.0202 635.0137,-77.2281\"/>\n<polygon fill=\"#000000\" stroke=\"#000000\" points=\"638.1669,-78.7504 639.6767,-68.2637 631.9569,-75.52 638.1669,-78.7504\"/>\n</g>\n<!-- 19 -->\n<g id=\"node20\" class=\"node\">\n<title>19</title>\n<path fill=\"#e58139\" stroke=\"#000000\" d=\"M675,-298.5C675,-298.5 570,-298.5 570,-298.5 564,-298.5 558,-292.5 558,-286.5 558,-286.5 558,-242.5 558,-242.5 558,-236.5 564,-230.5 570,-230.5 570,-230.5 675,-230.5 675,-230.5 681,-230.5 687,-236.5 687,-242.5 687,-242.5 687,-286.5 687,-286.5 687,-292.5 681,-298.5 675,-298.5\"/>\n<text text-anchor=\"start\" x=\"593\" y=\"-283.3\" font-family=\"Helvetica,sans-Serif\" font-size=\"14.00\" fill=\"#000000\">gini = 0.0</text>\n<text text-anchor=\"start\" x=\"574.5\" y=\"-268.3\" font-family=\"Helvetica,sans-Serif\" font-size=\"14.00\" fill=\"#000000\">samples = 113</text>\n<text text-anchor=\"start\" x=\"572.5\" y=\"-253.3\" font-family=\"Helvetica,sans-Serif\" font-size=\"14.00\" fill=\"#000000\">value = [113, 0]</text>\n<text text-anchor=\"start\" x=\"566\" y=\"-238.3\" font-family=\"Helvetica,sans-Serif\" font-size=\"14.00\" fill=\"#000000\">class = ORANGE</text>\n</g>\n<!-- 18&#45;&gt;19 -->\n<g id=\"edge19\" class=\"edge\">\n<title>18&#45;&gt;19</title>\n<path fill=\"none\" stroke=\"#000000\" d=\"M623.1502,-341.8796C623.0606,-331.2134 622.9639,-319.7021 622.8731,-308.9015\"/>\n<polygon fill=\"#000000\" stroke=\"#000000\" points=\"626.3724,-308.7851 622.7884,-298.8149 619.3726,-308.844 626.3724,-308.7851\"/>\n</g>\n<!-- 20 -->\n<g id=\"node21\" class=\"node\">\n<title>20</title>\n<path fill=\"#e88e4e\" stroke=\"#000000\" d=\"M822,-306C822,-306 717,-306 717,-306 711,-306 705,-300 705,-294 705,-294 705,-235 705,-235 705,-229 711,-223 717,-223 717,-223 822,-223 822,-223 828,-223 834,-229 834,-235 834,-235 834,-294 834,-294 834,-300 828,-306 822,-306\"/>\n<text text-anchor=\"start\" x=\"721.5\" y=\"-290.8\" font-family=\"Helvetica,sans-Serif\" font-size=\"14.00\" fill=\"#000000\">Item Size ≤ 3.5</text>\n<text text-anchor=\"start\" x=\"731.5\" y=\"-275.8\" font-family=\"Helvetica,sans-Serif\" font-size=\"14.00\" fill=\"#000000\">gini = 0.174</text>\n<text text-anchor=\"start\" x=\"725.5\" y=\"-260.8\" font-family=\"Helvetica,sans-Serif\" font-size=\"14.00\" fill=\"#000000\">samples = 52</text>\n<text text-anchor=\"start\" x=\"724\" y=\"-245.8\" font-family=\"Helvetica,sans-Serif\" font-size=\"14.00\" fill=\"#000000\">value = [47, 5]</text>\n<text text-anchor=\"start\" x=\"713\" y=\"-230.8\" font-family=\"Helvetica,sans-Serif\" font-size=\"14.00\" fill=\"#000000\">class = ORANGE</text>\n</g>\n<!-- 18&#45;&gt;20 -->\n<g id=\"edge20\" class=\"edge\">\n<title>18&#45;&gt;20</title>\n<path fill=\"none\" stroke=\"#000000\" d=\"M674.5637,-341.8796C686.0555,-332.513 698.3468,-322.4948 710.145,-312.8784\"/>\n<polygon fill=\"#000000\" stroke=\"#000000\" points=\"712.6782,-315.329 718.2183,-306.2981 708.2556,-309.903 712.6782,-315.329\"/>\n</g>\n<!-- 21 -->\n<g id=\"node22\" class=\"node\">\n<title>21</title>\n<path fill=\"#e58139\" stroke=\"#000000\" d=\"M811,-179.5C811,-179.5 706,-179.5 706,-179.5 700,-179.5 694,-173.5 694,-167.5 694,-167.5 694,-123.5 694,-123.5 694,-117.5 700,-111.5 706,-111.5 706,-111.5 811,-111.5 811,-111.5 817,-111.5 823,-117.5 823,-123.5 823,-123.5 823,-167.5 823,-167.5 823,-173.5 817,-179.5 811,-179.5\"/>\n<text text-anchor=\"start\" x=\"729\" y=\"-164.3\" font-family=\"Helvetica,sans-Serif\" font-size=\"14.00\" fill=\"#000000\">gini = 0.0</text>\n<text text-anchor=\"start\" x=\"714.5\" y=\"-149.3\" font-family=\"Helvetica,sans-Serif\" font-size=\"14.00\" fill=\"#000000\">samples = 29</text>\n<text text-anchor=\"start\" x=\"713\" y=\"-134.3\" font-family=\"Helvetica,sans-Serif\" font-size=\"14.00\" fill=\"#000000\">value = [29, 0]</text>\n<text text-anchor=\"start\" x=\"702\" y=\"-119.3\" font-family=\"Helvetica,sans-Serif\" font-size=\"14.00\" fill=\"#000000\">class = ORANGE</text>\n</g>\n<!-- 20&#45;&gt;21 -->\n<g id=\"edge21\" class=\"edge\">\n<title>20&#45;&gt;21</title>\n<path fill=\"none\" stroke=\"#000000\" d=\"M765.6527,-222.8796C764.6668,-212.2134 763.6027,-200.7021 762.6043,-189.9015\"/>\n<polygon fill=\"#000000\" stroke=\"#000000\" points=\"766.0776,-189.4503 761.672,-179.8149 759.1074,-190.0947 766.0776,-189.4503\"/>\n</g>\n<!-- 22 -->\n<g id=\"node23\" class=\"node\">\n<title>22</title>\n<path fill=\"#eca470\" stroke=\"#000000\" d=\"M958,-187C958,-187 853,-187 853,-187 847,-187 841,-181 841,-175 841,-175 841,-116 841,-116 841,-110 847,-104 853,-104 853,-104 958,-104 958,-104 964,-104 970,-110 970,-116 970,-116 970,-175 970,-175 970,-181 964,-187 958,-187\"/>\n<text text-anchor=\"start\" x=\"857.5\" y=\"-171.8\" font-family=\"Helvetica,sans-Serif\" font-size=\"14.00\" fill=\"#000000\">Item Size ≤ 4.5</text>\n<text text-anchor=\"start\" x=\"872\" y=\"-156.8\" font-family=\"Helvetica,sans-Serif\" font-size=\"14.00\" fill=\"#000000\">gini = 0.34</text>\n<text text-anchor=\"start\" x=\"861.5\" y=\"-141.8\" font-family=\"Helvetica,sans-Serif\" font-size=\"14.00\" fill=\"#000000\">samples = 23</text>\n<text text-anchor=\"start\" x=\"860\" y=\"-126.8\" font-family=\"Helvetica,sans-Serif\" font-size=\"14.00\" fill=\"#000000\">value = [18, 5]</text>\n<text text-anchor=\"start\" x=\"849\" y=\"-111.8\" font-family=\"Helvetica,sans-Serif\" font-size=\"14.00\" fill=\"#000000\">class = ORANGE</text>\n</g>\n<!-- 20&#45;&gt;22 -->\n<g id=\"edge22\" class=\"edge\">\n<title>20&#45;&gt;22</title>\n<path fill=\"none\" stroke=\"#000000\" d=\"M817.0662,-222.8796C827.6679,-213.6031 839.0002,-203.6874 849.8933,-194.1559\"/>\n<polygon fill=\"#000000\" stroke=\"#000000\" points=\"852.5098,-196.5172 857.7308,-187.2981 847.9002,-191.2491 852.5098,-196.5172\"/>\n</g>\n<!-- 23 -->\n<g id=\"node24\" class=\"node\">\n<title>23</title>\n<path fill=\"#f3c7a7\" stroke=\"#000000\" d=\"M850,-68C850,-68 745,-68 745,-68 739,-68 733,-62 733,-56 733,-56 733,-12 733,-12 733,-6 739,0 745,0 745,0 850,0 850,0 856,0 862,-6 862,-12 862,-12 862,-56 862,-56 862,-62 856,-68 850,-68\"/>\n<text text-anchor=\"start\" x=\"759.5\" y=\"-52.8\" font-family=\"Helvetica,sans-Serif\" font-size=\"14.00\" fill=\"#000000\">gini = 0.459</text>\n<text text-anchor=\"start\" x=\"753.5\" y=\"-37.8\" font-family=\"Helvetica,sans-Serif\" font-size=\"14.00\" fill=\"#000000\">samples = 14</text>\n<text text-anchor=\"start\" x=\"756\" y=\"-22.8\" font-family=\"Helvetica,sans-Serif\" font-size=\"14.00\" fill=\"#000000\">value = [9, 5]</text>\n<text text-anchor=\"start\" x=\"741\" y=\"-7.8\" font-family=\"Helvetica,sans-Serif\" font-size=\"14.00\" fill=\"#000000\">class = ORANGE</text>\n</g>\n<!-- 22&#45;&gt;23 -->\n<g id=\"edge23\" class=\"edge\">\n<title>22&#45;&gt;23</title>\n<path fill=\"none\" stroke=\"#000000\" d=\"M865.2848,-103.9815C856.2936,-94.6989 846.756,-84.8522 837.7629,-75.5677\"/>\n<polygon fill=\"#000000\" stroke=\"#000000\" points=\"840.1596,-73.0115 830.6881,-68.2637 835.1316,-77.8817 840.1596,-73.0115\"/>\n</g>\n<!-- 24 -->\n<g id=\"node25\" class=\"node\">\n<title>24</title>\n<path fill=\"#e58139\" stroke=\"#000000\" d=\"M997,-68C997,-68 892,-68 892,-68 886,-68 880,-62 880,-56 880,-56 880,-12 880,-12 880,-6 886,0 892,0 892,0 997,0 997,0 1003,0 1009,-6 1009,-12 1009,-12 1009,-56 1009,-56 1009,-62 1003,-68 997,-68\"/>\n<text text-anchor=\"start\" x=\"915\" y=\"-52.8\" font-family=\"Helvetica,sans-Serif\" font-size=\"14.00\" fill=\"#000000\">gini = 0.0</text>\n<text text-anchor=\"start\" x=\"905\" y=\"-37.8\" font-family=\"Helvetica,sans-Serif\" font-size=\"14.00\" fill=\"#000000\">samples = 9</text>\n<text text-anchor=\"start\" x=\"903\" y=\"-22.8\" font-family=\"Helvetica,sans-Serif\" font-size=\"14.00\" fill=\"#000000\">value = [9, 0]</text>\n<text text-anchor=\"start\" x=\"888\" y=\"-7.8\" font-family=\"Helvetica,sans-Serif\" font-size=\"14.00\" fill=\"#000000\">class = ORANGE</text>\n</g>\n<!-- 22&#45;&gt;24 -->\n<g id=\"edge24\" class=\"edge\">\n<title>22&#45;&gt;24</title>\n<path fill=\"none\" stroke=\"#000000\" d=\"M920.0222,-103.9815C923.0118,-95.4342 926.1688,-86.4086 929.1854,-77.7839\"/>\n<polygon fill=\"#000000\" stroke=\"#000000\" points=\"932.5174,-78.8585 932.5154,-68.2637 925.91,-76.5473 932.5174,-78.8585\"/>\n</g>\n</g>\n</svg>\n"
          },
          "metadata": {},
          "execution_count": 49
        }
      ]
    },
    {
      "cell_type": "markdown",
      "source": [
        "## Neural Network Model\n",
        "\n",
        "A group of neurons connected layer-wise that perform a specific learning task.\n",
        "\n",
        "![tikz10.jpg](data:image/jpeg;base64,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)\n",
        "\n",
        "\n",
        "Inside each neuron, two operations happen:\n",
        "1. All inputs are weighted and the weighted sum is obtained.\n",
        "2. The weighted sum is passed through an activation function to produce an output.\n",
        "\n",
        "![tikz9.jpg](data:image/jpeg;base64,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)\n",
        "\n",
        "\n",
        "\n",
        "\n",
        "Some common activation functions are: sigmoid, tanh, and ReLu."
      ],
      "metadata": {
        "id": "mvAiiFrQIQzd"
      }
    },
    {
      "cell_type": "markdown",
      "source": [
        "The weights on the neural network are trained using a gradient descent approach by minimizing a cost function computed at the output layer. \n",
        "\n",
        "![tikz18.jpg](data:image/jpeg;base64,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)\n",
        "\n",
        "Some examples of the cost function are squared error or cross-entropy error. \n",
        "\n",
        "Images taken from http://neuralnetworksanddeeplearning.com"
      ],
      "metadata": {
        "id": "0UwClotNSkhD"
      }
    },
    {
      "cell_type": "markdown",
      "source": [
        "## Libraries for Neural Network Computations\n",
        "\n",
        "Some popular tools for neural network programming are TensorFlow, Scikit Learn, and PyTorch. \n",
        "\n",
        "We will use TensorFlow here for illustration purposes."
      ],
      "metadata": {
        "id": "jCgqTf3kTps6"
      }
    },
    {
      "cell_type": "code",
      "source": [
        "# TensorFlow and tf.keras\n",
        "import tensorflow as tf\n",
        "\n",
        "# Helper libraries\n",
        "import numpy as np\n",
        "import matplotlib.pyplot as plt\n",
        "\n",
        "print(tf.__version__)"
      ],
      "metadata": {
        "id": "WXz8JK7cIQPM",
        "colab": {
          "base_uri": "https://localhost:8080/"
        },
        "outputId": "b2eccb4e-fd1d-4d3a-d455-d36434a7b1fa"
      },
      "execution_count": null,
      "outputs": [
        {
          "output_type": "stream",
          "name": "stdout",
          "text": [
            "2.8.2\n"
          ]
        }
      ]
    },
    {
      "cell_type": "markdown",
      "source": [
        "A common helper library used along with TensorFlow is Keras. Let us load the MNIST digits dataset."
      ],
      "metadata": {
        "id": "HF_JCUa9VzPn"
      }
    },
    {
      "cell_type": "code",
      "source": [
        "mnist = tf.keras.datasets.mnist\n",
        "(train_images, train_labels), (test_images, test_labels) = mnist.load_data()"
      ],
      "metadata": {
        "id": "xC1gAdF6C44y",
        "colab": {
          "base_uri": "https://localhost:8080/"
        },
        "outputId": "89cd0a2c-46f5-4e08-d39b-f87bb1a16978"
      },
      "execution_count": null,
      "outputs": [
        {
          "output_type": "stream",
          "name": "stdout",
          "text": [
            "Downloading data from https://storage.googleapis.com/tensorflow/tf-keras-datasets/mnist.npz\n",
            "11493376/11490434 [==============================] - 0s 0us/step\n",
            "11501568/11490434 [==============================] - 0s 0us/step\n"
          ]
        }
      ]
    },
    {
      "cell_type": "code",
      "source": [
        "type(train_images)"
      ],
      "metadata": {
        "colab": {
          "base_uri": "https://localhost:8080/"
        },
        "id": "OODI5Iq0WAmK",
        "outputId": "a09f1f06-cb0b-4430-8bd4-5bff0c6620fe"
      },
      "execution_count": null,
      "outputs": [
        {
          "output_type": "execute_result",
          "data": {
            "text/plain": [
              "numpy.ndarray"
            ]
          },
          "metadata": {},
          "execution_count": 6
        }
      ]
    },
    {
      "cell_type": "code",
      "source": [
        "train_images.shape # 60,000 images of size 28x28"
      ],
      "metadata": {
        "colab": {
          "base_uri": "https://localhost:8080/"
        },
        "id": "PIt4H2oFWapL",
        "outputId": "47432ca5-cedb-4845-8b55-d5e64ae5db0c"
      },
      "execution_count": null,
      "outputs": [
        {
          "output_type": "execute_result",
          "data": {
            "text/plain": [
              "(60000, 28, 28)"
            ]
          },
          "metadata": {},
          "execution_count": 7
        }
      ]
    },
    {
      "cell_type": "code",
      "source": [
        "train_labels # labels vary from 0 to 9"
      ],
      "metadata": {
        "colab": {
          "base_uri": "https://localhost:8080/"
        },
        "id": "D4TflpcmWeaO",
        "outputId": "0a513247-ba76-4934-926d-cebd1835d298"
      },
      "execution_count": null,
      "outputs": [
        {
          "output_type": "execute_result",
          "data": {
            "text/plain": [
              "array([5, 0, 4, ..., 5, 6, 8], dtype=uint8)"
            ]
          },
          "metadata": {},
          "execution_count": 8
        }
      ]
    },
    {
      "cell_type": "markdown",
      "source": [
        "Let's visualize some of the images and their corresponding labels."
      ],
      "metadata": {
        "id": "u1PtUT5GXouh"
      }
    },
    {
      "cell_type": "code",
      "source": [
        "plt.figure(figsize=(10,10))\n",
        "for i in range(25):\n",
        "    plt.subplot(5,5,i+1)\n",
        "    plt.xticks([])\n",
        "    plt.yticks([])\n",
        "    plt.grid(False)\n",
        "    plt.imshow(train_images[i], cmap=plt.cm.binary)\n",
        "    plt.xlabel([train_labels[i]])\n",
        "plt.show()"
      ],
      "metadata": {
        "colab": {
          "base_uri": "https://localhost:8080/",
          "height": 589
        },
        "id": "grO5HEQuWp-s",
        "outputId": "b83c183e-c897-4cb5-cc34-a11921a4cde5"
      },
      "execution_count": null,
      "outputs": [
        {
          "output_type": "display_data",
          "data": {
            "text/plain": [
              "<Figure size 720x720 with 25 Axes>"
            ],
            "image/png": "[encoded data removed]"
          },
          "metadata": {}
        }
      ]
    },
    {
      "cell_type": "markdown",
      "source": [
        "Since each image is two-dimensional of size 28x28, the first step would be to flatten the image to make it one-dimensional of size 784. After that, we are going to add dense i.e. fully connected layers. "
      ],
      "metadata": {
        "id": "6ll-jlscYjYs"
      }
    },
    {
      "cell_type": "code",
      "source": [
        "model = tf.keras.Sequential([\n",
        "    tf.keras.layers.Flatten(input_shape=(28, 28)),\n",
        "    tf.keras.layers.Dense(128, activation='relu'),\n",
        "    tf.keras.layers.Dense(10)\n",
        "])"
      ],
      "metadata": {
        "id": "yxdtepp-Xi7S"
      },
      "execution_count": null,
      "outputs": []
    },
    {
      "cell_type": "code",
      "source": [
        "model.summary()"
      ],
      "metadata": {
        "colab": {
          "base_uri": "https://localhost:8080/"
        },
        "id": "C9UvE29sY2Xj",
        "outputId": "37eb015d-2e3f-4e38-c2cc-56d8f04e36ef"
      },
      "execution_count": null,
      "outputs": [
        {
          "output_type": "stream",
          "name": "stdout",
          "text": [
            "Model: \"sequential\"\n",
            "_________________________________________________________________\n",
            " Layer (type)                Output Shape              Param #   \n",
            "=================================================================\n",
            " flatten (Flatten)           (None, 784)               0         \n",
            "                                                                 \n",
            " dense (Dense)               (None, 128)               100480    \n",
            "                                                                 \n",
            " dense_1 (Dense)             (None, 10)                1290      \n",
            "                                                                 \n",
            "=================================================================\n",
            "Total params: 101,770\n",
            "Trainable params: 101,770\n",
            "Non-trainable params: 0\n",
            "_________________________________________________________________\n"
          ]
        }
      ]
    },
    {
      "cell_type": "markdown",
      "source": [
        "The number of connections between input layer (size 784) and 1st hidden layer (size = 128). Remember to add the bias units."
      ],
      "metadata": {
        "id": "NqGwf_n3Y6lo"
      }
    },
    {
      "cell_type": "code",
      "source": [
        "784 * 128 + 128"
      ],
      "metadata": {
        "colab": {
          "base_uri": "https://localhost:8080/"
        },
        "id": "R88AFFqSY3lv",
        "outputId": "23e0e012-bb90-49f6-83cc-5225b76b79a2"
      },
      "execution_count": null,
      "outputs": [
        {
          "output_type": "execute_result",
          "data": {
            "text/plain": [
              "100480"
            ]
          },
          "metadata": {},
          "execution_count": 13
        }
      ]
    },
    {
      "cell_type": "markdown",
      "source": [
        "Similarly, between 1st hidden and output"
      ],
      "metadata": {
        "id": "UlMLUcC4ZPWg"
      }
    },
    {
      "cell_type": "code",
      "source": [
        "128 * 10 + 10"
      ],
      "metadata": {
        "colab": {
          "base_uri": "https://localhost:8080/"
        },
        "id": "Z4p0BXIuZJLe",
        "outputId": "6ce09bed-08d7-4784-e751-827c1fccbdbd"
      },
      "execution_count": null,
      "outputs": [
        {
          "output_type": "execute_result",
          "data": {
            "text/plain": [
              "1290"
            ]
          },
          "metadata": {},
          "execution_count": 14
        }
      ]
    },
    {
      "cell_type": "markdown",
      "source": [
        "Let's compile the model:"
      ],
      "metadata": {
        "id": "MOfXCcFIZnM4"
      }
    },
    {
      "cell_type": "code",
      "source": [
        "model.compile(optimizer='adam',\n",
        "              loss=tf.keras.losses.SparseCategoricalCrossentropy(from_logits=True),\n",
        "              metrics=['accuracy'])"
      ],
      "metadata": {
        "id": "Q19Jwih9ZZXs"
      },
      "execution_count": null,
      "outputs": []
    },
    {
      "cell_type": "markdown",
      "source": [
        "Fit the model:"
      ],
      "metadata": {
        "id": "XzsAPH1KZweP"
      }
    },
    {
      "cell_type": "code",
      "source": [
        "model.fit(train_images, train_labels, epochs=10)"
      ],
      "metadata": {
        "colab": {
          "base_uri": "https://localhost:8080/"
        },
        "id": "er0u-2L5ZqtM",
        "outputId": "93a79f64-c2d6-42e1-8ee8-57606093fbe6"
      },
      "execution_count": null,
      "outputs": [
        {
          "output_type": "stream",
          "name": "stdout",
          "text": [
            "Epoch 1/10\n",
            "1875/1875 [==============================] - 9s 4ms/step - loss: 2.5364 - accuracy: 0.8505\n",
            "Epoch 2/10\n",
            "1875/1875 [==============================] - 5s 3ms/step - loss: 0.4214 - accuracy: 0.9030\n",
            "Epoch 3/10\n",
            "1875/1875 [==============================] - 5s 3ms/step - loss: 0.3119 - accuracy: 0.9233\n",
            "Epoch 4/10\n",
            "1875/1875 [==============================] - 5s 3ms/step - loss: 0.2645 - accuracy: 0.9329\n",
            "Epoch 5/10\n",
            "1875/1875 [==============================] - 5s 3ms/step - loss: 0.2342 - accuracy: 0.9399\n",
            "Epoch 6/10\n",
            "1875/1875 [==============================] - 5s 3ms/step - loss: 0.2226 - accuracy: 0.9443\n",
            "Epoch 7/10\n",
            "1875/1875 [==============================] - 5s 3ms/step - loss: 0.2089 - accuracy: 0.9479\n",
            "Epoch 8/10\n",
            "1875/1875 [==============================] - 5s 3ms/step - loss: 0.2042 - accuracy: 0.9491\n",
            "Epoch 9/10\n",
            "1875/1875 [==============================] - 5s 2ms/step - loss: 0.1964 - accuracy: 0.9502\n",
            "Epoch 10/10\n",
            "1875/1875 [==============================] - 5s 2ms/step - loss: 0.1916 - accuracy: 0.9525\n"
          ]
        },
        {
          "output_type": "execute_result",
          "data": {
            "text/plain": [
              "<keras.callbacks.History at 0x7f301be44a90>"
            ]
          },
          "metadata": {},
          "execution_count": 16
        }
      ]
    },
    {
      "cell_type": "code",
      "source": [
        "test_loss, test_acc = model.evaluate(test_images,  test_labels, verbose=2)\n",
        "\n",
        "print('\\nTest accuracy:', test_acc)"
      ],
      "metadata": {
        "colab": {
          "base_uri": "https://localhost:8080/"
        },
        "id": "1cUSvrkwZy11",
        "outputId": "41cf1551-6fd6-4c5d-d01f-e3a394f96d99"
      },
      "execution_count": null,
      "outputs": [
        {
          "output_type": "stream",
          "name": "stdout",
          "text": [
            "313/313 - 1s - loss: 0.2750 - accuracy: 0.9463 - 1s/epoch - 3ms/step\n",
            "\n",
            "Test accuracy: 0.9463000297546387\n"
          ]
        }
      ]
    },
    {
      "cell_type": "code",
      "source": [
        "def plot_image(i, predictions_array, true_label, img):\n",
        "  true_label, img = true_label[i], img[i]\n",
        "  plt.grid(False)\n",
        "  plt.xticks([])\n",
        "  plt.yticks([])\n",
        "\n",
        "  plt.imshow(img, cmap=plt.cm.binary)\n",
        "\n",
        "  predicted_label = np.argmax(predictions_array)\n",
        "  if predicted_label == true_label:\n",
        "    color = 'blue'\n",
        "  else:\n",
        "    color = 'red'\n",
        "\n",
        "  plt.xlabel(\"{} {:2.0f}% ({})\".format(predicted_label,\n",
        "                                100*np.max(predictions_array),\n",
        "                                true_label),\n",
        "                                color=color)\n",
        "\n",
        "def plot_value_array(i, predictions_array, true_label):\n",
        "  true_label = true_label[i]\n",
        "  plt.grid(False)\n",
        "  plt.xticks(range(10))\n",
        "  plt.yticks([])\n",
        "  thisplot = plt.bar(range(10), predictions_array, color=\"#777777\")\n",
        "  plt.ylim([0, 1])\n",
        "  predicted_label = np.argmax(predictions_array)\n",
        "\n",
        "  thisplot[predicted_label].set_color('red')\n",
        "  thisplot[true_label].set_color('blue')"
      ],
      "metadata": {
        "id": "uAJhaY0AeytY"
      },
      "execution_count": null,
      "outputs": []
    },
    {
      "cell_type": "code",
      "source": [
        "probability_model = tf.keras.Sequential([model, \n",
        "                                         tf.keras.layers.Softmax()])"
      ],
      "metadata": {
        "id": "i6URjzWyfnE0"
      },
      "execution_count": null,
      "outputs": []
    },
    {
      "cell_type": "code",
      "source": [
        "predictions = probability_model.predict(test_images)"
      ],
      "metadata": {
        "id": "Xe0Gl9l-fplQ"
      },
      "execution_count": null,
      "outputs": []
    },
    {
      "cell_type": "code",
      "source": [
        "# Plot the first X test images, their predicted labels, and the true labels.\n",
        "# Color correct predictions in blue and incorrect predictions in red.\n",
        "num_rows = 5\n",
        "num_cols = 3\n",
        "num_images = num_rows*num_cols\n",
        "plt.figure(figsize=(2*2*num_cols, 2*num_rows))\n",
        "for i in range(num_images):\n",
        "  plt.subplot(num_rows, 2*num_cols, 2*i+1)\n",
        "  plot_image(i, predictions[i], test_labels, test_images)\n",
        "  plt.subplot(num_rows, 2*num_cols, 2*i+2)\n",
        "  plot_value_array(i, predictions[i], test_labels)\n",
        "plt.tight_layout()\n",
        "plt.show()"
      ],
      "metadata": {
        "colab": {
          "base_uri": "https://localhost:8080/",
          "height": 729
        },
        "id": "dPTRDN5Wat1e",
        "outputId": "6e0d5542-52b2-472c-c523-6080699f483f"
      },
      "execution_count": null,
      "outputs": [
        {
          "output_type": "display_data",
          "data": {
            "text/plain": [
              "<Figure size 864x720 with 30 Axes>"
            ],
            "image/png": "[encoded data removed]"
          },
          "metadata": {
            "needs_background": "light"
          }
        }
      ]
    },
    {
      "cell_type": "code",
      "source": [],
      "metadata": {
        "id": "crBh36AxfT-j"
      },
      "execution_count": null,
      "outputs": []
    }
  ]
}